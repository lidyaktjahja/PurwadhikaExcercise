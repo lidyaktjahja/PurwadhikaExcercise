{
 "metadata": {
  "language_info": {
   "codemirror_mode": {
    "name": "ipython",
    "version": 3
   },
   "file_extension": ".py",
   "mimetype": "text/x-python",
   "name": "python",
   "nbconvert_exporter": "python",
   "pygments_lexer": "ipython3",
   "version": "3.9.4"
  },
  "orig_nbformat": 2,
  "kernelspec": {
   "name": "python394jvsc74a57bd0ddc3bb26a642cc4c8cc86559529a73031bc9ba85d2eea5acbe8194e0c6bb1fe6",
   "display_name": "Python 3.9.4 64-bit"
  },
  "metadata": {
   "interpreter": {
    "hash": "ddc3bb26a642cc4c8cc86559529a73031bc9ba85d2eea5acbe8194e0c6bb1fe6"
   }
  }
 },
 "nbformat": 4,
 "nbformat_minor": 2,
 "cells": [
  {
   "source": [
    "# Missing Value"
   ],
   "cell_type": "markdown",
   "metadata": {}
  },
  {
   "source": [
    "## Simple Imputer\n",
    "1. Mean\n",
    "2. Median\n",
    "3. Mode\n",
    "4. Constant"
   ],
   "cell_type": "markdown",
   "metadata": {}
  },
  {
   "cell_type": "code",
   "execution_count": 1,
   "metadata": {},
   "outputs": [],
   "source": [
    "from sklearn.impute import SimpleImputer\n",
    "import pandas as pd\n",
    "import numpy as np\n",
    "import seaborn as sns\n",
    "import matplotlib.pyplot as plt"
   ]
  },
  {
   "cell_type": "code",
   "execution_count": 2,
   "metadata": {},
   "outputs": [
    {
     "output_type": "execute_result",
     "data": {
      "text/plain": [
       "    x1   x2  x3   x4   x5   x6\n",
       "0  4.0  3.0  10    A    X    M\n",
       "1  5.0  5.0  11    A    Y    M\n",
       "2  NaN  6.0  12    C    X  NaN\n",
       "3  6.0  5.0   9    C    X    M\n",
       "4  7.0  NaN   8    D  NaN    N\n",
       "5  9.0  5.0  11  NaN    Y  NaN"
      ],
      "text/html": "<div>\n<style scoped>\n    .dataframe tbody tr th:only-of-type {\n        vertical-align: middle;\n    }\n\n    .dataframe tbody tr th {\n        vertical-align: top;\n    }\n\n    .dataframe thead th {\n        text-align: right;\n    }\n</style>\n<table border=\"1\" class=\"dataframe\">\n  <thead>\n    <tr style=\"text-align: right;\">\n      <th></th>\n      <th>x1</th>\n      <th>x2</th>\n      <th>x3</th>\n      <th>x4</th>\n      <th>x5</th>\n      <th>x6</th>\n    </tr>\n  </thead>\n  <tbody>\n    <tr>\n      <th>0</th>\n      <td>4.0</td>\n      <td>3.0</td>\n      <td>10</td>\n      <td>A</td>\n      <td>X</td>\n      <td>M</td>\n    </tr>\n    <tr>\n      <th>1</th>\n      <td>5.0</td>\n      <td>5.0</td>\n      <td>11</td>\n      <td>A</td>\n      <td>Y</td>\n      <td>M</td>\n    </tr>\n    <tr>\n      <th>2</th>\n      <td>NaN</td>\n      <td>6.0</td>\n      <td>12</td>\n      <td>C</td>\n      <td>X</td>\n      <td>NaN</td>\n    </tr>\n    <tr>\n      <th>3</th>\n      <td>6.0</td>\n      <td>5.0</td>\n      <td>9</td>\n      <td>C</td>\n      <td>X</td>\n      <td>M</td>\n    </tr>\n    <tr>\n      <th>4</th>\n      <td>7.0</td>\n      <td>NaN</td>\n      <td>8</td>\n      <td>D</td>\n      <td>NaN</td>\n      <td>N</td>\n    </tr>\n    <tr>\n      <th>5</th>\n      <td>9.0</td>\n      <td>5.0</td>\n      <td>11</td>\n      <td>NaN</td>\n      <td>Y</td>\n      <td>NaN</td>\n    </tr>\n  </tbody>\n</table>\n</div>"
     },
     "metadata": {},
     "execution_count": 2
    }
   ],
   "source": [
    "df = pd.DataFrame({\n",
    "    'x1':[4,5,np.nan,6,7,9],\n",
    "    'x2':[3,5,6,5,np.nan,5],\n",
    "    'x3':[10,11,12,9,8,11],\n",
    "    'x4':['A','A','C','C','D',np.nan],\n",
    "    'x5':['X','Y','X','X',np.nan,'Y'],\n",
    "    'x6':['M','M',np.nan,'M','N',np.nan]\n",
    "    })\n",
    "\n",
    "df"
   ]
  },
  {
   "cell_type": "code",
   "execution_count": 3,
   "metadata": {},
   "outputs": [
    {
     "output_type": "execute_result",
     "data": {
      "text/plain": [
       "x1    1\n",
       "x2    1\n",
       "x3    0\n",
       "x4    1\n",
       "x5    1\n",
       "x6    2\n",
       "dtype: int64"
      ]
     },
     "metadata": {},
     "execution_count": 3
    }
   ],
   "source": [
    "df.isna().sum()"
   ]
  },
  {
   "cell_type": "code",
   "execution_count": 5,
   "metadata": {},
   "outputs": [
    {
     "output_type": "execute_result",
     "data": {
      "text/plain": [
       "    x1   x2    x3   x4   x5   x6\n",
       "0  4.0  3.0  10.0    A    X    M\n",
       "1  5.0  5.0  11.0    A    Y    M\n",
       "2  6.2  6.0  12.0    C    X  NaN\n",
       "3  6.0  5.0   9.0    C    X    M\n",
       "4  7.0  4.8   8.0    D  NaN    N\n",
       "5  9.0  5.0  11.0  NaN    Y  NaN"
      ],
      "text/html": "<div>\n<style scoped>\n    .dataframe tbody tr th:only-of-type {\n        vertical-align: middle;\n    }\n\n    .dataframe tbody tr th {\n        vertical-align: top;\n    }\n\n    .dataframe thead th {\n        text-align: right;\n    }\n</style>\n<table border=\"1\" class=\"dataframe\">\n  <thead>\n    <tr style=\"text-align: right;\">\n      <th></th>\n      <th>x1</th>\n      <th>x2</th>\n      <th>x3</th>\n      <th>x4</th>\n      <th>x5</th>\n      <th>x6</th>\n    </tr>\n  </thead>\n  <tbody>\n    <tr>\n      <th>0</th>\n      <td>4.0</td>\n      <td>3.0</td>\n      <td>10.0</td>\n      <td>A</td>\n      <td>X</td>\n      <td>M</td>\n    </tr>\n    <tr>\n      <th>1</th>\n      <td>5.0</td>\n      <td>5.0</td>\n      <td>11.0</td>\n      <td>A</td>\n      <td>Y</td>\n      <td>M</td>\n    </tr>\n    <tr>\n      <th>2</th>\n      <td>6.2</td>\n      <td>6.0</td>\n      <td>12.0</td>\n      <td>C</td>\n      <td>X</td>\n      <td>NaN</td>\n    </tr>\n    <tr>\n      <th>3</th>\n      <td>6.0</td>\n      <td>5.0</td>\n      <td>9.0</td>\n      <td>C</td>\n      <td>X</td>\n      <td>M</td>\n    </tr>\n    <tr>\n      <th>4</th>\n      <td>7.0</td>\n      <td>4.8</td>\n      <td>8.0</td>\n      <td>D</td>\n      <td>NaN</td>\n      <td>N</td>\n    </tr>\n    <tr>\n      <th>5</th>\n      <td>9.0</td>\n      <td>5.0</td>\n      <td>11.0</td>\n      <td>NaN</td>\n      <td>Y</td>\n      <td>NaN</td>\n    </tr>\n  </tbody>\n</table>\n</div>"
     },
     "metadata": {},
     "execution_count": 5
    }
   ],
   "source": [
    "imp_num = SimpleImputer(strategy = 'mean')\n",
    "df[['x1', 'x2', 'x3']] = imp_num.fit_transform(df[['x1', 'x2', 'x3']])\n",
    "df"
   ]
  },
  {
   "cell_type": "code",
   "execution_count": 6,
   "metadata": {},
   "outputs": [
    {
     "output_type": "execute_result",
     "data": {
      "text/plain": [
       "    x1   x2    x3 x4 x5   x6\n",
       "0  4.0  3.0  10.0  A  X    M\n",
       "1  5.0  5.0  11.0  A  Y    M\n",
       "2  6.2  6.0  12.0  C  X  NaN\n",
       "3  6.0  5.0   9.0  C  X    M\n",
       "4  7.0  4.8   8.0  D  X    N\n",
       "5  9.0  5.0  11.0  A  Y  NaN"
      ],
      "text/html": "<div>\n<style scoped>\n    .dataframe tbody tr th:only-of-type {\n        vertical-align: middle;\n    }\n\n    .dataframe tbody tr th {\n        vertical-align: top;\n    }\n\n    .dataframe thead th {\n        text-align: right;\n    }\n</style>\n<table border=\"1\" class=\"dataframe\">\n  <thead>\n    <tr style=\"text-align: right;\">\n      <th></th>\n      <th>x1</th>\n      <th>x2</th>\n      <th>x3</th>\n      <th>x4</th>\n      <th>x5</th>\n      <th>x6</th>\n    </tr>\n  </thead>\n  <tbody>\n    <tr>\n      <th>0</th>\n      <td>4.0</td>\n      <td>3.0</td>\n      <td>10.0</td>\n      <td>A</td>\n      <td>X</td>\n      <td>M</td>\n    </tr>\n    <tr>\n      <th>1</th>\n      <td>5.0</td>\n      <td>5.0</td>\n      <td>11.0</td>\n      <td>A</td>\n      <td>Y</td>\n      <td>M</td>\n    </tr>\n    <tr>\n      <th>2</th>\n      <td>6.2</td>\n      <td>6.0</td>\n      <td>12.0</td>\n      <td>C</td>\n      <td>X</td>\n      <td>NaN</td>\n    </tr>\n    <tr>\n      <th>3</th>\n      <td>6.0</td>\n      <td>5.0</td>\n      <td>9.0</td>\n      <td>C</td>\n      <td>X</td>\n      <td>M</td>\n    </tr>\n    <tr>\n      <th>4</th>\n      <td>7.0</td>\n      <td>4.8</td>\n      <td>8.0</td>\n      <td>D</td>\n      <td>X</td>\n      <td>N</td>\n    </tr>\n    <tr>\n      <th>5</th>\n      <td>9.0</td>\n      <td>5.0</td>\n      <td>11.0</td>\n      <td>A</td>\n      <td>Y</td>\n      <td>NaN</td>\n    </tr>\n  </tbody>\n</table>\n</div>"
     },
     "metadata": {},
     "execution_count": 6
    }
   ],
   "source": [
    "imp_mode = SimpleImputer(strategy = 'most_frequent')\n",
    "df[['x4', 'x5']] = imp_mode.fit_transform(df[['x4', 'x5']])\n",
    "df"
   ]
  },
  {
   "cell_type": "code",
   "execution_count": 7,
   "metadata": {},
   "outputs": [
    {
     "output_type": "execute_result",
     "data": {
      "text/plain": [
       "    x1   x2    x3 x4 x5 x6\n",
       "0  4.0  3.0  10.0  A  X  M\n",
       "1  5.0  5.0  11.0  A  Y  M\n",
       "2  6.2  6.0  12.0  C  X  P\n",
       "3  6.0  5.0   9.0  C  X  M\n",
       "4  7.0  4.8   8.0  D  X  N\n",
       "5  9.0  5.0  11.0  A  Y  P"
      ],
      "text/html": "<div>\n<style scoped>\n    .dataframe tbody tr th:only-of-type {\n        vertical-align: middle;\n    }\n\n    .dataframe tbody tr th {\n        vertical-align: top;\n    }\n\n    .dataframe thead th {\n        text-align: right;\n    }\n</style>\n<table border=\"1\" class=\"dataframe\">\n  <thead>\n    <tr style=\"text-align: right;\">\n      <th></th>\n      <th>x1</th>\n      <th>x2</th>\n      <th>x3</th>\n      <th>x4</th>\n      <th>x5</th>\n      <th>x6</th>\n    </tr>\n  </thead>\n  <tbody>\n    <tr>\n      <th>0</th>\n      <td>4.0</td>\n      <td>3.0</td>\n      <td>10.0</td>\n      <td>A</td>\n      <td>X</td>\n      <td>M</td>\n    </tr>\n    <tr>\n      <th>1</th>\n      <td>5.0</td>\n      <td>5.0</td>\n      <td>11.0</td>\n      <td>A</td>\n      <td>Y</td>\n      <td>M</td>\n    </tr>\n    <tr>\n      <th>2</th>\n      <td>6.2</td>\n      <td>6.0</td>\n      <td>12.0</td>\n      <td>C</td>\n      <td>X</td>\n      <td>P</td>\n    </tr>\n    <tr>\n      <th>3</th>\n      <td>6.0</td>\n      <td>5.0</td>\n      <td>9.0</td>\n      <td>C</td>\n      <td>X</td>\n      <td>M</td>\n    </tr>\n    <tr>\n      <th>4</th>\n      <td>7.0</td>\n      <td>4.8</td>\n      <td>8.0</td>\n      <td>D</td>\n      <td>X</td>\n      <td>N</td>\n    </tr>\n    <tr>\n      <th>5</th>\n      <td>9.0</td>\n      <td>5.0</td>\n      <td>11.0</td>\n      <td>A</td>\n      <td>Y</td>\n      <td>P</td>\n    </tr>\n  </tbody>\n</table>\n</div>"
     },
     "metadata": {},
     "execution_count": 7
    }
   ],
   "source": [
    "imp_const = SimpleImputer(strategy = 'constant', fill_value = 'P')\n",
    "df[['x6']] = imp_const.fit_transform(df[['x6']])\n",
    "df"
   ]
  },
  {
   "source": [
    "## Iterative Imputer\n",
    "\n",
    "Note : Iterative Imputer only works for numurical variable."
   ],
   "cell_type": "markdown",
   "metadata": {}
  },
  {
   "cell_type": "code",
   "execution_count": 8,
   "metadata": {},
   "outputs": [],
   "source": [
    "from sklearn.experimental import enable_iterative_imputer\n",
    "from sklearn.impute import IterativeImputer"
   ]
  },
  {
   "cell_type": "code",
   "execution_count": 20,
   "metadata": {},
   "outputs": [
    {
     "output_type": "execute_result",
     "data": {
      "text/plain": [
       "    x1   x2    x3 x4\n",
       "0  4.3  2.9   9.0  A\n",
       "1  5.1  5.1  11.1  A\n",
       "2  NaN  6.3   NaN  C\n",
       "3  6.3  4.9   8.9  C\n",
       "4  7.4  NaN   9.1  D\n",
       "5  9.1  5.4  11.0  D"
      ],
      "text/html": "<div>\n<style scoped>\n    .dataframe tbody tr th:only-of-type {\n        vertical-align: middle;\n    }\n\n    .dataframe tbody tr th {\n        vertical-align: top;\n    }\n\n    .dataframe thead th {\n        text-align: right;\n    }\n</style>\n<table border=\"1\" class=\"dataframe\">\n  <thead>\n    <tr style=\"text-align: right;\">\n      <th></th>\n      <th>x1</th>\n      <th>x2</th>\n      <th>x3</th>\n      <th>x4</th>\n    </tr>\n  </thead>\n  <tbody>\n    <tr>\n      <th>0</th>\n      <td>4.3</td>\n      <td>2.9</td>\n      <td>9.0</td>\n      <td>A</td>\n    </tr>\n    <tr>\n      <th>1</th>\n      <td>5.1</td>\n      <td>5.1</td>\n      <td>11.1</td>\n      <td>A</td>\n    </tr>\n    <tr>\n      <th>2</th>\n      <td>NaN</td>\n      <td>6.3</td>\n      <td>NaN</td>\n      <td>C</td>\n    </tr>\n    <tr>\n      <th>3</th>\n      <td>6.3</td>\n      <td>4.9</td>\n      <td>8.9</td>\n      <td>C</td>\n    </tr>\n    <tr>\n      <th>4</th>\n      <td>7.4</td>\n      <td>NaN</td>\n      <td>9.1</td>\n      <td>D</td>\n    </tr>\n    <tr>\n      <th>5</th>\n      <td>9.1</td>\n      <td>5.4</td>\n      <td>11.0</td>\n      <td>D</td>\n    </tr>\n  </tbody>\n</table>\n</div>"
     },
     "metadata": {},
     "execution_count": 20
    }
   ],
   "source": [
    "df = pd.DataFrame({\n",
    "    'x1':[4.3,5.1,np.nan,6.3,7.4,9.1],\n",
    "    'x2':[2.9,5.1,6.3,4.9,np.nan,5.4],\n",
    "    'x3':[9,11.1,np.nan,8.9,9.1,11.0],\n",
    "    'x4':['A','A','C','C','D','D']\n",
    "    })\n",
    "\n",
    "df"
   ]
  },
  {
   "cell_type": "code",
   "execution_count": 13,
   "metadata": {},
   "outputs": [
    {
     "output_type": "execute_result",
     "data": {
      "text/plain": [
       "        x1        x2         x3 x4\n",
       "0  4.30000  2.900000   9.000000  A\n",
       "1  5.10000  5.100000  11.100000  A\n",
       "2  7.18363  6.300000   9.823389  C\n",
       "3  6.30000  4.900000   8.900000  C\n",
       "4  7.40000  5.073866   9.100000  D\n",
       "5  9.10000  5.400000  11.000000  D"
      ],
      "text/html": "<div>\n<style scoped>\n    .dataframe tbody tr th:only-of-type {\n        vertical-align: middle;\n    }\n\n    .dataframe tbody tr th {\n        vertical-align: top;\n    }\n\n    .dataframe thead th {\n        text-align: right;\n    }\n</style>\n<table border=\"1\" class=\"dataframe\">\n  <thead>\n    <tr style=\"text-align: right;\">\n      <th></th>\n      <th>x1</th>\n      <th>x2</th>\n      <th>x3</th>\n      <th>x4</th>\n    </tr>\n  </thead>\n  <tbody>\n    <tr>\n      <th>0</th>\n      <td>4.30000</td>\n      <td>2.900000</td>\n      <td>9.000000</td>\n      <td>A</td>\n    </tr>\n    <tr>\n      <th>1</th>\n      <td>5.10000</td>\n      <td>5.100000</td>\n      <td>11.100000</td>\n      <td>A</td>\n    </tr>\n    <tr>\n      <th>2</th>\n      <td>7.18363</td>\n      <td>6.300000</td>\n      <td>9.823389</td>\n      <td>C</td>\n    </tr>\n    <tr>\n      <th>3</th>\n      <td>6.30000</td>\n      <td>4.900000</td>\n      <td>8.900000</td>\n      <td>C</td>\n    </tr>\n    <tr>\n      <th>4</th>\n      <td>7.40000</td>\n      <td>5.073866</td>\n      <td>9.100000</td>\n      <td>D</td>\n    </tr>\n    <tr>\n      <th>5</th>\n      <td>9.10000</td>\n      <td>5.400000</td>\n      <td>11.000000</td>\n      <td>D</td>\n    </tr>\n  </tbody>\n</table>\n</div>"
     },
     "metadata": {},
     "execution_count": 13
    }
   ],
   "source": [
    "imp_iter = IterativeImputer(max_iter = 10, random_state = 0)\n",
    "df[['x1', 'x2', 'x3']] = imp_iter.fit_transform(df[['x1', 'x2', 'x3']])\n",
    "df"
   ]
  },
  {
   "cell_type": "code",
   "execution_count": 21,
   "metadata": {},
   "outputs": [
    {
     "output_type": "execute_result",
     "data": {
      "text/plain": [
       "        x1        x2         x3 x4\n",
       "0  4.30000  2.900000   9.000000  A\n",
       "1  5.10000  5.100000  11.100000  A\n",
       "2  7.18363  6.300000   9.823389  C\n",
       "3  6.30000  4.900000   8.900000  C\n",
       "4  7.40000  5.073866   9.100000  D\n",
       "5  9.10000  5.400000  11.000000  D"
      ],
      "text/html": "<div>\n<style scoped>\n    .dataframe tbody tr th:only-of-type {\n        vertical-align: middle;\n    }\n\n    .dataframe tbody tr th {\n        vertical-align: top;\n    }\n\n    .dataframe thead th {\n        text-align: right;\n    }\n</style>\n<table border=\"1\" class=\"dataframe\">\n  <thead>\n    <tr style=\"text-align: right;\">\n      <th></th>\n      <th>x1</th>\n      <th>x2</th>\n      <th>x3</th>\n      <th>x4</th>\n    </tr>\n  </thead>\n  <tbody>\n    <tr>\n      <th>0</th>\n      <td>4.30000</td>\n      <td>2.900000</td>\n      <td>9.000000</td>\n      <td>A</td>\n    </tr>\n    <tr>\n      <th>1</th>\n      <td>5.10000</td>\n      <td>5.100000</td>\n      <td>11.100000</td>\n      <td>A</td>\n    </tr>\n    <tr>\n      <th>2</th>\n      <td>7.18363</td>\n      <td>6.300000</td>\n      <td>9.823389</td>\n      <td>C</td>\n    </tr>\n    <tr>\n      <th>3</th>\n      <td>6.30000</td>\n      <td>4.900000</td>\n      <td>8.900000</td>\n      <td>C</td>\n    </tr>\n    <tr>\n      <th>4</th>\n      <td>7.40000</td>\n      <td>5.073866</td>\n      <td>9.100000</td>\n      <td>D</td>\n    </tr>\n    <tr>\n      <th>5</th>\n      <td>9.10000</td>\n      <td>5.400000</td>\n      <td>11.000000</td>\n      <td>D</td>\n    </tr>\n  </tbody>\n</table>\n</div>"
     },
     "metadata": {},
     "execution_count": 21
    }
   ],
   "source": [
    "imp_iter = IterativeImputer()\n",
    "df[['x1', 'x2', 'x3']] = imp_iter.fit_transform(df[['x1', 'x2', 'x3']])\n",
    "df"
   ]
  },
  {
   "source": [
    "## Nearest Neighbour Imputer"
   ],
   "cell_type": "markdown",
   "metadata": {}
  },
  {
   "cell_type": "code",
   "execution_count": 23,
   "metadata": {},
   "outputs": [],
   "source": [
    "from sklearn.impute import KNNImputer"
   ]
  },
  {
   "cell_type": "code",
   "execution_count": 30,
   "metadata": {},
   "outputs": [
    {
     "output_type": "execute_result",
     "data": {
      "text/plain": [
       "    x1   x2    x3 x4\n",
       "0  4.3  2.9   9.0  A\n",
       "1  5.1  5.1  11.1  A\n",
       "2  NaN  6.3   NaN  C\n",
       "3  6.3  4.9   8.9  C\n",
       "4  7.4  NaN   9.1  D\n",
       "5  9.1  5.4  11.0  D"
      ],
      "text/html": "<div>\n<style scoped>\n    .dataframe tbody tr th:only-of-type {\n        vertical-align: middle;\n    }\n\n    .dataframe tbody tr th {\n        vertical-align: top;\n    }\n\n    .dataframe thead th {\n        text-align: right;\n    }\n</style>\n<table border=\"1\" class=\"dataframe\">\n  <thead>\n    <tr style=\"text-align: right;\">\n      <th></th>\n      <th>x1</th>\n      <th>x2</th>\n      <th>x3</th>\n      <th>x4</th>\n    </tr>\n  </thead>\n  <tbody>\n    <tr>\n      <th>0</th>\n      <td>4.3</td>\n      <td>2.9</td>\n      <td>9.0</td>\n      <td>A</td>\n    </tr>\n    <tr>\n      <th>1</th>\n      <td>5.1</td>\n      <td>5.1</td>\n      <td>11.1</td>\n      <td>A</td>\n    </tr>\n    <tr>\n      <th>2</th>\n      <td>NaN</td>\n      <td>6.3</td>\n      <td>NaN</td>\n      <td>C</td>\n    </tr>\n    <tr>\n      <th>3</th>\n      <td>6.3</td>\n      <td>4.9</td>\n      <td>8.9</td>\n      <td>C</td>\n    </tr>\n    <tr>\n      <th>4</th>\n      <td>7.4</td>\n      <td>NaN</td>\n      <td>9.1</td>\n      <td>D</td>\n    </tr>\n    <tr>\n      <th>5</th>\n      <td>9.1</td>\n      <td>5.4</td>\n      <td>11.0</td>\n      <td>D</td>\n    </tr>\n  </tbody>\n</table>\n</div>"
     },
     "metadata": {},
     "execution_count": 30
    }
   ],
   "source": [
    "df = pd.DataFrame({\n",
    "    'x1':[4.3,5.1,np.nan,6.3,7.4,9.1],\n",
    "    'x2':[2.9,5.1,6.3,4.9,np.nan,5.4],\n",
    "    'x3':[9,11.1,np.nan,8.9,9.1,11.0],\n",
    "    'x4':['A','A','C','C','D','D']\n",
    "    })\n",
    "\n",
    "df"
   ]
  },
  {
   "cell_type": "code",
   "execution_count": 31,
   "metadata": {},
   "outputs": [
    {
     "output_type": "execute_result",
     "data": {
      "text/plain": [
       "     x1    x2     x3 x4\n",
       "0  4.30  2.90   9.00  A\n",
       "1  5.10  5.10  11.10  A\n",
       "2  6.44  6.30   9.82  C\n",
       "3  6.30  4.90   8.90  C\n",
       "4  7.40  4.92   9.10  D\n",
       "5  9.10  5.40  11.00  D"
      ],
      "text/html": "<div>\n<style scoped>\n    .dataframe tbody tr th:only-of-type {\n        vertical-align: middle;\n    }\n\n    .dataframe tbody tr th {\n        vertical-align: top;\n    }\n\n    .dataframe thead th {\n        text-align: right;\n    }\n</style>\n<table border=\"1\" class=\"dataframe\">\n  <thead>\n    <tr style=\"text-align: right;\">\n      <th></th>\n      <th>x1</th>\n      <th>x2</th>\n      <th>x3</th>\n      <th>x4</th>\n    </tr>\n  </thead>\n  <tbody>\n    <tr>\n      <th>0</th>\n      <td>4.30</td>\n      <td>2.90</td>\n      <td>9.00</td>\n      <td>A</td>\n    </tr>\n    <tr>\n      <th>1</th>\n      <td>5.10</td>\n      <td>5.10</td>\n      <td>11.10</td>\n      <td>A</td>\n    </tr>\n    <tr>\n      <th>2</th>\n      <td>6.44</td>\n      <td>6.30</td>\n      <td>9.82</td>\n      <td>C</td>\n    </tr>\n    <tr>\n      <th>3</th>\n      <td>6.30</td>\n      <td>4.90</td>\n      <td>8.90</td>\n      <td>C</td>\n    </tr>\n    <tr>\n      <th>4</th>\n      <td>7.40</td>\n      <td>4.92</td>\n      <td>9.10</td>\n      <td>D</td>\n    </tr>\n    <tr>\n      <th>5</th>\n      <td>9.10</td>\n      <td>5.40</td>\n      <td>11.00</td>\n      <td>D</td>\n    </tr>\n  </tbody>\n</table>\n</div>"
     },
     "metadata": {},
     "execution_count": 31
    }
   ],
   "source": [
    "imp_knn = KNNImputer(n_neighbors = 10)\n",
    "df[['x1', 'x2', 'x3']] = imp_knn.fit_transform(df[['x1', 'x2', 'x3']])\n",
    "df"
   ]
  },
  {
   "cell_type": "code",
   "execution_count": null,
   "metadata": {},
   "outputs": [],
   "source": []
  }
 ]
}