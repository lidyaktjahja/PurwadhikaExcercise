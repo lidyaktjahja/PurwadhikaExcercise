{
 "metadata": {
  "language_info": {
   "codemirror_mode": {
    "name": "ipython",
    "version": 3
   },
   "file_extension": ".py",
   "mimetype": "text/x-python",
   "name": "python",
   "nbconvert_exporter": "python",
   "pygments_lexer": "ipython3",
   "version": "3.9.4"
  },
  "orig_nbformat": 2,
  "kernelspec": {
   "name": "python394jvsc74a57bd0aa4a9b0c5e2d78e374bb40a1af76efea9a10a5e1d5e9731e7c985841037f6e93",
   "display_name": "Python 3.9.4 64-bit"
  },
  "metadata": {
   "interpreter": {
    "hash": "aa4a9b0c5e2d78e374bb40a1af76efea9a10a5e1d5e9731e7c985841037f6e93"
   }
  }
 },
 "nbformat": 4,
 "nbformat_minor": 2,
 "cells": [
  {
   "source": [
    "# Latihan : \n",
    "1. Eksplore data yang diberikan dari kaggle tersebut (aug-test https://www.kaggle.com/arashnic/hr-analytics-job-change-of-data-scientists)\n",
    "2. yang perlu diperhatikan adalah anggap saya adalah orang yang tidak mengerti datanya. Silahkan coba ceritakan data ini tentang apa, insight apa dari variable yg menurut mas/mba itu penting\n",
    "3. silahkan tentukan ini kasus klasifikasi atau regresi?\n",
    "4. lakukan modeling berdasarkan penentuan kasus sebelumnya\n",
    "5. perlu diingat tetap harus melakukan pengecekan anomali data\n",
    "6. Setelah membuat model dan jika menganggap hasil akurasinya bagus, secara random ambillah 100 data dan coba prediksikan Y nya"
   ],
   "cell_type": "markdown",
   "metadata": {}
  },
  {
   "cell_type": "code",
   "execution_count": 1,
   "metadata": {},
   "outputs": [],
   "source": [
    "import numpy as np\n",
    "import pandas as pd\n",
    "import statsmodels.api as sm\n",
    "from statsmodels.stats.outliers_influence import variance_inflation_factor\n",
    "from sklearn.model_selection import train_test_split\n",
    "from sklearn.metrics import accuracy_score"
   ]
  },
  {
   "cell_type": "code",
   "execution_count": 2,
   "metadata": {},
   "outputs": [
    {
     "output_type": "execute_result",
     "data": {
      "text/plain": [
       "       enrollee_id      city  city_development_index gender  \\\n",
       "0             8949  city_103                   0.920   Male   \n",
       "1            29725   city_40                   0.776   Male   \n",
       "2            11561   city_21                   0.624    NaN   \n",
       "3            33241  city_115                   0.789    NaN   \n",
       "4              666  city_162                   0.767   Male   \n",
       "...            ...       ...                     ...    ...   \n",
       "19153         7386  city_173                   0.878   Male   \n",
       "19154        31398  city_103                   0.920   Male   \n",
       "19155        24576  city_103                   0.920   Male   \n",
       "19156         5756   city_65                   0.802   Male   \n",
       "19157        23834   city_67                   0.855    NaN   \n",
       "\n",
       "           relevent_experience enrolled_university education_level  \\\n",
       "0      Has relevent experience       no_enrollment        Graduate   \n",
       "1       No relevent experience       no_enrollment        Graduate   \n",
       "2       No relevent experience    Full time course        Graduate   \n",
       "3       No relevent experience                 NaN        Graduate   \n",
       "4      Has relevent experience       no_enrollment         Masters   \n",
       "...                        ...                 ...             ...   \n",
       "19153   No relevent experience       no_enrollment        Graduate   \n",
       "19154  Has relevent experience       no_enrollment        Graduate   \n",
       "19155  Has relevent experience       no_enrollment        Graduate   \n",
       "19156  Has relevent experience       no_enrollment     High School   \n",
       "19157   No relevent experience       no_enrollment  Primary School   \n",
       "\n",
       "      major_discipline experience company_size    company_type last_new_job  \\\n",
       "0                 STEM        >20          NaN             NaN            1   \n",
       "1                 STEM         15        50-99         Pvt Ltd           >4   \n",
       "2                 STEM          5          NaN             NaN        never   \n",
       "3      Business Degree         <1          NaN         Pvt Ltd        never   \n",
       "4                 STEM        >20        50-99  Funded Startup            4   \n",
       "...                ...        ...          ...             ...          ...   \n",
       "19153       Humanities         14          NaN             NaN            1   \n",
       "19154             STEM         14          NaN             NaN            4   \n",
       "19155             STEM        >20        50-99         Pvt Ltd            4   \n",
       "19156              NaN         <1      500-999         Pvt Ltd            2   \n",
       "19157              NaN          2          NaN             NaN            1   \n",
       "\n",
       "       training_hours  target  \n",
       "0                  36     1.0  \n",
       "1                  47     0.0  \n",
       "2                  83     0.0  \n",
       "3                  52     1.0  \n",
       "4                   8     0.0  \n",
       "...               ...     ...  \n",
       "19153              42     1.0  \n",
       "19154              52     1.0  \n",
       "19155              44     0.0  \n",
       "19156              97     0.0  \n",
       "19157             127     0.0  \n",
       "\n",
       "[19158 rows x 14 columns]"
      ],
      "text/html": "<div>\n<style scoped>\n    .dataframe tbody tr th:only-of-type {\n        vertical-align: middle;\n    }\n\n    .dataframe tbody tr th {\n        vertical-align: top;\n    }\n\n    .dataframe thead th {\n        text-align: right;\n    }\n</style>\n<table border=\"1\" class=\"dataframe\">\n  <thead>\n    <tr style=\"text-align: right;\">\n      <th></th>\n      <th>enrollee_id</th>\n      <th>city</th>\n      <th>city_development_index</th>\n      <th>gender</th>\n      <th>relevent_experience</th>\n      <th>enrolled_university</th>\n      <th>education_level</th>\n      <th>major_discipline</th>\n      <th>experience</th>\n      <th>company_size</th>\n      <th>company_type</th>\n      <th>last_new_job</th>\n      <th>training_hours</th>\n      <th>target</th>\n    </tr>\n  </thead>\n  <tbody>\n    <tr>\n      <th>0</th>\n      <td>8949</td>\n      <td>city_103</td>\n      <td>0.920</td>\n      <td>Male</td>\n      <td>Has relevent experience</td>\n      <td>no_enrollment</td>\n      <td>Graduate</td>\n      <td>STEM</td>\n      <td>&gt;20</td>\n      <td>NaN</td>\n      <td>NaN</td>\n      <td>1</td>\n      <td>36</td>\n      <td>1.0</td>\n    </tr>\n    <tr>\n      <th>1</th>\n      <td>29725</td>\n      <td>city_40</td>\n      <td>0.776</td>\n      <td>Male</td>\n      <td>No relevent experience</td>\n      <td>no_enrollment</td>\n      <td>Graduate</td>\n      <td>STEM</td>\n      <td>15</td>\n      <td>50-99</td>\n      <td>Pvt Ltd</td>\n      <td>&gt;4</td>\n      <td>47</td>\n      <td>0.0</td>\n    </tr>\n    <tr>\n      <th>2</th>\n      <td>11561</td>\n      <td>city_21</td>\n      <td>0.624</td>\n      <td>NaN</td>\n      <td>No relevent experience</td>\n      <td>Full time course</td>\n      <td>Graduate</td>\n      <td>STEM</td>\n      <td>5</td>\n      <td>NaN</td>\n      <td>NaN</td>\n      <td>never</td>\n      <td>83</td>\n      <td>0.0</td>\n    </tr>\n    <tr>\n      <th>3</th>\n      <td>33241</td>\n      <td>city_115</td>\n      <td>0.789</td>\n      <td>NaN</td>\n      <td>No relevent experience</td>\n      <td>NaN</td>\n      <td>Graduate</td>\n      <td>Business Degree</td>\n      <td>&lt;1</td>\n      <td>NaN</td>\n      <td>Pvt Ltd</td>\n      <td>never</td>\n      <td>52</td>\n      <td>1.0</td>\n    </tr>\n    <tr>\n      <th>4</th>\n      <td>666</td>\n      <td>city_162</td>\n      <td>0.767</td>\n      <td>Male</td>\n      <td>Has relevent experience</td>\n      <td>no_enrollment</td>\n      <td>Masters</td>\n      <td>STEM</td>\n      <td>&gt;20</td>\n      <td>50-99</td>\n      <td>Funded Startup</td>\n      <td>4</td>\n      <td>8</td>\n      <td>0.0</td>\n    </tr>\n    <tr>\n      <th>...</th>\n      <td>...</td>\n      <td>...</td>\n      <td>...</td>\n      <td>...</td>\n      <td>...</td>\n      <td>...</td>\n      <td>...</td>\n      <td>...</td>\n      <td>...</td>\n      <td>...</td>\n      <td>...</td>\n      <td>...</td>\n      <td>...</td>\n      <td>...</td>\n    </tr>\n    <tr>\n      <th>19153</th>\n      <td>7386</td>\n      <td>city_173</td>\n      <td>0.878</td>\n      <td>Male</td>\n      <td>No relevent experience</td>\n      <td>no_enrollment</td>\n      <td>Graduate</td>\n      <td>Humanities</td>\n      <td>14</td>\n      <td>NaN</td>\n      <td>NaN</td>\n      <td>1</td>\n      <td>42</td>\n      <td>1.0</td>\n    </tr>\n    <tr>\n      <th>19154</th>\n      <td>31398</td>\n      <td>city_103</td>\n      <td>0.920</td>\n      <td>Male</td>\n      <td>Has relevent experience</td>\n      <td>no_enrollment</td>\n      <td>Graduate</td>\n      <td>STEM</td>\n      <td>14</td>\n      <td>NaN</td>\n      <td>NaN</td>\n      <td>4</td>\n      <td>52</td>\n      <td>1.0</td>\n    </tr>\n    <tr>\n      <th>19155</th>\n      <td>24576</td>\n      <td>city_103</td>\n      <td>0.920</td>\n      <td>Male</td>\n      <td>Has relevent experience</td>\n      <td>no_enrollment</td>\n      <td>Graduate</td>\n      <td>STEM</td>\n      <td>&gt;20</td>\n      <td>50-99</td>\n      <td>Pvt Ltd</td>\n      <td>4</td>\n      <td>44</td>\n      <td>0.0</td>\n    </tr>\n    <tr>\n      <th>19156</th>\n      <td>5756</td>\n      <td>city_65</td>\n      <td>0.802</td>\n      <td>Male</td>\n      <td>Has relevent experience</td>\n      <td>no_enrollment</td>\n      <td>High School</td>\n      <td>NaN</td>\n      <td>&lt;1</td>\n      <td>500-999</td>\n      <td>Pvt Ltd</td>\n      <td>2</td>\n      <td>97</td>\n      <td>0.0</td>\n    </tr>\n    <tr>\n      <th>19157</th>\n      <td>23834</td>\n      <td>city_67</td>\n      <td>0.855</td>\n      <td>NaN</td>\n      <td>No relevent experience</td>\n      <td>no_enrollment</td>\n      <td>Primary School</td>\n      <td>NaN</td>\n      <td>2</td>\n      <td>NaN</td>\n      <td>NaN</td>\n      <td>1</td>\n      <td>127</td>\n      <td>0.0</td>\n    </tr>\n  </tbody>\n</table>\n<p>19158 rows × 14 columns</p>\n</div>"
     },
     "metadata": {},
     "execution_count": 2
    }
   ],
   "source": [
    "data = pd.read_csv('aug_train.csv')\n",
    "data"
   ]
  },
  {
   "cell_type": "code",
   "execution_count": 3,
   "metadata": {},
   "outputs": [],
   "source": [
    "data.dropna(thresh=12,inplace=True)"
   ]
  },
  {
   "cell_type": "code",
   "execution_count": 4,
   "metadata": {},
   "outputs": [
    {
     "output_type": "execute_result",
     "data": {
      "text/plain": [
       "enrollee_id                  0\n",
       "city                         0\n",
       "city_development_index       0\n",
       "gender                    2827\n",
       "relevent_experience          0\n",
       "enrolled_university        126\n",
       "education_level             74\n",
       "major_discipline          1084\n",
       "experience                  21\n",
       "company_size              3283\n",
       "company_type              3464\n",
       "last_new_job               147\n",
       "training_hours               0\n",
       "target                       0\n",
       "dtype: int64"
      ]
     },
     "metadata": {},
     "execution_count": 4
    }
   ],
   "source": [
    "data.isna().sum()"
   ]
  },
  {
   "cell_type": "code",
   "execution_count": 5,
   "metadata": {},
   "outputs": [],
   "source": [
    "data['gender'].value_counts()\n",
    "data['gender'].fillna('Other',inplace=True)"
   ]
  },
  {
   "cell_type": "code",
   "execution_count": 6,
   "metadata": {},
   "outputs": [],
   "source": [
    "data['enrolled_university'].value_counts()\n",
    "data[data['enrolled_university'].isna()]\n",
    "data['enrolled_university'].fillna('no_enrollment',inplace=True)"
   ]
  },
  {
   "cell_type": "code",
   "execution_count": 7,
   "metadata": {},
   "outputs": [],
   "source": [
    "data['education_level'].value_counts()\n",
    "data[data['education_level'].isna()]\n",
    "data['education_level'].fillna('Unknown',inplace=True)"
   ]
  },
  {
   "cell_type": "code",
   "execution_count": 8,
   "metadata": {},
   "outputs": [],
   "source": [
    "data['major_discipline'].value_counts()\n",
    "data[data['major_discipline'].isna()]\n",
    "data['major_discipline'].fillna('Other',inplace=True)"
   ]
  },
  {
   "cell_type": "code",
   "execution_count": 9,
   "metadata": {},
   "outputs": [],
   "source": [
    "data['experience'].value_counts()\n",
    "data[data['experience'].isna()]\n",
    "data['experience'].fillna('<1',inplace=True)"
   ]
  },
  {
   "cell_type": "code",
   "execution_count": 12,
   "metadata": {},
   "outputs": [
    {
     "output_type": "execute_result",
     "data": {
      "text/plain": [
       "       enrollee_id      city  city_development_index  gender  \\\n",
       "0             8949  city_103                   0.920    Male   \n",
       "1            29725   city_40                   0.776    Male   \n",
       "4              666  city_162                   0.767    Male   \n",
       "6            28806  city_160                   0.920    Male   \n",
       "7              402   city_46                   0.762    Male   \n",
       "...            ...       ...                     ...     ...   \n",
       "19152        29754  city_103                   0.920  Female   \n",
       "19153         7386  city_173                   0.878    Male   \n",
       "19154        31398  city_103                   0.920    Male   \n",
       "19155        24576  city_103                   0.920    Male   \n",
       "19156         5756   city_65                   0.802    Male   \n",
       "\n",
       "           relevent_experience enrolled_university education_level  \\\n",
       "0      Has relevent experience       no_enrollment        Graduate   \n",
       "1       No relevent experience       no_enrollment        Graduate   \n",
       "4      Has relevent experience       no_enrollment         Masters   \n",
       "6      Has relevent experience       no_enrollment     High School   \n",
       "7      Has relevent experience       no_enrollment        Graduate   \n",
       "...                        ...                 ...             ...   \n",
       "19152  Has relevent experience       no_enrollment        Graduate   \n",
       "19153   No relevent experience       no_enrollment        Graduate   \n",
       "19154  Has relevent experience       no_enrollment        Graduate   \n",
       "19155  Has relevent experience       no_enrollment        Graduate   \n",
       "19156  Has relevent experience       no_enrollment     High School   \n",
       "\n",
       "      major_discipline experience company_size    company_type last_new_job  \\\n",
       "0                 STEM        >20          NaN             NaN            1   \n",
       "1                 STEM         15        50-99         Pvt Ltd           >4   \n",
       "4                 STEM        >20        50-99  Funded Startup            4   \n",
       "6                Other          5        50-99  Funded Startup            1   \n",
       "7                 STEM         13          <10         Pvt Ltd           >4   \n",
       "...                ...        ...          ...             ...          ...   \n",
       "19152       Humanities          7        10/49  Funded Startup            1   \n",
       "19153       Humanities         14          NaN             NaN            1   \n",
       "19154             STEM         14          NaN             NaN            4   \n",
       "19155             STEM        >20        50-99         Pvt Ltd            4   \n",
       "19156            Other         <1      500-999         Pvt Ltd            2   \n",
       "\n",
       "       training_hours  target  \n",
       "0                  36     1.0  \n",
       "1                  47     0.0  \n",
       "4                   8     0.0  \n",
       "6                  24     0.0  \n",
       "7                  18     1.0  \n",
       "...               ...     ...  \n",
       "19152              25     0.0  \n",
       "19153              42     1.0  \n",
       "19154              52     1.0  \n",
       "19155              44     0.0  \n",
       "19156              97     0.0  \n",
       "\n",
       "[16327 rows x 14 columns]"
      ],
      "text/html": "<div>\n<style scoped>\n    .dataframe tbody tr th:only-of-type {\n        vertical-align: middle;\n    }\n\n    .dataframe tbody tr th {\n        vertical-align: top;\n    }\n\n    .dataframe thead th {\n        text-align: right;\n    }\n</style>\n<table border=\"1\" class=\"dataframe\">\n  <thead>\n    <tr style=\"text-align: right;\">\n      <th></th>\n      <th>enrollee_id</th>\n      <th>city</th>\n      <th>city_development_index</th>\n      <th>gender</th>\n      <th>relevent_experience</th>\n      <th>enrolled_university</th>\n      <th>education_level</th>\n      <th>major_discipline</th>\n      <th>experience</th>\n      <th>company_size</th>\n      <th>company_type</th>\n      <th>last_new_job</th>\n      <th>training_hours</th>\n      <th>target</th>\n    </tr>\n  </thead>\n  <tbody>\n    <tr>\n      <th>0</th>\n      <td>8949</td>\n      <td>city_103</td>\n      <td>0.920</td>\n      <td>Male</td>\n      <td>Has relevent experience</td>\n      <td>no_enrollment</td>\n      <td>Graduate</td>\n      <td>STEM</td>\n      <td>&gt;20</td>\n      <td>NaN</td>\n      <td>NaN</td>\n      <td>1</td>\n      <td>36</td>\n      <td>1.0</td>\n    </tr>\n    <tr>\n      <th>1</th>\n      <td>29725</td>\n      <td>city_40</td>\n      <td>0.776</td>\n      <td>Male</td>\n      <td>No relevent experience</td>\n      <td>no_enrollment</td>\n      <td>Graduate</td>\n      <td>STEM</td>\n      <td>15</td>\n      <td>50-99</td>\n      <td>Pvt Ltd</td>\n      <td>&gt;4</td>\n      <td>47</td>\n      <td>0.0</td>\n    </tr>\n    <tr>\n      <th>4</th>\n      <td>666</td>\n      <td>city_162</td>\n      <td>0.767</td>\n      <td>Male</td>\n      <td>Has relevent experience</td>\n      <td>no_enrollment</td>\n      <td>Masters</td>\n      <td>STEM</td>\n      <td>&gt;20</td>\n      <td>50-99</td>\n      <td>Funded Startup</td>\n      <td>4</td>\n      <td>8</td>\n      <td>0.0</td>\n    </tr>\n    <tr>\n      <th>6</th>\n      <td>28806</td>\n      <td>city_160</td>\n      <td>0.920</td>\n      <td>Male</td>\n      <td>Has relevent experience</td>\n      <td>no_enrollment</td>\n      <td>High School</td>\n      <td>Other</td>\n      <td>5</td>\n      <td>50-99</td>\n      <td>Funded Startup</td>\n      <td>1</td>\n      <td>24</td>\n      <td>0.0</td>\n    </tr>\n    <tr>\n      <th>7</th>\n      <td>402</td>\n      <td>city_46</td>\n      <td>0.762</td>\n      <td>Male</td>\n      <td>Has relevent experience</td>\n      <td>no_enrollment</td>\n      <td>Graduate</td>\n      <td>STEM</td>\n      <td>13</td>\n      <td>&lt;10</td>\n      <td>Pvt Ltd</td>\n      <td>&gt;4</td>\n      <td>18</td>\n      <td>1.0</td>\n    </tr>\n    <tr>\n      <th>...</th>\n      <td>...</td>\n      <td>...</td>\n      <td>...</td>\n      <td>...</td>\n      <td>...</td>\n      <td>...</td>\n      <td>...</td>\n      <td>...</td>\n      <td>...</td>\n      <td>...</td>\n      <td>...</td>\n      <td>...</td>\n      <td>...</td>\n      <td>...</td>\n    </tr>\n    <tr>\n      <th>19152</th>\n      <td>29754</td>\n      <td>city_103</td>\n      <td>0.920</td>\n      <td>Female</td>\n      <td>Has relevent experience</td>\n      <td>no_enrollment</td>\n      <td>Graduate</td>\n      <td>Humanities</td>\n      <td>7</td>\n      <td>10/49</td>\n      <td>Funded Startup</td>\n      <td>1</td>\n      <td>25</td>\n      <td>0.0</td>\n    </tr>\n    <tr>\n      <th>19153</th>\n      <td>7386</td>\n      <td>city_173</td>\n      <td>0.878</td>\n      <td>Male</td>\n      <td>No relevent experience</td>\n      <td>no_enrollment</td>\n      <td>Graduate</td>\n      <td>Humanities</td>\n      <td>14</td>\n      <td>NaN</td>\n      <td>NaN</td>\n      <td>1</td>\n      <td>42</td>\n      <td>1.0</td>\n    </tr>\n    <tr>\n      <th>19154</th>\n      <td>31398</td>\n      <td>city_103</td>\n      <td>0.920</td>\n      <td>Male</td>\n      <td>Has relevent experience</td>\n      <td>no_enrollment</td>\n      <td>Graduate</td>\n      <td>STEM</td>\n      <td>14</td>\n      <td>NaN</td>\n      <td>NaN</td>\n      <td>4</td>\n      <td>52</td>\n      <td>1.0</td>\n    </tr>\n    <tr>\n      <th>19155</th>\n      <td>24576</td>\n      <td>city_103</td>\n      <td>0.920</td>\n      <td>Male</td>\n      <td>Has relevent experience</td>\n      <td>no_enrollment</td>\n      <td>Graduate</td>\n      <td>STEM</td>\n      <td>&gt;20</td>\n      <td>50-99</td>\n      <td>Pvt Ltd</td>\n      <td>4</td>\n      <td>44</td>\n      <td>0.0</td>\n    </tr>\n    <tr>\n      <th>19156</th>\n      <td>5756</td>\n      <td>city_65</td>\n      <td>0.802</td>\n      <td>Male</td>\n      <td>Has relevent experience</td>\n      <td>no_enrollment</td>\n      <td>High School</td>\n      <td>Other</td>\n      <td>&lt;1</td>\n      <td>500-999</td>\n      <td>Pvt Ltd</td>\n      <td>2</td>\n      <td>97</td>\n      <td>0.0</td>\n    </tr>\n  </tbody>\n</table>\n<p>16327 rows × 14 columns</p>\n</div>"
     },
     "metadata": {},
     "execution_count": 12
    }
   ],
   "source": [
    "data.to_csv(\"HR_analytic_bersih.csv\")\n",
    "data\n"
   ]
  },
  {
   "cell_type": "code",
   "execution_count": 101,
   "metadata": {},
   "outputs": [
    {
     "output_type": "execute_result",
     "data": {
      "text/plain": [
       "Index(['enrollee_id', 'city', 'city_development_index', 'gender',\n",
       "       'relevent_experience', 'enrolled_university', 'education_level',\n",
       "       'major_discipline', 'experience', 'company_size', 'company_type',\n",
       "       'last_new_job', 'training_hours', 'target'],\n",
       "      dtype='object')"
      ]
     },
     "metadata": {},
     "execution_count": 101
    }
   ],
   "source": [
    "data.columns"
   ]
  },
  {
   "cell_type": "code",
   "execution_count": 102,
   "metadata": {},
   "outputs": [
    {
     "output_type": "execute_result",
     "data": {
      "text/plain": [
       "       training_hours  target  relevent_experience_No relevent experience  \\\n",
       "0                  36     1.0                                           0   \n",
       "1                  47     0.0                                           1   \n",
       "4                   8     0.0                                           0   \n",
       "6                  24     0.0                                           0   \n",
       "7                  18     1.0                                           0   \n",
       "...               ...     ...                                         ...   \n",
       "19152              25     0.0                                           0   \n",
       "19153              42     1.0                                           1   \n",
       "19154              52     1.0                                           0   \n",
       "19155              44     0.0                                           0   \n",
       "19156              97     0.0                                           0   \n",
       "\n",
       "       enrolled_university_Part time course  \\\n",
       "0                                         0   \n",
       "1                                         0   \n",
       "4                                         0   \n",
       "6                                         0   \n",
       "7                                         0   \n",
       "...                                     ...   \n",
       "19152                                     0   \n",
       "19153                                     0   \n",
       "19154                                     0   \n",
       "19155                                     0   \n",
       "19156                                     0   \n",
       "\n",
       "       enrolled_university_no_enrollment  education_level_High School  \\\n",
       "0                                      1                            0   \n",
       "1                                      1                            0   \n",
       "4                                      1                            0   \n",
       "6                                      1                            1   \n",
       "7                                      1                            0   \n",
       "...                                  ...                          ...   \n",
       "19152                                  1                            0   \n",
       "19153                                  1                            0   \n",
       "19154                                  1                            0   \n",
       "19155                                  1                            0   \n",
       "19156                                  1                            1   \n",
       "\n",
       "       education_level_Masters  education_level_Phd  \\\n",
       "0                            0                    0   \n",
       "1                            0                    0   \n",
       "4                            1                    0   \n",
       "6                            0                    0   \n",
       "7                            0                    0   \n",
       "...                        ...                  ...   \n",
       "19152                        0                    0   \n",
       "19153                        0                    0   \n",
       "19154                        0                    0   \n",
       "19155                        0                    0   \n",
       "19156                        0                    0   \n",
       "\n",
       "       education_level_Primary School  education_level_Unknown  ...  \\\n",
       "0                                   0                        0  ...   \n",
       "1                                   0                        0  ...   \n",
       "4                                   0                        0  ...   \n",
       "6                                   0                        0  ...   \n",
       "7                                   0                        0  ...   \n",
       "...                               ...                      ...  ...   \n",
       "19152                               0                        0  ...   \n",
       "19153                               0                        0  ...   \n",
       "19154                               0                        0  ...   \n",
       "19155                               0                        0  ...   \n",
       "19156                               0                        0  ...   \n",
       "\n",
       "       experience_20  experience_3  experience_4  experience_5  experience_6  \\\n",
       "0                  0             0             0             0             0   \n",
       "1                  0             0             0             0             0   \n",
       "4                  0             0             0             0             0   \n",
       "6                  0             0             0             1             0   \n",
       "7                  0             0             0             0             0   \n",
       "...              ...           ...           ...           ...           ...   \n",
       "19152              0             0             0             0             0   \n",
       "19153              0             0             0             0             0   \n",
       "19154              0             0             0             0             0   \n",
       "19155              0             0             0             0             0   \n",
       "19156              0             0             0             0             0   \n",
       "\n",
       "       experience_7  experience_8  experience_9  experience_<1  experience_>20  \n",
       "0                 0             0             0              0               1  \n",
       "1                 0             0             0              0               0  \n",
       "4                 0             0             0              0               1  \n",
       "6                 0             0             0              0               0  \n",
       "7                 0             0             0              0               0  \n",
       "...             ...           ...           ...            ...             ...  \n",
       "19152             1             0             0              0               0  \n",
       "19153             0             0             0              0               0  \n",
       "19154             0             0             0              0               0  \n",
       "19155             0             0             0              0               1  \n",
       "19156             0             0             0              1               0  \n",
       "\n",
       "[16327 rows x 36 columns]"
      ],
      "text/html": "<div>\n<style scoped>\n    .dataframe tbody tr th:only-of-type {\n        vertical-align: middle;\n    }\n\n    .dataframe tbody tr th {\n        vertical-align: top;\n    }\n\n    .dataframe thead th {\n        text-align: right;\n    }\n</style>\n<table border=\"1\" class=\"dataframe\">\n  <thead>\n    <tr style=\"text-align: right;\">\n      <th></th>\n      <th>training_hours</th>\n      <th>target</th>\n      <th>relevent_experience_No relevent experience</th>\n      <th>enrolled_university_Part time course</th>\n      <th>enrolled_university_no_enrollment</th>\n      <th>education_level_High School</th>\n      <th>education_level_Masters</th>\n      <th>education_level_Phd</th>\n      <th>education_level_Primary School</th>\n      <th>education_level_Unknown</th>\n      <th>...</th>\n      <th>experience_20</th>\n      <th>experience_3</th>\n      <th>experience_4</th>\n      <th>experience_5</th>\n      <th>experience_6</th>\n      <th>experience_7</th>\n      <th>experience_8</th>\n      <th>experience_9</th>\n      <th>experience_&lt;1</th>\n      <th>experience_&gt;20</th>\n    </tr>\n  </thead>\n  <tbody>\n    <tr>\n      <th>0</th>\n      <td>36</td>\n      <td>1.0</td>\n      <td>0</td>\n      <td>0</td>\n      <td>1</td>\n      <td>0</td>\n      <td>0</td>\n      <td>0</td>\n      <td>0</td>\n      <td>0</td>\n      <td>...</td>\n      <td>0</td>\n      <td>0</td>\n      <td>0</td>\n      <td>0</td>\n      <td>0</td>\n      <td>0</td>\n      <td>0</td>\n      <td>0</td>\n      <td>0</td>\n      <td>1</td>\n    </tr>\n    <tr>\n      <th>1</th>\n      <td>47</td>\n      <td>0.0</td>\n      <td>1</td>\n      <td>0</td>\n      <td>1</td>\n      <td>0</td>\n      <td>0</td>\n      <td>0</td>\n      <td>0</td>\n      <td>0</td>\n      <td>...</td>\n      <td>0</td>\n      <td>0</td>\n      <td>0</td>\n      <td>0</td>\n      <td>0</td>\n      <td>0</td>\n      <td>0</td>\n      <td>0</td>\n      <td>0</td>\n      <td>0</td>\n    </tr>\n    <tr>\n      <th>4</th>\n      <td>8</td>\n      <td>0.0</td>\n      <td>0</td>\n      <td>0</td>\n      <td>1</td>\n      <td>0</td>\n      <td>1</td>\n      <td>0</td>\n      <td>0</td>\n      <td>0</td>\n      <td>...</td>\n      <td>0</td>\n      <td>0</td>\n      <td>0</td>\n      <td>0</td>\n      <td>0</td>\n      <td>0</td>\n      <td>0</td>\n      <td>0</td>\n      <td>0</td>\n      <td>1</td>\n    </tr>\n    <tr>\n      <th>6</th>\n      <td>24</td>\n      <td>0.0</td>\n      <td>0</td>\n      <td>0</td>\n      <td>1</td>\n      <td>1</td>\n      <td>0</td>\n      <td>0</td>\n      <td>0</td>\n      <td>0</td>\n      <td>...</td>\n      <td>0</td>\n      <td>0</td>\n      <td>0</td>\n      <td>1</td>\n      <td>0</td>\n      <td>0</td>\n      <td>0</td>\n      <td>0</td>\n      <td>0</td>\n      <td>0</td>\n    </tr>\n    <tr>\n      <th>7</th>\n      <td>18</td>\n      <td>1.0</td>\n      <td>0</td>\n      <td>0</td>\n      <td>1</td>\n      <td>0</td>\n      <td>0</td>\n      <td>0</td>\n      <td>0</td>\n      <td>0</td>\n      <td>...</td>\n      <td>0</td>\n      <td>0</td>\n      <td>0</td>\n      <td>0</td>\n      <td>0</td>\n      <td>0</td>\n      <td>0</td>\n      <td>0</td>\n      <td>0</td>\n      <td>0</td>\n    </tr>\n    <tr>\n      <th>...</th>\n      <td>...</td>\n      <td>...</td>\n      <td>...</td>\n      <td>...</td>\n      <td>...</td>\n      <td>...</td>\n      <td>...</td>\n      <td>...</td>\n      <td>...</td>\n      <td>...</td>\n      <td>...</td>\n      <td>...</td>\n      <td>...</td>\n      <td>...</td>\n      <td>...</td>\n      <td>...</td>\n      <td>...</td>\n      <td>...</td>\n      <td>...</td>\n      <td>...</td>\n      <td>...</td>\n    </tr>\n    <tr>\n      <th>19152</th>\n      <td>25</td>\n      <td>0.0</td>\n      <td>0</td>\n      <td>0</td>\n      <td>1</td>\n      <td>0</td>\n      <td>0</td>\n      <td>0</td>\n      <td>0</td>\n      <td>0</td>\n      <td>...</td>\n      <td>0</td>\n      <td>0</td>\n      <td>0</td>\n      <td>0</td>\n      <td>0</td>\n      <td>1</td>\n      <td>0</td>\n      <td>0</td>\n      <td>0</td>\n      <td>0</td>\n    </tr>\n    <tr>\n      <th>19153</th>\n      <td>42</td>\n      <td>1.0</td>\n      <td>1</td>\n      <td>0</td>\n      <td>1</td>\n      <td>0</td>\n      <td>0</td>\n      <td>0</td>\n      <td>0</td>\n      <td>0</td>\n      <td>...</td>\n      <td>0</td>\n      <td>0</td>\n      <td>0</td>\n      <td>0</td>\n      <td>0</td>\n      <td>0</td>\n      <td>0</td>\n      <td>0</td>\n      <td>0</td>\n      <td>0</td>\n    </tr>\n    <tr>\n      <th>19154</th>\n      <td>52</td>\n      <td>1.0</td>\n      <td>0</td>\n      <td>0</td>\n      <td>1</td>\n      <td>0</td>\n      <td>0</td>\n      <td>0</td>\n      <td>0</td>\n      <td>0</td>\n      <td>...</td>\n      <td>0</td>\n      <td>0</td>\n      <td>0</td>\n      <td>0</td>\n      <td>0</td>\n      <td>0</td>\n      <td>0</td>\n      <td>0</td>\n      <td>0</td>\n      <td>0</td>\n    </tr>\n    <tr>\n      <th>19155</th>\n      <td>44</td>\n      <td>0.0</td>\n      <td>0</td>\n      <td>0</td>\n      <td>1</td>\n      <td>0</td>\n      <td>0</td>\n      <td>0</td>\n      <td>0</td>\n      <td>0</td>\n      <td>...</td>\n      <td>0</td>\n      <td>0</td>\n      <td>0</td>\n      <td>0</td>\n      <td>0</td>\n      <td>0</td>\n      <td>0</td>\n      <td>0</td>\n      <td>0</td>\n      <td>1</td>\n    </tr>\n    <tr>\n      <th>19156</th>\n      <td>97</td>\n      <td>0.0</td>\n      <td>0</td>\n      <td>0</td>\n      <td>1</td>\n      <td>1</td>\n      <td>0</td>\n      <td>0</td>\n      <td>0</td>\n      <td>0</td>\n      <td>...</td>\n      <td>0</td>\n      <td>0</td>\n      <td>0</td>\n      <td>0</td>\n      <td>0</td>\n      <td>0</td>\n      <td>0</td>\n      <td>0</td>\n      <td>1</td>\n      <td>0</td>\n    </tr>\n  </tbody>\n</table>\n<p>16327 rows × 36 columns</p>\n</div>"
     },
     "metadata": {},
     "execution_count": 102
    }
   ],
   "source": [
    "data_dummy = pd.get_dummies(data[['relevent_experience', 'enrolled_university', 'education_level', 'major_discipline', 'experience', 'training_hours', 'target']], drop_first = True)\n",
    "data_dummy"
   ]
  },
  {
   "cell_type": "code",
   "execution_count": 103,
   "metadata": {},
   "outputs": [
    {
     "output_type": "execute_result",
     "data": {
      "text/plain": [
       "Index(['training_hours', 'target',\n",
       "       'relevent_experience_No relevent experience',\n",
       "       'enrolled_university_Part time course',\n",
       "       'enrolled_university_no_enrollment', 'education_level_High School',\n",
       "       'education_level_Masters', 'education_level_Phd',\n",
       "       'education_level_Primary School', 'education_level_Unknown',\n",
       "       'major_discipline_Business Degree', 'major_discipline_Humanities',\n",
       "       'major_discipline_No Major', 'major_discipline_Other',\n",
       "       'major_discipline_STEM', 'experience_10', 'experience_11',\n",
       "       'experience_12', 'experience_13', 'experience_14', 'experience_15',\n",
       "       'experience_16', 'experience_17', 'experience_18', 'experience_19',\n",
       "       'experience_2', 'experience_20', 'experience_3', 'experience_4',\n",
       "       'experience_5', 'experience_6', 'experience_7', 'experience_8',\n",
       "       'experience_9', 'experience_<1', 'experience_>20'],\n",
       "      dtype='object')"
      ]
     },
     "metadata": {},
     "execution_count": 103
    }
   ],
   "source": [
    "data_dummy.columns"
   ]
  },
  {
   "cell_type": "code",
   "execution_count": 170,
   "metadata": {},
   "outputs": [],
   "source": [
    "fitur = data_dummy[['training_hours',\n",
    "       'relevent_experience_No relevent experience',\n",
    "       'enrolled_university_Part time course',\n",
    "       'enrolled_university_no_enrollment', 'education_level_High School',\n",
    "       'education_level_Masters', 'education_level_Phd',\n",
    "       'education_level_Primary School', 'education_level_Unknown']]\n",
    "target = data_dummy[['target']]"
   ]
  },
  {
   "cell_type": "code",
   "execution_count": 171,
   "metadata": {},
   "outputs": [
    {
     "output_type": "execute_result",
     "data": {
      "text/plain": [
       "<statsmodels.discrete.discrete_model.Logit at 0x1c6ee95dd00>"
      ]
     },
     "metadata": {},
     "execution_count": 171
    }
   ],
   "source": [
    "model_logit = sm.Logit(target, sm.add_constant(fitur))\n",
    "model_logit"
   ]
  },
  {
   "cell_type": "code",
   "execution_count": 172,
   "metadata": {},
   "outputs": [
    {
     "output_type": "stream",
     "name": "stdout",
     "text": [
      "Optimization terminated successfully.\n         Current function value: 0.521208\n         Iterations 6\n"
     ]
    }
   ],
   "source": [
    "hasil = model_logit.fit()"
   ]
  },
  {
   "cell_type": "code",
   "execution_count": 173,
   "metadata": {},
   "outputs": [
    {
     "output_type": "stream",
     "name": "stdout",
     "text": [
      "                           Logit Regression Results                           \n==============================================================================\nDep. Variable:                 target   No. Observations:                16327\nModel:                          Logit   Df Residuals:                    16317\nMethod:                           MLE   Df Model:                            9\nDate:                Thu, 29 Apr 2021   Pseudo R-squ.:                 0.03703\nTime:                        15:50:43   Log-Likelihood:                -8509.8\nconverged:                       True   LL-Null:                       -8837.0\nCovariance Type:            nonrobust   LLR p-value:                4.175e-135\n==============================================================================================================\n                                                 coef    std err          z      P>|z|      [0.025      0.975]\n--------------------------------------------------------------------------------------------------------------\nconst                                         -0.6198      0.054    -11.467      0.000      -0.726      -0.514\ntraining_hours                                -0.0008      0.000     -2.450      0.014      -0.001      -0.000\nrelevent_experience_No relevent experience     0.5430      0.047     11.626      0.000       0.451       0.635\nenrolled_university_Part time course          -0.6120      0.087     -7.041      0.000      -0.782      -0.442\nenrolled_university_no_enrollment             -0.6310      0.050    -12.508      0.000      -0.730      -0.532\neducation_level_High School                   -1.3546      0.113    -11.946      0.000      -1.577      -1.132\neducation_level_Masters                       -0.2817      0.045     -6.193      0.000      -0.371      -0.193\neducation_level_Phd                           -0.8331      0.151     -5.516      0.000      -1.129      -0.537\neducation_level_Primary School                -0.9750      0.327     -2.977      0.003      -1.617      -0.333\neducation_level_Unknown                       -0.7719      0.344     -2.243      0.025      -1.446      -0.097\n==============================================================================================================\n"
     ]
    }
   ],
   "source": [
    "print(hasil.summary())\n",
    "# drop major_discipline, experience"
   ]
  },
  {
   "cell_type": "code",
   "execution_count": 174,
   "metadata": {},
   "outputs": [],
   "source": [
    "def hit_VIF(X) :\n",
    "    vif = pd.DataFrame()\n",
    "    vif['Variables'] = X.columns\n",
    "    vif['VIF'] = [variance_inflation_factor(X.values,i) for i in range (X.shape[1])]\n",
    "    return vif"
   ]
  },
  {
   "cell_type": "code",
   "execution_count": 175,
   "metadata": {},
   "outputs": [
    {
     "output_type": "execute_result",
     "data": {
      "text/plain": [
       "                                    Variables       VIF\n",
       "0                              training_hours  1.906220\n",
       "1  relevent_experience_No relevent experience  1.179794\n",
       "2        enrolled_university_Part time course  1.100668\n",
       "3           enrolled_university_no_enrollment  2.092646\n",
       "4                 education_level_High School  1.079362\n",
       "5                     education_level_Masters  1.346434\n",
       "6                         education_level_Phd  1.047452\n",
       "7              education_level_Primary School  1.011393\n",
       "8                     education_level_Unknown  1.005700"
      ],
      "text/html": "<div>\n<style scoped>\n    .dataframe tbody tr th:only-of-type {\n        vertical-align: middle;\n    }\n\n    .dataframe tbody tr th {\n        vertical-align: top;\n    }\n\n    .dataframe thead th {\n        text-align: right;\n    }\n</style>\n<table border=\"1\" class=\"dataframe\">\n  <thead>\n    <tr style=\"text-align: right;\">\n      <th></th>\n      <th>Variables</th>\n      <th>VIF</th>\n    </tr>\n  </thead>\n  <tbody>\n    <tr>\n      <th>0</th>\n      <td>training_hours</td>\n      <td>1.906220</td>\n    </tr>\n    <tr>\n      <th>1</th>\n      <td>relevent_experience_No relevent experience</td>\n      <td>1.179794</td>\n    </tr>\n    <tr>\n      <th>2</th>\n      <td>enrolled_university_Part time course</td>\n      <td>1.100668</td>\n    </tr>\n    <tr>\n      <th>3</th>\n      <td>enrolled_university_no_enrollment</td>\n      <td>2.092646</td>\n    </tr>\n    <tr>\n      <th>4</th>\n      <td>education_level_High School</td>\n      <td>1.079362</td>\n    </tr>\n    <tr>\n      <th>5</th>\n      <td>education_level_Masters</td>\n      <td>1.346434</td>\n    </tr>\n    <tr>\n      <th>6</th>\n      <td>education_level_Phd</td>\n      <td>1.047452</td>\n    </tr>\n    <tr>\n      <th>7</th>\n      <td>education_level_Primary School</td>\n      <td>1.011393</td>\n    </tr>\n    <tr>\n      <th>8</th>\n      <td>education_level_Unknown</td>\n      <td>1.005700</td>\n    </tr>\n  </tbody>\n</table>\n</div>"
     },
     "metadata": {},
     "execution_count": 175
    }
   ],
   "source": [
    "hit_VIF(fitur)"
   ]
  },
  {
   "cell_type": "code",
   "execution_count": 176,
   "metadata": {},
   "outputs": [],
   "source": [
    "X_train, X_test, y_train, y_test = train_test_split(\n",
    "    fitur[['training_hours',\n",
    "       'relevent_experience_No relevent experience',\n",
    "       'enrolled_university_Part time course',\n",
    "       'enrolled_university_no_enrollment', 'education_level_High School',\n",
    "       'education_level_Masters', 'education_level_Phd',\n",
    "       'education_level_Primary School', 'education_level_Unknown']],\n",
    "    target,\n",
    "    stratify = target,\n",
    "    test_size = 0.2,\n",
    "    random_state = 2020\n",
    ")"
   ]
  },
  {
   "cell_type": "code",
   "execution_count": 177,
   "metadata": {},
   "outputs": [
    {
     "output_type": "stream",
     "name": "stdout",
     "text": [
      "Optimization terminated successfully.\n         Current function value: 0.521732\n         Iterations 6\n"
     ]
    }
   ],
   "source": [
    "model_logit_train = sm.Logit(y_train, sm.add_constant(X_train))\n",
    "hasil_train = model_logit_train.fit()"
   ]
  },
  {
   "cell_type": "code",
   "execution_count": 178,
   "metadata": {},
   "outputs": [
    {
     "output_type": "execute_result",
     "data": {
      "text/plain": [
       "3016     0.175231\n",
       "8019     0.208883\n",
       "17524    0.201193\n",
       "2455     0.181493\n",
       "18938    0.065451\n",
       "           ...   \n",
       "11311    0.061555\n",
       "11802    0.267626\n",
       "16400    0.222780\n",
       "11237    0.195635\n",
       "17272    0.209172\n",
       "Length: 3266, dtype: float64"
      ]
     },
     "metadata": {},
     "execution_count": 178
    }
   ],
   "source": [
    "y_pred_proba = hasil_train.predict(sm.add_constant(X_test))\n",
    "y_pred_proba"
   ]
  },
  {
   "cell_type": "code",
   "execution_count": 179,
   "metadata": {},
   "outputs": [
    {
     "output_type": "execute_result",
     "data": {
      "text/plain": [
       "array([0, 0, 0, ..., 0, 0, 0])"
      ]
     },
     "metadata": {},
     "execution_count": 179
    }
   ],
   "source": [
    "y_pred_class = np.where(y_pred_proba>0.5,1,0)\n",
    "y_pred_class"
   ]
  },
  {
   "cell_type": "code",
   "execution_count": 180,
   "metadata": {},
   "outputs": [
    {
     "output_type": "stream",
     "name": "stdout",
     "text": [
      "Akurasi Model Adalah :  76.82\n"
     ]
    }
   ],
   "source": [
    "print('Akurasi Model Adalah : ', round(accuracy_score(y_test,y_pred_class)*100,2))"
   ]
  },
  {
   "cell_type": "code",
   "execution_count": 181,
   "metadata": {},
   "outputs": [],
   "source": [
    "baru = data_dummy.sample(100)"
   ]
  },
  {
   "cell_type": "code",
   "execution_count": 182,
   "metadata": {},
   "outputs": [
    {
     "output_type": "execute_result",
     "data": {
      "text/plain": [
       "       training_hours  target  relevent_experience_No relevent experience  \\\n",
       "10876              35     0.0                                           1   \n",
       "6883                5     1.0                                           1   \n",
       "15880              78     1.0                                           1   \n",
       "7165               98     0.0                                           0   \n",
       "3392               15     1.0                                           1   \n",
       "...               ...     ...                                         ...   \n",
       "6129               84     0.0                                           0   \n",
       "2551               11     1.0                                           0   \n",
       "10955              73     0.0                                           0   \n",
       "8607               33     1.0                                           0   \n",
       "449               143     0.0                                           0   \n",
       "\n",
       "       enrolled_university_Part time course  \\\n",
       "10876                                     0   \n",
       "6883                                      0   \n",
       "15880                                     0   \n",
       "7165                                      0   \n",
       "3392                                      0   \n",
       "...                                     ...   \n",
       "6129                                      0   \n",
       "2551                                      0   \n",
       "10955                                     0   \n",
       "8607                                      0   \n",
       "449                                       0   \n",
       "\n",
       "       enrolled_university_no_enrollment  education_level_High School  \\\n",
       "10876                                  0                            0   \n",
       "6883                                   1                            0   \n",
       "15880                                  0                            0   \n",
       "7165                                   1                            0   \n",
       "3392                                   0                            0   \n",
       "...                                  ...                          ...   \n",
       "6129                                   1                            0   \n",
       "2551                                   1                            0   \n",
       "10955                                  1                            0   \n",
       "8607                                   1                            0   \n",
       "449                                    1                            0   \n",
       "\n",
       "       education_level_Masters  education_level_Phd  \\\n",
       "10876                        1                    0   \n",
       "6883                         0                    0   \n",
       "15880                        0                    0   \n",
       "7165                         1                    0   \n",
       "3392                         0                    0   \n",
       "...                        ...                  ...   \n",
       "6129                         0                    0   \n",
       "2551                         0                    0   \n",
       "10955                        0                    0   \n",
       "8607                         0                    0   \n",
       "449                          0                    0   \n",
       "\n",
       "       education_level_Primary School  education_level_Unknown  ...  \\\n",
       "10876                               0                        0  ...   \n",
       "6883                                0                        0  ...   \n",
       "15880                               0                        0  ...   \n",
       "7165                                0                        0  ...   \n",
       "3392                                0                        0  ...   \n",
       "...                               ...                      ...  ...   \n",
       "6129                                0                        1  ...   \n",
       "2551                                0                        0  ...   \n",
       "10955                               0                        0  ...   \n",
       "8607                                0                        0  ...   \n",
       "449                                 0                        0  ...   \n",
       "\n",
       "       experience_20  experience_3  experience_4  experience_5  experience_6  \\\n",
       "10876              0             0             0             0             0   \n",
       "6883               0             0             0             0             0   \n",
       "15880              0             1             0             0             0   \n",
       "7165               0             0             0             0             0   \n",
       "3392               0             0             0             0             0   \n",
       "...              ...           ...           ...           ...           ...   \n",
       "6129               0             0             0             1             0   \n",
       "2551               0             0             0             0             1   \n",
       "10955              0             0             1             0             0   \n",
       "8607               0             0             1             0             0   \n",
       "449                0             0             0             0             0   \n",
       "\n",
       "       experience_7  experience_8  experience_9  experience_<1  experience_>20  \n",
       "10876             0             1             0              0               0  \n",
       "6883              0             0             0              0               0  \n",
       "15880             0             0             0              0               0  \n",
       "7165              0             0             0              0               1  \n",
       "3392              0             0             0              1               0  \n",
       "...             ...           ...           ...            ...             ...  \n",
       "6129              0             0             0              0               0  \n",
       "2551              0             0             0              0               0  \n",
       "10955             0             0             0              0               0  \n",
       "8607              0             0             0              0               0  \n",
       "449               0             0             0              0               0  \n",
       "\n",
       "[100 rows x 36 columns]"
      ],
      "text/html": "<div>\n<style scoped>\n    .dataframe tbody tr th:only-of-type {\n        vertical-align: middle;\n    }\n\n    .dataframe tbody tr th {\n        vertical-align: top;\n    }\n\n    .dataframe thead th {\n        text-align: right;\n    }\n</style>\n<table border=\"1\" class=\"dataframe\">\n  <thead>\n    <tr style=\"text-align: right;\">\n      <th></th>\n      <th>training_hours</th>\n      <th>target</th>\n      <th>relevent_experience_No relevent experience</th>\n      <th>enrolled_university_Part time course</th>\n      <th>enrolled_university_no_enrollment</th>\n      <th>education_level_High School</th>\n      <th>education_level_Masters</th>\n      <th>education_level_Phd</th>\n      <th>education_level_Primary School</th>\n      <th>education_level_Unknown</th>\n      <th>...</th>\n      <th>experience_20</th>\n      <th>experience_3</th>\n      <th>experience_4</th>\n      <th>experience_5</th>\n      <th>experience_6</th>\n      <th>experience_7</th>\n      <th>experience_8</th>\n      <th>experience_9</th>\n      <th>experience_&lt;1</th>\n      <th>experience_&gt;20</th>\n    </tr>\n  </thead>\n  <tbody>\n    <tr>\n      <th>10876</th>\n      <td>35</td>\n      <td>0.0</td>\n      <td>1</td>\n      <td>0</td>\n      <td>0</td>\n      <td>0</td>\n      <td>1</td>\n      <td>0</td>\n      <td>0</td>\n      <td>0</td>\n      <td>...</td>\n      <td>0</td>\n      <td>0</td>\n      <td>0</td>\n      <td>0</td>\n      <td>0</td>\n      <td>0</td>\n      <td>1</td>\n      <td>0</td>\n      <td>0</td>\n      <td>0</td>\n    </tr>\n    <tr>\n      <th>6883</th>\n      <td>5</td>\n      <td>1.0</td>\n      <td>1</td>\n      <td>0</td>\n      <td>1</td>\n      <td>0</td>\n      <td>0</td>\n      <td>0</td>\n      <td>0</td>\n      <td>0</td>\n      <td>...</td>\n      <td>0</td>\n      <td>0</td>\n      <td>0</td>\n      <td>0</td>\n      <td>0</td>\n      <td>0</td>\n      <td>0</td>\n      <td>0</td>\n      <td>0</td>\n      <td>0</td>\n    </tr>\n    <tr>\n      <th>15880</th>\n      <td>78</td>\n      <td>1.0</td>\n      <td>1</td>\n      <td>0</td>\n      <td>0</td>\n      <td>0</td>\n      <td>0</td>\n      <td>0</td>\n      <td>0</td>\n      <td>0</td>\n      <td>...</td>\n      <td>0</td>\n      <td>1</td>\n      <td>0</td>\n      <td>0</td>\n      <td>0</td>\n      <td>0</td>\n      <td>0</td>\n      <td>0</td>\n      <td>0</td>\n      <td>0</td>\n    </tr>\n    <tr>\n      <th>7165</th>\n      <td>98</td>\n      <td>0.0</td>\n      <td>0</td>\n      <td>0</td>\n      <td>1</td>\n      <td>0</td>\n      <td>1</td>\n      <td>0</td>\n      <td>0</td>\n      <td>0</td>\n      <td>...</td>\n      <td>0</td>\n      <td>0</td>\n      <td>0</td>\n      <td>0</td>\n      <td>0</td>\n      <td>0</td>\n      <td>0</td>\n      <td>0</td>\n      <td>0</td>\n      <td>1</td>\n    </tr>\n    <tr>\n      <th>3392</th>\n      <td>15</td>\n      <td>1.0</td>\n      <td>1</td>\n      <td>0</td>\n      <td>0</td>\n      <td>0</td>\n      <td>0</td>\n      <td>0</td>\n      <td>0</td>\n      <td>0</td>\n      <td>...</td>\n      <td>0</td>\n      <td>0</td>\n      <td>0</td>\n      <td>0</td>\n      <td>0</td>\n      <td>0</td>\n      <td>0</td>\n      <td>0</td>\n      <td>1</td>\n      <td>0</td>\n    </tr>\n    <tr>\n      <th>...</th>\n      <td>...</td>\n      <td>...</td>\n      <td>...</td>\n      <td>...</td>\n      <td>...</td>\n      <td>...</td>\n      <td>...</td>\n      <td>...</td>\n      <td>...</td>\n      <td>...</td>\n      <td>...</td>\n      <td>...</td>\n      <td>...</td>\n      <td>...</td>\n      <td>...</td>\n      <td>...</td>\n      <td>...</td>\n      <td>...</td>\n      <td>...</td>\n      <td>...</td>\n      <td>...</td>\n    </tr>\n    <tr>\n      <th>6129</th>\n      <td>84</td>\n      <td>0.0</td>\n      <td>0</td>\n      <td>0</td>\n      <td>1</td>\n      <td>0</td>\n      <td>0</td>\n      <td>0</td>\n      <td>0</td>\n      <td>1</td>\n      <td>...</td>\n      <td>0</td>\n      <td>0</td>\n      <td>0</td>\n      <td>1</td>\n      <td>0</td>\n      <td>0</td>\n      <td>0</td>\n      <td>0</td>\n      <td>0</td>\n      <td>0</td>\n    </tr>\n    <tr>\n      <th>2551</th>\n      <td>11</td>\n      <td>1.0</td>\n      <td>0</td>\n      <td>0</td>\n      <td>1</td>\n      <td>0</td>\n      <td>0</td>\n      <td>0</td>\n      <td>0</td>\n      <td>0</td>\n      <td>...</td>\n      <td>0</td>\n      <td>0</td>\n      <td>0</td>\n      <td>0</td>\n      <td>1</td>\n      <td>0</td>\n      <td>0</td>\n      <td>0</td>\n      <td>0</td>\n      <td>0</td>\n    </tr>\n    <tr>\n      <th>10955</th>\n      <td>73</td>\n      <td>0.0</td>\n      <td>0</td>\n      <td>0</td>\n      <td>1</td>\n      <td>0</td>\n      <td>0</td>\n      <td>0</td>\n      <td>0</td>\n      <td>0</td>\n      <td>...</td>\n      <td>0</td>\n      <td>0</td>\n      <td>1</td>\n      <td>0</td>\n      <td>0</td>\n      <td>0</td>\n      <td>0</td>\n      <td>0</td>\n      <td>0</td>\n      <td>0</td>\n    </tr>\n    <tr>\n      <th>8607</th>\n      <td>33</td>\n      <td>1.0</td>\n      <td>0</td>\n      <td>0</td>\n      <td>1</td>\n      <td>0</td>\n      <td>0</td>\n      <td>0</td>\n      <td>0</td>\n      <td>0</td>\n      <td>...</td>\n      <td>0</td>\n      <td>0</td>\n      <td>1</td>\n      <td>0</td>\n      <td>0</td>\n      <td>0</td>\n      <td>0</td>\n      <td>0</td>\n      <td>0</td>\n      <td>0</td>\n    </tr>\n    <tr>\n      <th>449</th>\n      <td>143</td>\n      <td>0.0</td>\n      <td>0</td>\n      <td>0</td>\n      <td>1</td>\n      <td>0</td>\n      <td>0</td>\n      <td>0</td>\n      <td>0</td>\n      <td>0</td>\n      <td>...</td>\n      <td>0</td>\n      <td>0</td>\n      <td>0</td>\n      <td>0</td>\n      <td>0</td>\n      <td>0</td>\n      <td>0</td>\n      <td>0</td>\n      <td>0</td>\n      <td>0</td>\n    </tr>\n  </tbody>\n</table>\n<p>100 rows × 36 columns</p>\n</div>"
     },
     "metadata": {},
     "execution_count": 182
    }
   ],
   "source": [
    "baru"
   ]
  },
  {
   "cell_type": "code",
   "execution_count": 183,
   "metadata": {},
   "outputs": [],
   "source": [
    "baru.drop('target', axis = 1, inplace=True)"
   ]
  },
  {
   "cell_type": "code",
   "execution_count": 184,
   "metadata": {},
   "outputs": [
    {
     "output_type": "execute_result",
     "data": {
      "text/plain": [
       "       training_hours  relevent_experience_No relevent experience  \\\n",
       "10876              35                                           1   \n",
       "6883                5                                           1   \n",
       "15880              78                                           1   \n",
       "7165               98                                           0   \n",
       "3392               15                                           1   \n",
       "...               ...                                         ...   \n",
       "6129               84                                           0   \n",
       "2551               11                                           0   \n",
       "10955              73                                           0   \n",
       "8607               33                                           0   \n",
       "449               143                                           0   \n",
       "\n",
       "       enrolled_university_Part time course  \\\n",
       "10876                                     0   \n",
       "6883                                      0   \n",
       "15880                                     0   \n",
       "7165                                      0   \n",
       "3392                                      0   \n",
       "...                                     ...   \n",
       "6129                                      0   \n",
       "2551                                      0   \n",
       "10955                                     0   \n",
       "8607                                      0   \n",
       "449                                       0   \n",
       "\n",
       "       enrolled_university_no_enrollment  education_level_High School  \\\n",
       "10876                                  0                            0   \n",
       "6883                                   1                            0   \n",
       "15880                                  0                            0   \n",
       "7165                                   1                            0   \n",
       "3392                                   0                            0   \n",
       "...                                  ...                          ...   \n",
       "6129                                   1                            0   \n",
       "2551                                   1                            0   \n",
       "10955                                  1                            0   \n",
       "8607                                   1                            0   \n",
       "449                                    1                            0   \n",
       "\n",
       "       education_level_Masters  education_level_Phd  \\\n",
       "10876                        1                    0   \n",
       "6883                         0                    0   \n",
       "15880                        0                    0   \n",
       "7165                         1                    0   \n",
       "3392                         0                    0   \n",
       "...                        ...                  ...   \n",
       "6129                         0                    0   \n",
       "2551                         0                    0   \n",
       "10955                        0                    0   \n",
       "8607                         0                    0   \n",
       "449                          0                    0   \n",
       "\n",
       "       education_level_Primary School  education_level_Unknown  \\\n",
       "10876                               0                        0   \n",
       "6883                                0                        0   \n",
       "15880                               0                        0   \n",
       "7165                                0                        0   \n",
       "3392                                0                        0   \n",
       "...                               ...                      ...   \n",
       "6129                                0                        1   \n",
       "2551                                0                        0   \n",
       "10955                               0                        0   \n",
       "8607                                0                        0   \n",
       "449                                 0                        0   \n",
       "\n",
       "       major_discipline_Business Degree  ...  experience_20  experience_3  \\\n",
       "10876                                 0  ...              0             0   \n",
       "6883                                  0  ...              0             0   \n",
       "15880                                 0  ...              0             1   \n",
       "7165                                  0  ...              0             0   \n",
       "3392                                  0  ...              0             0   \n",
       "...                                 ...  ...            ...           ...   \n",
       "6129                                  0  ...              0             0   \n",
       "2551                                  0  ...              0             0   \n",
       "10955                                 0  ...              0             0   \n",
       "8607                                  0  ...              0             0   \n",
       "449                                   0  ...              0             0   \n",
       "\n",
       "       experience_4  experience_5  experience_6  experience_7  experience_8  \\\n",
       "10876             0             0             0             0             1   \n",
       "6883              0             0             0             0             0   \n",
       "15880             0             0             0             0             0   \n",
       "7165              0             0             0             0             0   \n",
       "3392              0             0             0             0             0   \n",
       "...             ...           ...           ...           ...           ...   \n",
       "6129              0             1             0             0             0   \n",
       "2551              0             0             1             0             0   \n",
       "10955             1             0             0             0             0   \n",
       "8607              1             0             0             0             0   \n",
       "449               0             0             0             0             0   \n",
       "\n",
       "       experience_9  experience_<1  experience_>20  \n",
       "10876             0              0               0  \n",
       "6883              0              0               0  \n",
       "15880             0              0               0  \n",
       "7165              0              0               1  \n",
       "3392              0              1               0  \n",
       "...             ...            ...             ...  \n",
       "6129              0              0               0  \n",
       "2551              0              0               0  \n",
       "10955             0              0               0  \n",
       "8607              0              0               0  \n",
       "449               0              0               0  \n",
       "\n",
       "[100 rows x 35 columns]"
      ],
      "text/html": "<div>\n<style scoped>\n    .dataframe tbody tr th:only-of-type {\n        vertical-align: middle;\n    }\n\n    .dataframe tbody tr th {\n        vertical-align: top;\n    }\n\n    .dataframe thead th {\n        text-align: right;\n    }\n</style>\n<table border=\"1\" class=\"dataframe\">\n  <thead>\n    <tr style=\"text-align: right;\">\n      <th></th>\n      <th>training_hours</th>\n      <th>relevent_experience_No relevent experience</th>\n      <th>enrolled_university_Part time course</th>\n      <th>enrolled_university_no_enrollment</th>\n      <th>education_level_High School</th>\n      <th>education_level_Masters</th>\n      <th>education_level_Phd</th>\n      <th>education_level_Primary School</th>\n      <th>education_level_Unknown</th>\n      <th>major_discipline_Business Degree</th>\n      <th>...</th>\n      <th>experience_20</th>\n      <th>experience_3</th>\n      <th>experience_4</th>\n      <th>experience_5</th>\n      <th>experience_6</th>\n      <th>experience_7</th>\n      <th>experience_8</th>\n      <th>experience_9</th>\n      <th>experience_&lt;1</th>\n      <th>experience_&gt;20</th>\n    </tr>\n  </thead>\n  <tbody>\n    <tr>\n      <th>10876</th>\n      <td>35</td>\n      <td>1</td>\n      <td>0</td>\n      <td>0</td>\n      <td>0</td>\n      <td>1</td>\n      <td>0</td>\n      <td>0</td>\n      <td>0</td>\n      <td>0</td>\n      <td>...</td>\n      <td>0</td>\n      <td>0</td>\n      <td>0</td>\n      <td>0</td>\n      <td>0</td>\n      <td>0</td>\n      <td>1</td>\n      <td>0</td>\n      <td>0</td>\n      <td>0</td>\n    </tr>\n    <tr>\n      <th>6883</th>\n      <td>5</td>\n      <td>1</td>\n      <td>0</td>\n      <td>1</td>\n      <td>0</td>\n      <td>0</td>\n      <td>0</td>\n      <td>0</td>\n      <td>0</td>\n      <td>0</td>\n      <td>...</td>\n      <td>0</td>\n      <td>0</td>\n      <td>0</td>\n      <td>0</td>\n      <td>0</td>\n      <td>0</td>\n      <td>0</td>\n      <td>0</td>\n      <td>0</td>\n      <td>0</td>\n    </tr>\n    <tr>\n      <th>15880</th>\n      <td>78</td>\n      <td>1</td>\n      <td>0</td>\n      <td>0</td>\n      <td>0</td>\n      <td>0</td>\n      <td>0</td>\n      <td>0</td>\n      <td>0</td>\n      <td>0</td>\n      <td>...</td>\n      <td>0</td>\n      <td>1</td>\n      <td>0</td>\n      <td>0</td>\n      <td>0</td>\n      <td>0</td>\n      <td>0</td>\n      <td>0</td>\n      <td>0</td>\n      <td>0</td>\n    </tr>\n    <tr>\n      <th>7165</th>\n      <td>98</td>\n      <td>0</td>\n      <td>0</td>\n      <td>1</td>\n      <td>0</td>\n      <td>1</td>\n      <td>0</td>\n      <td>0</td>\n      <td>0</td>\n      <td>0</td>\n      <td>...</td>\n      <td>0</td>\n      <td>0</td>\n      <td>0</td>\n      <td>0</td>\n      <td>0</td>\n      <td>0</td>\n      <td>0</td>\n      <td>0</td>\n      <td>0</td>\n      <td>1</td>\n    </tr>\n    <tr>\n      <th>3392</th>\n      <td>15</td>\n      <td>1</td>\n      <td>0</td>\n      <td>0</td>\n      <td>0</td>\n      <td>0</td>\n      <td>0</td>\n      <td>0</td>\n      <td>0</td>\n      <td>0</td>\n      <td>...</td>\n      <td>0</td>\n      <td>0</td>\n      <td>0</td>\n      <td>0</td>\n      <td>0</td>\n      <td>0</td>\n      <td>0</td>\n      <td>0</td>\n      <td>1</td>\n      <td>0</td>\n    </tr>\n    <tr>\n      <th>...</th>\n      <td>...</td>\n      <td>...</td>\n      <td>...</td>\n      <td>...</td>\n      <td>...</td>\n      <td>...</td>\n      <td>...</td>\n      <td>...</td>\n      <td>...</td>\n      <td>...</td>\n      <td>...</td>\n      <td>...</td>\n      <td>...</td>\n      <td>...</td>\n      <td>...</td>\n      <td>...</td>\n      <td>...</td>\n      <td>...</td>\n      <td>...</td>\n      <td>...</td>\n      <td>...</td>\n    </tr>\n    <tr>\n      <th>6129</th>\n      <td>84</td>\n      <td>0</td>\n      <td>0</td>\n      <td>1</td>\n      <td>0</td>\n      <td>0</td>\n      <td>0</td>\n      <td>0</td>\n      <td>1</td>\n      <td>0</td>\n      <td>...</td>\n      <td>0</td>\n      <td>0</td>\n      <td>0</td>\n      <td>1</td>\n      <td>0</td>\n      <td>0</td>\n      <td>0</td>\n      <td>0</td>\n      <td>0</td>\n      <td>0</td>\n    </tr>\n    <tr>\n      <th>2551</th>\n      <td>11</td>\n      <td>0</td>\n      <td>0</td>\n      <td>1</td>\n      <td>0</td>\n      <td>0</td>\n      <td>0</td>\n      <td>0</td>\n      <td>0</td>\n      <td>0</td>\n      <td>...</td>\n      <td>0</td>\n      <td>0</td>\n      <td>0</td>\n      <td>0</td>\n      <td>1</td>\n      <td>0</td>\n      <td>0</td>\n      <td>0</td>\n      <td>0</td>\n      <td>0</td>\n    </tr>\n    <tr>\n      <th>10955</th>\n      <td>73</td>\n      <td>0</td>\n      <td>0</td>\n      <td>1</td>\n      <td>0</td>\n      <td>0</td>\n      <td>0</td>\n      <td>0</td>\n      <td>0</td>\n      <td>0</td>\n      <td>...</td>\n      <td>0</td>\n      <td>0</td>\n      <td>1</td>\n      <td>0</td>\n      <td>0</td>\n      <td>0</td>\n      <td>0</td>\n      <td>0</td>\n      <td>0</td>\n      <td>0</td>\n    </tr>\n    <tr>\n      <th>8607</th>\n      <td>33</td>\n      <td>0</td>\n      <td>0</td>\n      <td>1</td>\n      <td>0</td>\n      <td>0</td>\n      <td>0</td>\n      <td>0</td>\n      <td>0</td>\n      <td>0</td>\n      <td>...</td>\n      <td>0</td>\n      <td>0</td>\n      <td>1</td>\n      <td>0</td>\n      <td>0</td>\n      <td>0</td>\n      <td>0</td>\n      <td>0</td>\n      <td>0</td>\n      <td>0</td>\n    </tr>\n    <tr>\n      <th>449</th>\n      <td>143</td>\n      <td>0</td>\n      <td>0</td>\n      <td>1</td>\n      <td>0</td>\n      <td>0</td>\n      <td>0</td>\n      <td>0</td>\n      <td>0</td>\n      <td>0</td>\n      <td>...</td>\n      <td>0</td>\n      <td>0</td>\n      <td>0</td>\n      <td>0</td>\n      <td>0</td>\n      <td>0</td>\n      <td>0</td>\n      <td>0</td>\n      <td>0</td>\n      <td>0</td>\n    </tr>\n  </tbody>\n</table>\n<p>100 rows × 35 columns</p>\n</div>"
     },
     "metadata": {},
     "execution_count": 184
    }
   ],
   "source": [
    "baru"
   ]
  },
  {
   "cell_type": "code",
   "execution_count": 185,
   "metadata": {},
   "outputs": [
    {
     "output_type": "execute_result",
     "data": {
      "text/plain": [
       "Index(['training_hours', 'relevent_experience_No relevent experience',\n",
       "       'enrolled_university_Part time course',\n",
       "       'enrolled_university_no_enrollment', 'education_level_High School',\n",
       "       'education_level_Masters', 'education_level_Phd',\n",
       "       'education_level_Primary School', 'education_level_Unknown',\n",
       "       'major_discipline_Business Degree', 'major_discipline_Humanities',\n",
       "       'major_discipline_No Major', 'major_discipline_Other',\n",
       "       'major_discipline_STEM', 'experience_10', 'experience_11',\n",
       "       'experience_12', 'experience_13', 'experience_14', 'experience_15',\n",
       "       'experience_16', 'experience_17', 'experience_18', 'experience_19',\n",
       "       'experience_2', 'experience_20', 'experience_3', 'experience_4',\n",
       "       'experience_5', 'experience_6', 'experience_7', 'experience_8',\n",
       "       'experience_9', 'experience_<1', 'experience_>20'],\n",
       "      dtype='object')"
      ]
     },
     "metadata": {},
     "execution_count": 185
    }
   ],
   "source": [
    "baru.columns"
   ]
  },
  {
   "cell_type": "code",
   "execution_count": 186,
   "metadata": {},
   "outputs": [],
   "source": [
    "pred_data_baru = hasil_train.predict(sm.add_constant(baru[['training_hours', 'relevent_experience_No relevent experience',\n",
    "       'enrolled_university_Part time course',\n",
    "       'enrolled_university_no_enrollment', 'education_level_High School',\n",
    "       'education_level_Masters', 'education_level_Phd',\n",
    "       'education_level_Primary School', 'education_level_Unknown']]))"
   ]
  },
  {
   "cell_type": "code",
   "execution_count": 187,
   "metadata": {},
   "outputs": [
    {
     "output_type": "execute_result",
     "data": {
      "text/plain": [
       "10876    0.399636\n",
       "6883     0.330983\n",
       "15880    0.460750\n",
       "7165     0.166809\n",
       "3392     0.474453\n",
       "           ...   \n",
       "6129     0.106675\n",
       "2551     0.223538\n",
       "10955    0.214276\n",
       "8607     0.220219\n",
       "449      0.204158\n",
       "Length: 100, dtype: float64"
      ]
     },
     "metadata": {},
     "execution_count": 187
    }
   ],
   "source": [
    "pred_data_baru"
   ]
  },
  {
   "cell_type": "code",
   "execution_count": null,
   "metadata": {},
   "outputs": [],
   "source": []
  }
 ]
}