{
 "metadata": {
  "language_info": {
   "codemirror_mode": {
    "name": "ipython",
    "version": 3
   },
   "file_extension": ".py",
   "mimetype": "text/x-python",
   "name": "python",
   "nbconvert_exporter": "python",
   "pygments_lexer": "ipython3",
   "version": "3.9.2-final"
  },
  "orig_nbformat": 2,
  "kernelspec": {
   "name": "python3",
   "display_name": "Python 3.9.2 64-bit",
   "metadata": {
    "interpreter": {
     "hash": "5f049ec40c8e1c362c5f7bfa23320edbf94c564ac4956e50293b2ff0f15f7d7f"
    }
   }
  }
 },
 "nbformat": 4,
 "nbformat_minor": 2,
 "cells": [
  {
   "source": [
    "1. Buatlah 1 array 2 dimensi, 1 array 1 dimensi"
   ],
   "cell_type": "markdown",
   "metadata": {}
  },
  {
   "cell_type": "code",
   "execution_count": 1,
   "metadata": {},
   "outputs": [],
   "source": [
    "import numpy as np"
   ]
  },
  {
   "cell_type": "code",
   "execution_count": 15,
   "metadata": {},
   "outputs": [
    {
     "output_type": "execute_result",
     "data": {
      "text/plain": [
       "array([[ 1,  2,  3,  4],\n",
       "       [ 5,  6,  7,  8],\n",
       "       [ 9, 10, 11, 12]])"
      ]
     },
     "metadata": {},
     "execution_count": 15
    }
   ],
   "source": [
    "arr1 = np.arange(1,13).reshape(3,4)\n",
    "arr1"
   ]
  },
  {
   "cell_type": "code",
   "execution_count": 18,
   "metadata": {},
   "outputs": [
    {
     "output_type": "execute_result",
     "data": {
      "text/plain": [
       "array([1, 2, 3, 4])"
      ]
     },
     "metadata": {},
     "execution_count": 18
    }
   ],
   "source": [
    "arr2 = np.arange(1,5)\n",
    "arr2"
   ]
  },
  {
   "source": [
    "2. Buat sebuah variabel baru dimana nilainya adalah pangkat dari array1**array2 yg dibuat sebelumnya\n",
    "3. buatlah array ketiga yg berisikan bilangan bulat random dr 1 hingga 10, dimensi bebas\n",
    "4. buat sebuah variabel baru yg merupakan gabungan dr hasil perkalian array pada no 2 digabungkan dengan array pada no 1"
   ],
   "cell_type": "markdown",
   "metadata": {}
  },
  {
   "cell_type": "code",
   "execution_count": 19,
   "metadata": {},
   "outputs": [
    {
     "output_type": "execute_result",
     "data": {
      "text/plain": [
       "array([[    1,     4,    27,   256],\n",
       "       [    5,    36,   343,  4096],\n",
       "       [    9,   100,  1331, 20736]], dtype=int32)"
      ]
     },
     "metadata": {},
     "execution_count": 19
    }
   ],
   "source": [
    "arr3 = arr1 **arr2\n",
    "arr3"
   ]
  },
  {
   "cell_type": "code",
   "execution_count": 12,
   "metadata": {},
   "outputs": [
    {
     "output_type": "execute_result",
     "data": {
      "text/plain": [
       "array([[1, 5, 7],\n",
       "       [5, 4, 1],\n",
       "       [6, 1, 2]])"
      ]
     },
     "metadata": {},
     "execution_count": 12
    }
   ],
   "source": [
    "arr4 = np.random.randint(1,10,size=(3,3))\n",
    "arr4"
   ]
  },
  {
   "cell_type": "code",
   "execution_count": 21,
   "metadata": {},
   "outputs": [
    {
     "output_type": "execute_result",
     "data": {
      "text/plain": [
       "array([[     1,      8,     81,   1024],\n",
       "       [    25,    216,   2401,  32768],\n",
       "       [    81,   1000,  14641, 248832]])"
      ]
     },
     "metadata": {},
     "execution_count": 21
    }
   ],
   "source": [
    "#NO 4\n",
    "arr5 = arr3 * arr1\n",
    "arr5\n"
   ]
  },
  {
   "source": [
    "5. coba ubah nilai dari final array tsb dgn kondisi \n",
    "- jika ada nilai yang <10 maka diubah menjadi nilai yg <10 dipangkatkan dgn 0\n",
    "- jika ada nilai yg >10 dan <20 maka nilainya tetap\n",
    "- jika ada nilai yang > 20 maka nilainya adalah akar dari nilai tsb"
   ],
   "cell_type": "markdown",
   "metadata": {}
  },
  {
   "cell_type": "code",
   "execution_count": 44,
   "metadata": {},
   "outputs": [
    {
     "output_type": "execute_result",
     "data": {
      "text/plain": [
       "(array([0, 0, 1, 1, 1, 1, 1, 1, 1, 1, 1, 1, 1, 1, 2, 2, 2, 2, 2, 2, 2, 2,\n",
       "        2, 2, 2, 2], dtype=int64),\n",
       " array([0, 0, 0, 0, 0, 0, 1, 1, 1, 1, 2, 2, 2, 2, 0, 0, 0, 0, 1, 1, 1, 1,\n",
       "        2, 2, 2, 2], dtype=int64),\n",
       " array([0, 1, 0, 1, 2, 3, 0, 1, 2, 3, 0, 1, 2, 3, 0, 1, 2, 3, 0, 1, 2, 3,\n",
       "        0, 1, 2, 3], dtype=int64))"
      ]
     },
     "metadata": {},
     "execution_count": 44
    }
   ],
   "source": [
    "# arr6 = np.where(arr5 < 10,arr5**0,arr5)\n",
    "# arr6 = np.where(arr5 < 10,arr5**0,arr5)\n",
    "# arr6 = np.where((arr5 > 20,arr5**0.5,arr5) & (arr5 < 10,arr5**0,arr5))\n",
    "arr6 = np.where(arr5 < 10,arr5**0,(np.where(arr5 <20,arr5,arr5**0.5)))\n",
    "arr6"
   ]
  },
  {
   "cell_type": "code",
   "execution_count": 46,
   "metadata": {},
   "outputs": [
    {
     "output_type": "execute_result",
     "data": {
      "text/plain": [
       "array([[     1,      8,     81,   1024],\n",
       "       [    25,    216,   2401,  32768],\n",
       "       [    81,   1000,  14641, 248832]])"
      ]
     },
     "metadata": {},
     "execution_count": 46
    }
   ],
   "source": [
    "arr5"
   ]
  },
  {
   "cell_type": "code",
   "execution_count": 58,
   "metadata": {},
   "outputs": [
    {
     "output_type": "execute_result",
     "data": {
      "text/plain": [
       "array([[0, 0, 0, 0],\n",
       "       [0, 0, 0, 0],\n",
       "       [0, 0, 0, 0]])"
      ]
     },
     "metadata": {},
     "execution_count": 58
    }
   ],
   "source": [
    "\n",
    "\n",
    "arr6 = np.where((arr5 > 10) & (arr5 <20), arr5, 0 )\n",
    "arr5\n",
    "arr6"
   ]
  },
  {
   "cell_type": "code",
   "execution_count": null,
   "metadata": {},
   "outputs": [],
   "source": []
  }
 ]
}