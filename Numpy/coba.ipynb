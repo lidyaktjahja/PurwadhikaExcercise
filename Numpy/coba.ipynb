{
 "metadata": {
  "language_info": {
   "codemirror_mode": {
    "name": "ipython",
    "version": 3
   },
   "file_extension": ".py",
   "mimetype": "text/x-python",
   "name": "python",
   "nbconvert_exporter": "python",
   "pygments_lexer": "ipython3",
   "version": "3.9.2-final"
  },
  "orig_nbformat": 2,
  "kernelspec": {
   "name": "python3",
   "display_name": "Python 3.9.2 64-bit",
   "metadata": {
    "interpreter": {
     "hash": "5f049ec40c8e1c362c5f7bfa23320edbf94c564ac4956e50293b2ff0f15f7d7f"
    }
   }
  }
 },
 "nbformat": 4,
 "nbformat_minor": 2,
 "cells": [
  {
   "cell_type": "code",
   "execution_count": 4,
   "source": [
    "import pandas as pd \r\n",
    "import numpy as np"
   ],
   "outputs": [],
   "metadata": {}
  },
  {
   "cell_type": "code",
   "execution_count": 5,
   "source": [
    "np.arange(0,10)"
   ],
   "outputs": [
    {
     "output_type": "execute_result",
     "data": {
      "text/plain": [
       "array([0, 1, 2, 3, 4, 5, 6, 7, 8, 9])"
      ]
     },
     "metadata": {},
     "execution_count": 5
    }
   ],
   "metadata": {}
  },
  {
   "cell_type": "code",
   "execution_count": 6,
   "source": [
    "listku = [1,2,3,4,5]\r\n",
    "# listku = [1,2,3,4,5]+1 error\r\n",
    "listku"
   ],
   "outputs": [
    {
     "output_type": "execute_result",
     "data": {
      "text/plain": [
       "[1, 2, 3, 4, 5]"
      ]
     },
     "metadata": {},
     "execution_count": 6
    }
   ],
   "metadata": {}
  },
  {
   "cell_type": "code",
   "execution_count": 8,
   "source": [
    "np.array(listku) #1d array\r\n",
    "np.array(listku) +1"
   ],
   "outputs": [
    {
     "output_type": "execute_result",
     "data": {
      "text/plain": [
       "array([2, 3, 4, 5, 6])"
      ]
     },
     "metadata": {},
     "execution_count": 8
    }
   ],
   "metadata": {}
  },
  {
   "cell_type": "markdown",
   "source": [
    "Array 2D"
   ],
   "metadata": {}
  },
  {
   "cell_type": "code",
   "execution_count": 11,
   "source": [
    "list2d = [[1,2,3],[4,5,6],[7,8,9]]\r\n",
    "list2d"
   ],
   "outputs": [
    {
     "output_type": "execute_result",
     "data": {
      "text/plain": [
       "[[1, 2, 3], [4, 5, 6], [7, 8, 9]]"
      ]
     },
     "metadata": {},
     "execution_count": 11
    }
   ],
   "metadata": {}
  },
  {
   "cell_type": "code",
   "execution_count": 12,
   "source": [
    "np.array(list2d)"
   ],
   "outputs": [
    {
     "output_type": "execute_result",
     "data": {
      "text/plain": [
       "array([[1, 2, 3],\n",
       "       [4, 5, 6],\n",
       "       [7, 8, 9]])"
      ]
     },
     "metadata": {},
     "execution_count": 12
    }
   ],
   "metadata": {}
  },
  {
   "cell_type": "markdown",
   "source": [
    "#List 3D"
   ],
   "metadata": {}
  },
  {
   "cell_type": "code",
   "execution_count": 14,
   "source": [
    "list3d = [[[1,2,3],[4,5,6],[7,8,9]],[[9,8,7],[8,7,6],[6,5,4]] ]\r\n",
    "list3d"
   ],
   "outputs": [
    {
     "output_type": "execute_result",
     "data": {
      "text/plain": [
       "[[[1, 2, 3], [4, 5, 6], [7, 8, 9]], [[9, 8, 7], [8, 7, 6], [6, 5, 4]]]"
      ]
     },
     "metadata": {},
     "execution_count": 14
    }
   ],
   "metadata": {}
  },
  {
   "cell_type": "code",
   "execution_count": 15,
   "source": [
    "np.array(list3d)"
   ],
   "outputs": [
    {
     "output_type": "execute_result",
     "data": {
      "text/plain": [
       "array([[[1, 2, 3],\n",
       "        [4, 5, 6],\n",
       "        [7, 8, 9]],\n",
       "\n",
       "       [[9, 8, 7],\n",
       "        [8, 7, 6],\n",
       "        [6, 5, 4]]])"
      ]
     },
     "metadata": {},
     "execution_count": 15
    }
   ],
   "metadata": {}
  },
  {
   "cell_type": "markdown",
   "source": [
    "#Numpy Arange"
   ],
   "metadata": {}
  },
  {
   "cell_type": "code",
   "execution_count": 18,
   "source": [
    "A = np.arange(20)\n",
    "A"
   ],
   "outputs": [
    {
     "output_type": "execute_result",
     "data": {
      "text/plain": [
       "array([ 0,  1,  2,  3,  4,  5,  6,  7,  8,  9, 10, 11, 12, 13, 14, 15, 16,\n",
       "       17, 18, 19])"
      ]
     },
     "metadata": {},
     "execution_count": 18
    }
   ],
   "metadata": {}
  },
  {
   "cell_type": "code",
   "execution_count": 19,
   "source": [
    "B = np.arange(1,21,2) #start, stop,step\n",
    "B"
   ],
   "outputs": [
    {
     "output_type": "execute_result",
     "data": {
      "text/plain": [
       "array([ 1,  3,  5,  7,  9, 11, 13, 15, 17, 19, 21])"
      ]
     },
     "metadata": {},
     "execution_count": 19
    }
   ],
   "metadata": {}
  },
  {
   "cell_type": "code",
   "execution_count": 21,
   "source": [
    "for i in np.arange(20):\n",
    "    print(i)"
   ],
   "outputs": [
    {
     "output_type": "stream",
     "name": "stdout",
     "text": [
      "0\n",
      "1\n",
      "2\n",
      "3\n",
      "4\n",
      "5\n",
      "6\n",
      "7\n",
      "8\n",
      "9\n",
      "10\n",
      "11\n",
      "12\n",
      "13\n",
      "14\n",
      "15\n",
      "16\n",
      "17\n",
      "18\n",
      "19\n"
     ]
    }
   ],
   "metadata": {}
  },
  {
   "cell_type": "code",
   "execution_count": null,
   "source": [
    "- range(start,stop,step) = menghasilkan list\n",
    "- arange(start,stop,step) = menghasilkan array"
   ],
   "outputs": [],
   "metadata": {}
  },
  {
   "cell_type": "markdown",
   "source": [
    "#Numpy Zero & Ones & Eye # dipakai untuk aljabar linear"
   ],
   "metadata": {}
  },
  {
   "cell_type": "code",
   "execution_count": 26,
   "source": [
    "np.zeros((5,5))"
   ],
   "outputs": [
    {
     "output_type": "execute_result",
     "data": {
      "text/plain": [
       "array([[0., 0., 0., 0., 0.],\n",
       "       [0., 0., 0., 0., 0.],\n",
       "       [0., 0., 0., 0., 0.],\n",
       "       [0., 0., 0., 0., 0.],\n",
       "       [0., 0., 0., 0., 0.]])"
      ]
     },
     "metadata": {},
     "execution_count": 26
    }
   ],
   "metadata": {}
  },
  {
   "cell_type": "code",
   "execution_count": 27,
   "source": [
    "np.ones(10)"
   ],
   "outputs": [
    {
     "output_type": "execute_result",
     "data": {
      "text/plain": [
       "array([1., 1., 1., 1., 1., 1., 1., 1., 1., 1.])"
      ]
     },
     "metadata": {},
     "execution_count": 27
    }
   ],
   "metadata": {}
  },
  {
   "cell_type": "code",
   "execution_count": 34,
   "source": [
    "np.ones((10,10))*10"
   ],
   "outputs": [
    {
     "output_type": "execute_result",
     "data": {
      "text/plain": [
       "array([[10., 10., 10., 10., 10., 10., 10., 10., 10., 10.],\n",
       "       [10., 10., 10., 10., 10., 10., 10., 10., 10., 10.],\n",
       "       [10., 10., 10., 10., 10., 10., 10., 10., 10., 10.],\n",
       "       [10., 10., 10., 10., 10., 10., 10., 10., 10., 10.],\n",
       "       [10., 10., 10., 10., 10., 10., 10., 10., 10., 10.],\n",
       "       [10., 10., 10., 10., 10., 10., 10., 10., 10., 10.],\n",
       "       [10., 10., 10., 10., 10., 10., 10., 10., 10., 10.],\n",
       "       [10., 10., 10., 10., 10., 10., 10., 10., 10., 10.],\n",
       "       [10., 10., 10., 10., 10., 10., 10., 10., 10., 10.],\n",
       "       [10., 10., 10., 10., 10., 10., 10., 10., 10., 10.]])"
      ]
     },
     "metadata": {},
     "execution_count": 34
    }
   ],
   "metadata": {}
  },
  {
   "cell_type": "code",
   "execution_count": 36,
   "source": [
    "np.eye(5)"
   ],
   "outputs": [
    {
     "output_type": "execute_result",
     "data": {
      "text/plain": [
       "array([[1., 0., 0., 0., 0.],\n",
       "       [0., 1., 0., 0., 0.],\n",
       "       [0., 0., 1., 0., 0.],\n",
       "       [0., 0., 0., 1., 0.],\n",
       "       [0., 0., 0., 0., 1.]])"
      ]
     },
     "metadata": {},
     "execution_count": 36
    }
   ],
   "metadata": {}
  },
  {
   "cell_type": "code",
   "execution_count": 37,
   "source": [
    "np.array(list2d) * np.eye(3)"
   ],
   "outputs": [
    {
     "output_type": "execute_result",
     "data": {
      "text/plain": [
       "array([[1., 0., 0.],\n",
       "       [0., 5., 0.],\n",
       "       [0., 0., 9.]])"
      ]
     },
     "metadata": {},
     "execution_count": 37
    }
   ],
   "metadata": {}
  },
  {
   "cell_type": "markdown",
   "source": [
    "#linspace"
   ],
   "metadata": {}
  },
  {
   "cell_type": "code",
   "execution_count": 42,
   "source": [
    "np.linspace(0,30,11)"
   ],
   "outputs": [
    {
     "output_type": "execute_result",
     "data": {
      "text/plain": [
       "array([ 0.,  3.,  6.,  9., 12., 15., 18., 21., 24., 27., 30.])"
      ]
     },
     "metadata": {},
     "execution_count": 42
    }
   ],
   "metadata": {}
  },
  {
   "cell_type": "code",
   "execution_count": 44,
   "source": [
    "#Random"
   ],
   "outputs": [],
   "metadata": {}
  },
  {
   "cell_type": "code",
   "execution_count": 45,
   "source": [
    "np.random.rand(5) #dr 0-1 sebanyak 5"
   ],
   "outputs": [
    {
     "output_type": "execute_result",
     "data": {
      "text/plain": [
       "array([0.75948634, 0.05959321, 0.04916331, 0.25389959, 0.49592665])"
      ]
     },
     "metadata": {},
     "execution_count": 45
    }
   ],
   "metadata": {}
  },
  {
   "cell_type": "code",
   "execution_count": 46,
   "source": [
    "np.random.rand(5,5)"
   ],
   "outputs": [
    {
     "output_type": "execute_result",
     "data": {
      "text/plain": [
       "array([[0.66521143, 0.37917664, 0.40604053, 0.99233629, 0.09487474],\n",
       "       [0.32818661, 0.47235221, 0.46324047, 0.90393724, 0.76557608],\n",
       "       [0.73975501, 0.20734341, 0.79280842, 0.66820426, 0.01579223],\n",
       "       [0.14863212, 0.85397956, 0.32027772, 0.37449111, 0.51917108],\n",
       "       [0.12933775, 0.45386832, 0.48760071, 0.49031438, 0.45995524]])"
      ]
     },
     "metadata": {},
     "execution_count": 46
    }
   ],
   "metadata": {}
  },
  {
   "cell_type": "code",
   "execution_count": 50,
   "source": [
    "np.random.randint(1,8,5)"
   ],
   "outputs": [
    {
     "output_type": "execute_result",
     "data": {
      "text/plain": [
       "array([6, 6, 4, 5, 1])"
      ]
     },
     "metadata": {},
     "execution_count": 50
    }
   ],
   "metadata": {}
  },
  {
   "cell_type": "code",
   "execution_count": 51,
   "source": [
    "np.random.rand(5,8)"
   ],
   "outputs": [
    {
     "output_type": "execute_result",
     "data": {
      "text/plain": [
       "array([[0.35575619, 0.97957934, 0.03288941, 0.07509171, 0.26158108,\n",
       "        0.72483882, 0.65698728, 0.11036397],\n",
       "       [0.55829548, 0.64270401, 0.54770999, 0.37638499, 0.89764063,\n",
       "        0.97109193, 0.58714984, 0.67652363],\n",
       "       [0.21431831, 0.46278073, 0.43191832, 0.10761972, 0.50045171,\n",
       "        0.01874511, 0.28656599, 0.23800254],\n",
       "       [0.92944404, 0.82776061, 0.27465337, 0.50513902, 0.57349762,\n",
       "        0.63822561, 0.02491103, 0.25048474],\n",
       "       [0.05978957, 0.79867772, 0.92018243, 0.19012562, 0.96418972,\n",
       "        0.57601792, 0.07146974, 0.99034591]])"
      ]
     },
     "metadata": {},
     "execution_count": 51
    }
   ],
   "metadata": {}
  },
  {
   "cell_type": "code",
   "execution_count": 52,
   "source": [
    "np.random.randn(10,10) #distribusi normal, jd ada nilai minus"
   ],
   "outputs": [
    {
     "output_type": "execute_result",
     "data": {
      "text/plain": [
       "array([[-0.3999784 ,  0.47644051, -0.87852385,  1.47990011, -0.85105441,\n",
       "         0.50242496, -1.26636526,  0.39078904, -0.23532976, -0.80534591],\n",
       "       [ 1.76215867,  0.18651218,  1.82988601,  0.98887709,  0.28779127,\n",
       "         0.42136319, -0.29652134, -0.36951067,  0.21045991, -0.70754427],\n",
       "       [ 0.85486924,  0.03656177,  0.15959092, -1.47508807,  0.20254636,\n",
       "        -0.9383827 ,  0.39381605,  0.39322275,  0.40130272,  0.88032873],\n",
       "       [ 1.06218586, -2.35802221, -1.26017763,  1.33474076,  0.06981333,\n",
       "         0.18038138, -0.19657303,  0.10126628, -0.93532586,  0.92092391],\n",
       "       [ 0.69167201, -1.44146519,  0.7501725 , -1.45040154, -0.71558018,\n",
       "         0.936177  , -1.43834085,  0.847715  ,  1.53432123,  0.65249912],\n",
       "       [ 0.23001783,  0.61340894,  1.28169318,  0.03499149, -0.1548523 ,\n",
       "         0.73393256, -0.13032029, -0.86052574, -0.31117871,  0.96487694],\n",
       "       [-0.23317779,  0.22571268,  0.74331742,  0.80225218,  0.74596424,\n",
       "         0.37110877, -0.68093646,  0.49606701, -0.82824473,  0.04097693],\n",
       "       [ 1.28166371,  0.34401393,  1.41006757, -1.23953398,  0.45222212,\n",
       "        -0.53803941, -0.34198536, -0.79959095, -0.86698266, -0.81931199],\n",
       "       [-0.55484782, -0.66718807, -0.32377725,  0.01568491, -1.15682007,\n",
       "        -0.35827673,  1.59030907,  0.35881525,  1.38444401, -1.03603158],\n",
       "       [ 0.05571534, -0.16657915,  0.71590444,  0.31429808, -0.51454764,\n",
       "        -0.5662522 , -0.89666282,  0.58767912, -1.52603355, -0.5725764 ]])"
      ]
     },
     "metadata": {},
     "execution_count": 52
    }
   ],
   "metadata": {}
  },
  {
   "cell_type": "markdown",
   "source": [
    "1. Bisa / tidak dibuat array dr list yg isinya : \n",
    "    - float semua\n",
    "    - integer semua\n",
    "    - boolean semua\n",
    "    - float + integer\n",
    "    - string\n",
    "    - string + float\n",
    "\n",
    "2. coba buat sebuah matrix yg berisikan angka dr hasil dari ((1/2*100+1.5)^1/2)\n",
    "3. kalikan hasil pada nomor 2 pada matrix identitas. Apakah hasilnya sama? Jika tidak jelaskan kenapa\n",
    "4. Bangkitkan dara random dari 0 sampai 1 sebanyak 100 yang terbentuk menjadi matrix namun bukan matrix (nxn) melainkan (mxn)\n",
    "5. Apakah bisa dibangkitkan nilai random integer dari rentang 0.5 hingga 100? Jika ya coba lakukan\n",
    "6. Bangkitkan data integer sebanyak x (inputan) dari n (inputan) hingga m (inputan)"
   ],
   "metadata": {}
  },
  {
   "cell_type": "code",
   "execution_count": 53,
   "source": [
    "np.linspace(0,5,10) #float semua"
   ],
   "outputs": [
    {
     "output_type": "execute_result",
     "data": {
      "text/plain": [
       "array([0.        , 0.55555556, 1.11111111, 1.66666667, 2.22222222,\n",
       "       2.77777778, 3.33333333, 3.88888889, 4.44444444, 5.        ])"
      ]
     },
     "metadata": {},
     "execution_count": 53
    }
   ],
   "metadata": {}
  },
  {
   "cell_type": "code",
   "execution_count": 58,
   "source": [
    "a = [1,2,1.2,1.3] #float semua\n",
    "np.array(a)"
   ],
   "outputs": [
    {
     "output_type": "execute_result",
     "data": {
      "text/plain": [
       "array([1. , 2. , 1.2, 1.3])"
      ]
     },
     "metadata": {},
     "execution_count": 58
    }
   ],
   "metadata": {}
  },
  {
   "cell_type": "code",
   "execution_count": 54,
   "source": [
    "np.random.randint(1,10,10) #integer semua"
   ],
   "outputs": [
    {
     "output_type": "execute_result",
     "data": {
      "text/plain": [
       "array([1, 8, 4, 5, 8, 5, 4, 7, 3, 8])"
      ]
     },
     "metadata": {},
     "execution_count": 54
    }
   ],
   "metadata": {}
  },
  {
   "cell_type": "code",
   "execution_count": 92,
   "source": [
    "a = [1,2,3] #integer semua\n",
    "np.array(a)"
   ],
   "outputs": [
    {
     "output_type": "execute_result",
     "data": {
      "text/plain": [
       "array([1, 2, 3])"
      ]
     },
     "metadata": {},
     "execution_count": 92
    }
   ],
   "metadata": {}
  },
  {
   "cell_type": "code",
   "execution_count": 57,
   "source": [
    "a = [True, False, True] #boolean semua\n",
    "np.array(a)"
   ],
   "outputs": [
    {
     "output_type": "execute_result",
     "data": {
      "text/plain": [
       "array([ True, False,  True])"
      ]
     },
     "metadata": {},
     "execution_count": 57
    }
   ],
   "metadata": {}
  },
  {
   "cell_type": "code",
   "execution_count": 56,
   "source": [
    "np.linspace(1,5,6) #tidak bisa float + integer tp float smua"
   ],
   "outputs": [
    {
     "output_type": "execute_result",
     "data": {
      "text/plain": [
       "array([1. , 1.8, 2.6, 3.4, 4.2, 5. ])"
      ]
     },
     "metadata": {},
     "execution_count": 56
    }
   ],
   "metadata": {}
  },
  {
   "cell_type": "code",
   "execution_count": 59,
   "source": [
    "a = [\"a\",\"b\",\"c\"] #string\n",
    "np.array(a)"
   ],
   "outputs": [
    {
     "output_type": "execute_result",
     "data": {
      "text/plain": [
       "array(['a', 'b', 'c'], dtype='<U1')"
      ]
     },
     "metadata": {},
     "execution_count": 59
    }
   ],
   "metadata": {}
  },
  {
   "cell_type": "code",
   "execution_count": 60,
   "source": [
    "a = [\"a\",\"b\",1.2,1.3] #string + float\n",
    "np.array(a)"
   ],
   "outputs": [
    {
     "output_type": "execute_result",
     "data": {
      "text/plain": [
       "array(['a', 'b', '1.2', '1.3'], dtype='<U32')"
      ]
     },
     "metadata": {},
     "execution_count": 60
    }
   ],
   "metadata": {}
  },
  {
   "cell_type": "code",
   "execution_count": 102,
   "source": [
    "np.ones((5,5)) * np.array((1/2*100+1.5)**1/2)\n"
   ],
   "outputs": [
    {
     "output_type": "execute_result",
     "data": {
      "text/plain": [
       "array([[25.75, 25.75, 25.75, 25.75, 25.75],\n",
       "       [25.75, 25.75, 25.75, 25.75, 25.75],\n",
       "       [25.75, 25.75, 25.75, 25.75, 25.75],\n",
       "       [25.75, 25.75, 25.75, 25.75, 25.75],\n",
       "       [25.75, 25.75, 25.75, 25.75, 25.75]])"
      ]
     },
     "metadata": {},
     "execution_count": 102
    }
   ],
   "metadata": {}
  },
  {
   "cell_type": "code",
   "execution_count": 105,
   "source": [
    "a = np.ones((5,5)) * np.array((1/2*100+1.5)**1/2)\n",
    "a * np.eye(5) "
   ],
   "outputs": [
    {
     "output_type": "execute_result",
     "data": {
      "text/plain": [
       "array([[25.75,  0.  ,  0.  ,  0.  ,  0.  ],\n",
       "       [ 0.  , 25.75,  0.  ,  0.  ,  0.  ],\n",
       "       [ 0.  ,  0.  , 25.75,  0.  ,  0.  ],\n",
       "       [ 0.  ,  0.  ,  0.  , 25.75,  0.  ],\n",
       "       [ 0.  ,  0.  ,  0.  ,  0.  , 25.75]])"
      ]
     },
     "metadata": {},
     "execution_count": 105
    }
   ],
   "metadata": {}
  },
  {
   "cell_type": "code",
   "execution_count": 109,
   "source": [
    "np.random.rand(25,4)"
   ],
   "outputs": [
    {
     "output_type": "execute_result",
     "data": {
      "text/plain": [
       "array([[0.4096787 , 0.27841482, 0.33719373, 0.16578588],\n",
       "       [0.77540878, 0.76944694, 0.18105585, 0.50476032],\n",
       "       [0.22330688, 0.64773936, 0.14164583, 0.77490687],\n",
       "       [0.51811415, 0.75156862, 0.99331896, 0.33882061],\n",
       "       [0.05150534, 0.17372296, 0.1844329 , 0.21095732],\n",
       "       [0.91806836, 0.29309613, 0.76820098, 0.77491029],\n",
       "       [0.19976415, 0.75969441, 0.47777716, 0.20386156],\n",
       "       [0.02766828, 0.3359717 , 0.68030632, 0.4876281 ],\n",
       "       [0.79361955, 0.96203493, 0.24821055, 0.08936179],\n",
       "       [0.7184989 , 0.4543376 , 0.66039936, 0.09463213],\n",
       "       [0.87018067, 0.51525988, 0.79110719, 0.33801904],\n",
       "       [0.20014603, 0.24808303, 0.22226256, 0.26949534],\n",
       "       [0.67406594, 0.53867295, 0.29908647, 0.73084514],\n",
       "       [0.1262633 , 0.13001383, 0.70558623, 0.24215347],\n",
       "       [0.0603772 , 0.71665042, 0.78487265, 0.687241  ],\n",
       "       [0.52064502, 0.07453536, 0.35599105, 0.21782956],\n",
       "       [0.56416865, 0.67024057, 0.24817677, 0.49119646],\n",
       "       [0.90388742, 0.54148729, 0.77617307, 0.21721213],\n",
       "       [0.78693397, 0.31015571, 0.5263088 , 0.11489087],\n",
       "       [0.45876843, 0.94784273, 0.11346927, 0.8802706 ],\n",
       "       [0.30319912, 0.71205483, 0.22499766, 0.02464538],\n",
       "       [0.44312193, 0.26772726, 0.31265239, 0.49129188],\n",
       "       [0.46393468, 0.43271106, 0.33388779, 0.52288558],\n",
       "       [0.60748782, 0.57232521, 0.40322429, 0.30434946],\n",
       "       [0.05267797, 0.85826266, 0.96470903, 0.66774296]])"
      ]
     },
     "metadata": {},
     "execution_count": 109
    }
   ],
   "metadata": {}
  },
  {
   "cell_type": "code",
   "execution_count": 112,
   "source": [
    "np.random.randint(0.5,2)"
   ],
   "outputs": [
    {
     "output_type": "execute_result",
     "data": {
      "text/plain": [
       "1"
      ]
     },
     "metadata": {},
     "execution_count": 112
    }
   ],
   "metadata": {}
  },
  {
   "cell_type": "code",
   "execution_count": 117,
   "source": [
    "n = int(input(\"Masukan n :\"))\n",
    "x = int(input(\"Masukan x :\"))\n",
    "m = int(input(\"Masukan m :\"))\n",
    "np.random.randint(x,m,n)\n",
    "# np.random.randint(1,10,8)"
   ],
   "outputs": [
    {
     "output_type": "execute_result",
     "data": {
      "text/plain": [
       "array([3, 2, 3])"
      ]
     },
     "metadata": {},
     "execution_count": 117
    }
   ],
   "metadata": {}
  },
  {
   "cell_type": "code",
   "execution_count": 131,
   "source": [
    "A = np.random.randint(1,100,50)"
   ],
   "outputs": [],
   "metadata": {}
  },
  {
   "cell_type": "code",
   "execution_count": 126,
   "source": [
    "A.shape"
   ],
   "outputs": [
    {
     "output_type": "execute_result",
     "data": {
      "text/plain": [
       "(50,)"
      ]
     },
     "metadata": {},
     "execution_count": 126
    }
   ],
   "metadata": {}
  },
  {
   "cell_type": "code",
   "execution_count": 133,
   "source": [
    "Z = A.reshape(2,25)\n",
    "Z"
   ],
   "outputs": [
    {
     "output_type": "execute_result",
     "data": {
      "text/plain": [
       "array([[23,  4, 29, 61, 92, 81, 32, 42, 26, 62, 42,  9, 80, 19, 16, 43,\n",
       "        96, 28,  9,  9, 21,  2, 90, 91, 85],\n",
       "       [97, 16, 84,  4, 28, 11, 65, 92, 93, 84, 78, 97,  9, 47, 10, 62,\n",
       "        49,  8, 95, 97,  7, 76, 80, 36, 94]])"
      ]
     },
     "metadata": {},
     "execution_count": 133
    }
   ],
   "metadata": {}
  },
  {
   "cell_type": "code",
   "execution_count": 130,
   "source": [
    "Z.reshape(50)"
   ],
   "outputs": [
    {
     "output_type": "execute_result",
     "data": {
      "text/plain": [
       "array([61, 32, 55, 27, 26, 87, 10, 45, 56, 67, 86, 76, 31, 62, 29, 36, 77,\n",
       "       93, 83, 54, 88, 53, 93, 81, 42, 39,  8, 56, 62, 62, 18, 11, 93, 85,\n",
       "       98, 13, 81, 52, 56,  2, 93, 36,  7, 10, 58, 77, 59, 21, 38, 61])"
      ]
     },
     "metadata": {},
     "execution_count": 130
    }
   ],
   "metadata": {}
  },
  {
   "cell_type": "markdown",
   "source": [
    "#Max Min ArgMax ArgMin"
   ],
   "metadata": {}
  },
  {
   "cell_type": "code",
   "execution_count": 134,
   "source": [
    "A = np.random.randint(1,100,100)\n",
    "A"
   ],
   "outputs": [
    {
     "output_type": "execute_result",
     "data": {
      "text/plain": [
       "array([85, 24, 78, 71, 86, 80, 43, 17, 84, 64, 45, 63,  7, 38, 20, 31, 79,\n",
       "       27, 63, 19, 69, 50, 10, 15, 21, 54, 36, 82, 13, 71, 76, 38, 50, 75,\n",
       "       56,  8, 73, 61, 60, 54, 13, 69, 59, 50, 85, 21, 60, 64, 48, 35,  8,\n",
       "       49, 97, 16, 59, 98, 91, 63, 15, 55, 45, 41, 84, 71, 73, 55, 52, 90,\n",
       "       20, 64, 12, 84,  3, 37, 46, 18, 10, 99, 54, 26,  1, 25, 80, 12, 35,\n",
       "       82, 47, 25, 27, 15, 32, 22, 76, 75, 20, 39, 41, 67, 26, 13])"
      ]
     },
     "metadata": {},
     "execution_count": 134
    }
   ],
   "metadata": {}
  },
  {
   "cell_type": "code",
   "execution_count": 135,
   "source": [
    "max(A)"
   ],
   "outputs": [
    {
     "output_type": "execute_result",
     "data": {
      "text/plain": [
       "99"
      ]
     },
     "metadata": {},
     "execution_count": 135
    }
   ],
   "metadata": {}
  },
  {
   "cell_type": "code",
   "execution_count": 136,
   "source": [
    "A.max()"
   ],
   "outputs": [
    {
     "output_type": "execute_result",
     "data": {
      "text/plain": [
       "99"
      ]
     },
     "metadata": {},
     "execution_count": 136
    }
   ],
   "metadata": {}
  },
  {
   "cell_type": "code",
   "execution_count": 137,
   "source": [
    "A.argmax() #untuk tau indexnya dmn kalau duplicate, diambilnya yg pertama"
   ],
   "outputs": [
    {
     "output_type": "execute_result",
     "data": {
      "text/plain": [
       "77"
      ]
     },
     "metadata": {},
     "execution_count": 137
    }
   ],
   "metadata": {}
  },
  {
   "cell_type": "code",
   "execution_count": 138,
   "source": [
    "A.min()"
   ],
   "outputs": [
    {
     "output_type": "execute_result",
     "data": {
      "text/plain": [
       "1"
      ]
     },
     "metadata": {},
     "execution_count": 138
    }
   ],
   "metadata": {}
  },
  {
   "cell_type": "markdown",
   "source": [
    "#indexing"
   ],
   "metadata": {}
  },
  {
   "cell_type": "code",
   "execution_count": 139,
   "source": [
    "A[40:-1]"
   ],
   "outputs": [
    {
     "output_type": "execute_result",
     "data": {
      "text/plain": [
       "array([13, 69, 59, 50, 85, 21, 60, 64, 48, 35,  8, 49, 97, 16, 59, 98, 91,\n",
       "       63, 15, 55, 45, 41, 84, 71, 73, 55, 52, 90, 20, 64, 12, 84,  3, 37,\n",
       "       46, 18, 10, 99, 54, 26,  1, 25, 80, 12, 35, 82, 47, 25, 27, 15, 32,\n",
       "       22, 76, 75, 20, 39, 41, 67, 26])"
      ]
     },
     "metadata": {},
     "execution_count": 139
    }
   ],
   "metadata": {}
  },
  {
   "cell_type": "code",
   "execution_count": 140,
   "source": [
    "A[[20,30,40]]"
   ],
   "outputs": [
    {
     "output_type": "execute_result",
     "data": {
      "text/plain": [
       "array([69, 76, 13])"
      ]
     },
     "metadata": {},
     "execution_count": 140
    }
   ],
   "metadata": {}
  },
  {
   "cell_type": "code",
   "execution_count": 141,
   "source": [
    "A[25:]=0 #untuk ganti"
   ],
   "outputs": [],
   "metadata": {}
  },
  {
   "cell_type": "code",
   "execution_count": 142,
   "source": [
    "A"
   ],
   "outputs": [
    {
     "output_type": "execute_result",
     "data": {
      "text/plain": [
       "array([85, 24, 78, 71, 86, 80, 43, 17, 84, 64, 45, 63,  7, 38, 20, 31, 79,\n",
       "       27, 63, 19, 69, 50, 10, 15, 21,  0,  0,  0,  0,  0,  0,  0,  0,  0,\n",
       "        0,  0,  0,  0,  0,  0,  0,  0,  0,  0,  0,  0,  0,  0,  0,  0,  0,\n",
       "        0,  0,  0,  0,  0,  0,  0,  0,  0,  0,  0,  0,  0,  0,  0,  0,  0,\n",
       "        0,  0,  0,  0,  0,  0,  0,  0,  0,  0,  0,  0,  0,  0,  0,  0,  0,\n",
       "        0,  0,  0,  0,  0,  0,  0,  0,  0,  0,  0,  0,  0,  0,  0])"
      ]
     },
     "metadata": {},
     "execution_count": 142
    }
   ],
   "metadata": {}
  },
  {
   "cell_type": "markdown",
   "source": [
    "#index 2d"
   ],
   "metadata": {}
  },
  {
   "cell_type": "code",
   "execution_count": 143,
   "source": [
    "A = np.random.randint(1,100,50)\n",
    "coba2 = A.reshape(10,5)\n",
    "coba2"
   ],
   "outputs": [
    {
     "output_type": "execute_result",
     "data": {
      "text/plain": [
       "array([[91,  8, 75, 80, 67],\n",
       "       [71, 46, 67, 38, 54],\n",
       "       [87, 38, 97,  1, 91],\n",
       "       [80, 14, 33, 60, 88],\n",
       "       [ 5, 15, 53,  2, 97],\n",
       "       [24, 60, 76, 67, 97],\n",
       "       [84, 63, 66, 64, 27],\n",
       "       [25,  1, 92, 34, 68],\n",
       "       [35, 26, 20, 70, 47],\n",
       "       [64, 77, 53, 11, 16]])"
      ]
     },
     "metadata": {},
     "execution_count": 143
    }
   ],
   "metadata": {}
  },
  {
   "cell_type": "code",
   "execution_count": 144,
   "source": [
    "coba2[5] #yg keluar index ke 5"
   ],
   "outputs": [
    {
     "output_type": "execute_result",
     "data": {
      "text/plain": [
       "array([24, 60, 76, 67, 97])"
      ]
     },
     "metadata": {},
     "execution_count": 144
    }
   ],
   "metadata": {}
  },
  {
   "cell_type": "code",
   "execution_count": 145,
   "source": [
    "coba2[2,3]"
   ],
   "outputs": [
    {
     "output_type": "execute_result",
     "data": {
      "text/plain": [
       "1"
      ]
     },
     "metadata": {},
     "execution_count": 145
    }
   ],
   "metadata": {}
  },
  {
   "cell_type": "code",
   "execution_count": 147,
   "source": [
    "coba2[-3,2]"
   ],
   "outputs": [
    {
     "output_type": "execute_result",
     "data": {
      "text/plain": [
       "92"
      ]
     },
     "metadata": {},
     "execution_count": 147
    }
   ],
   "metadata": {}
  },
  {
   "cell_type": "code",
   "execution_count": 148,
   "source": [
    "coba2 [7:10,2:]"
   ],
   "outputs": [
    {
     "output_type": "execute_result",
     "data": {
      "text/plain": [
       "array([[92, 34, 68],\n",
       "       [20, 70, 47],\n",
       "       [53, 11, 16]])"
      ]
     },
     "metadata": {},
     "execution_count": 148
    }
   ],
   "metadata": {}
  },
  {
   "cell_type": "code",
   "execution_count": 149,
   "source": [
    "coba2[:,2:4]"
   ],
   "outputs": [
    {
     "output_type": "execute_result",
     "data": {
      "text/plain": [
       "array([[75, 80],\n",
       "       [67, 38],\n",
       "       [97,  1],\n",
       "       [33, 60],\n",
       "       [53,  2],\n",
       "       [76, 67],\n",
       "       [66, 64],\n",
       "       [92, 34],\n",
       "       [20, 70],\n",
       "       [53, 11]])"
      ]
     },
     "metadata": {},
     "execution_count": 149
    }
   ],
   "metadata": {}
  },
  {
   "cell_type": "code",
   "execution_count": 150,
   "source": [
    "coba2[2:,[2,3]]"
   ],
   "outputs": [
    {
     "output_type": "execute_result",
     "data": {
      "text/plain": [
       "array([[97,  1],\n",
       "       [33, 60],\n",
       "       [53,  2],\n",
       "       [76, 67],\n",
       "       [66, 64],\n",
       "       [92, 34],\n",
       "       [20, 70],\n",
       "       [53, 11]])"
      ]
     },
     "metadata": {},
     "execution_count": 150
    }
   ],
   "metadata": {}
  },
  {
   "cell_type": "code",
   "execution_count": 155,
   "source": [
    "coba2[:,2:4]"
   ],
   "outputs": [
    {
     "output_type": "execute_result",
     "data": {
      "text/plain": [
       "array([[75, 80],\n",
       "       [67, 38],\n",
       "       [97,  1],\n",
       "       [33, 60],\n",
       "       [53,  2],\n",
       "       [76, 67],\n",
       "       [66, 64],\n",
       "       [92, 34],\n",
       "       [20, 70],\n",
       "       [53, 11]])"
      ]
     },
     "metadata": {},
     "execution_count": 155
    }
   ],
   "metadata": {}
  },
  {
   "cell_type": "code",
   "execution_count": 153,
   "source": [
    "coba2[:2,3]"
   ],
   "outputs": [
    {
     "output_type": "execute_result",
     "data": {
      "text/plain": [
       "array([80, 38])"
      ]
     },
     "metadata": {},
     "execution_count": 153
    }
   ],
   "metadata": {}
  },
  {
   "cell_type": "markdown",
   "source": [
    "CONDITIONAL SELECTION"
   ],
   "metadata": {}
  },
  {
   "cell_type": "code",
   "execution_count": 156,
   "source": [
    "A"
   ],
   "outputs": [
    {
     "output_type": "execute_result",
     "data": {
      "text/plain": [
       "array([91,  8, 75, 80, 67, 71, 46, 67, 38, 54, 87, 38, 97,  1, 91, 80, 14,\n",
       "       33, 60, 88,  5, 15, 53,  2, 97, 24, 60, 76, 67, 97, 84, 63, 66, 64,\n",
       "       27, 25,  1, 92, 34, 68, 35, 26, 20, 70, 47, 64, 77, 53, 11, 16])"
      ]
     },
     "metadata": {},
     "execution_count": 156
    }
   ],
   "metadata": {}
  },
  {
   "cell_type": "code",
   "execution_count": 157,
   "source": [
    "A >50"
   ],
   "outputs": [
    {
     "output_type": "execute_result",
     "data": {
      "text/plain": [
       "array([ True, False,  True,  True,  True,  True, False,  True, False,\n",
       "        True,  True, False,  True, False,  True,  True, False, False,\n",
       "        True,  True, False, False,  True, False,  True, False,  True,\n",
       "        True,  True,  True,  True,  True,  True,  True, False, False,\n",
       "       False,  True, False,  True, False, False, False,  True, False,\n",
       "        True,  True,  True, False, False])"
      ]
     },
     "metadata": {},
     "execution_count": 157
    }
   ],
   "metadata": {}
  },
  {
   "cell_type": "code",
   "execution_count": 158,
   "source": [
    "A[A>50]"
   ],
   "outputs": [
    {
     "output_type": "execute_result",
     "data": {
      "text/plain": [
       "array([91, 75, 80, 67, 71, 67, 54, 87, 97, 91, 80, 60, 88, 53, 97, 60, 76,\n",
       "       67, 97, 84, 63, 66, 64, 92, 68, 70, 64, 77, 53])"
      ]
     },
     "metadata": {},
     "execution_count": 158
    }
   ],
   "metadata": {}
  },
  {
   "cell_type": "code",
   "execution_count": 169,
   "source": [
    "A [ (A > 50) & (A<70)]"
   ],
   "outputs": [
    {
     "output_type": "execute_result",
     "data": {
      "text/plain": [
       "array([67, 67, 54, 60, 53, 60, 67, 63, 66, 64, 68, 64, 53])"
      ]
     },
     "metadata": {},
     "execution_count": 169
    }
   ],
   "metadata": {}
  },
  {
   "cell_type": "code",
   "execution_count": 170,
   "source": [
    "import mysql.connector\n",
    "import pandas as pd"
   ],
   "outputs": [],
   "metadata": {}
  },
  {
   "cell_type": "code",
   "execution_count": 172,
   "source": [
    "mydb = mysql.connector.connect(\n",
    "    host = 'localhost',\n",
    "    user = 'root',\n",
    "    password = '1234',\n",
    "    database = 'world'\n",
    ")"
   ],
   "outputs": [],
   "metadata": {}
  },
  {
   "cell_type": "code",
   "execution_count": 173,
   "source": [
    "mycursor = mydb.cursor()\n",
    "\n",
    "def query(x):\n",
    "    mycursor.execute(x)\n",
    "    result = mycursor.fetchall()\n",
    "    df = pd.DataFrame(result,columns = mycursor.column_names)\n",
    "    return df"
   ],
   "outputs": [],
   "metadata": {}
  },
  {
   "cell_type": "code",
   "execution_count": 174,
   "source": [
    "query(\"\"\"\n",
    "    select * from city limit 10\n",
    "\"\"\")"
   ],
   "outputs": [
    {
     "output_type": "execute_result",
     "data": {
      "text/html": [
       "<div>\n",
       "<style scoped>\n",
       "    .dataframe tbody tr th:only-of-type {\n",
       "        vertical-align: middle;\n",
       "    }\n",
       "\n",
       "    .dataframe tbody tr th {\n",
       "        vertical-align: top;\n",
       "    }\n",
       "\n",
       "    .dataframe thead th {\n",
       "        text-align: right;\n",
       "    }\n",
       "</style>\n",
       "<table border=\"1\" class=\"dataframe\">\n",
       "  <thead>\n",
       "    <tr style=\"text-align: right;\">\n",
       "      <th></th>\n",
       "      <th>ID</th>\n",
       "      <th>Name</th>\n",
       "      <th>CountryCode</th>\n",
       "      <th>District</th>\n",
       "      <th>Population</th>\n",
       "    </tr>\n",
       "  </thead>\n",
       "  <tbody>\n",
       "    <tr>\n",
       "      <th>0</th>\n",
       "      <td>1</td>\n",
       "      <td>Kabul</td>\n",
       "      <td>AFG</td>\n",
       "      <td>Kabol</td>\n",
       "      <td>1780000</td>\n",
       "    </tr>\n",
       "    <tr>\n",
       "      <th>1</th>\n",
       "      <td>2</td>\n",
       "      <td>Qandahar</td>\n",
       "      <td>AFG</td>\n",
       "      <td>Qandahar</td>\n",
       "      <td>237500</td>\n",
       "    </tr>\n",
       "    <tr>\n",
       "      <th>2</th>\n",
       "      <td>3</td>\n",
       "      <td>Herat</td>\n",
       "      <td>AFG</td>\n",
       "      <td>Herat</td>\n",
       "      <td>186800</td>\n",
       "    </tr>\n",
       "    <tr>\n",
       "      <th>3</th>\n",
       "      <td>4</td>\n",
       "      <td>Mazar-e-Sharif</td>\n",
       "      <td>AFG</td>\n",
       "      <td>Balkh</td>\n",
       "      <td>127800</td>\n",
       "    </tr>\n",
       "    <tr>\n",
       "      <th>4</th>\n",
       "      <td>5</td>\n",
       "      <td>Amsterdam</td>\n",
       "      <td>NLD</td>\n",
       "      <td>Noord-Holland</td>\n",
       "      <td>731200</td>\n",
       "    </tr>\n",
       "    <tr>\n",
       "      <th>5</th>\n",
       "      <td>6</td>\n",
       "      <td>Rotterdam</td>\n",
       "      <td>NLD</td>\n",
       "      <td>Zuid-Holland</td>\n",
       "      <td>593321</td>\n",
       "    </tr>\n",
       "    <tr>\n",
       "      <th>6</th>\n",
       "      <td>7</td>\n",
       "      <td>Haag</td>\n",
       "      <td>NLD</td>\n",
       "      <td>Zuid-Holland</td>\n",
       "      <td>440900</td>\n",
       "    </tr>\n",
       "    <tr>\n",
       "      <th>7</th>\n",
       "      <td>8</td>\n",
       "      <td>Utrecht</td>\n",
       "      <td>NLD</td>\n",
       "      <td>Utrecht</td>\n",
       "      <td>234323</td>\n",
       "    </tr>\n",
       "    <tr>\n",
       "      <th>8</th>\n",
       "      <td>9</td>\n",
       "      <td>Eindhoven</td>\n",
       "      <td>NLD</td>\n",
       "      <td>Noord-Brabant</td>\n",
       "      <td>201843</td>\n",
       "    </tr>\n",
       "    <tr>\n",
       "      <th>9</th>\n",
       "      <td>10</td>\n",
       "      <td>Tilburg</td>\n",
       "      <td>NLD</td>\n",
       "      <td>Noord-Brabant</td>\n",
       "      <td>193238</td>\n",
       "    </tr>\n",
       "  </tbody>\n",
       "</table>\n",
       "</div>"
      ],
      "text/plain": [
       "   ID            Name CountryCode       District  Population\n",
       "0   1           Kabul         AFG          Kabol     1780000\n",
       "1   2        Qandahar         AFG       Qandahar      237500\n",
       "2   3           Herat         AFG          Herat      186800\n",
       "3   4  Mazar-e-Sharif         AFG          Balkh      127800\n",
       "4   5       Amsterdam         NLD  Noord-Holland      731200\n",
       "5   6       Rotterdam         NLD   Zuid-Holland      593321\n",
       "6   7            Haag         NLD   Zuid-Holland      440900\n",
       "7   8         Utrecht         NLD        Utrecht      234323\n",
       "8   9       Eindhoven         NLD  Noord-Brabant      201843\n",
       "9  10         Tilburg         NLD  Noord-Brabant      193238"
      ]
     },
     "metadata": {},
     "execution_count": 174
    }
   ],
   "metadata": {}
  },
  {
   "cell_type": "code",
   "execution_count": null,
   "source": [],
   "outputs": [],
   "metadata": {}
  }
 ]
}