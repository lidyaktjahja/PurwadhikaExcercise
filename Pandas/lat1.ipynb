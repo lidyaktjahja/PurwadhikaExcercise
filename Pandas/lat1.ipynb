{
 "metadata": {
  "language_info": {
   "codemirror_mode": {
    "name": "ipython",
    "version": 3
   },
   "file_extension": ".py",
   "mimetype": "text/x-python",
   "name": "python",
   "nbconvert_exporter": "python",
   "pygments_lexer": "ipython3",
   "version": "3.9.2-final"
  },
  "orig_nbformat": 2,
  "kernelspec": {
   "name": "python392jvsc74a57bd0aa4a9b0c5e2d78e374bb40a1af76efea9a10a5e1d5e9731e7c985841037f6e93",
   "display_name": "Python 3.9.2 64-bit"
  },
  "metadata": {
   "interpreter": {
    "hash": "aa4a9b0c5e2d78e374bb40a1af76efea9a10a5e1d5e9731e7c985841037f6e93"
   }
  }
 },
 "nbformat": 4,
 "nbformat_minor": 2,
 "cells": [
  {
   "source": [
    "1. buat sebuah DataFrame dari bangkitan data random integer minimal 50 data yang akan membentuk dataframe 5 kolom 10 baris\n",
    "2. tampilkan 2 kolom pada dataframe tsb\n",
    "3. tampilkan 1 kolom terakhir dgn menggunakan no indexnya\n",
    "4. tambahkan 1 kolom baru yg merupakan bangkitan data random normal\n",
    "5. coba akses data yg berada pada pokok kanan bawah di dataframe"
   ],
   "cell_type": "markdown",
   "metadata": {}
  },
  {
   "cell_type": "code",
   "execution_count": 2,
   "metadata": {},
   "outputs": [],
   "source": [
    "import numpy as np \n",
    "import pandas as pd "
   ]
  },
  {
   "cell_type": "code",
   "execution_count": 7,
   "metadata": {},
   "outputs": [
    {
     "output_type": "execute_result",
     "data": {
      "text/plain": [
       "    A   B   C   D   E\n",
       "0  43  33   6  82  64\n",
       "1   3  96  37  99  25\n",
       "2  65  38   5  28  63\n",
       "3  45  95  99  45  74\n",
       "4  47  55  73   5  89\n",
       "5  86  26  56  71  23\n",
       "6   9  70   7  99  19\n",
       "7  61  87  72   7  25\n",
       "8  98  72  24  52  35\n",
       "9  13  56  59  23  25"
      ],
      "text/html": "<div>\n<style scoped>\n    .dataframe tbody tr th:only-of-type {\n        vertical-align: middle;\n    }\n\n    .dataframe tbody tr th {\n        vertical-align: top;\n    }\n\n    .dataframe thead th {\n        text-align: right;\n    }\n</style>\n<table border=\"1\" class=\"dataframe\">\n  <thead>\n    <tr style=\"text-align: right;\">\n      <th></th>\n      <th>A</th>\n      <th>B</th>\n      <th>C</th>\n      <th>D</th>\n      <th>E</th>\n    </tr>\n  </thead>\n  <tbody>\n    <tr>\n      <th>0</th>\n      <td>43</td>\n      <td>33</td>\n      <td>6</td>\n      <td>82</td>\n      <td>64</td>\n    </tr>\n    <tr>\n      <th>1</th>\n      <td>3</td>\n      <td>96</td>\n      <td>37</td>\n      <td>99</td>\n      <td>25</td>\n    </tr>\n    <tr>\n      <th>2</th>\n      <td>65</td>\n      <td>38</td>\n      <td>5</td>\n      <td>28</td>\n      <td>63</td>\n    </tr>\n    <tr>\n      <th>3</th>\n      <td>45</td>\n      <td>95</td>\n      <td>99</td>\n      <td>45</td>\n      <td>74</td>\n    </tr>\n    <tr>\n      <th>4</th>\n      <td>47</td>\n      <td>55</td>\n      <td>73</td>\n      <td>5</td>\n      <td>89</td>\n    </tr>\n    <tr>\n      <th>5</th>\n      <td>86</td>\n      <td>26</td>\n      <td>56</td>\n      <td>71</td>\n      <td>23</td>\n    </tr>\n    <tr>\n      <th>6</th>\n      <td>9</td>\n      <td>70</td>\n      <td>7</td>\n      <td>99</td>\n      <td>19</td>\n    </tr>\n    <tr>\n      <th>7</th>\n      <td>61</td>\n      <td>87</td>\n      <td>72</td>\n      <td>7</td>\n      <td>25</td>\n    </tr>\n    <tr>\n      <th>8</th>\n      <td>98</td>\n      <td>72</td>\n      <td>24</td>\n      <td>52</td>\n      <td>35</td>\n    </tr>\n    <tr>\n      <th>9</th>\n      <td>13</td>\n      <td>56</td>\n      <td>59</td>\n      <td>23</td>\n      <td>25</td>\n    </tr>\n  </tbody>\n</table>\n</div>"
     },
     "metadata": {},
     "execution_count": 7
    }
   ],
   "source": [
    "df = pd.DataFrame(np.random.randint(1,100,(10,5)), columns = ['A',\"B\",'C',\"D\",\"E\"])\n",
    "df"
   ]
  },
  {
   "cell_type": "code",
   "execution_count": 8,
   "metadata": {},
   "outputs": [
    {
     "output_type": "execute_result",
     "data": {
      "text/plain": [
       "    A   D\n",
       "0  43  82\n",
       "1   3  99\n",
       "2  65  28\n",
       "3  45  45\n",
       "4  47   5\n",
       "5  86  71\n",
       "6   9  99\n",
       "7  61   7\n",
       "8  98  52\n",
       "9  13  23"
      ],
      "text/html": "<div>\n<style scoped>\n    .dataframe tbody tr th:only-of-type {\n        vertical-align: middle;\n    }\n\n    .dataframe tbody tr th {\n        vertical-align: top;\n    }\n\n    .dataframe thead th {\n        text-align: right;\n    }\n</style>\n<table border=\"1\" class=\"dataframe\">\n  <thead>\n    <tr style=\"text-align: right;\">\n      <th></th>\n      <th>A</th>\n      <th>D</th>\n    </tr>\n  </thead>\n  <tbody>\n    <tr>\n      <th>0</th>\n      <td>43</td>\n      <td>82</td>\n    </tr>\n    <tr>\n      <th>1</th>\n      <td>3</td>\n      <td>99</td>\n    </tr>\n    <tr>\n      <th>2</th>\n      <td>65</td>\n      <td>28</td>\n    </tr>\n    <tr>\n      <th>3</th>\n      <td>45</td>\n      <td>45</td>\n    </tr>\n    <tr>\n      <th>4</th>\n      <td>47</td>\n      <td>5</td>\n    </tr>\n    <tr>\n      <th>5</th>\n      <td>86</td>\n      <td>71</td>\n    </tr>\n    <tr>\n      <th>6</th>\n      <td>9</td>\n      <td>99</td>\n    </tr>\n    <tr>\n      <th>7</th>\n      <td>61</td>\n      <td>7</td>\n    </tr>\n    <tr>\n      <th>8</th>\n      <td>98</td>\n      <td>52</td>\n    </tr>\n    <tr>\n      <th>9</th>\n      <td>13</td>\n      <td>23</td>\n    </tr>\n  </tbody>\n</table>\n</div>"
     },
     "metadata": {},
     "execution_count": 8
    }
   ],
   "source": [
    "df[[\"A\",\"D\"]]"
   ]
  },
  {
   "source": [
    "Tampilkan baris terakhir dgn kolom indexnya"
   ],
   "cell_type": "markdown",
   "metadata": {}
  },
  {
   "cell_type": "code",
   "execution_count": 9,
   "metadata": {},
   "outputs": [
    {
     "output_type": "execute_result",
     "data": {
      "text/plain": [
       "A    13\n",
       "B    56\n",
       "C    59\n",
       "D    23\n",
       "E    25\n",
       "Name: 9, dtype: int32"
      ]
     },
     "metadata": {},
     "execution_count": 9
    }
   ],
   "source": [
    "df.loc[9]"
   ]
  },
  {
   "cell_type": "code",
   "execution_count": 11,
   "metadata": {},
   "outputs": [
    {
     "output_type": "execute_result",
     "data": {
      "text/plain": [
       "A    13\n",
       "B    56\n",
       "C    59\n",
       "D    23\n",
       "E    25\n",
       "Name: 9, dtype: int32"
      ]
     },
     "metadata": {},
     "execution_count": 11
    }
   ],
   "source": [
    "df.iloc[-1]"
   ]
  },
  {
   "source": [
    "Tampilkan kolom terakhir dgn kolom indexnya"
   ],
   "cell_type": "markdown",
   "metadata": {}
  },
  {
   "cell_type": "code",
   "execution_count": 10,
   "metadata": {},
   "outputs": [
    {
     "output_type": "execute_result",
     "data": {
      "text/plain": [
       "0    64\n",
       "1    25\n",
       "2    63\n",
       "3    74\n",
       "4    89\n",
       "5    23\n",
       "6    19\n",
       "7    25\n",
       "8    35\n",
       "9    25\n",
       "Name: E, dtype: int32"
      ]
     },
     "metadata": {},
     "execution_count": 10
    }
   ],
   "source": [
    "df['E']"
   ]
  },
  {
   "cell_type": "code",
   "execution_count": 12,
   "metadata": {},
   "outputs": [
    {
     "output_type": "execute_result",
     "data": {
      "text/plain": [
       "0    64\n",
       "1    25\n",
       "2    63\n",
       "3    74\n",
       "4    89\n",
       "5    23\n",
       "6    19\n",
       "7    25\n",
       "8    35\n",
       "9    25\n",
       "Name: E, dtype: int32"
      ]
     },
     "metadata": {},
     "execution_count": 12
    }
   ],
   "source": [
    "df.iloc[:,-1]"
   ]
  },
  {
   "source": [
    "bangkitkan kolom baru"
   ],
   "cell_type": "markdown",
   "metadata": {}
  },
  {
   "cell_type": "code",
   "execution_count": 13,
   "metadata": {},
   "outputs": [
    {
     "output_type": "execute_result",
     "data": {
      "text/plain": [
       "    A   B   C   D   E         F\n",
       "0  43  33   6  82  64  0.740066\n",
       "1   3  96  37  99  25 -0.250341\n",
       "2  65  38   5  28  63  1.277037\n",
       "3  45  95  99  45  74 -1.381351\n",
       "4  47  55  73   5  89 -0.325614\n",
       "5  86  26  56  71  23  1.524549\n",
       "6   9  70   7  99  19 -2.426198\n",
       "7  61  87  72   7  25  0.059586\n",
       "8  98  72  24  52  35 -1.276540\n",
       "9  13  56  59  23  25  0.123010"
      ],
      "text/html": "<div>\n<style scoped>\n    .dataframe tbody tr th:only-of-type {\n        vertical-align: middle;\n    }\n\n    .dataframe tbody tr th {\n        vertical-align: top;\n    }\n\n    .dataframe thead th {\n        text-align: right;\n    }\n</style>\n<table border=\"1\" class=\"dataframe\">\n  <thead>\n    <tr style=\"text-align: right;\">\n      <th></th>\n      <th>A</th>\n      <th>B</th>\n      <th>C</th>\n      <th>D</th>\n      <th>E</th>\n      <th>F</th>\n    </tr>\n  </thead>\n  <tbody>\n    <tr>\n      <th>0</th>\n      <td>43</td>\n      <td>33</td>\n      <td>6</td>\n      <td>82</td>\n      <td>64</td>\n      <td>0.740066</td>\n    </tr>\n    <tr>\n      <th>1</th>\n      <td>3</td>\n      <td>96</td>\n      <td>37</td>\n      <td>99</td>\n      <td>25</td>\n      <td>-0.250341</td>\n    </tr>\n    <tr>\n      <th>2</th>\n      <td>65</td>\n      <td>38</td>\n      <td>5</td>\n      <td>28</td>\n      <td>63</td>\n      <td>1.277037</td>\n    </tr>\n    <tr>\n      <th>3</th>\n      <td>45</td>\n      <td>95</td>\n      <td>99</td>\n      <td>45</td>\n      <td>74</td>\n      <td>-1.381351</td>\n    </tr>\n    <tr>\n      <th>4</th>\n      <td>47</td>\n      <td>55</td>\n      <td>73</td>\n      <td>5</td>\n      <td>89</td>\n      <td>-0.325614</td>\n    </tr>\n    <tr>\n      <th>5</th>\n      <td>86</td>\n      <td>26</td>\n      <td>56</td>\n      <td>71</td>\n      <td>23</td>\n      <td>1.524549</td>\n    </tr>\n    <tr>\n      <th>6</th>\n      <td>9</td>\n      <td>70</td>\n      <td>7</td>\n      <td>99</td>\n      <td>19</td>\n      <td>-2.426198</td>\n    </tr>\n    <tr>\n      <th>7</th>\n      <td>61</td>\n      <td>87</td>\n      <td>72</td>\n      <td>7</td>\n      <td>25</td>\n      <td>0.059586</td>\n    </tr>\n    <tr>\n      <th>8</th>\n      <td>98</td>\n      <td>72</td>\n      <td>24</td>\n      <td>52</td>\n      <td>35</td>\n      <td>-1.276540</td>\n    </tr>\n    <tr>\n      <th>9</th>\n      <td>13</td>\n      <td>56</td>\n      <td>59</td>\n      <td>23</td>\n      <td>25</td>\n      <td>0.123010</td>\n    </tr>\n  </tbody>\n</table>\n</div>"
     },
     "metadata": {},
     "execution_count": 13
    }
   ],
   "source": [
    "df['F']=np.random.randn(10)\n",
    "df"
   ]
  },
  {
   "source": [
    "tampilkan kolom & baris terakhir"
   ],
   "cell_type": "markdown",
   "metadata": {}
  },
  {
   "cell_type": "code",
   "execution_count": 14,
   "metadata": {},
   "outputs": [
    {
     "output_type": "execute_result",
     "data": {
      "text/plain": [
       "0.12301030470242935"
      ]
     },
     "metadata": {},
     "execution_count": 14
    }
   ],
   "source": [
    "df.iloc[9,5]"
   ]
  },
  {
   "cell_type": "code",
   "execution_count": 15,
   "metadata": {},
   "outputs": [
    {
     "output_type": "execute_result",
     "data": {
      "text/plain": [
       "0.12301030470242935"
      ]
     },
     "metadata": {},
     "execution_count": 15
    }
   ],
   "source": [
    "df.iloc[-1,-1]"
   ]
  },
  {
   "cell_type": "code",
   "execution_count": 16,
   "metadata": {},
   "outputs": [
    {
     "output_type": "execute_result",
     "data": {
      "text/plain": [
       "      A     B     C     D     E      F\n",
       "0  True  True  True  True  True   True\n",
       "1  True  True  True  True  True  False\n",
       "2  True  True  True  True  True   True\n",
       "3  True  True  True  True  True  False\n",
       "4  True  True  True  True  True  False\n",
       "5  True  True  True  True  True   True\n",
       "6  True  True  True  True  True  False\n",
       "7  True  True  True  True  True   True\n",
       "8  True  True  True  True  True  False\n",
       "9  True  True  True  True  True   True"
      ],
      "text/html": "<div>\n<style scoped>\n    .dataframe tbody tr th:only-of-type {\n        vertical-align: middle;\n    }\n\n    .dataframe tbody tr th {\n        vertical-align: top;\n    }\n\n    .dataframe thead th {\n        text-align: right;\n    }\n</style>\n<table border=\"1\" class=\"dataframe\">\n  <thead>\n    <tr style=\"text-align: right;\">\n      <th></th>\n      <th>A</th>\n      <th>B</th>\n      <th>C</th>\n      <th>D</th>\n      <th>E</th>\n      <th>F</th>\n    </tr>\n  </thead>\n  <tbody>\n    <tr>\n      <th>0</th>\n      <td>True</td>\n      <td>True</td>\n      <td>True</td>\n      <td>True</td>\n      <td>True</td>\n      <td>True</td>\n    </tr>\n    <tr>\n      <th>1</th>\n      <td>True</td>\n      <td>True</td>\n      <td>True</td>\n      <td>True</td>\n      <td>True</td>\n      <td>False</td>\n    </tr>\n    <tr>\n      <th>2</th>\n      <td>True</td>\n      <td>True</td>\n      <td>True</td>\n      <td>True</td>\n      <td>True</td>\n      <td>True</td>\n    </tr>\n    <tr>\n      <th>3</th>\n      <td>True</td>\n      <td>True</td>\n      <td>True</td>\n      <td>True</td>\n      <td>True</td>\n      <td>False</td>\n    </tr>\n    <tr>\n      <th>4</th>\n      <td>True</td>\n      <td>True</td>\n      <td>True</td>\n      <td>True</td>\n      <td>True</td>\n      <td>False</td>\n    </tr>\n    <tr>\n      <th>5</th>\n      <td>True</td>\n      <td>True</td>\n      <td>True</td>\n      <td>True</td>\n      <td>True</td>\n      <td>True</td>\n    </tr>\n    <tr>\n      <th>6</th>\n      <td>True</td>\n      <td>True</td>\n      <td>True</td>\n      <td>True</td>\n      <td>True</td>\n      <td>False</td>\n    </tr>\n    <tr>\n      <th>7</th>\n      <td>True</td>\n      <td>True</td>\n      <td>True</td>\n      <td>True</td>\n      <td>True</td>\n      <td>True</td>\n    </tr>\n    <tr>\n      <th>8</th>\n      <td>True</td>\n      <td>True</td>\n      <td>True</td>\n      <td>True</td>\n      <td>True</td>\n      <td>False</td>\n    </tr>\n    <tr>\n      <th>9</th>\n      <td>True</td>\n      <td>True</td>\n      <td>True</td>\n      <td>True</td>\n      <td>True</td>\n      <td>True</td>\n    </tr>\n  </tbody>\n</table>\n</div>"
     },
     "metadata": {},
     "execution_count": 16
    }
   ],
   "source": [
    "df >0"
   ]
  },
  {
   "cell_type": "code",
   "execution_count": 17,
   "metadata": {},
   "outputs": [
    {
     "output_type": "execute_result",
     "data": {
      "text/plain": [
       "      A   B     C     D   E   F\n",
       "0  43.0  33   6.0  82.0  64 NaN\n",
       "1   NaN  96  37.0  99.0  25 NaN\n",
       "2  65.0  38   NaN  28.0  63 NaN\n",
       "3  45.0  95  99.0  45.0  74 NaN\n",
       "4  47.0  55  73.0   NaN  89 NaN\n",
       "5  86.0  26  56.0  71.0  23 NaN\n",
       "6   9.0  70   7.0  99.0  19 NaN\n",
       "7  61.0  87  72.0   7.0  25 NaN\n",
       "8  98.0  72  24.0  52.0  35 NaN\n",
       "9  13.0  56  59.0  23.0  25 NaN"
      ],
      "text/html": "<div>\n<style scoped>\n    .dataframe tbody tr th:only-of-type {\n        vertical-align: middle;\n    }\n\n    .dataframe tbody tr th {\n        vertical-align: top;\n    }\n\n    .dataframe thead th {\n        text-align: right;\n    }\n</style>\n<table border=\"1\" class=\"dataframe\">\n  <thead>\n    <tr style=\"text-align: right;\">\n      <th></th>\n      <th>A</th>\n      <th>B</th>\n      <th>C</th>\n      <th>D</th>\n      <th>E</th>\n      <th>F</th>\n    </tr>\n  </thead>\n  <tbody>\n    <tr>\n      <th>0</th>\n      <td>43.0</td>\n      <td>33</td>\n      <td>6.0</td>\n      <td>82.0</td>\n      <td>64</td>\n      <td>NaN</td>\n    </tr>\n    <tr>\n      <th>1</th>\n      <td>NaN</td>\n      <td>96</td>\n      <td>37.0</td>\n      <td>99.0</td>\n      <td>25</td>\n      <td>NaN</td>\n    </tr>\n    <tr>\n      <th>2</th>\n      <td>65.0</td>\n      <td>38</td>\n      <td>NaN</td>\n      <td>28.0</td>\n      <td>63</td>\n      <td>NaN</td>\n    </tr>\n    <tr>\n      <th>3</th>\n      <td>45.0</td>\n      <td>95</td>\n      <td>99.0</td>\n      <td>45.0</td>\n      <td>74</td>\n      <td>NaN</td>\n    </tr>\n    <tr>\n      <th>4</th>\n      <td>47.0</td>\n      <td>55</td>\n      <td>73.0</td>\n      <td>NaN</td>\n      <td>89</td>\n      <td>NaN</td>\n    </tr>\n    <tr>\n      <th>5</th>\n      <td>86.0</td>\n      <td>26</td>\n      <td>56.0</td>\n      <td>71.0</td>\n      <td>23</td>\n      <td>NaN</td>\n    </tr>\n    <tr>\n      <th>6</th>\n      <td>9.0</td>\n      <td>70</td>\n      <td>7.0</td>\n      <td>99.0</td>\n      <td>19</td>\n      <td>NaN</td>\n    </tr>\n    <tr>\n      <th>7</th>\n      <td>61.0</td>\n      <td>87</td>\n      <td>72.0</td>\n      <td>7.0</td>\n      <td>25</td>\n      <td>NaN</td>\n    </tr>\n    <tr>\n      <th>8</th>\n      <td>98.0</td>\n      <td>72</td>\n      <td>24.0</td>\n      <td>52.0</td>\n      <td>35</td>\n      <td>NaN</td>\n    </tr>\n    <tr>\n      <th>9</th>\n      <td>13.0</td>\n      <td>56</td>\n      <td>59.0</td>\n      <td>23.0</td>\n      <td>25</td>\n      <td>NaN</td>\n    </tr>\n  </tbody>\n</table>\n</div>"
     },
     "metadata": {},
     "execution_count": 17
    }
   ],
   "source": [
    "df[df>5]"
   ]
  },
  {
   "cell_type": "code",
   "execution_count": 19,
   "metadata": {},
   "outputs": [
    {
     "output_type": "execute_result",
     "data": {
      "text/plain": [
       "      A     B     C     D     E         F\n",
       "0  43.0  33.0   6.0   NaN   NaN  0.740066\n",
       "1   3.0   NaN  37.0   NaN  25.0       NaN\n",
       "2   NaN  38.0   5.0  28.0   NaN  1.277037\n",
       "3  45.0   NaN   NaN  45.0   NaN       NaN\n",
       "4  47.0   NaN   NaN   5.0   NaN       NaN\n",
       "5   NaN  26.0   NaN   NaN  23.0  1.524549\n",
       "6   9.0   NaN   7.0   NaN  19.0       NaN\n",
       "7   NaN   NaN   NaN   7.0  25.0  0.059586\n",
       "8   NaN   NaN  24.0   NaN  35.0       NaN\n",
       "9  13.0   NaN   NaN  23.0  25.0  0.123010"
      ],
      "text/html": "<div>\n<style scoped>\n    .dataframe tbody tr th:only-of-type {\n        vertical-align: middle;\n    }\n\n    .dataframe tbody tr th {\n        vertical-align: top;\n    }\n\n    .dataframe thead th {\n        text-align: right;\n    }\n</style>\n<table border=\"1\" class=\"dataframe\">\n  <thead>\n    <tr style=\"text-align: right;\">\n      <th></th>\n      <th>A</th>\n      <th>B</th>\n      <th>C</th>\n      <th>D</th>\n      <th>E</th>\n      <th>F</th>\n    </tr>\n  </thead>\n  <tbody>\n    <tr>\n      <th>0</th>\n      <td>43.0</td>\n      <td>33.0</td>\n      <td>6.0</td>\n      <td>NaN</td>\n      <td>NaN</td>\n      <td>0.740066</td>\n    </tr>\n    <tr>\n      <th>1</th>\n      <td>3.0</td>\n      <td>NaN</td>\n      <td>37.0</td>\n      <td>NaN</td>\n      <td>25.0</td>\n      <td>NaN</td>\n    </tr>\n    <tr>\n      <th>2</th>\n      <td>NaN</td>\n      <td>38.0</td>\n      <td>5.0</td>\n      <td>28.0</td>\n      <td>NaN</td>\n      <td>1.277037</td>\n    </tr>\n    <tr>\n      <th>3</th>\n      <td>45.0</td>\n      <td>NaN</td>\n      <td>NaN</td>\n      <td>45.0</td>\n      <td>NaN</td>\n      <td>NaN</td>\n    </tr>\n    <tr>\n      <th>4</th>\n      <td>47.0</td>\n      <td>NaN</td>\n      <td>NaN</td>\n      <td>5.0</td>\n      <td>NaN</td>\n      <td>NaN</td>\n    </tr>\n    <tr>\n      <th>5</th>\n      <td>NaN</td>\n      <td>26.0</td>\n      <td>NaN</td>\n      <td>NaN</td>\n      <td>23.0</td>\n      <td>1.524549</td>\n    </tr>\n    <tr>\n      <th>6</th>\n      <td>9.0</td>\n      <td>NaN</td>\n      <td>7.0</td>\n      <td>NaN</td>\n      <td>19.0</td>\n      <td>NaN</td>\n    </tr>\n    <tr>\n      <th>7</th>\n      <td>NaN</td>\n      <td>NaN</td>\n      <td>NaN</td>\n      <td>7.0</td>\n      <td>25.0</td>\n      <td>0.059586</td>\n    </tr>\n    <tr>\n      <th>8</th>\n      <td>NaN</td>\n      <td>NaN</td>\n      <td>24.0</td>\n      <td>NaN</td>\n      <td>35.0</td>\n      <td>NaN</td>\n    </tr>\n    <tr>\n      <th>9</th>\n      <td>13.0</td>\n      <td>NaN</td>\n      <td>NaN</td>\n      <td>23.0</td>\n      <td>25.0</td>\n      <td>0.123010</td>\n    </tr>\n  </tbody>\n</table>\n</div>"
     },
     "metadata": {},
     "execution_count": 19
    }
   ],
   "source": [
    "df[(df>0)&(df<50)]"
   ]
  },
  {
   "cell_type": "code",
   "execution_count": 20,
   "metadata": {},
   "outputs": [
    {
     "output_type": "execute_result",
     "data": {
      "text/plain": [
       "0    43.0\n",
       "1     3.0\n",
       "2     NaN\n",
       "3    45.0\n",
       "4    47.0\n",
       "5     NaN\n",
       "6     9.0\n",
       "7     NaN\n",
       "8     NaN\n",
       "9    13.0\n",
       "Name: A, dtype: float64"
      ]
     },
     "metadata": {},
     "execution_count": 20
    }
   ],
   "source": [
    "df[(df>0)&(df<50)]['A']"
   ]
  },
  {
   "cell_type": "code",
   "execution_count": 21,
   "metadata": {},
   "outputs": [
    {
     "output_type": "execute_result",
     "data": {
      "text/plain": [
       "    A   B   C   D   E         F\n",
       "0  43  33   6  82  64  0.740066\n",
       "1   3  96  37  99  25 -0.250341\n",
       "2  65  38   5  28  63  1.277037\n",
       "3  45  95  99  45  74 -1.381351\n",
       "4  47  55  73   5  89 -0.325614\n",
       "5  86  26  56  71  23  1.524549\n",
       "6   9  70   7  99  19 -2.426198\n",
       "7  61  87  72   7  25  0.059586\n",
       "8  98  72  24  52  35 -1.276540\n",
       "9  13  56  59  23  25  0.123010"
      ],
      "text/html": "<div>\n<style scoped>\n    .dataframe tbody tr th:only-of-type {\n        vertical-align: middle;\n    }\n\n    .dataframe tbody tr th {\n        vertical-align: top;\n    }\n\n    .dataframe thead th {\n        text-align: right;\n    }\n</style>\n<table border=\"1\" class=\"dataframe\">\n  <thead>\n    <tr style=\"text-align: right;\">\n      <th></th>\n      <th>A</th>\n      <th>B</th>\n      <th>C</th>\n      <th>D</th>\n      <th>E</th>\n      <th>F</th>\n    </tr>\n  </thead>\n  <tbody>\n    <tr>\n      <th>0</th>\n      <td>43</td>\n      <td>33</td>\n      <td>6</td>\n      <td>82</td>\n      <td>64</td>\n      <td>0.740066</td>\n    </tr>\n    <tr>\n      <th>1</th>\n      <td>3</td>\n      <td>96</td>\n      <td>37</td>\n      <td>99</td>\n      <td>25</td>\n      <td>-0.250341</td>\n    </tr>\n    <tr>\n      <th>2</th>\n      <td>65</td>\n      <td>38</td>\n      <td>5</td>\n      <td>28</td>\n      <td>63</td>\n      <td>1.277037</td>\n    </tr>\n    <tr>\n      <th>3</th>\n      <td>45</td>\n      <td>95</td>\n      <td>99</td>\n      <td>45</td>\n      <td>74</td>\n      <td>-1.381351</td>\n    </tr>\n    <tr>\n      <th>4</th>\n      <td>47</td>\n      <td>55</td>\n      <td>73</td>\n      <td>5</td>\n      <td>89</td>\n      <td>-0.325614</td>\n    </tr>\n    <tr>\n      <th>5</th>\n      <td>86</td>\n      <td>26</td>\n      <td>56</td>\n      <td>71</td>\n      <td>23</td>\n      <td>1.524549</td>\n    </tr>\n    <tr>\n      <th>6</th>\n      <td>9</td>\n      <td>70</td>\n      <td>7</td>\n      <td>99</td>\n      <td>19</td>\n      <td>-2.426198</td>\n    </tr>\n    <tr>\n      <th>7</th>\n      <td>61</td>\n      <td>87</td>\n      <td>72</td>\n      <td>7</td>\n      <td>25</td>\n      <td>0.059586</td>\n    </tr>\n    <tr>\n      <th>8</th>\n      <td>98</td>\n      <td>72</td>\n      <td>24</td>\n      <td>52</td>\n      <td>35</td>\n      <td>-1.276540</td>\n    </tr>\n    <tr>\n      <th>9</th>\n      <td>13</td>\n      <td>56</td>\n      <td>59</td>\n      <td>23</td>\n      <td>25</td>\n      <td>0.123010</td>\n    </tr>\n  </tbody>\n</table>\n</div>"
     },
     "metadata": {},
     "execution_count": 21
    }
   ],
   "source": [
    "df"
   ]
  },
  {
   "cell_type": "code",
   "execution_count": 30,
   "metadata": {},
   "outputs": [
    {
     "output_type": "execute_result",
     "data": {
      "text/plain": [
       "    D         F\n",
       "1  99 -0.250341\n",
       "3  45 -1.381351\n",
       "4   5 -0.325614\n",
       "6  99 -2.426198\n",
       "7   7  0.059586\n",
       "8  52 -1.276540\n",
       "9  23  0.123010"
      ],
      "text/html": "<div>\n<style scoped>\n    .dataframe tbody tr th:only-of-type {\n        vertical-align: middle;\n    }\n\n    .dataframe tbody tr th {\n        vertical-align: top;\n    }\n\n    .dataframe thead th {\n        text-align: right;\n    }\n</style>\n<table border=\"1\" class=\"dataframe\">\n  <thead>\n    <tr style=\"text-align: right;\">\n      <th></th>\n      <th>D</th>\n      <th>F</th>\n    </tr>\n  </thead>\n  <tbody>\n    <tr>\n      <th>1</th>\n      <td>99</td>\n      <td>-0.250341</td>\n    </tr>\n    <tr>\n      <th>3</th>\n      <td>45</td>\n      <td>-1.381351</td>\n    </tr>\n    <tr>\n      <th>4</th>\n      <td>5</td>\n      <td>-0.325614</td>\n    </tr>\n    <tr>\n      <th>6</th>\n      <td>99</td>\n      <td>-2.426198</td>\n    </tr>\n    <tr>\n      <th>7</th>\n      <td>7</td>\n      <td>0.059586</td>\n    </tr>\n    <tr>\n      <th>8</th>\n      <td>52</td>\n      <td>-1.276540</td>\n    </tr>\n    <tr>\n      <th>9</th>\n      <td>23</td>\n      <td>0.123010</td>\n    </tr>\n  </tbody>\n</table>\n</div>"
     },
     "metadata": {},
     "execution_count": 30
    }
   ],
   "source": [
    "df[(df['A']<10)|(df['B']>50)][[\"D\",\"F\"]]"
   ]
  },
  {
   "cell_type": "code",
   "execution_count": 31,
   "metadata": {},
   "outputs": [
    {
     "output_type": "execute_result",
     "data": {
      "text/plain": [
       "0    43\n",
       "1     3\n",
       "2    65\n",
       "3    45\n",
       "4    47\n",
       "5    86\n",
       "6     9\n",
       "7    61\n",
       "8    98\n",
       "9    13\n",
       "Name: A, dtype: int32"
      ]
     },
     "metadata": {},
     "execution_count": 31
    }
   ],
   "source": [
    "#sebutin nama kolomnya apa, CASE SENSITIVE\n",
    "df.loc[:,\"A\"]"
   ]
  },
  {
   "cell_type": "code",
   "execution_count": 32,
   "metadata": {},
   "outputs": [
    {
     "output_type": "execute_result",
     "data": {
      "text/plain": [
       "4    5\n",
       "7    7\n",
       "Name: D, dtype: int32"
      ]
     },
     "metadata": {},
     "execution_count": 32
    }
   ],
   "source": [
    "df.loc[[4,7],\"D\"]"
   ]
  },
  {
   "cell_type": "code",
   "execution_count": 33,
   "metadata": {},
   "outputs": [
    {
     "output_type": "execute_result",
     "data": {
      "text/plain": [
       "99"
      ]
     },
     "metadata": {},
     "execution_count": 33
    }
   ],
   "source": [
    "#index no indexnya\n",
    "df.iloc[1,3]"
   ]
  },
  {
   "cell_type": "code",
   "execution_count": null,
   "metadata": {},
   "outputs": [],
   "source": []
  }
 ]
}