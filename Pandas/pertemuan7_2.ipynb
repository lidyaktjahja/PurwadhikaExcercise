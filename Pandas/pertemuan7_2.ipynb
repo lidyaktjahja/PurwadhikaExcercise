{
 "metadata": {
  "language_info": {
   "codemirror_mode": {
    "name": "ipython",
    "version": 3
   },
   "file_extension": ".py",
   "mimetype": "text/x-python",
   "name": "python",
   "nbconvert_exporter": "python",
   "pygments_lexer": "ipython3",
   "version": "3.9.2-final"
  },
  "orig_nbformat": 2,
  "kernelspec": {
   "name": "python3",
   "display_name": "Python 3.9.2 64-bit",
   "metadata": {
    "interpreter": {
     "hash": "5f049ec40c8e1c362c5f7bfa23320edbf94c564ac4956e50293b2ff0f15f7d7f"
    }
   }
  }
 },
 "nbformat": 4,
 "nbformat_minor": 2,
 "cells": [
  {
   "source": [
    "Latihan 1 \n",
    "1. cari dataset di kaggle.com\n",
    "2. import dataset tsb ke dalam notebook masing2\n",
    "3. ekssplorasi dataset tsb. tampilkan : \n",
    "- informasi umum dari datanya\n",
    "- statistika deskriptif untuk numerik dan non numeriknya\n",
    "- unique values pada variable yang kategorik\n",
    "- berapa jumlah unique valuenya\n",
    "- di variabel mana saja terdapat missing valuenya"
   ],
   "cell_type": "markdown",
   "metadata": {}
  },
  {
   "cell_type": "code",
   "execution_count": 2,
   "metadata": {},
   "outputs": [],
   "source": [
    "import numpy as np \n",
    "import pandas as pd \n",
    "import seaborn as sns"
   ]
  },
  {
   "cell_type": "code",
   "execution_count": 44,
   "metadata": {},
   "outputs": [
    {
     "output_type": "execute_result",
     "data": {
      "text/plain": [
       "          Id Province/State Country/Region      Lat     Long        Date  \\\n",
       "0          1    Afghanistan    Afghanistan  33.0000  65.0000  2020-01-22   \n",
       "1          2    Afghanistan    Afghanistan  33.0000  65.0000  2020-01-23   \n",
       "2          3    Afghanistan    Afghanistan  33.0000  65.0000  2020-01-24   \n",
       "3          4    Afghanistan    Afghanistan  33.0000  65.0000  2020-01-25   \n",
       "4          5    Afghanistan    Afghanistan  33.0000  65.0000  2020-01-26   \n",
       "...      ...            ...            ...      ...      ...         ...   \n",
       "17887  26378         Zambia         Zambia -15.4167  28.2833  2020-03-20   \n",
       "17888  26379         Zambia         Zambia -15.4167  28.2833  2020-03-21   \n",
       "17889  26380         Zambia         Zambia -15.4167  28.2833  2020-03-22   \n",
       "17890  26381         Zambia         Zambia -15.4167  28.2833  2020-03-23   \n",
       "17891  26382         Zambia         Zambia -15.4167  28.2833  2020-03-24   \n",
       "\n",
       "       ConfirmedCases  Fatalities  DayOfYear  x0_ConfirmedCases  ...  \\\n",
       "0                 0.0         0.0         22         119.118777  ...   \n",
       "1                 0.0         0.0         23         119.118777  ...   \n",
       "2                 0.0         0.0         24         119.118777  ...   \n",
       "3                 0.0         0.0         25         119.118777  ...   \n",
       "4                 0.0         0.0         26         119.118777  ...   \n",
       "...               ...         ...        ...                ...  ...   \n",
       "17887             2.0         0.0         80          78.573074  ...   \n",
       "17888             2.0         0.0         81          78.573074  ...   \n",
       "17889             3.0         0.0         82          78.573074  ...   \n",
       "17890             3.0         0.0         83          78.573074  ...   \n",
       "17891             3.0         0.0         84          78.573074  ...   \n",
       "\n",
       "       obstetricians_act_working  anaesthesiologists_act_working  avg_hh  \\\n",
       "0                            0.0                             0.0    8.04   \n",
       "1                            0.0                             0.0    8.04   \n",
       "2                            0.0                             0.0    8.04   \n",
       "3                            0.0                             0.0    8.04   \n",
       "4                            0.0                             0.0    8.04   \n",
       "...                          ...                             ...     ...   \n",
       "17887                        0.0                             0.0    5.13   \n",
       "17888                        0.0                             0.0    5.13   \n",
       "17889                        0.0                             0.0    5.13   \n",
       "17890                        0.0                             0.0    5.13   \n",
       "17891                        0.0                             0.0    5.13   \n",
       "\n",
       "       hh%1  hh%2-3  hh%4-5  hh%6+  hh65+  y_ConfirmedCases  y_Fatalities  \n",
       "0      0.19    6.45   16.84  76.52  17.24                 0             0  \n",
       "1      0.19    6.45   16.84  76.52  17.24                 0             0  \n",
       "2      0.19    6.45   16.84  76.52  17.24                 0             0  \n",
       "3      0.19    6.45   16.84  76.52  17.24                 0             0  \n",
       "4      0.19    6.45   16.84  76.52  17.24                 0             0  \n",
       "...     ...     ...     ...    ...    ...               ...           ...  \n",
       "17887  7.17   21.41   30.06  41.35  14.13                 2             0  \n",
       "17888  7.17   21.41   30.06  41.35  14.13                 3             0  \n",
       "17889  7.17   21.41   30.06  41.35  14.13                 3             0  \n",
       "17890  7.17   21.41   30.06  41.35  14.13                 3             0  \n",
       "17891  7.17   21.41   30.06  41.35  14.13                 3             0  \n",
       "\n",
       "[17892 rows x 49 columns]"
      ],
      "text/html": "<div>\n<style scoped>\n    .dataframe tbody tr th:only-of-type {\n        vertical-align: middle;\n    }\n\n    .dataframe tbody tr th {\n        vertical-align: top;\n    }\n\n    .dataframe thead th {\n        text-align: right;\n    }\n</style>\n<table border=\"1\" class=\"dataframe\">\n  <thead>\n    <tr style=\"text-align: right;\">\n      <th></th>\n      <th>Id</th>\n      <th>Province/State</th>\n      <th>Country/Region</th>\n      <th>Lat</th>\n      <th>Long</th>\n      <th>Date</th>\n      <th>ConfirmedCases</th>\n      <th>Fatalities</th>\n      <th>DayOfYear</th>\n      <th>x0_ConfirmedCases</th>\n      <th>...</th>\n      <th>obstetricians_act_working</th>\n      <th>anaesthesiologists_act_working</th>\n      <th>avg_hh</th>\n      <th>hh%1</th>\n      <th>hh%2-3</th>\n      <th>hh%4-5</th>\n      <th>hh%6+</th>\n      <th>hh65+</th>\n      <th>y_ConfirmedCases</th>\n      <th>y_Fatalities</th>\n    </tr>\n  </thead>\n  <tbody>\n    <tr>\n      <th>0</th>\n      <td>1</td>\n      <td>Afghanistan</td>\n      <td>Afghanistan</td>\n      <td>33.0000</td>\n      <td>65.0000</td>\n      <td>2020-01-22</td>\n      <td>0.0</td>\n      <td>0.0</td>\n      <td>22</td>\n      <td>119.118777</td>\n      <td>...</td>\n      <td>0.0</td>\n      <td>0.0</td>\n      <td>8.04</td>\n      <td>0.19</td>\n      <td>6.45</td>\n      <td>16.84</td>\n      <td>76.52</td>\n      <td>17.24</td>\n      <td>0</td>\n      <td>0</td>\n    </tr>\n    <tr>\n      <th>1</th>\n      <td>2</td>\n      <td>Afghanistan</td>\n      <td>Afghanistan</td>\n      <td>33.0000</td>\n      <td>65.0000</td>\n      <td>2020-01-23</td>\n      <td>0.0</td>\n      <td>0.0</td>\n      <td>23</td>\n      <td>119.118777</td>\n      <td>...</td>\n      <td>0.0</td>\n      <td>0.0</td>\n      <td>8.04</td>\n      <td>0.19</td>\n      <td>6.45</td>\n      <td>16.84</td>\n      <td>76.52</td>\n      <td>17.24</td>\n      <td>0</td>\n      <td>0</td>\n    </tr>\n    <tr>\n      <th>2</th>\n      <td>3</td>\n      <td>Afghanistan</td>\n      <td>Afghanistan</td>\n      <td>33.0000</td>\n      <td>65.0000</td>\n      <td>2020-01-24</td>\n      <td>0.0</td>\n      <td>0.0</td>\n      <td>24</td>\n      <td>119.118777</td>\n      <td>...</td>\n      <td>0.0</td>\n      <td>0.0</td>\n      <td>8.04</td>\n      <td>0.19</td>\n      <td>6.45</td>\n      <td>16.84</td>\n      <td>76.52</td>\n      <td>17.24</td>\n      <td>0</td>\n      <td>0</td>\n    </tr>\n    <tr>\n      <th>3</th>\n      <td>4</td>\n      <td>Afghanistan</td>\n      <td>Afghanistan</td>\n      <td>33.0000</td>\n      <td>65.0000</td>\n      <td>2020-01-25</td>\n      <td>0.0</td>\n      <td>0.0</td>\n      <td>25</td>\n      <td>119.118777</td>\n      <td>...</td>\n      <td>0.0</td>\n      <td>0.0</td>\n      <td>8.04</td>\n      <td>0.19</td>\n      <td>6.45</td>\n      <td>16.84</td>\n      <td>76.52</td>\n      <td>17.24</td>\n      <td>0</td>\n      <td>0</td>\n    </tr>\n    <tr>\n      <th>4</th>\n      <td>5</td>\n      <td>Afghanistan</td>\n      <td>Afghanistan</td>\n      <td>33.0000</td>\n      <td>65.0000</td>\n      <td>2020-01-26</td>\n      <td>0.0</td>\n      <td>0.0</td>\n      <td>26</td>\n      <td>119.118777</td>\n      <td>...</td>\n      <td>0.0</td>\n      <td>0.0</td>\n      <td>8.04</td>\n      <td>0.19</td>\n      <td>6.45</td>\n      <td>16.84</td>\n      <td>76.52</td>\n      <td>17.24</td>\n      <td>0</td>\n      <td>0</td>\n    </tr>\n    <tr>\n      <th>...</th>\n      <td>...</td>\n      <td>...</td>\n      <td>...</td>\n      <td>...</td>\n      <td>...</td>\n      <td>...</td>\n      <td>...</td>\n      <td>...</td>\n      <td>...</td>\n      <td>...</td>\n      <td>...</td>\n      <td>...</td>\n      <td>...</td>\n      <td>...</td>\n      <td>...</td>\n      <td>...</td>\n      <td>...</td>\n      <td>...</td>\n      <td>...</td>\n      <td>...</td>\n      <td>...</td>\n    </tr>\n    <tr>\n      <th>17887</th>\n      <td>26378</td>\n      <td>Zambia</td>\n      <td>Zambia</td>\n      <td>-15.4167</td>\n      <td>28.2833</td>\n      <td>2020-03-20</td>\n      <td>2.0</td>\n      <td>0.0</td>\n      <td>80</td>\n      <td>78.573074</td>\n      <td>...</td>\n      <td>0.0</td>\n      <td>0.0</td>\n      <td>5.13</td>\n      <td>7.17</td>\n      <td>21.41</td>\n      <td>30.06</td>\n      <td>41.35</td>\n      <td>14.13</td>\n      <td>2</td>\n      <td>0</td>\n    </tr>\n    <tr>\n      <th>17888</th>\n      <td>26379</td>\n      <td>Zambia</td>\n      <td>Zambia</td>\n      <td>-15.4167</td>\n      <td>28.2833</td>\n      <td>2020-03-21</td>\n      <td>2.0</td>\n      <td>0.0</td>\n      <td>81</td>\n      <td>78.573074</td>\n      <td>...</td>\n      <td>0.0</td>\n      <td>0.0</td>\n      <td>5.13</td>\n      <td>7.17</td>\n      <td>21.41</td>\n      <td>30.06</td>\n      <td>41.35</td>\n      <td>14.13</td>\n      <td>3</td>\n      <td>0</td>\n    </tr>\n    <tr>\n      <th>17889</th>\n      <td>26380</td>\n      <td>Zambia</td>\n      <td>Zambia</td>\n      <td>-15.4167</td>\n      <td>28.2833</td>\n      <td>2020-03-22</td>\n      <td>3.0</td>\n      <td>0.0</td>\n      <td>82</td>\n      <td>78.573074</td>\n      <td>...</td>\n      <td>0.0</td>\n      <td>0.0</td>\n      <td>5.13</td>\n      <td>7.17</td>\n      <td>21.41</td>\n      <td>30.06</td>\n      <td>41.35</td>\n      <td>14.13</td>\n      <td>3</td>\n      <td>0</td>\n    </tr>\n    <tr>\n      <th>17890</th>\n      <td>26381</td>\n      <td>Zambia</td>\n      <td>Zambia</td>\n      <td>-15.4167</td>\n      <td>28.2833</td>\n      <td>2020-03-23</td>\n      <td>3.0</td>\n      <td>0.0</td>\n      <td>83</td>\n      <td>78.573074</td>\n      <td>...</td>\n      <td>0.0</td>\n      <td>0.0</td>\n      <td>5.13</td>\n      <td>7.17</td>\n      <td>21.41</td>\n      <td>30.06</td>\n      <td>41.35</td>\n      <td>14.13</td>\n      <td>3</td>\n      <td>0</td>\n    </tr>\n    <tr>\n      <th>17891</th>\n      <td>26382</td>\n      <td>Zambia</td>\n      <td>Zambia</td>\n      <td>-15.4167</td>\n      <td>28.2833</td>\n      <td>2020-03-24</td>\n      <td>3.0</td>\n      <td>0.0</td>\n      <td>84</td>\n      <td>78.573074</td>\n      <td>...</td>\n      <td>0.0</td>\n      <td>0.0</td>\n      <td>5.13</td>\n      <td>7.17</td>\n      <td>21.41</td>\n      <td>30.06</td>\n      <td>41.35</td>\n      <td>14.13</td>\n      <td>3</td>\n      <td>0</td>\n    </tr>\n  </tbody>\n</table>\n<p>17892 rows × 49 columns</p>\n</div>"
     },
     "metadata": {},
     "execution_count": 44
    }
   ],
   "source": [
    "data = pd.read_csv(\"train_aug.csv\")\n",
    "data"
   ]
  },
  {
   "cell_type": "code",
   "execution_count": 45,
   "metadata": {},
   "outputs": [
    {
     "output_type": "stream",
     "name": "stdout",
     "text": [
      "<class 'pandas.core.frame.DataFrame'>\nRangeIndex: 17892 entries, 0 to 17891\nData columns (total 49 columns):\n #   Column                          Non-Null Count  Dtype  \n---  ------                          --------------  -----  \n 0   Id                              17892 non-null  int64  \n 1   Province/State                  17892 non-null  object \n 2   Country/Region                  17892 non-null  object \n 3   Lat                             17892 non-null  float64\n 4   Long                            17892 non-null  float64\n 5   Date                            17892 non-null  object \n 6   ConfirmedCases                  17892 non-null  float64\n 7   Fatalities                      17892 non-null  float64\n 8   DayOfYear                       17892 non-null  int64  \n 9   x0_ConfirmedCases               17892 non-null  float64\n 10  L_ConfirmedCases                17892 non-null  float64\n 11  k_ConfirmedCases                17892 non-null  float64\n 12  sx0_ConfirmedCases              17892 non-null  float64\n 13  sx0L_ConfirmedCases             17892 non-null  float64\n 14  sx0k_ConfirmedCases             17892 non-null  float64\n 15  sL_ConfirmedCases               17892 non-null  float64\n 16  sLk_ConfirmedCases              17892 non-null  float64\n 17  sk_ConfirmedCases               17892 non-null  float64\n 18  x0_Fatalities                   17892 non-null  float64\n 19  L_Fatalities                    17892 non-null  float64\n 20  k_Fatalities                    17892 non-null  float64\n 21  sx0_Fatalities                  17892 non-null  float64\n 22  sx0L_Fatalities                 17892 non-null  float64\n 23  sx0k_Fatalities                 17892 non-null  float64\n 24  sL_Fatalities                   17892 non-null  float64\n 25  sLk_Fatalities                  17892 non-null  float64\n 26  sk_Fatalities                   17892 non-null  float64\n 27  life_expectancy_years           13545 non-null  float64\n 28  literacy_rates                  13545 non-null  float64\n 29  veg_supply_person_kg_year       13545 non-null  float64\n 30  respiratory_infections_death    13545 non-null  float64\n 31  deaths_from_smoking%            13545 non-null  float64\n 32  young%                          13545 non-null  float64\n 33  old%                            13545 non-null  float64\n 34  density                         13545 non-null  float64\n 35  population                      13545 non-null  float64\n 36  fem%                            13545 non-null  float64\n 37  number_doc_per1000              13545 non-null  float64\n 38  surgeons_act_working            13482 non-null  float64\n 39  obstetricians_act_working       13482 non-null  float64\n 40  anaesthesiologists_act_working  13545 non-null  float64\n 41  avg_hh                          8694 non-null   float64\n 42  hh%1                            10332 non-null  float64\n 43  hh%2-3                          10332 non-null  float64\n 44  hh%4-5                          10332 non-null  float64\n 45  hh%6+                           10332 non-null  float64\n 46  hh65+                           4221 non-null   float64\n 47  y_ConfirmedCases                17892 non-null  int64  \n 48  y_Fatalities                    17892 non-null  int64  \ndtypes: float64(42), int64(4), object(3)\nmemory usage: 6.7+ MB\n"
     ]
    }
   ],
   "source": [
    "data.info()"
   ]
  },
  {
   "cell_type": "code",
   "execution_count": 60,
   "metadata": {},
   "outputs": [
    {
     "output_type": "execute_result",
     "data": {
      "text/plain": [
       "                 Id          Lat         Long  ConfirmedCases   Fatalities  \\\n",
       "count   4158.000000  4158.000000  4158.000000     4158.000000  4158.000000   \n",
       "mean   11972.636364    12.288445     6.392353       62.818182     1.442039   \n",
       "std     6327.457109    20.695265    62.615489      652.428701    21.611967   \n",
       "min        1.000000   -35.675100  -102.552800        0.000000     0.000000   \n",
       "25%     8774.250000     2.500000   -58.750000        0.000000     0.000000   \n",
       "50%    11703.500000    11.120900    11.555750        0.000000     0.000000   \n",
       "75%    16213.750000    26.000000    45.038200        2.000000     0.000000   \n",
       "max    26382.000000    53.709800   149.406800    19874.000000   860.000000   \n",
       "\n",
       "         DayOfYear  x0_ConfirmedCases  L_ConfirmedCases  k_ConfirmedCases  \\\n",
       "count  4158.000000        4158.000000      4.158000e+03       4158.000000   \n",
       "mean     53.000000          89.218585      1.559742e+04          0.417113   \n",
       "std      18.186429          38.355950      7.112527e+04          0.296481   \n",
       "min      22.000000          53.000000      1.000000e-10          0.009136   \n",
       "25%      37.000000          79.113006      3.167001e+01          0.236951   \n",
       "50%      53.000000          81.986301      2.470915e+02          0.339870   \n",
       "75%      69.000000          88.079528      1.573266e+03          0.518803   \n",
       "max      84.000000         379.404257      4.255084e+05          2.000000   \n",
       "\n",
       "       sx0_ConfirmedCases  ...  obstetricians_act_working  \\\n",
       "count        4.158000e+03  ...                4158.000000   \n",
       "mean         9.325986e+05  ...                1748.015152   \n",
       "std          6.997822e+06  ...                3709.495031   \n",
       "min          2.723834e-03  ...                   0.000000   \n",
       "25%          5.970604e-02  ...                   0.000000   \n",
       "50%          2.850723e-01  ...                  10.000000   \n",
       "75%          2.675215e+01  ...                 600.000000   \n",
       "max          5.731035e+07  ...               15363.000000   \n",
       "\n",
       "       anaesthesiologists_act_working       avg_hh         hh%1       hh%2-3  \\\n",
       "count                     4158.000000  4158.000000  4158.000000  4158.000000   \n",
       "mean                      1148.287879     4.361970    12.090909    31.909545   \n",
       "std                       2374.410373     1.285268     7.526005    10.842734   \n",
       "min                          0.000000     2.210000     0.190000     6.450000   \n",
       "25%                          0.000000     3.460000     6.480000    23.560000   \n",
       "50%                          4.000000     4.235000    11.175000    30.195000   \n",
       "75%                        280.000000     5.130000    17.450000    41.290000   \n",
       "max                       7076.000000     8.660000    37.510000    51.730000   \n",
       "\n",
       "            hh%4-5        hh%6+        hh65+  y_ConfirmedCases  y_Fatalities  \n",
       "count  4158.000000  4158.000000  4158.000000       4158.000000   4158.000000  \n",
       "mean     29.731364    26.268333    21.415909         61.406205      1.320587  \n",
       "std       7.057917    16.738767     6.559256        606.325510     18.823194  \n",
       "min      15.480000     1.620000    10.790000          0.000000      0.000000  \n",
       "25%      24.290000    11.660000    16.030000          0.000000      0.000000  \n",
       "50%      29.555000    24.140000    20.290000          0.000000      0.000000  \n",
       "75%      35.490000    37.720000    24.760000          1.000000      0.000000  \n",
       "max      45.590000    76.520000    38.760000      12641.000000    526.000000  \n",
       "\n",
       "[8 rows x 46 columns]"
      ],
      "text/html": "<div>\n<style scoped>\n    .dataframe tbody tr th:only-of-type {\n        vertical-align: middle;\n    }\n\n    .dataframe tbody tr th {\n        vertical-align: top;\n    }\n\n    .dataframe thead th {\n        text-align: right;\n    }\n</style>\n<table border=\"1\" class=\"dataframe\">\n  <thead>\n    <tr style=\"text-align: right;\">\n      <th></th>\n      <th>Id</th>\n      <th>Lat</th>\n      <th>Long</th>\n      <th>ConfirmedCases</th>\n      <th>Fatalities</th>\n      <th>DayOfYear</th>\n      <th>x0_ConfirmedCases</th>\n      <th>L_ConfirmedCases</th>\n      <th>k_ConfirmedCases</th>\n      <th>sx0_ConfirmedCases</th>\n      <th>...</th>\n      <th>obstetricians_act_working</th>\n      <th>anaesthesiologists_act_working</th>\n      <th>avg_hh</th>\n      <th>hh%1</th>\n      <th>hh%2-3</th>\n      <th>hh%4-5</th>\n      <th>hh%6+</th>\n      <th>hh65+</th>\n      <th>y_ConfirmedCases</th>\n      <th>y_Fatalities</th>\n    </tr>\n  </thead>\n  <tbody>\n    <tr>\n      <th>count</th>\n      <td>4158.000000</td>\n      <td>4158.000000</td>\n      <td>4158.000000</td>\n      <td>4158.000000</td>\n      <td>4158.000000</td>\n      <td>4158.000000</td>\n      <td>4158.000000</td>\n      <td>4.158000e+03</td>\n      <td>4158.000000</td>\n      <td>4.158000e+03</td>\n      <td>...</td>\n      <td>4158.000000</td>\n      <td>4158.000000</td>\n      <td>4158.000000</td>\n      <td>4158.000000</td>\n      <td>4158.000000</td>\n      <td>4158.000000</td>\n      <td>4158.000000</td>\n      <td>4158.000000</td>\n      <td>4158.000000</td>\n      <td>4158.000000</td>\n    </tr>\n    <tr>\n      <th>mean</th>\n      <td>11972.636364</td>\n      <td>12.288445</td>\n      <td>6.392353</td>\n      <td>62.818182</td>\n      <td>1.442039</td>\n      <td>53.000000</td>\n      <td>89.218585</td>\n      <td>1.559742e+04</td>\n      <td>0.417113</td>\n      <td>9.325986e+05</td>\n      <td>...</td>\n      <td>1748.015152</td>\n      <td>1148.287879</td>\n      <td>4.361970</td>\n      <td>12.090909</td>\n      <td>31.909545</td>\n      <td>29.731364</td>\n      <td>26.268333</td>\n      <td>21.415909</td>\n      <td>61.406205</td>\n      <td>1.320587</td>\n    </tr>\n    <tr>\n      <th>std</th>\n      <td>6327.457109</td>\n      <td>20.695265</td>\n      <td>62.615489</td>\n      <td>652.428701</td>\n      <td>21.611967</td>\n      <td>18.186429</td>\n      <td>38.355950</td>\n      <td>7.112527e+04</td>\n      <td>0.296481</td>\n      <td>6.997822e+06</td>\n      <td>...</td>\n      <td>3709.495031</td>\n      <td>2374.410373</td>\n      <td>1.285268</td>\n      <td>7.526005</td>\n      <td>10.842734</td>\n      <td>7.057917</td>\n      <td>16.738767</td>\n      <td>6.559256</td>\n      <td>606.325510</td>\n      <td>18.823194</td>\n    </tr>\n    <tr>\n      <th>min</th>\n      <td>1.000000</td>\n      <td>-35.675100</td>\n      <td>-102.552800</td>\n      <td>0.000000</td>\n      <td>0.000000</td>\n      <td>22.000000</td>\n      <td>53.000000</td>\n      <td>1.000000e-10</td>\n      <td>0.009136</td>\n      <td>2.723834e-03</td>\n      <td>...</td>\n      <td>0.000000</td>\n      <td>0.000000</td>\n      <td>2.210000</td>\n      <td>0.190000</td>\n      <td>6.450000</td>\n      <td>15.480000</td>\n      <td>1.620000</td>\n      <td>10.790000</td>\n      <td>0.000000</td>\n      <td>0.000000</td>\n    </tr>\n    <tr>\n      <th>25%</th>\n      <td>8774.250000</td>\n      <td>2.500000</td>\n      <td>-58.750000</td>\n      <td>0.000000</td>\n      <td>0.000000</td>\n      <td>37.000000</td>\n      <td>79.113006</td>\n      <td>3.167001e+01</td>\n      <td>0.236951</td>\n      <td>5.970604e-02</td>\n      <td>...</td>\n      <td>0.000000</td>\n      <td>0.000000</td>\n      <td>3.460000</td>\n      <td>6.480000</td>\n      <td>23.560000</td>\n      <td>24.290000</td>\n      <td>11.660000</td>\n      <td>16.030000</td>\n      <td>0.000000</td>\n      <td>0.000000</td>\n    </tr>\n    <tr>\n      <th>50%</th>\n      <td>11703.500000</td>\n      <td>11.120900</td>\n      <td>11.555750</td>\n      <td>0.000000</td>\n      <td>0.000000</td>\n      <td>53.000000</td>\n      <td>81.986301</td>\n      <td>2.470915e+02</td>\n      <td>0.339870</td>\n      <td>2.850723e-01</td>\n      <td>...</td>\n      <td>10.000000</td>\n      <td>4.000000</td>\n      <td>4.235000</td>\n      <td>11.175000</td>\n      <td>30.195000</td>\n      <td>29.555000</td>\n      <td>24.140000</td>\n      <td>20.290000</td>\n      <td>0.000000</td>\n      <td>0.000000</td>\n    </tr>\n    <tr>\n      <th>75%</th>\n      <td>16213.750000</td>\n      <td>26.000000</td>\n      <td>45.038200</td>\n      <td>2.000000</td>\n      <td>0.000000</td>\n      <td>69.000000</td>\n      <td>88.079528</td>\n      <td>1.573266e+03</td>\n      <td>0.518803</td>\n      <td>2.675215e+01</td>\n      <td>...</td>\n      <td>600.000000</td>\n      <td>280.000000</td>\n      <td>5.130000</td>\n      <td>17.450000</td>\n      <td>41.290000</td>\n      <td>35.490000</td>\n      <td>37.720000</td>\n      <td>24.760000</td>\n      <td>1.000000</td>\n      <td>0.000000</td>\n    </tr>\n    <tr>\n      <th>max</th>\n      <td>26382.000000</td>\n      <td>53.709800</td>\n      <td>149.406800</td>\n      <td>19874.000000</td>\n      <td>860.000000</td>\n      <td>84.000000</td>\n      <td>379.404257</td>\n      <td>4.255084e+05</td>\n      <td>2.000000</td>\n      <td>5.731035e+07</td>\n      <td>...</td>\n      <td>15363.000000</td>\n      <td>7076.000000</td>\n      <td>8.660000</td>\n      <td>37.510000</td>\n      <td>51.730000</td>\n      <td>45.590000</td>\n      <td>76.520000</td>\n      <td>38.760000</td>\n      <td>12641.000000</td>\n      <td>526.000000</td>\n    </tr>\n  </tbody>\n</table>\n<p>8 rows × 46 columns</p>\n</div>"
     },
     "metadata": {},
     "execution_count": 60
    }
   ],
   "source": [
    "data.describe()"
   ]
  },
  {
   "cell_type": "code",
   "execution_count": 63,
   "metadata": {},
   "outputs": [
    {
     "output_type": "execute_result",
     "data": {
      "text/plain": [
       "                  Province/State Country/Region        Date\n",
       "count                       4158           4158        4158\n",
       "unique                        66             59          63\n",
       "top     Central African Republic         France  2020-03-05\n",
       "freq                          63            504          66"
      ],
      "text/html": "<div>\n<style scoped>\n    .dataframe tbody tr th:only-of-type {\n        vertical-align: middle;\n    }\n\n    .dataframe tbody tr th {\n        vertical-align: top;\n    }\n\n    .dataframe thead th {\n        text-align: right;\n    }\n</style>\n<table border=\"1\" class=\"dataframe\">\n  <thead>\n    <tr style=\"text-align: right;\">\n      <th></th>\n      <th>Province/State</th>\n      <th>Country/Region</th>\n      <th>Date</th>\n    </tr>\n  </thead>\n  <tbody>\n    <tr>\n      <th>count</th>\n      <td>4158</td>\n      <td>4158</td>\n      <td>4158</td>\n    </tr>\n    <tr>\n      <th>unique</th>\n      <td>66</td>\n      <td>59</td>\n      <td>63</td>\n    </tr>\n    <tr>\n      <th>top</th>\n      <td>Central African Republic</td>\n      <td>France</td>\n      <td>2020-03-05</td>\n    </tr>\n    <tr>\n      <th>freq</th>\n      <td>63</td>\n      <td>504</td>\n      <td>66</td>\n    </tr>\n  </tbody>\n</table>\n</div>"
     },
     "metadata": {},
     "execution_count": 63
    }
   ],
   "source": [
    "data.describe(exclude = \"number\") #kalo exclude number, data lainnya akan ditampilin semua"
   ]
  },
  {
   "cell_type": "code",
   "execution_count": 62,
   "metadata": {},
   "outputs": [
    {
     "output_type": "execute_result",
     "data": {
      "text/plain": [
       "                  Province/State Country/Region        Date\n",
       "count                       4158           4158        4158\n",
       "unique                        66             59          63\n",
       "top     Central African Republic         France  2020-03-05\n",
       "freq                          63            504          66"
      ],
      "text/html": "<div>\n<style scoped>\n    .dataframe tbody tr th:only-of-type {\n        vertical-align: middle;\n    }\n\n    .dataframe tbody tr th {\n        vertical-align: top;\n    }\n\n    .dataframe thead th {\n        text-align: right;\n    }\n</style>\n<table border=\"1\" class=\"dataframe\">\n  <thead>\n    <tr style=\"text-align: right;\">\n      <th></th>\n      <th>Province/State</th>\n      <th>Country/Region</th>\n      <th>Date</th>\n    </tr>\n  </thead>\n  <tbody>\n    <tr>\n      <th>count</th>\n      <td>4158</td>\n      <td>4158</td>\n      <td>4158</td>\n    </tr>\n    <tr>\n      <th>unique</th>\n      <td>66</td>\n      <td>59</td>\n      <td>63</td>\n    </tr>\n    <tr>\n      <th>top</th>\n      <td>Central African Republic</td>\n      <td>France</td>\n      <td>2020-03-05</td>\n    </tr>\n    <tr>\n      <th>freq</th>\n      <td>63</td>\n      <td>504</td>\n      <td>66</td>\n    </tr>\n  </tbody>\n</table>\n</div>"
     },
     "metadata": {},
     "execution_count": 62
    }
   ],
   "source": [
    "data.describe(include = object) #include ambil object aja, berhubung ini adanya object aja, jadi sama"
   ]
  },
  {
   "cell_type": "code",
   "execution_count": null,
   "metadata": {},
   "outputs": [],
   "source": []
  },
  {
   "cell_type": "code",
   "execution_count": 49,
   "metadata": {},
   "outputs": [
    {
     "output_type": "execute_result",
     "data": {
      "text/plain": [
       "Diamond Princess    126\n",
       "Aruba               126\n",
       "Georgia             126\n",
       "Guam                126\n",
       "Puerto Rico         126\n",
       "                   ... \n",
       "Hong Kong            63\n",
       "Quebec               63\n",
       "Greece               63\n",
       "Belgium              63\n",
       "Rwanda               63\n",
       "Name: Province/State, Length: 274, dtype: int64"
      ]
     },
     "metadata": {},
     "execution_count": 49
    }
   ],
   "source": [
    "data['Province/State'].value_counts()"
   ]
  },
  {
   "cell_type": "code",
   "execution_count": 50,
   "metadata": {},
   "outputs": [
    {
     "output_type": "execute_result",
     "data": {
      "text/plain": [
       "US             3654\n",
       "China          2079\n",
       "Canada          693\n",
       "Australia       567\n",
       "France          504\n",
       "               ... \n",
       "Tanzania         63\n",
       "Singapore        63\n",
       "Switzerland      63\n",
       "Argentina        63\n",
       "Rwanda           63\n",
       "Name: Country/Region, Length: 163, dtype: int64"
      ]
     },
     "metadata": {},
     "execution_count": 50
    }
   ],
   "source": [
    "data['Country/Region'].value_counts()"
   ]
  },
  {
   "cell_type": "code",
   "execution_count": 52,
   "metadata": {},
   "outputs": [
    {
     "output_type": "execute_result",
     "data": {
      "text/plain": [
       "Id                                    0\n",
       "Province/State                        0\n",
       "Country/Region                        0\n",
       "Lat                                   0\n",
       "Long                                  0\n",
       "Date                                  0\n",
       "ConfirmedCases                        0\n",
       "Fatalities                            0\n",
       "DayOfYear                             0\n",
       "x0_ConfirmedCases                     0\n",
       "L_ConfirmedCases                      0\n",
       "k_ConfirmedCases                      0\n",
       "sx0_ConfirmedCases                    0\n",
       "sx0L_ConfirmedCases                   0\n",
       "sx0k_ConfirmedCases                   0\n",
       "sL_ConfirmedCases                     0\n",
       "sLk_ConfirmedCases                    0\n",
       "sk_ConfirmedCases                     0\n",
       "x0_Fatalities                         0\n",
       "L_Fatalities                          0\n",
       "k_Fatalities                          0\n",
       "sx0_Fatalities                        0\n",
       "sx0L_Fatalities                       0\n",
       "sx0k_Fatalities                       0\n",
       "sL_Fatalities                         0\n",
       "sLk_Fatalities                        0\n",
       "sk_Fatalities                         0\n",
       "life_expectancy_years              4347\n",
       "literacy_rates                     4347\n",
       "veg_supply_person_kg_year          4347\n",
       "respiratory_infections_death       4347\n",
       "deaths_from_smoking%               4347\n",
       "young%                             4347\n",
       "old%                               4347\n",
       "density                            4347\n",
       "population                         4347\n",
       "fem%                               4347\n",
       "number_doc_per1000                 4347\n",
       "surgeons_act_working               4410\n",
       "obstetricians_act_working          4410\n",
       "anaesthesiologists_act_working     4347\n",
       "avg_hh                             9198\n",
       "hh%1                               7560\n",
       "hh%2-3                             7560\n",
       "hh%4-5                             7560\n",
       "hh%6+                              7560\n",
       "hh65+                             13671\n",
       "y_ConfirmedCases                      0\n",
       "y_Fatalities                          0\n",
       "dtype: int64"
      ]
     },
     "metadata": {},
     "execution_count": 52
    }
   ],
   "source": [
    "data.isna().sum()"
   ]
  },
  {
   "cell_type": "code",
   "execution_count": 54,
   "metadata": {},
   "outputs": [
    {
     "output_type": "execute_result",
     "data": {
      "text/plain": [
       "       ForecastId Province/State Country/Region      Lat     Long        Date  \\\n",
       "0               1    Afghanistan    Afghanistan  33.0000  65.0000  2020-03-12   \n",
       "1               2    Afghanistan    Afghanistan  33.0000  65.0000  2020-03-13   \n",
       "2               3    Afghanistan    Afghanistan  33.0000  65.0000  2020-03-14   \n",
       "3               4    Afghanistan    Afghanistan  33.0000  65.0000  2020-03-15   \n",
       "4               5    Afghanistan    Afghanistan  33.0000  65.0000  2020-03-16   \n",
       "...           ...            ...            ...      ...      ...         ...   \n",
       "12207       12208         Zambia         Zambia -15.4167  28.2833  2020-04-19   \n",
       "12208       12209         Zambia         Zambia -15.4167  28.2833  2020-04-20   \n",
       "12209       12210         Zambia         Zambia -15.4167  28.2833  2020-04-21   \n",
       "12210       12211         Zambia         Zambia -15.4167  28.2833  2020-04-22   \n",
       "12211       12212         Zambia         Zambia -15.4167  28.2833  2020-04-23   \n",
       "\n",
       "       DayOfYear  x0_ConfirmedCases  L_ConfirmedCases  k_ConfirmedCases  ...  \\\n",
       "0             72         119.118777       44630.51962          0.187914  ...   \n",
       "1             73         119.118777       44630.51962          0.187914  ...   \n",
       "2             74         119.118777       44630.51962          0.187914  ...   \n",
       "3             75         119.118777       44630.51962          0.187914  ...   \n",
       "4             76         119.118777       44630.51962          0.187914  ...   \n",
       "...          ...                ...               ...               ...  ...   \n",
       "12207        110          78.573074           3.00000          0.821467  ...   \n",
       "12208        111          78.573074           3.00000          0.821467  ...   \n",
       "12209        112          78.573074           3.00000          0.821467  ...   \n",
       "12210        113          78.573074           3.00000          0.821467  ...   \n",
       "12211        114          78.573074           3.00000          0.821467  ...   \n",
       "\n",
       "       obstetricians_act_working  anaesthesiologists_act_working  avg_hh  \\\n",
       "0                            0.0                             0.0    8.04   \n",
       "1                            0.0                             0.0    8.04   \n",
       "2                            0.0                             0.0    8.04   \n",
       "3                            0.0                             0.0    8.04   \n",
       "4                            0.0                             0.0    8.04   \n",
       "...                          ...                             ...     ...   \n",
       "12207                        0.0                             0.0    5.13   \n",
       "12208                        0.0                             0.0    5.13   \n",
       "12209                        0.0                             0.0    5.13   \n",
       "12210                        0.0                             0.0    5.13   \n",
       "12211                        0.0                             0.0    5.13   \n",
       "\n",
       "       hh%1  hh%2-3  hh%4-5  hh%6+  hh65+  y_ConfirmedCases  y_Fatalities  \n",
       "0      0.19    6.45   16.84  76.52  17.24                 6             0  \n",
       "1      0.19    6.45   16.84  76.52  17.24                 8             0  \n",
       "2      0.19    6.45   16.84  76.52  17.24                 9             0  \n",
       "3      0.19    6.45   16.84  76.52  17.24                11             0  \n",
       "4      0.19    6.45   16.84  76.52  17.24                14             0  \n",
       "...     ...     ...     ...    ...    ...               ...           ...  \n",
       "12207  7.17   21.41   30.06  41.35  14.13                 3             0  \n",
       "12208  7.17   21.41   30.06  41.35  14.13                 3             0  \n",
       "12209  7.17   21.41   30.06  41.35  14.13                 3             0  \n",
       "12210  7.17   21.41   30.06  41.35  14.13                 3             0  \n",
       "12211  7.17   21.41   30.06  41.35  14.13                 3             0  \n",
       "\n",
       "[12212 rows x 47 columns]"
      ],
      "text/html": "<div>\n<style scoped>\n    .dataframe tbody tr th:only-of-type {\n        vertical-align: middle;\n    }\n\n    .dataframe tbody tr th {\n        vertical-align: top;\n    }\n\n    .dataframe thead th {\n        text-align: right;\n    }\n</style>\n<table border=\"1\" class=\"dataframe\">\n  <thead>\n    <tr style=\"text-align: right;\">\n      <th></th>\n      <th>ForecastId</th>\n      <th>Province/State</th>\n      <th>Country/Region</th>\n      <th>Lat</th>\n      <th>Long</th>\n      <th>Date</th>\n      <th>DayOfYear</th>\n      <th>x0_ConfirmedCases</th>\n      <th>L_ConfirmedCases</th>\n      <th>k_ConfirmedCases</th>\n      <th>...</th>\n      <th>obstetricians_act_working</th>\n      <th>anaesthesiologists_act_working</th>\n      <th>avg_hh</th>\n      <th>hh%1</th>\n      <th>hh%2-3</th>\n      <th>hh%4-5</th>\n      <th>hh%6+</th>\n      <th>hh65+</th>\n      <th>y_ConfirmedCases</th>\n      <th>y_Fatalities</th>\n    </tr>\n  </thead>\n  <tbody>\n    <tr>\n      <th>0</th>\n      <td>1</td>\n      <td>Afghanistan</td>\n      <td>Afghanistan</td>\n      <td>33.0000</td>\n      <td>65.0000</td>\n      <td>2020-03-12</td>\n      <td>72</td>\n      <td>119.118777</td>\n      <td>44630.51962</td>\n      <td>0.187914</td>\n      <td>...</td>\n      <td>0.0</td>\n      <td>0.0</td>\n      <td>8.04</td>\n      <td>0.19</td>\n      <td>6.45</td>\n      <td>16.84</td>\n      <td>76.52</td>\n      <td>17.24</td>\n      <td>6</td>\n      <td>0</td>\n    </tr>\n    <tr>\n      <th>1</th>\n      <td>2</td>\n      <td>Afghanistan</td>\n      <td>Afghanistan</td>\n      <td>33.0000</td>\n      <td>65.0000</td>\n      <td>2020-03-13</td>\n      <td>73</td>\n      <td>119.118777</td>\n      <td>44630.51962</td>\n      <td>0.187914</td>\n      <td>...</td>\n      <td>0.0</td>\n      <td>0.0</td>\n      <td>8.04</td>\n      <td>0.19</td>\n      <td>6.45</td>\n      <td>16.84</td>\n      <td>76.52</td>\n      <td>17.24</td>\n      <td>8</td>\n      <td>0</td>\n    </tr>\n    <tr>\n      <th>2</th>\n      <td>3</td>\n      <td>Afghanistan</td>\n      <td>Afghanistan</td>\n      <td>33.0000</td>\n      <td>65.0000</td>\n      <td>2020-03-14</td>\n      <td>74</td>\n      <td>119.118777</td>\n      <td>44630.51962</td>\n      <td>0.187914</td>\n      <td>...</td>\n      <td>0.0</td>\n      <td>0.0</td>\n      <td>8.04</td>\n      <td>0.19</td>\n      <td>6.45</td>\n      <td>16.84</td>\n      <td>76.52</td>\n      <td>17.24</td>\n      <td>9</td>\n      <td>0</td>\n    </tr>\n    <tr>\n      <th>3</th>\n      <td>4</td>\n      <td>Afghanistan</td>\n      <td>Afghanistan</td>\n      <td>33.0000</td>\n      <td>65.0000</td>\n      <td>2020-03-15</td>\n      <td>75</td>\n      <td>119.118777</td>\n      <td>44630.51962</td>\n      <td>0.187914</td>\n      <td>...</td>\n      <td>0.0</td>\n      <td>0.0</td>\n      <td>8.04</td>\n      <td>0.19</td>\n      <td>6.45</td>\n      <td>16.84</td>\n      <td>76.52</td>\n      <td>17.24</td>\n      <td>11</td>\n      <td>0</td>\n    </tr>\n    <tr>\n      <th>4</th>\n      <td>5</td>\n      <td>Afghanistan</td>\n      <td>Afghanistan</td>\n      <td>33.0000</td>\n      <td>65.0000</td>\n      <td>2020-03-16</td>\n      <td>76</td>\n      <td>119.118777</td>\n      <td>44630.51962</td>\n      <td>0.187914</td>\n      <td>...</td>\n      <td>0.0</td>\n      <td>0.0</td>\n      <td>8.04</td>\n      <td>0.19</td>\n      <td>6.45</td>\n      <td>16.84</td>\n      <td>76.52</td>\n      <td>17.24</td>\n      <td>14</td>\n      <td>0</td>\n    </tr>\n    <tr>\n      <th>...</th>\n      <td>...</td>\n      <td>...</td>\n      <td>...</td>\n      <td>...</td>\n      <td>...</td>\n      <td>...</td>\n      <td>...</td>\n      <td>...</td>\n      <td>...</td>\n      <td>...</td>\n      <td>...</td>\n      <td>...</td>\n      <td>...</td>\n      <td>...</td>\n      <td>...</td>\n      <td>...</td>\n      <td>...</td>\n      <td>...</td>\n      <td>...</td>\n      <td>...</td>\n      <td>...</td>\n    </tr>\n    <tr>\n      <th>12207</th>\n      <td>12208</td>\n      <td>Zambia</td>\n      <td>Zambia</td>\n      <td>-15.4167</td>\n      <td>28.2833</td>\n      <td>2020-04-19</td>\n      <td>110</td>\n      <td>78.573074</td>\n      <td>3.00000</td>\n      <td>0.821467</td>\n      <td>...</td>\n      <td>0.0</td>\n      <td>0.0</td>\n      <td>5.13</td>\n      <td>7.17</td>\n      <td>21.41</td>\n      <td>30.06</td>\n      <td>41.35</td>\n      <td>14.13</td>\n      <td>3</td>\n      <td>0</td>\n    </tr>\n    <tr>\n      <th>12208</th>\n      <td>12209</td>\n      <td>Zambia</td>\n      <td>Zambia</td>\n      <td>-15.4167</td>\n      <td>28.2833</td>\n      <td>2020-04-20</td>\n      <td>111</td>\n      <td>78.573074</td>\n      <td>3.00000</td>\n      <td>0.821467</td>\n      <td>...</td>\n      <td>0.0</td>\n      <td>0.0</td>\n      <td>5.13</td>\n      <td>7.17</td>\n      <td>21.41</td>\n      <td>30.06</td>\n      <td>41.35</td>\n      <td>14.13</td>\n      <td>3</td>\n      <td>0</td>\n    </tr>\n    <tr>\n      <th>12209</th>\n      <td>12210</td>\n      <td>Zambia</td>\n      <td>Zambia</td>\n      <td>-15.4167</td>\n      <td>28.2833</td>\n      <td>2020-04-21</td>\n      <td>112</td>\n      <td>78.573074</td>\n      <td>3.00000</td>\n      <td>0.821467</td>\n      <td>...</td>\n      <td>0.0</td>\n      <td>0.0</td>\n      <td>5.13</td>\n      <td>7.17</td>\n      <td>21.41</td>\n      <td>30.06</td>\n      <td>41.35</td>\n      <td>14.13</td>\n      <td>3</td>\n      <td>0</td>\n    </tr>\n    <tr>\n      <th>12210</th>\n      <td>12211</td>\n      <td>Zambia</td>\n      <td>Zambia</td>\n      <td>-15.4167</td>\n      <td>28.2833</td>\n      <td>2020-04-22</td>\n      <td>113</td>\n      <td>78.573074</td>\n      <td>3.00000</td>\n      <td>0.821467</td>\n      <td>...</td>\n      <td>0.0</td>\n      <td>0.0</td>\n      <td>5.13</td>\n      <td>7.17</td>\n      <td>21.41</td>\n      <td>30.06</td>\n      <td>41.35</td>\n      <td>14.13</td>\n      <td>3</td>\n      <td>0</td>\n    </tr>\n    <tr>\n      <th>12211</th>\n      <td>12212</td>\n      <td>Zambia</td>\n      <td>Zambia</td>\n      <td>-15.4167</td>\n      <td>28.2833</td>\n      <td>2020-04-23</td>\n      <td>114</td>\n      <td>78.573074</td>\n      <td>3.00000</td>\n      <td>0.821467</td>\n      <td>...</td>\n      <td>0.0</td>\n      <td>0.0</td>\n      <td>5.13</td>\n      <td>7.17</td>\n      <td>21.41</td>\n      <td>30.06</td>\n      <td>41.35</td>\n      <td>14.13</td>\n      <td>3</td>\n      <td>0</td>\n    </tr>\n  </tbody>\n</table>\n<p>12212 rows × 47 columns</p>\n</div>"
     },
     "metadata": {},
     "execution_count": 54
    }
   ],
   "source": [
    "data2 = pd.read_csv(\"test_aug.csv\")\n",
    "data2"
   ]
  },
  {
   "source": [
    "4. jika terdapat missing value, silahkan ditindak lanjuti"
   ],
   "cell_type": "markdown",
   "metadata": {}
  },
  {
   "cell_type": "code",
   "execution_count": 57,
   "metadata": {},
   "outputs": [],
   "source": [
    "data.dropna(inplace = True)"
   ]
  },
  {
   "cell_type": "code",
   "execution_count": 58,
   "metadata": {},
   "outputs": [
    {
     "output_type": "execute_result",
     "data": {
      "text/plain": [
       "Id                                0\n",
       "Province/State                    0\n",
       "Country/Region                    0\n",
       "Lat                               0\n",
       "Long                              0\n",
       "Date                              0\n",
       "ConfirmedCases                    0\n",
       "Fatalities                        0\n",
       "DayOfYear                         0\n",
       "x0_ConfirmedCases                 0\n",
       "L_ConfirmedCases                  0\n",
       "k_ConfirmedCases                  0\n",
       "sx0_ConfirmedCases                0\n",
       "sx0L_ConfirmedCases               0\n",
       "sx0k_ConfirmedCases               0\n",
       "sL_ConfirmedCases                 0\n",
       "sLk_ConfirmedCases                0\n",
       "sk_ConfirmedCases                 0\n",
       "x0_Fatalities                     0\n",
       "L_Fatalities                      0\n",
       "k_Fatalities                      0\n",
       "sx0_Fatalities                    0\n",
       "sx0L_Fatalities                   0\n",
       "sx0k_Fatalities                   0\n",
       "sL_Fatalities                     0\n",
       "sLk_Fatalities                    0\n",
       "sk_Fatalities                     0\n",
       "life_expectancy_years             0\n",
       "literacy_rates                    0\n",
       "veg_supply_person_kg_year         0\n",
       "respiratory_infections_death      0\n",
       "deaths_from_smoking%              0\n",
       "young%                            0\n",
       "old%                              0\n",
       "density                           0\n",
       "population                        0\n",
       "fem%                              0\n",
       "number_doc_per1000                0\n",
       "surgeons_act_working              0\n",
       "obstetricians_act_working         0\n",
       "anaesthesiologists_act_working    0\n",
       "avg_hh                            0\n",
       "hh%1                              0\n",
       "hh%2-3                            0\n",
       "hh%4-5                            0\n",
       "hh%6+                             0\n",
       "hh65+                             0\n",
       "y_ConfirmedCases                  0\n",
       "y_Fatalities                      0\n",
       "dtype: int64"
      ]
     },
     "metadata": {},
     "execution_count": 58
    }
   ],
   "source": [
    "data.isna().sum()"
   ]
  },
  {
   "cell_type": "code",
   "execution_count": 132,
   "metadata": {},
   "outputs": [
    {
     "output_type": "execute_result",
     "data": {
      "text/plain": [
       "           Lat     Long  ConfirmedCases  DayOfYear\n",
       "0      33.0000  65.0000             0.0         22\n",
       "1      33.0000  65.0000             0.0         23\n",
       "2      33.0000  65.0000             0.0         24\n",
       "3      33.0000  65.0000             0.0         25\n",
       "4      33.0000  65.0000             0.0         26\n",
       "...        ...      ...             ...        ...\n",
       "17887 -15.4167  28.2833             2.0         80\n",
       "17888 -15.4167  28.2833             2.0         81\n",
       "17889 -15.4167  28.2833             3.0         82\n",
       "17890 -15.4167  28.2833             3.0         83\n",
       "17891 -15.4167  28.2833             3.0         84\n",
       "\n",
       "[4158 rows x 4 columns]"
      ],
      "text/html": "<div>\n<style scoped>\n    .dataframe tbody tr th:only-of-type {\n        vertical-align: middle;\n    }\n\n    .dataframe tbody tr th {\n        vertical-align: top;\n    }\n\n    .dataframe thead th {\n        text-align: right;\n    }\n</style>\n<table border=\"1\" class=\"dataframe\">\n  <thead>\n    <tr style=\"text-align: right;\">\n      <th></th>\n      <th>Lat</th>\n      <th>Long</th>\n      <th>ConfirmedCases</th>\n      <th>DayOfYear</th>\n    </tr>\n  </thead>\n  <tbody>\n    <tr>\n      <th>0</th>\n      <td>33.0000</td>\n      <td>65.0000</td>\n      <td>0.0</td>\n      <td>22</td>\n    </tr>\n    <tr>\n      <th>1</th>\n      <td>33.0000</td>\n      <td>65.0000</td>\n      <td>0.0</td>\n      <td>23</td>\n    </tr>\n    <tr>\n      <th>2</th>\n      <td>33.0000</td>\n      <td>65.0000</td>\n      <td>0.0</td>\n      <td>24</td>\n    </tr>\n    <tr>\n      <th>3</th>\n      <td>33.0000</td>\n      <td>65.0000</td>\n      <td>0.0</td>\n      <td>25</td>\n    </tr>\n    <tr>\n      <th>4</th>\n      <td>33.0000</td>\n      <td>65.0000</td>\n      <td>0.0</td>\n      <td>26</td>\n    </tr>\n    <tr>\n      <th>...</th>\n      <td>...</td>\n      <td>...</td>\n      <td>...</td>\n      <td>...</td>\n    </tr>\n    <tr>\n      <th>17887</th>\n      <td>-15.4167</td>\n      <td>28.2833</td>\n      <td>2.0</td>\n      <td>80</td>\n    </tr>\n    <tr>\n      <th>17888</th>\n      <td>-15.4167</td>\n      <td>28.2833</td>\n      <td>2.0</td>\n      <td>81</td>\n    </tr>\n    <tr>\n      <th>17889</th>\n      <td>-15.4167</td>\n      <td>28.2833</td>\n      <td>3.0</td>\n      <td>82</td>\n    </tr>\n    <tr>\n      <th>17890</th>\n      <td>-15.4167</td>\n      <td>28.2833</td>\n      <td>3.0</td>\n      <td>83</td>\n    </tr>\n    <tr>\n      <th>17891</th>\n      <td>-15.4167</td>\n      <td>28.2833</td>\n      <td>3.0</td>\n      <td>84</td>\n    </tr>\n  </tbody>\n</table>\n<p>4158 rows × 4 columns</p>\n</div>"
     },
     "metadata": {},
     "execution_count": 132
    }
   ],
   "source": [
    "data2 = data[['Lat','Long','ConfirmedCases','DayOfYear']]\n",
    "data2"
   ]
  },
  {
   "cell_type": "code",
   "execution_count": null,
   "metadata": {},
   "outputs": [],
   "source": []
  },
  {
   "source": [
    "5. buat sebuah dataframe baru dari data yang sudah di import sebelumnya. pilih minimal 3 kolom numerik untuk menjadi dataframe baru ini yang sudah tidak terdapat missing value sama sekali\n",
    "6. resetlah index dari data baru ini. kemudian ganti indexnya dengan index baru yang valuenya bebas"
   ],
   "cell_type": "markdown",
   "metadata": {}
  },
  {
   "cell_type": "code",
   "execution_count": 108,
   "metadata": {},
   "outputs": [
    {
     "output_type": "execute_result",
     "data": {
      "text/plain": [
       "      index      Lat     Long  ConfirmedCases  DayOfYear           new\n",
       "0         0  33.0000  65.0000             0.0         22  5.051334e+98\n",
       "1         1  33.0000  65.0000             0.0         23  5.051334e+98\n",
       "2         2  33.0000  65.0000             0.0         24  5.051334e+98\n",
       "3         3  33.0000  65.0000             0.0         25  5.051334e+98\n",
       "4         4  33.0000  65.0000             0.0         26  5.051334e+98\n",
       "...     ...      ...      ...             ...        ...           ...\n",
       "4153  17887 -15.4167  28.2833             2.0         80           NaN\n",
       "4154  17888 -15.4167  28.2833             2.0         81           NaN\n",
       "4155  17889 -15.4167  28.2833             3.0         82           NaN\n",
       "4156  17890 -15.4167  28.2833             3.0         83           NaN\n",
       "4157  17891 -15.4167  28.2833             3.0         84           NaN\n",
       "\n",
       "[4158 rows x 6 columns]"
      ],
      "text/html": "<div>\n<style scoped>\n    .dataframe tbody tr th:only-of-type {\n        vertical-align: middle;\n    }\n\n    .dataframe tbody tr th {\n        vertical-align: top;\n    }\n\n    .dataframe thead th {\n        text-align: right;\n    }\n</style>\n<table border=\"1\" class=\"dataframe\">\n  <thead>\n    <tr style=\"text-align: right;\">\n      <th></th>\n      <th>index</th>\n      <th>Lat</th>\n      <th>Long</th>\n      <th>ConfirmedCases</th>\n      <th>DayOfYear</th>\n      <th>new</th>\n    </tr>\n  </thead>\n  <tbody>\n    <tr>\n      <th>0</th>\n      <td>0</td>\n      <td>33.0000</td>\n      <td>65.0000</td>\n      <td>0.0</td>\n      <td>22</td>\n      <td>5.051334e+98</td>\n    </tr>\n    <tr>\n      <th>1</th>\n      <td>1</td>\n      <td>33.0000</td>\n      <td>65.0000</td>\n      <td>0.0</td>\n      <td>23</td>\n      <td>5.051334e+98</td>\n    </tr>\n    <tr>\n      <th>2</th>\n      <td>2</td>\n      <td>33.0000</td>\n      <td>65.0000</td>\n      <td>0.0</td>\n      <td>24</td>\n      <td>5.051334e+98</td>\n    </tr>\n    <tr>\n      <th>3</th>\n      <td>3</td>\n      <td>33.0000</td>\n      <td>65.0000</td>\n      <td>0.0</td>\n      <td>25</td>\n      <td>5.051334e+98</td>\n    </tr>\n    <tr>\n      <th>4</th>\n      <td>4</td>\n      <td>33.0000</td>\n      <td>65.0000</td>\n      <td>0.0</td>\n      <td>26</td>\n      <td>5.051334e+98</td>\n    </tr>\n    <tr>\n      <th>...</th>\n      <td>...</td>\n      <td>...</td>\n      <td>...</td>\n      <td>...</td>\n      <td>...</td>\n      <td>...</td>\n    </tr>\n    <tr>\n      <th>4153</th>\n      <td>17887</td>\n      <td>-15.4167</td>\n      <td>28.2833</td>\n      <td>2.0</td>\n      <td>80</td>\n      <td>NaN</td>\n    </tr>\n    <tr>\n      <th>4154</th>\n      <td>17888</td>\n      <td>-15.4167</td>\n      <td>28.2833</td>\n      <td>2.0</td>\n      <td>81</td>\n      <td>NaN</td>\n    </tr>\n    <tr>\n      <th>4155</th>\n      <td>17889</td>\n      <td>-15.4167</td>\n      <td>28.2833</td>\n      <td>3.0</td>\n      <td>82</td>\n      <td>NaN</td>\n    </tr>\n    <tr>\n      <th>4156</th>\n      <td>17890</td>\n      <td>-15.4167</td>\n      <td>28.2833</td>\n      <td>3.0</td>\n      <td>83</td>\n      <td>NaN</td>\n    </tr>\n    <tr>\n      <th>4157</th>\n      <td>17891</td>\n      <td>-15.4167</td>\n      <td>28.2833</td>\n      <td>3.0</td>\n      <td>84</td>\n      <td>NaN</td>\n    </tr>\n  </tbody>\n</table>\n<p>4158 rows × 6 columns</p>\n</div>"
     },
     "metadata": {},
     "execution_count": 108
    }
   ],
   "source": [
    "data2.reset_index()"
   ]
  },
  {
   "source": [
    "7. tambah 3 kolom baru pada DF yang baru tersebut dgn ketentuan : \n",
    "- kolom baru 1 berisikan pangkat dari kolom 1 dan 2\n",
    "- kolom baru 2 berisikan nilai modulus antara kolom 3 dan kolom baru 1\n",
    "- kolom baru 3 berisikan nilai penjumlahan antara kolom baru 1 dan kolom baru 2\n",
    "8. tampilkan 10 data teratas dan 15 data terbawah dari masing2 dataframe"
   ],
   "cell_type": "markdown",
   "metadata": {}
  },
  {
   "cell_type": "code",
   "execution_count": 138,
   "metadata": {},
   "outputs": [
    {
     "output_type": "stream",
     "name": "stderr",
     "text": [
      "C:\\Users\\lidya\\AppData\\Local\\Packages\\PythonSoftwareFoundation.Python.3.9_qbz5n2kfra8p0\\LocalCache\\local-packages\\Python39\\site-packages\\pandas\\core\\frame.py:4308: SettingWithCopyWarning: \nA value is trying to be set on a copy of a slice from a DataFrame\n\nSee the caveats in the documentation: https://pandas.pydata.org/pandas-docs/stable/user_guide/indexing.html#returning-a-view-versus-a-copy\n  return super().drop(\n"
     ]
    }
   ],
   "source": [
    "data2.drop(\"new\",axis=1,inplace=True)"
   ]
  },
  {
   "cell_type": "code",
   "execution_count": 139,
   "metadata": {},
   "outputs": [
    {
     "output_type": "execute_result",
     "data": {
      "text/plain": [
       "           Lat     Long  ConfirmedCases  DayOfYear\n",
       "0      33.0000  65.0000             0.0         22\n",
       "1      33.0000  65.0000             0.0         23\n",
       "2      33.0000  65.0000             0.0         24\n",
       "3      33.0000  65.0000             0.0         25\n",
       "4      33.0000  65.0000             0.0         26\n",
       "...        ...      ...             ...        ...\n",
       "17887 -15.4167  28.2833             2.0         80\n",
       "17888 -15.4167  28.2833             2.0         81\n",
       "17889 -15.4167  28.2833             3.0         82\n",
       "17890 -15.4167  28.2833             3.0         83\n",
       "17891 -15.4167  28.2833             3.0         84\n",
       "\n",
       "[4158 rows x 4 columns]"
      ],
      "text/html": "<div>\n<style scoped>\n    .dataframe tbody tr th:only-of-type {\n        vertical-align: middle;\n    }\n\n    .dataframe tbody tr th {\n        vertical-align: top;\n    }\n\n    .dataframe thead th {\n        text-align: right;\n    }\n</style>\n<table border=\"1\" class=\"dataframe\">\n  <thead>\n    <tr style=\"text-align: right;\">\n      <th></th>\n      <th>Lat</th>\n      <th>Long</th>\n      <th>ConfirmedCases</th>\n      <th>DayOfYear</th>\n    </tr>\n  </thead>\n  <tbody>\n    <tr>\n      <th>0</th>\n      <td>33.0000</td>\n      <td>65.0000</td>\n      <td>0.0</td>\n      <td>22</td>\n    </tr>\n    <tr>\n      <th>1</th>\n      <td>33.0000</td>\n      <td>65.0000</td>\n      <td>0.0</td>\n      <td>23</td>\n    </tr>\n    <tr>\n      <th>2</th>\n      <td>33.0000</td>\n      <td>65.0000</td>\n      <td>0.0</td>\n      <td>24</td>\n    </tr>\n    <tr>\n      <th>3</th>\n      <td>33.0000</td>\n      <td>65.0000</td>\n      <td>0.0</td>\n      <td>25</td>\n    </tr>\n    <tr>\n      <th>4</th>\n      <td>33.0000</td>\n      <td>65.0000</td>\n      <td>0.0</td>\n      <td>26</td>\n    </tr>\n    <tr>\n      <th>...</th>\n      <td>...</td>\n      <td>...</td>\n      <td>...</td>\n      <td>...</td>\n    </tr>\n    <tr>\n      <th>17887</th>\n      <td>-15.4167</td>\n      <td>28.2833</td>\n      <td>2.0</td>\n      <td>80</td>\n    </tr>\n    <tr>\n      <th>17888</th>\n      <td>-15.4167</td>\n      <td>28.2833</td>\n      <td>2.0</td>\n      <td>81</td>\n    </tr>\n    <tr>\n      <th>17889</th>\n      <td>-15.4167</td>\n      <td>28.2833</td>\n      <td>3.0</td>\n      <td>82</td>\n    </tr>\n    <tr>\n      <th>17890</th>\n      <td>-15.4167</td>\n      <td>28.2833</td>\n      <td>3.0</td>\n      <td>83</td>\n    </tr>\n    <tr>\n      <th>17891</th>\n      <td>-15.4167</td>\n      <td>28.2833</td>\n      <td>3.0</td>\n      <td>84</td>\n    </tr>\n  </tbody>\n</table>\n<p>4158 rows × 4 columns</p>\n</div>"
     },
     "metadata": {},
     "execution_count": 139
    }
   ],
   "source": [
    "# data2[\"new\"]=data2[\"Long\"]**data2[\"Lat\"]\n",
    "data2"
   ]
  },
  {
   "cell_type": "code",
   "execution_count": 130,
   "metadata": {},
   "outputs": [
    {
     "output_type": "stream",
     "name": "stdout",
     "text": [
      "<class 'pandas.core.frame.DataFrame'>\nInt64Index: 4158 entries, 0 to 17891\nData columns (total 4 columns):\n #   Column          Non-Null Count  Dtype  \n---  ------          --------------  -----  \n 0   Lat             4158 non-null   float64\n 1   Long            4158 non-null   float64\n 2   ConfirmedCases  4158 non-null   float64\n 3   DayOfYear       4158 non-null   int64  \ndtypes: float64(3), int64(1)\nmemory usage: 291.5 KB\n"
     ]
    }
   ],
   "source": [
    "data2.info()"
   ]
  },
  {
   "cell_type": "code",
   "execution_count": 99,
   "metadata": {},
   "outputs": [
    {
     "output_type": "execute_result",
     "data": {
      "text/plain": [
       "pandas.core.series.Series"
      ]
     },
     "metadata": {},
     "execution_count": 99
    }
   ],
   "source": [
    "type(data2[\"Long\"])"
   ]
  },
  {
   "cell_type": "code",
   "execution_count": 140,
   "metadata": {},
   "outputs": [
    {
     "output_type": "execute_result",
     "data": {
      "text/plain": [
       "           Lat         Kol1     Long  ConfirmedCases  DayOfYear\n",
       "0      33.0000  2145.000000  65.0000             0.0         22\n",
       "1      33.0000  2145.000000  65.0000             0.0         23\n",
       "2      33.0000  2145.000000  65.0000             0.0         24\n",
       "3      33.0000  2145.000000  65.0000             0.0         25\n",
       "4      33.0000  2145.000000  65.0000             0.0         26\n",
       "...        ...          ...      ...             ...        ...\n",
       "17887 -15.4167  -436.035151  28.2833             2.0         80\n",
       "17888 -15.4167  -436.035151  28.2833             2.0         81\n",
       "17889 -15.4167  -436.035151  28.2833             3.0         82\n",
       "17890 -15.4167  -436.035151  28.2833             3.0         83\n",
       "17891 -15.4167  -436.035151  28.2833             3.0         84\n",
       "\n",
       "[4158 rows x 5 columns]"
      ],
      "text/html": "<div>\n<style scoped>\n    .dataframe tbody tr th:only-of-type {\n        vertical-align: middle;\n    }\n\n    .dataframe tbody tr th {\n        vertical-align: top;\n    }\n\n    .dataframe thead th {\n        text-align: right;\n    }\n</style>\n<table border=\"1\" class=\"dataframe\">\n  <thead>\n    <tr style=\"text-align: right;\">\n      <th></th>\n      <th>Lat</th>\n      <th>Kol1</th>\n      <th>Long</th>\n      <th>ConfirmedCases</th>\n      <th>DayOfYear</th>\n    </tr>\n  </thead>\n  <tbody>\n    <tr>\n      <th>0</th>\n      <td>33.0000</td>\n      <td>2145.000000</td>\n      <td>65.0000</td>\n      <td>0.0</td>\n      <td>22</td>\n    </tr>\n    <tr>\n      <th>1</th>\n      <td>33.0000</td>\n      <td>2145.000000</td>\n      <td>65.0000</td>\n      <td>0.0</td>\n      <td>23</td>\n    </tr>\n    <tr>\n      <th>2</th>\n      <td>33.0000</td>\n      <td>2145.000000</td>\n      <td>65.0000</td>\n      <td>0.0</td>\n      <td>24</td>\n    </tr>\n    <tr>\n      <th>3</th>\n      <td>33.0000</td>\n      <td>2145.000000</td>\n      <td>65.0000</td>\n      <td>0.0</td>\n      <td>25</td>\n    </tr>\n    <tr>\n      <th>4</th>\n      <td>33.0000</td>\n      <td>2145.000000</td>\n      <td>65.0000</td>\n      <td>0.0</td>\n      <td>26</td>\n    </tr>\n    <tr>\n      <th>...</th>\n      <td>...</td>\n      <td>...</td>\n      <td>...</td>\n      <td>...</td>\n      <td>...</td>\n    </tr>\n    <tr>\n      <th>17887</th>\n      <td>-15.4167</td>\n      <td>-436.035151</td>\n      <td>28.2833</td>\n      <td>2.0</td>\n      <td>80</td>\n    </tr>\n    <tr>\n      <th>17888</th>\n      <td>-15.4167</td>\n      <td>-436.035151</td>\n      <td>28.2833</td>\n      <td>2.0</td>\n      <td>81</td>\n    </tr>\n    <tr>\n      <th>17889</th>\n      <td>-15.4167</td>\n      <td>-436.035151</td>\n      <td>28.2833</td>\n      <td>3.0</td>\n      <td>82</td>\n    </tr>\n    <tr>\n      <th>17890</th>\n      <td>-15.4167</td>\n      <td>-436.035151</td>\n      <td>28.2833</td>\n      <td>3.0</td>\n      <td>83</td>\n    </tr>\n    <tr>\n      <th>17891</th>\n      <td>-15.4167</td>\n      <td>-436.035151</td>\n      <td>28.2833</td>\n      <td>3.0</td>\n      <td>84</td>\n    </tr>\n  </tbody>\n</table>\n<p>4158 rows × 5 columns</p>\n</div>"
     },
     "metadata": {},
     "execution_count": 140
    }
   ],
   "source": [
    "data2.insert(1 , 'Kol1', data2[\"Long\"]*data2[\"Lat\"])\n",
    "data2"
   ]
  },
  {
   "cell_type": "code",
   "execution_count": 118,
   "metadata": {},
   "outputs": [
    {
     "output_type": "execute_result",
     "data": {
      "text/plain": [
       "0        33.0000\n",
       "1        33.0000\n",
       "2        33.0000\n",
       "3        33.0000\n",
       "4        33.0000\n",
       "          ...   \n",
       "17887   -15.4167\n",
       "17888   -15.4167\n",
       "17889   -15.4167\n",
       "17890   -15.4167\n",
       "17891   -15.4167\n",
       "Name: Lat, Length: 4158, dtype: float64"
      ]
     },
     "metadata": {},
     "execution_count": 118
    }
   ],
   "source": [
    "data2[\"Lat\"]"
   ]
  },
  {
   "cell_type": "code",
   "execution_count": 100,
   "metadata": {},
   "outputs": [
    {
     "output_type": "execute_result",
     "data": {
      "text/plain": [
       "0        5.051334e+98\n",
       "1        5.051334e+98\n",
       "2        5.051334e+98\n",
       "3        5.051334e+98\n",
       "4        5.051334e+98\n",
       "             ...     \n",
       "17887             NaN\n",
       "17888             NaN\n",
       "17889             NaN\n",
       "17890             NaN\n",
       "17891             NaN\n",
       "Length: 4158, dtype: float64"
      ]
     },
     "metadata": {},
     "execution_count": 100
    }
   ],
   "source": [
    "data2[\"Lat\"]**data2[\"Long\"]"
   ]
  },
  {
   "cell_type": "code",
   "execution_count": null,
   "metadata": {},
   "outputs": [],
   "source": [
    "a"
   ]
  }
 ]
}