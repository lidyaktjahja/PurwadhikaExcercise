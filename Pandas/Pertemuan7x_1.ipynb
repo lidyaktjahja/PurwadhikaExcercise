{
 "metadata": {
  "language_info": {
   "codemirror_mode": {
    "name": "ipython",
    "version": 3
   },
   "file_extension": ".py",
   "mimetype": "text/x-python",
   "name": "python",
   "nbconvert_exporter": "python",
   "pygments_lexer": "ipython3",
   "version": "3.9.2-final"
  },
  "orig_nbformat": 2,
  "kernelspec": {
   "name": "python392jvsc74a57bd0aa4a9b0c5e2d78e374bb40a1af76efea9a10a5e1d5e9731e7c985841037f6e93",
   "display_name": "Python 3.9.2 64-bit"
  },
  "metadata": {
   "interpreter": {
    "hash": "aa4a9b0c5e2d78e374bb40a1af76efea9a10a5e1d5e9731e7c985841037f6e93"
   }
  }
 },
 "nbformat": 4,
 "nbformat_minor": 2,
 "cells": [
  {
   "source": [
    "# Latihan 1\n",
    "1. Buatlah sebuah variabel input untuk menentukan jumlah baris yang akan dibuat\n",
    "1. Buatlah sebuah dataframe dengan ketentuan :\n",
    "    - Kolom 1 merupakan data random normal sebanyak n baris (inputan)\n",
    "    - Kolom 2 merupakan data random antara 0 sampai 1 sebanyak n baris\n",
    "    - Kolom 3 merupakan data random antara 1 hingga 10 sebanyak n baris (gunakan random uniform pada numpy)\n",
    "    - Kolom 4 merupakan hasil penjumlahan antara kolom 1 dan kolom 3\n",
    "    - Kolom 5 merupakan hasil bagi yang dibulatkan kebawah antara kolom 2 dan kolom 3\n",
    "    - Kolom 6 merupakan hasil bagi yang dibulatkan keatas antara kolom 4 dan kolom 5\n",
    "    - Kolom 7 merupakan hasil perkalian antara pi dengan kolom 6\n"
   ],
   "cell_type": "markdown",
   "metadata": {}
  },
  {
   "cell_type": "code",
   "execution_count": 3,
   "metadata": {},
   "outputs": [],
   "source": [
    "import numpy as np \n",
    "import pandas as pd\n",
    "import math as mt"
   ]
  },
  {
   "cell_type": "code",
   "execution_count": 6,
   "metadata": {},
   "outputs": [
    {
     "output_type": "stream",
     "name": "stderr",
     "text": [
      "<ipython-input-6-8f7737eb33c6>:7: RuntimeWarning: divide by zero encountered in true_divide\n  kol6 = np.array(kol4/kol5)\n"
     ]
    },
    {
     "output_type": "execute_result",
     "data": {
      "text/plain": [
       "       Kol1      Kol2      Kol3      Kol4  Kol5  Kol6  Kol7\n",
       "0  1.209122  0.091425  4.995960  6.205082   0.0   inf   0.0\n",
       "1 -0.395935  0.068905  2.531143  2.135208   0.0   inf   0.0\n",
       "2  1.810396  0.785822  7.308686  9.119082   0.0   inf   0.0\n",
       "3  0.254842  0.383821  5.668871  5.923713   0.0   inf   0.0\n",
       "4  0.806292  0.142400  7.345531  8.151823   0.0   inf   0.0\n",
       "5  1.019349  0.259600  6.909970  7.929319   0.0   inf   0.0\n",
       "6  0.004116  0.861134  9.974949  9.979065   0.0   inf   0.0\n",
       "7  0.617740  0.546030  5.517323  6.135063   0.0   inf   0.0\n",
       "8  0.636674  0.999160  5.618789  6.255462   0.0   inf   0.0\n",
       "9  1.252332  0.632133  7.724146  8.976478   0.0   inf   0.0"
      ],
      "text/html": "<div>\n<style scoped>\n    .dataframe tbody tr th:only-of-type {\n        vertical-align: middle;\n    }\n\n    .dataframe tbody tr th {\n        vertical-align: top;\n    }\n\n    .dataframe thead th {\n        text-align: right;\n    }\n</style>\n<table border=\"1\" class=\"dataframe\">\n  <thead>\n    <tr style=\"text-align: right;\">\n      <th></th>\n      <th>Kol1</th>\n      <th>Kol2</th>\n      <th>Kol3</th>\n      <th>Kol4</th>\n      <th>Kol5</th>\n      <th>Kol6</th>\n      <th>Kol7</th>\n    </tr>\n  </thead>\n  <tbody>\n    <tr>\n      <th>0</th>\n      <td>1.209122</td>\n      <td>0.091425</td>\n      <td>4.995960</td>\n      <td>6.205082</td>\n      <td>0.0</td>\n      <td>inf</td>\n      <td>0.0</td>\n    </tr>\n    <tr>\n      <th>1</th>\n      <td>-0.395935</td>\n      <td>0.068905</td>\n      <td>2.531143</td>\n      <td>2.135208</td>\n      <td>0.0</td>\n      <td>inf</td>\n      <td>0.0</td>\n    </tr>\n    <tr>\n      <th>2</th>\n      <td>1.810396</td>\n      <td>0.785822</td>\n      <td>7.308686</td>\n      <td>9.119082</td>\n      <td>0.0</td>\n      <td>inf</td>\n      <td>0.0</td>\n    </tr>\n    <tr>\n      <th>3</th>\n      <td>0.254842</td>\n      <td>0.383821</td>\n      <td>5.668871</td>\n      <td>5.923713</td>\n      <td>0.0</td>\n      <td>inf</td>\n      <td>0.0</td>\n    </tr>\n    <tr>\n      <th>4</th>\n      <td>0.806292</td>\n      <td>0.142400</td>\n      <td>7.345531</td>\n      <td>8.151823</td>\n      <td>0.0</td>\n      <td>inf</td>\n      <td>0.0</td>\n    </tr>\n    <tr>\n      <th>5</th>\n      <td>1.019349</td>\n      <td>0.259600</td>\n      <td>6.909970</td>\n      <td>7.929319</td>\n      <td>0.0</td>\n      <td>inf</td>\n      <td>0.0</td>\n    </tr>\n    <tr>\n      <th>6</th>\n      <td>0.004116</td>\n      <td>0.861134</td>\n      <td>9.974949</td>\n      <td>9.979065</td>\n      <td>0.0</td>\n      <td>inf</td>\n      <td>0.0</td>\n    </tr>\n    <tr>\n      <th>7</th>\n      <td>0.617740</td>\n      <td>0.546030</td>\n      <td>5.517323</td>\n      <td>6.135063</td>\n      <td>0.0</td>\n      <td>inf</td>\n      <td>0.0</td>\n    </tr>\n    <tr>\n      <th>8</th>\n      <td>0.636674</td>\n      <td>0.999160</td>\n      <td>5.618789</td>\n      <td>6.255462</td>\n      <td>0.0</td>\n      <td>inf</td>\n      <td>0.0</td>\n    </tr>\n    <tr>\n      <th>9</th>\n      <td>1.252332</td>\n      <td>0.632133</td>\n      <td>7.724146</td>\n      <td>8.976478</td>\n      <td>0.0</td>\n      <td>inf</td>\n      <td>0.0</td>\n    </tr>\n  </tbody>\n</table>\n</div>"
     },
     "metadata": {},
     "execution_count": 6
    }
   ],
   "source": [
    "n = int(input(\"Masukan jumlah baris : \"))\n",
    "kol1 = np.random.randn(n)\n",
    "kol2 = np.random.rand(n)\n",
    "kol3 = np.random.uniform(1,10,n)\n",
    "kol4 = np.array(kol1+kol3)\n",
    "kol5 = np.array(kol2//kol3)\n",
    "kol6 = np.array(kol4/kol5)\n",
    "kol7 = np.array(mt.pi*kol5)\n",
    "df = pd.DataFrame(data = zip(kol1,kol2,kol3,kol4,kol5,kol6, kol7),columns= 'Kol1 Kol2 Kol3 Kol4 Kol5 Kol6 Kol7'.split(\" \"))\n",
    "df"
   ]
  },
  {
   "source": [
    "1. Tambahkan satu kolom baru yang nilainya bebas dan unique. Kolom baru ini kemudian di set sebagai index nya.\n"
   ],
   "cell_type": "markdown",
   "metadata": {}
  },
  {
   "cell_type": "code",
   "execution_count": 5,
   "metadata": {},
   "outputs": [
    {
     "output_type": "error",
     "ename": "ValueError",
     "evalue": "Length of values (10) does not match length of index (2)",
     "traceback": [
      "\u001b[1;31m---------------------------------------------------------------------------\u001b[0m",
      "\u001b[1;31mValueError\u001b[0m                                Traceback (most recent call last)",
      "\u001b[1;32m<ipython-input-5-ee40d56d9b3f>\u001b[0m in \u001b[0;36m<module>\u001b[1;34m\u001b[0m\n\u001b[1;32m----> 1\u001b[1;33m \u001b[0mdf\u001b[0m\u001b[1;33m[\u001b[0m\u001b[1;34m\"New\"\u001b[0m\u001b[1;33m]\u001b[0m\u001b[1;33m=\u001b[0m\u001b[1;33m[\u001b[0m\u001b[1;34m'A'\u001b[0m\u001b[1;33m,\u001b[0m\u001b[1;34m'B'\u001b[0m\u001b[1;33m,\u001b[0m\u001b[1;34m'C'\u001b[0m\u001b[1;33m,\u001b[0m\u001b[1;34m'D'\u001b[0m\u001b[1;33m,\u001b[0m\u001b[1;34m'E'\u001b[0m\u001b[1;33m,\u001b[0m\u001b[1;34m'F'\u001b[0m\u001b[1;33m,\u001b[0m\u001b[1;34m'G'\u001b[0m\u001b[1;33m,\u001b[0m\u001b[1;34m'H'\u001b[0m\u001b[1;33m,\u001b[0m\u001b[1;34m'I'\u001b[0m\u001b[1;33m,\u001b[0m\u001b[1;34m'J'\u001b[0m\u001b[1;33m]\u001b[0m\u001b[1;33m\u001b[0m\u001b[1;33m\u001b[0m\u001b[0m\n\u001b[0m",
      "\u001b[1;32m~\\AppData\\Local\\Packages\\PythonSoftwareFoundation.Python.3.9_qbz5n2kfra8p0\\LocalCache\\local-packages\\Python39\\site-packages\\pandas\\core\\frame.py\u001b[0m in \u001b[0;36m__setitem__\u001b[1;34m(self, key, value)\u001b[0m\n\u001b[0;32m   3161\u001b[0m         \u001b[1;32melse\u001b[0m\u001b[1;33m:\u001b[0m\u001b[1;33m\u001b[0m\u001b[1;33m\u001b[0m\u001b[0m\n\u001b[0;32m   3162\u001b[0m             \u001b[1;31m# set column\u001b[0m\u001b[1;33m\u001b[0m\u001b[1;33m\u001b[0m\u001b[1;33m\u001b[0m\u001b[0m\n\u001b[1;32m-> 3163\u001b[1;33m             \u001b[0mself\u001b[0m\u001b[1;33m.\u001b[0m\u001b[0m_set_item\u001b[0m\u001b[1;33m(\u001b[0m\u001b[0mkey\u001b[0m\u001b[1;33m,\u001b[0m \u001b[0mvalue\u001b[0m\u001b[1;33m)\u001b[0m\u001b[1;33m\u001b[0m\u001b[1;33m\u001b[0m\u001b[0m\n\u001b[0m\u001b[0;32m   3164\u001b[0m \u001b[1;33m\u001b[0m\u001b[0m\n\u001b[0;32m   3165\u001b[0m     \u001b[1;32mdef\u001b[0m \u001b[0m_setitem_slice\u001b[0m\u001b[1;33m(\u001b[0m\u001b[0mself\u001b[0m\u001b[1;33m,\u001b[0m \u001b[0mkey\u001b[0m\u001b[1;33m:\u001b[0m \u001b[0mslice\u001b[0m\u001b[1;33m,\u001b[0m \u001b[0mvalue\u001b[0m\u001b[1;33m)\u001b[0m\u001b[1;33m:\u001b[0m\u001b[1;33m\u001b[0m\u001b[1;33m\u001b[0m\u001b[0m\n",
      "\u001b[1;32m~\\AppData\\Local\\Packages\\PythonSoftwareFoundation.Python.3.9_qbz5n2kfra8p0\\LocalCache\\local-packages\\Python39\\site-packages\\pandas\\core\\frame.py\u001b[0m in \u001b[0;36m_set_item\u001b[1;34m(self, key, value)\u001b[0m\n\u001b[0;32m   3240\u001b[0m         \"\"\"\n\u001b[0;32m   3241\u001b[0m         \u001b[0mself\u001b[0m\u001b[1;33m.\u001b[0m\u001b[0m_ensure_valid_index\u001b[0m\u001b[1;33m(\u001b[0m\u001b[0mvalue\u001b[0m\u001b[1;33m)\u001b[0m\u001b[1;33m\u001b[0m\u001b[1;33m\u001b[0m\u001b[0m\n\u001b[1;32m-> 3242\u001b[1;33m         \u001b[0mvalue\u001b[0m \u001b[1;33m=\u001b[0m \u001b[0mself\u001b[0m\u001b[1;33m.\u001b[0m\u001b[0m_sanitize_column\u001b[0m\u001b[1;33m(\u001b[0m\u001b[0mkey\u001b[0m\u001b[1;33m,\u001b[0m \u001b[0mvalue\u001b[0m\u001b[1;33m)\u001b[0m\u001b[1;33m\u001b[0m\u001b[1;33m\u001b[0m\u001b[0m\n\u001b[0m\u001b[0;32m   3243\u001b[0m         \u001b[0mNDFrame\u001b[0m\u001b[1;33m.\u001b[0m\u001b[0m_set_item\u001b[0m\u001b[1;33m(\u001b[0m\u001b[0mself\u001b[0m\u001b[1;33m,\u001b[0m \u001b[0mkey\u001b[0m\u001b[1;33m,\u001b[0m \u001b[0mvalue\u001b[0m\u001b[1;33m)\u001b[0m\u001b[1;33m\u001b[0m\u001b[1;33m\u001b[0m\u001b[0m\n\u001b[0;32m   3244\u001b[0m \u001b[1;33m\u001b[0m\u001b[0m\n",
      "\u001b[1;32m~\\AppData\\Local\\Packages\\PythonSoftwareFoundation.Python.3.9_qbz5n2kfra8p0\\LocalCache\\local-packages\\Python39\\site-packages\\pandas\\core\\frame.py\u001b[0m in \u001b[0;36m_sanitize_column\u001b[1;34m(self, key, value, broadcast)\u001b[0m\n\u001b[0;32m   3897\u001b[0m \u001b[1;33m\u001b[0m\u001b[0m\n\u001b[0;32m   3898\u001b[0m             \u001b[1;31m# turn me into an ndarray\u001b[0m\u001b[1;33m\u001b[0m\u001b[1;33m\u001b[0m\u001b[1;33m\u001b[0m\u001b[0m\n\u001b[1;32m-> 3899\u001b[1;33m             \u001b[0mvalue\u001b[0m \u001b[1;33m=\u001b[0m \u001b[0msanitize_index\u001b[0m\u001b[1;33m(\u001b[0m\u001b[0mvalue\u001b[0m\u001b[1;33m,\u001b[0m \u001b[0mself\u001b[0m\u001b[1;33m.\u001b[0m\u001b[0mindex\u001b[0m\u001b[1;33m)\u001b[0m\u001b[1;33m\u001b[0m\u001b[1;33m\u001b[0m\u001b[0m\n\u001b[0m\u001b[0;32m   3900\u001b[0m             \u001b[1;32mif\u001b[0m \u001b[1;32mnot\u001b[0m \u001b[0misinstance\u001b[0m\u001b[1;33m(\u001b[0m\u001b[0mvalue\u001b[0m\u001b[1;33m,\u001b[0m \u001b[1;33m(\u001b[0m\u001b[0mnp\u001b[0m\u001b[1;33m.\u001b[0m\u001b[0mndarray\u001b[0m\u001b[1;33m,\u001b[0m \u001b[0mIndex\u001b[0m\u001b[1;33m)\u001b[0m\u001b[1;33m)\u001b[0m\u001b[1;33m:\u001b[0m\u001b[1;33m\u001b[0m\u001b[1;33m\u001b[0m\u001b[0m\n\u001b[0;32m   3901\u001b[0m                 \u001b[1;32mif\u001b[0m \u001b[0misinstance\u001b[0m\u001b[1;33m(\u001b[0m\u001b[0mvalue\u001b[0m\u001b[1;33m,\u001b[0m \u001b[0mlist\u001b[0m\u001b[1;33m)\u001b[0m \u001b[1;32mand\u001b[0m \u001b[0mlen\u001b[0m\u001b[1;33m(\u001b[0m\u001b[0mvalue\u001b[0m\u001b[1;33m)\u001b[0m \u001b[1;33m>\u001b[0m \u001b[1;36m0\u001b[0m\u001b[1;33m:\u001b[0m\u001b[1;33m\u001b[0m\u001b[1;33m\u001b[0m\u001b[0m\n",
      "\u001b[1;32m~\\AppData\\Local\\Packages\\PythonSoftwareFoundation.Python.3.9_qbz5n2kfra8p0\\LocalCache\\local-packages\\Python39\\site-packages\\pandas\\core\\internals\\construction.py\u001b[0m in \u001b[0;36msanitize_index\u001b[1;34m(data, index)\u001b[0m\n\u001b[0;32m    749\u001b[0m     \"\"\"\n\u001b[0;32m    750\u001b[0m     \u001b[1;32mif\u001b[0m \u001b[0mlen\u001b[0m\u001b[1;33m(\u001b[0m\u001b[0mdata\u001b[0m\u001b[1;33m)\u001b[0m \u001b[1;33m!=\u001b[0m \u001b[0mlen\u001b[0m\u001b[1;33m(\u001b[0m\u001b[0mindex\u001b[0m\u001b[1;33m)\u001b[0m\u001b[1;33m:\u001b[0m\u001b[1;33m\u001b[0m\u001b[1;33m\u001b[0m\u001b[0m\n\u001b[1;32m--> 751\u001b[1;33m         raise ValueError(\n\u001b[0m\u001b[0;32m    752\u001b[0m             \u001b[1;34m\"Length of values \"\u001b[0m\u001b[1;33m\u001b[0m\u001b[1;33m\u001b[0m\u001b[0m\n\u001b[0;32m    753\u001b[0m             \u001b[1;34mf\"({len(data)}) \"\u001b[0m\u001b[1;33m\u001b[0m\u001b[1;33m\u001b[0m\u001b[0m\n",
      "\u001b[1;31mValueError\u001b[0m: Length of values (10) does not match length of index (2)"
     ]
    }
   ],
   "source": [
    "df[\"New\"]=['A','B','C','D','E','F','G','H','I','J']"
   ]
  },
  {
   "cell_type": "code",
   "execution_count": 184,
   "metadata": {},
   "outputs": [
    {
     "output_type": "execute_result",
     "data": {
      "text/plain": [
       "       Kol1      Kol2      Kol3       Kol4  Kol5  Kol6  Kol7 New\n",
       "0 -0.351649  0.691890  1.992844   1.641195   0.0   inf   0.0   A\n",
       "1  1.799142  0.522876  9.079389  10.878531   0.0   inf   0.0   B\n",
       "2  0.038698  0.984457  2.041998   2.080695   0.0   inf   0.0   C\n",
       "3 -0.403080  0.393299  4.896562   4.493482   0.0   inf   0.0   D\n",
       "4  2.822809  0.241036  4.874742   7.697552   0.0   inf   0.0   E\n",
       "5  1.257452  0.389653  9.680331  10.937782   0.0   inf   0.0   F\n",
       "6  0.170795  0.818249  4.674937   4.845731   0.0   inf   0.0   G\n",
       "7 -0.124940  0.941972  3.729209   3.604269   0.0   inf   0.0   H\n",
       "8 -1.059694  0.250637  9.343868   8.284174   0.0   inf   0.0   I\n",
       "9 -0.774140  0.552288  5.653342   4.879202   0.0   inf   0.0   J"
      ],
      "text/html": "<div>\n<style scoped>\n    .dataframe tbody tr th:only-of-type {\n        vertical-align: middle;\n    }\n\n    .dataframe tbody tr th {\n        vertical-align: top;\n    }\n\n    .dataframe thead th {\n        text-align: right;\n    }\n</style>\n<table border=\"1\" class=\"dataframe\">\n  <thead>\n    <tr style=\"text-align: right;\">\n      <th></th>\n      <th>Kol1</th>\n      <th>Kol2</th>\n      <th>Kol3</th>\n      <th>Kol4</th>\n      <th>Kol5</th>\n      <th>Kol6</th>\n      <th>Kol7</th>\n      <th>New</th>\n    </tr>\n  </thead>\n  <tbody>\n    <tr>\n      <th>0</th>\n      <td>-0.351649</td>\n      <td>0.691890</td>\n      <td>1.992844</td>\n      <td>1.641195</td>\n      <td>0.0</td>\n      <td>inf</td>\n      <td>0.0</td>\n      <td>A</td>\n    </tr>\n    <tr>\n      <th>1</th>\n      <td>1.799142</td>\n      <td>0.522876</td>\n      <td>9.079389</td>\n      <td>10.878531</td>\n      <td>0.0</td>\n      <td>inf</td>\n      <td>0.0</td>\n      <td>B</td>\n    </tr>\n    <tr>\n      <th>2</th>\n      <td>0.038698</td>\n      <td>0.984457</td>\n      <td>2.041998</td>\n      <td>2.080695</td>\n      <td>0.0</td>\n      <td>inf</td>\n      <td>0.0</td>\n      <td>C</td>\n    </tr>\n    <tr>\n      <th>3</th>\n      <td>-0.403080</td>\n      <td>0.393299</td>\n      <td>4.896562</td>\n      <td>4.493482</td>\n      <td>0.0</td>\n      <td>inf</td>\n      <td>0.0</td>\n      <td>D</td>\n    </tr>\n    <tr>\n      <th>4</th>\n      <td>2.822809</td>\n      <td>0.241036</td>\n      <td>4.874742</td>\n      <td>7.697552</td>\n      <td>0.0</td>\n      <td>inf</td>\n      <td>0.0</td>\n      <td>E</td>\n    </tr>\n    <tr>\n      <th>5</th>\n      <td>1.257452</td>\n      <td>0.389653</td>\n      <td>9.680331</td>\n      <td>10.937782</td>\n      <td>0.0</td>\n      <td>inf</td>\n      <td>0.0</td>\n      <td>F</td>\n    </tr>\n    <tr>\n      <th>6</th>\n      <td>0.170795</td>\n      <td>0.818249</td>\n      <td>4.674937</td>\n      <td>4.845731</td>\n      <td>0.0</td>\n      <td>inf</td>\n      <td>0.0</td>\n      <td>G</td>\n    </tr>\n    <tr>\n      <th>7</th>\n      <td>-0.124940</td>\n      <td>0.941972</td>\n      <td>3.729209</td>\n      <td>3.604269</td>\n      <td>0.0</td>\n      <td>inf</td>\n      <td>0.0</td>\n      <td>H</td>\n    </tr>\n    <tr>\n      <th>8</th>\n      <td>-1.059694</td>\n      <td>0.250637</td>\n      <td>9.343868</td>\n      <td>8.284174</td>\n      <td>0.0</td>\n      <td>inf</td>\n      <td>0.0</td>\n      <td>I</td>\n    </tr>\n    <tr>\n      <th>9</th>\n      <td>-0.774140</td>\n      <td>0.552288</td>\n      <td>5.653342</td>\n      <td>4.879202</td>\n      <td>0.0</td>\n      <td>inf</td>\n      <td>0.0</td>\n      <td>J</td>\n    </tr>\n  </tbody>\n</table>\n</div>"
     },
     "metadata": {},
     "execution_count": 184
    }
   ],
   "source": [
    "df"
   ]
  },
  {
   "cell_type": "code",
   "execution_count": 185,
   "metadata": {},
   "outputs": [
    {
     "output_type": "execute_result",
     "data": {
      "text/plain": [
       "         Kol1      Kol2      Kol3       Kol4  Kol5  Kol6  Kol7\n",
       "New                                                           \n",
       "A   -0.351649  0.691890  1.992844   1.641195   0.0   inf   0.0\n",
       "B    1.799142  0.522876  9.079389  10.878531   0.0   inf   0.0\n",
       "C    0.038698  0.984457  2.041998   2.080695   0.0   inf   0.0\n",
       "D   -0.403080  0.393299  4.896562   4.493482   0.0   inf   0.0\n",
       "E    2.822809  0.241036  4.874742   7.697552   0.0   inf   0.0\n",
       "F    1.257452  0.389653  9.680331  10.937782   0.0   inf   0.0\n",
       "G    0.170795  0.818249  4.674937   4.845731   0.0   inf   0.0\n",
       "H   -0.124940  0.941972  3.729209   3.604269   0.0   inf   0.0\n",
       "I   -1.059694  0.250637  9.343868   8.284174   0.0   inf   0.0\n",
       "J   -0.774140  0.552288  5.653342   4.879202   0.0   inf   0.0"
      ],
      "text/html": "<div>\n<style scoped>\n    .dataframe tbody tr th:only-of-type {\n        vertical-align: middle;\n    }\n\n    .dataframe tbody tr th {\n        vertical-align: top;\n    }\n\n    .dataframe thead th {\n        text-align: right;\n    }\n</style>\n<table border=\"1\" class=\"dataframe\">\n  <thead>\n    <tr style=\"text-align: right;\">\n      <th></th>\n      <th>Kol1</th>\n      <th>Kol2</th>\n      <th>Kol3</th>\n      <th>Kol4</th>\n      <th>Kol5</th>\n      <th>Kol6</th>\n      <th>Kol7</th>\n    </tr>\n    <tr>\n      <th>New</th>\n      <th></th>\n      <th></th>\n      <th></th>\n      <th></th>\n      <th></th>\n      <th></th>\n      <th></th>\n    </tr>\n  </thead>\n  <tbody>\n    <tr>\n      <th>A</th>\n      <td>-0.351649</td>\n      <td>0.691890</td>\n      <td>1.992844</td>\n      <td>1.641195</td>\n      <td>0.0</td>\n      <td>inf</td>\n      <td>0.0</td>\n    </tr>\n    <tr>\n      <th>B</th>\n      <td>1.799142</td>\n      <td>0.522876</td>\n      <td>9.079389</td>\n      <td>10.878531</td>\n      <td>0.0</td>\n      <td>inf</td>\n      <td>0.0</td>\n    </tr>\n    <tr>\n      <th>C</th>\n      <td>0.038698</td>\n      <td>0.984457</td>\n      <td>2.041998</td>\n      <td>2.080695</td>\n      <td>0.0</td>\n      <td>inf</td>\n      <td>0.0</td>\n    </tr>\n    <tr>\n      <th>D</th>\n      <td>-0.403080</td>\n      <td>0.393299</td>\n      <td>4.896562</td>\n      <td>4.493482</td>\n      <td>0.0</td>\n      <td>inf</td>\n      <td>0.0</td>\n    </tr>\n    <tr>\n      <th>E</th>\n      <td>2.822809</td>\n      <td>0.241036</td>\n      <td>4.874742</td>\n      <td>7.697552</td>\n      <td>0.0</td>\n      <td>inf</td>\n      <td>0.0</td>\n    </tr>\n    <tr>\n      <th>F</th>\n      <td>1.257452</td>\n      <td>0.389653</td>\n      <td>9.680331</td>\n      <td>10.937782</td>\n      <td>0.0</td>\n      <td>inf</td>\n      <td>0.0</td>\n    </tr>\n    <tr>\n      <th>G</th>\n      <td>0.170795</td>\n      <td>0.818249</td>\n      <td>4.674937</td>\n      <td>4.845731</td>\n      <td>0.0</td>\n      <td>inf</td>\n      <td>0.0</td>\n    </tr>\n    <tr>\n      <th>H</th>\n      <td>-0.124940</td>\n      <td>0.941972</td>\n      <td>3.729209</td>\n      <td>3.604269</td>\n      <td>0.0</td>\n      <td>inf</td>\n      <td>0.0</td>\n    </tr>\n    <tr>\n      <th>I</th>\n      <td>-1.059694</td>\n      <td>0.250637</td>\n      <td>9.343868</td>\n      <td>8.284174</td>\n      <td>0.0</td>\n      <td>inf</td>\n      <td>0.0</td>\n    </tr>\n    <tr>\n      <th>J</th>\n      <td>-0.774140</td>\n      <td>0.552288</td>\n      <td>5.653342</td>\n      <td>4.879202</td>\n      <td>0.0</td>\n      <td>inf</td>\n      <td>0.0</td>\n    </tr>\n  </tbody>\n</table>\n</div>"
     },
     "metadata": {},
     "execution_count": 185
    }
   ],
   "source": [
    "df.set_index(\"New\")"
   ]
  },
  {
   "source": [
    "1. Buatlah sebuah fungsi. Fungsi yang dibuat bebas. Coba libatkan 2 kolom dalam fungsi ini. Lalu buatlah variabel baru yang merupakan implementasi dari fungsi yang telah dibuat."
   ],
   "cell_type": "markdown",
   "metadata": {}
  },
  {
   "cell_type": "code",
   "execution_count": 186,
   "metadata": {},
   "outputs": [
    {
     "output_type": "execute_result",
     "data": {
      "text/plain": [
       "       Kol1      Kol2      Kol3       Kol4  Kol5  Kol6  Kol7 New\n",
       "0 -0.351649  0.691890  1.992844   1.641195   0.0   inf   0.0   A\n",
       "1  1.799142  0.522876  9.079389  10.878531   0.0   inf   0.0   B\n",
       "2  0.038698  0.984457  2.041998   2.080695   0.0   inf   0.0   C\n",
       "3 -0.403080  0.393299  4.896562   4.493482   0.0   inf   0.0   D\n",
       "4  2.822809  0.241036  4.874742   7.697552   0.0   inf   0.0   E\n",
       "5  1.257452  0.389653  9.680331  10.937782   0.0   inf   0.0   F\n",
       "6  0.170795  0.818249  4.674937   4.845731   0.0   inf   0.0   G\n",
       "7 -0.124940  0.941972  3.729209   3.604269   0.0   inf   0.0   H\n",
       "8 -1.059694  0.250637  9.343868   8.284174   0.0   inf   0.0   I\n",
       "9 -0.774140  0.552288  5.653342   4.879202   0.0   inf   0.0   J"
      ],
      "text/html": "<div>\n<style scoped>\n    .dataframe tbody tr th:only-of-type {\n        vertical-align: middle;\n    }\n\n    .dataframe tbody tr th {\n        vertical-align: top;\n    }\n\n    .dataframe thead th {\n        text-align: right;\n    }\n</style>\n<table border=\"1\" class=\"dataframe\">\n  <thead>\n    <tr style=\"text-align: right;\">\n      <th></th>\n      <th>Kol1</th>\n      <th>Kol2</th>\n      <th>Kol3</th>\n      <th>Kol4</th>\n      <th>Kol5</th>\n      <th>Kol6</th>\n      <th>Kol7</th>\n      <th>New</th>\n    </tr>\n  </thead>\n  <tbody>\n    <tr>\n      <th>0</th>\n      <td>-0.351649</td>\n      <td>0.691890</td>\n      <td>1.992844</td>\n      <td>1.641195</td>\n      <td>0.0</td>\n      <td>inf</td>\n      <td>0.0</td>\n      <td>A</td>\n    </tr>\n    <tr>\n      <th>1</th>\n      <td>1.799142</td>\n      <td>0.522876</td>\n      <td>9.079389</td>\n      <td>10.878531</td>\n      <td>0.0</td>\n      <td>inf</td>\n      <td>0.0</td>\n      <td>B</td>\n    </tr>\n    <tr>\n      <th>2</th>\n      <td>0.038698</td>\n      <td>0.984457</td>\n      <td>2.041998</td>\n      <td>2.080695</td>\n      <td>0.0</td>\n      <td>inf</td>\n      <td>0.0</td>\n      <td>C</td>\n    </tr>\n    <tr>\n      <th>3</th>\n      <td>-0.403080</td>\n      <td>0.393299</td>\n      <td>4.896562</td>\n      <td>4.493482</td>\n      <td>0.0</td>\n      <td>inf</td>\n      <td>0.0</td>\n      <td>D</td>\n    </tr>\n    <tr>\n      <th>4</th>\n      <td>2.822809</td>\n      <td>0.241036</td>\n      <td>4.874742</td>\n      <td>7.697552</td>\n      <td>0.0</td>\n      <td>inf</td>\n      <td>0.0</td>\n      <td>E</td>\n    </tr>\n    <tr>\n      <th>5</th>\n      <td>1.257452</td>\n      <td>0.389653</td>\n      <td>9.680331</td>\n      <td>10.937782</td>\n      <td>0.0</td>\n      <td>inf</td>\n      <td>0.0</td>\n      <td>F</td>\n    </tr>\n    <tr>\n      <th>6</th>\n      <td>0.170795</td>\n      <td>0.818249</td>\n      <td>4.674937</td>\n      <td>4.845731</td>\n      <td>0.0</td>\n      <td>inf</td>\n      <td>0.0</td>\n      <td>G</td>\n    </tr>\n    <tr>\n      <th>7</th>\n      <td>-0.124940</td>\n      <td>0.941972</td>\n      <td>3.729209</td>\n      <td>3.604269</td>\n      <td>0.0</td>\n      <td>inf</td>\n      <td>0.0</td>\n      <td>H</td>\n    </tr>\n    <tr>\n      <th>8</th>\n      <td>-1.059694</td>\n      <td>0.250637</td>\n      <td>9.343868</td>\n      <td>8.284174</td>\n      <td>0.0</td>\n      <td>inf</td>\n      <td>0.0</td>\n      <td>I</td>\n    </tr>\n    <tr>\n      <th>9</th>\n      <td>-0.774140</td>\n      <td>0.552288</td>\n      <td>5.653342</td>\n      <td>4.879202</td>\n      <td>0.0</td>\n      <td>inf</td>\n      <td>0.0</td>\n      <td>J</td>\n    </tr>\n  </tbody>\n</table>\n</div>"
     },
     "metadata": {},
     "execution_count": 186
    }
   ],
   "source": [
    "df"
   ]
  },
  {
   "cell_type": "code",
   "execution_count": 187,
   "metadata": {},
   "outputs": [
    {
     "output_type": "error",
     "ename": "SyntaxError",
     "evalue": "invalid syntax (<ipython-input-187-e8937104d849>, line 1)",
     "traceback": [
      "\u001b[1;36m  File \u001b[1;32m\"<ipython-input-187-e8937104d849>\"\u001b[1;36m, line \u001b[1;32m1\u001b[0m\n\u001b[1;33m    def tambah(x)\u001b[0m\n\u001b[1;37m                 ^\u001b[0m\n\u001b[1;31mSyntaxError\u001b[0m\u001b[1;31m:\u001b[0m invalid syntax\n"
     ]
    }
   ],
   "source": [
    "def tambah(x)"
   ]
  },
  {
   "cell_type": "code",
   "execution_count": 196,
   "metadata": {},
   "outputs": [],
   "source": [
    "def sum1(x):\n",
    "    return x['Kol4']+x[\"Kol5\"]+10"
   ]
  },
  {
   "cell_type": "code",
   "execution_count": 208,
   "metadata": {},
   "outputs": [
    {
     "output_type": "execute_result",
     "data": {
      "text/plain": [
       "0    11.641195\n",
       "1    20.878531\n",
       "2    12.080695\n",
       "3    14.493482\n",
       "4    17.697552\n",
       "5    20.937782\n",
       "6    14.845731\n",
       "7    13.604269\n",
       "8    18.284174\n",
       "9    14.879202\n",
       "dtype: float64"
      ]
     },
     "metadata": {},
     "execution_count": 208
    }
   ],
   "source": [
    "df[[\"Kol4\",\"Kol5\"]].apply(sum1,axis=1)"
   ]
  },
  {
   "cell_type": "code",
   "execution_count": 202,
   "metadata": {},
   "outputs": [
    {
     "output_type": "execute_result",
     "data": {
      "text/plain": [
       "       Kol1      Kol2      Kol3       Kol4  Kol5  Kol6  Kol7 New       Kol8\n",
       "0 -0.351649  0.691890  1.992844   1.641195   0.0   inf   0.0   A  11.641195\n",
       "1  1.799142  0.522876  9.079389  10.878531   0.0   inf   0.0   B  20.878531\n",
       "2  0.038698  0.984457  2.041998   2.080695   0.0   inf   0.0   C  12.080695\n",
       "3 -0.403080  0.393299  4.896562   4.493482   0.0   inf   0.0   D  14.493482\n",
       "4  2.822809  0.241036  4.874742   7.697552   0.0   inf   0.0   E  17.697552\n",
       "5  1.257452  0.389653  9.680331  10.937782   0.0   inf   0.0   F  20.937782\n",
       "6  0.170795  0.818249  4.674937   4.845731   0.0   inf   0.0   G  14.845731\n",
       "7 -0.124940  0.941972  3.729209   3.604269   0.0   inf   0.0   H  13.604269\n",
       "8 -1.059694  0.250637  9.343868   8.284174   0.0   inf   0.0   I  18.284174\n",
       "9 -0.774140  0.552288  5.653342   4.879202   0.0   inf   0.0   J  14.879202"
      ],
      "text/html": "<div>\n<style scoped>\n    .dataframe tbody tr th:only-of-type {\n        vertical-align: middle;\n    }\n\n    .dataframe tbody tr th {\n        vertical-align: top;\n    }\n\n    .dataframe thead th {\n        text-align: right;\n    }\n</style>\n<table border=\"1\" class=\"dataframe\">\n  <thead>\n    <tr style=\"text-align: right;\">\n      <th></th>\n      <th>Kol1</th>\n      <th>Kol2</th>\n      <th>Kol3</th>\n      <th>Kol4</th>\n      <th>Kol5</th>\n      <th>Kol6</th>\n      <th>Kol7</th>\n      <th>New</th>\n      <th>Kol8</th>\n    </tr>\n  </thead>\n  <tbody>\n    <tr>\n      <th>0</th>\n      <td>-0.351649</td>\n      <td>0.691890</td>\n      <td>1.992844</td>\n      <td>1.641195</td>\n      <td>0.0</td>\n      <td>inf</td>\n      <td>0.0</td>\n      <td>A</td>\n      <td>11.641195</td>\n    </tr>\n    <tr>\n      <th>1</th>\n      <td>1.799142</td>\n      <td>0.522876</td>\n      <td>9.079389</td>\n      <td>10.878531</td>\n      <td>0.0</td>\n      <td>inf</td>\n      <td>0.0</td>\n      <td>B</td>\n      <td>20.878531</td>\n    </tr>\n    <tr>\n      <th>2</th>\n      <td>0.038698</td>\n      <td>0.984457</td>\n      <td>2.041998</td>\n      <td>2.080695</td>\n      <td>0.0</td>\n      <td>inf</td>\n      <td>0.0</td>\n      <td>C</td>\n      <td>12.080695</td>\n    </tr>\n    <tr>\n      <th>3</th>\n      <td>-0.403080</td>\n      <td>0.393299</td>\n      <td>4.896562</td>\n      <td>4.493482</td>\n      <td>0.0</td>\n      <td>inf</td>\n      <td>0.0</td>\n      <td>D</td>\n      <td>14.493482</td>\n    </tr>\n    <tr>\n      <th>4</th>\n      <td>2.822809</td>\n      <td>0.241036</td>\n      <td>4.874742</td>\n      <td>7.697552</td>\n      <td>0.0</td>\n      <td>inf</td>\n      <td>0.0</td>\n      <td>E</td>\n      <td>17.697552</td>\n    </tr>\n    <tr>\n      <th>5</th>\n      <td>1.257452</td>\n      <td>0.389653</td>\n      <td>9.680331</td>\n      <td>10.937782</td>\n      <td>0.0</td>\n      <td>inf</td>\n      <td>0.0</td>\n      <td>F</td>\n      <td>20.937782</td>\n    </tr>\n    <tr>\n      <th>6</th>\n      <td>0.170795</td>\n      <td>0.818249</td>\n      <td>4.674937</td>\n      <td>4.845731</td>\n      <td>0.0</td>\n      <td>inf</td>\n      <td>0.0</td>\n      <td>G</td>\n      <td>14.845731</td>\n    </tr>\n    <tr>\n      <th>7</th>\n      <td>-0.124940</td>\n      <td>0.941972</td>\n      <td>3.729209</td>\n      <td>3.604269</td>\n      <td>0.0</td>\n      <td>inf</td>\n      <td>0.0</td>\n      <td>H</td>\n      <td>13.604269</td>\n    </tr>\n    <tr>\n      <th>8</th>\n      <td>-1.059694</td>\n      <td>0.250637</td>\n      <td>9.343868</td>\n      <td>8.284174</td>\n      <td>0.0</td>\n      <td>inf</td>\n      <td>0.0</td>\n      <td>I</td>\n      <td>18.284174</td>\n    </tr>\n    <tr>\n      <th>9</th>\n      <td>-0.774140</td>\n      <td>0.552288</td>\n      <td>5.653342</td>\n      <td>4.879202</td>\n      <td>0.0</td>\n      <td>inf</td>\n      <td>0.0</td>\n      <td>J</td>\n      <td>14.879202</td>\n    </tr>\n  </tbody>\n</table>\n</div>"
     },
     "metadata": {},
     "execution_count": 202
    }
   ],
   "source": [
    "df['Kol8'] = df[[\"Kol4\",\"Kol5\"]].apply(sum1,axis=1)\n",
    "df"
   ]
  },
  {
   "source": [
    "Buatlah sebuah dataframe baru yang berukuran jumlah kolom yang sama dengan dataframe pertama. lakukan concat pada dua data frame ini. tampilkan dataframe akhirnya"
   ],
   "cell_type": "markdown",
   "metadata": {}
  },
  {
   "cell_type": "code",
   "execution_count": 158,
   "metadata": {},
   "outputs": [
    {
     "output_type": "execute_result",
     "data": {
      "text/plain": [
       "    0   1   2   3   4   5   6   7\n",
       "0  55  76  76  58  53  72  53  87\n",
       "1  53  98  98  58  98  66  63  97\n",
       "2  59  58  80  65  78  98  96  54\n",
       "3  99  67  67  76  56  62  51  96\n",
       "4  58  80  70  98  83  92  68  54\n",
       "5  60  98  79  91  94  83  52  72\n",
       "6  92  66  86  81  68  98  89  56\n",
       "7  84  88  64  81  75  99  52  73\n",
       "8  80  61  78  81  63  68  81  86\n",
       "9  94  78  56  90  67  97  69  78"
      ],
      "text/html": "<div>\n<style scoped>\n    .dataframe tbody tr th:only-of-type {\n        vertical-align: middle;\n    }\n\n    .dataframe tbody tr th {\n        vertical-align: top;\n    }\n\n    .dataframe thead th {\n        text-align: right;\n    }\n</style>\n<table border=\"1\" class=\"dataframe\">\n  <thead>\n    <tr style=\"text-align: right;\">\n      <th></th>\n      <th>0</th>\n      <th>1</th>\n      <th>2</th>\n      <th>3</th>\n      <th>4</th>\n      <th>5</th>\n      <th>6</th>\n      <th>7</th>\n    </tr>\n  </thead>\n  <tbody>\n    <tr>\n      <th>0</th>\n      <td>55</td>\n      <td>76</td>\n      <td>76</td>\n      <td>58</td>\n      <td>53</td>\n      <td>72</td>\n      <td>53</td>\n      <td>87</td>\n    </tr>\n    <tr>\n      <th>1</th>\n      <td>53</td>\n      <td>98</td>\n      <td>98</td>\n      <td>58</td>\n      <td>98</td>\n      <td>66</td>\n      <td>63</td>\n      <td>97</td>\n    </tr>\n    <tr>\n      <th>2</th>\n      <td>59</td>\n      <td>58</td>\n      <td>80</td>\n      <td>65</td>\n      <td>78</td>\n      <td>98</td>\n      <td>96</td>\n      <td>54</td>\n    </tr>\n    <tr>\n      <th>3</th>\n      <td>99</td>\n      <td>67</td>\n      <td>67</td>\n      <td>76</td>\n      <td>56</td>\n      <td>62</td>\n      <td>51</td>\n      <td>96</td>\n    </tr>\n    <tr>\n      <th>4</th>\n      <td>58</td>\n      <td>80</td>\n      <td>70</td>\n      <td>98</td>\n      <td>83</td>\n      <td>92</td>\n      <td>68</td>\n      <td>54</td>\n    </tr>\n    <tr>\n      <th>5</th>\n      <td>60</td>\n      <td>98</td>\n      <td>79</td>\n      <td>91</td>\n      <td>94</td>\n      <td>83</td>\n      <td>52</td>\n      <td>72</td>\n    </tr>\n    <tr>\n      <th>6</th>\n      <td>92</td>\n      <td>66</td>\n      <td>86</td>\n      <td>81</td>\n      <td>68</td>\n      <td>98</td>\n      <td>89</td>\n      <td>56</td>\n    </tr>\n    <tr>\n      <th>7</th>\n      <td>84</td>\n      <td>88</td>\n      <td>64</td>\n      <td>81</td>\n      <td>75</td>\n      <td>99</td>\n      <td>52</td>\n      <td>73</td>\n    </tr>\n    <tr>\n      <th>8</th>\n      <td>80</td>\n      <td>61</td>\n      <td>78</td>\n      <td>81</td>\n      <td>63</td>\n      <td>68</td>\n      <td>81</td>\n      <td>86</td>\n    </tr>\n    <tr>\n      <th>9</th>\n      <td>94</td>\n      <td>78</td>\n      <td>56</td>\n      <td>90</td>\n      <td>67</td>\n      <td>97</td>\n      <td>69</td>\n      <td>78</td>\n    </tr>\n  </tbody>\n</table>\n</div>"
     },
     "metadata": {},
     "execution_count": 158
    }
   ],
   "source": [
    "df2 = pd.DataFrame(np.random.randint(50,100,(10,8)))\n",
    "df2"
   ]
  },
  {
   "cell_type": "code",
   "execution_count": 163,
   "metadata": {},
   "outputs": [
    {
     "output_type": "execute_result",
     "data": {
      "text/plain": [
       "         Kol1      Kol2      Kol3       Kol4  Kol5  Kol6  Kol7       Kol8\n",
       "New                                                                      \n",
       "A    1.450209  0.325840  8.955316  10.405525   0.0   inf   0.0  20.405525\n",
       "B   -0.059178  0.377442  9.135758   9.076580   0.0   inf   0.0  19.076580\n",
       "C   -0.202250  0.744078  8.315489   8.113239   0.0   inf   0.0  18.113239\n",
       "D   -0.689622  0.143484  3.774176   3.084554   0.0   inf   0.0  13.084554\n",
       "E   -0.322116  0.560639  7.497717   7.175601   0.0   inf   0.0  17.175601\n",
       "F   -0.714616  0.137022  8.982242   8.267626   0.0   inf   0.0  18.267626\n",
       "G   -1.247938  0.939877  4.079088   2.831151   0.0   inf   0.0  12.831151\n",
       "H   -0.193190  0.691601  9.262566   9.069375   0.0   inf   0.0  19.069375\n",
       "I   -1.244024  0.283280  9.834436   8.590412   0.0   inf   0.0  18.590412\n",
       "J   -0.351986  0.651049  8.591232   8.239246   0.0   inf   0.0  18.239246"
      ],
      "text/html": "<div>\n<style scoped>\n    .dataframe tbody tr th:only-of-type {\n        vertical-align: middle;\n    }\n\n    .dataframe tbody tr th {\n        vertical-align: top;\n    }\n\n    .dataframe thead th {\n        text-align: right;\n    }\n</style>\n<table border=\"1\" class=\"dataframe\">\n  <thead>\n    <tr style=\"text-align: right;\">\n      <th></th>\n      <th>Kol1</th>\n      <th>Kol2</th>\n      <th>Kol3</th>\n      <th>Kol4</th>\n      <th>Kol5</th>\n      <th>Kol6</th>\n      <th>Kol7</th>\n      <th>Kol8</th>\n    </tr>\n    <tr>\n      <th>New</th>\n      <th></th>\n      <th></th>\n      <th></th>\n      <th></th>\n      <th></th>\n      <th></th>\n      <th></th>\n      <th></th>\n    </tr>\n  </thead>\n  <tbody>\n    <tr>\n      <th>A</th>\n      <td>1.450209</td>\n      <td>0.325840</td>\n      <td>8.955316</td>\n      <td>10.405525</td>\n      <td>0.0</td>\n      <td>inf</td>\n      <td>0.0</td>\n      <td>20.405525</td>\n    </tr>\n    <tr>\n      <th>B</th>\n      <td>-0.059178</td>\n      <td>0.377442</td>\n      <td>9.135758</td>\n      <td>9.076580</td>\n      <td>0.0</td>\n      <td>inf</td>\n      <td>0.0</td>\n      <td>19.076580</td>\n    </tr>\n    <tr>\n      <th>C</th>\n      <td>-0.202250</td>\n      <td>0.744078</td>\n      <td>8.315489</td>\n      <td>8.113239</td>\n      <td>0.0</td>\n      <td>inf</td>\n      <td>0.0</td>\n      <td>18.113239</td>\n    </tr>\n    <tr>\n      <th>D</th>\n      <td>-0.689622</td>\n      <td>0.143484</td>\n      <td>3.774176</td>\n      <td>3.084554</td>\n      <td>0.0</td>\n      <td>inf</td>\n      <td>0.0</td>\n      <td>13.084554</td>\n    </tr>\n    <tr>\n      <th>E</th>\n      <td>-0.322116</td>\n      <td>0.560639</td>\n      <td>7.497717</td>\n      <td>7.175601</td>\n      <td>0.0</td>\n      <td>inf</td>\n      <td>0.0</td>\n      <td>17.175601</td>\n    </tr>\n    <tr>\n      <th>F</th>\n      <td>-0.714616</td>\n      <td>0.137022</td>\n      <td>8.982242</td>\n      <td>8.267626</td>\n      <td>0.0</td>\n      <td>inf</td>\n      <td>0.0</td>\n      <td>18.267626</td>\n    </tr>\n    <tr>\n      <th>G</th>\n      <td>-1.247938</td>\n      <td>0.939877</td>\n      <td>4.079088</td>\n      <td>2.831151</td>\n      <td>0.0</td>\n      <td>inf</td>\n      <td>0.0</td>\n      <td>12.831151</td>\n    </tr>\n    <tr>\n      <th>H</th>\n      <td>-0.193190</td>\n      <td>0.691601</td>\n      <td>9.262566</td>\n      <td>9.069375</td>\n      <td>0.0</td>\n      <td>inf</td>\n      <td>0.0</td>\n      <td>19.069375</td>\n    </tr>\n    <tr>\n      <th>I</th>\n      <td>-1.244024</td>\n      <td>0.283280</td>\n      <td>9.834436</td>\n      <td>8.590412</td>\n      <td>0.0</td>\n      <td>inf</td>\n      <td>0.0</td>\n      <td>18.590412</td>\n    </tr>\n    <tr>\n      <th>J</th>\n      <td>-0.351986</td>\n      <td>0.651049</td>\n      <td>8.591232</td>\n      <td>8.239246</td>\n      <td>0.0</td>\n      <td>inf</td>\n      <td>0.0</td>\n      <td>18.239246</td>\n    </tr>\n  </tbody>\n</table>\n</div>"
     },
     "metadata": {},
     "execution_count": 163
    }
   ],
   "source": [
    "df"
   ]
  },
  {
   "cell_type": "code",
   "execution_count": 167,
   "metadata": {},
   "outputs": [
    {
     "output_type": "execute_result",
     "data": {
      "text/plain": [
       "       Kol1      Kol2      Kol3       Kol4  Kol5  Kol6  Kol7       Kol8     0  \\\n",
       "A  1.450209  0.325840  8.955316  10.405525   0.0   inf   0.0  20.405525   NaN   \n",
       "B -0.059178  0.377442  9.135758   9.076580   0.0   inf   0.0  19.076580   NaN   \n",
       "C -0.202250  0.744078  8.315489   8.113239   0.0   inf   0.0  18.113239   NaN   \n",
       "D -0.689622  0.143484  3.774176   3.084554   0.0   inf   0.0  13.084554   NaN   \n",
       "E -0.322116  0.560639  7.497717   7.175601   0.0   inf   0.0  17.175601   NaN   \n",
       "F -0.714616  0.137022  8.982242   8.267626   0.0   inf   0.0  18.267626   NaN   \n",
       "G -1.247938  0.939877  4.079088   2.831151   0.0   inf   0.0  12.831151   NaN   \n",
       "H -0.193190  0.691601  9.262566   9.069375   0.0   inf   0.0  19.069375   NaN   \n",
       "I -1.244024  0.283280  9.834436   8.590412   0.0   inf   0.0  18.590412   NaN   \n",
       "J -0.351986  0.651049  8.591232   8.239246   0.0   inf   0.0  18.239246   NaN   \n",
       "0       NaN       NaN       NaN        NaN   NaN   NaN   NaN        NaN  55.0   \n",
       "1       NaN       NaN       NaN        NaN   NaN   NaN   NaN        NaN  53.0   \n",
       "2       NaN       NaN       NaN        NaN   NaN   NaN   NaN        NaN  59.0   \n",
       "3       NaN       NaN       NaN        NaN   NaN   NaN   NaN        NaN  99.0   \n",
       "4       NaN       NaN       NaN        NaN   NaN   NaN   NaN        NaN  58.0   \n",
       "5       NaN       NaN       NaN        NaN   NaN   NaN   NaN        NaN  60.0   \n",
       "6       NaN       NaN       NaN        NaN   NaN   NaN   NaN        NaN  92.0   \n",
       "7       NaN       NaN       NaN        NaN   NaN   NaN   NaN        NaN  84.0   \n",
       "8       NaN       NaN       NaN        NaN   NaN   NaN   NaN        NaN  80.0   \n",
       "9       NaN       NaN       NaN        NaN   NaN   NaN   NaN        NaN  94.0   \n",
       "\n",
       "      1     2     3     4     5     6     7  \n",
       "A   NaN   NaN   NaN   NaN   NaN   NaN   NaN  \n",
       "B   NaN   NaN   NaN   NaN   NaN   NaN   NaN  \n",
       "C   NaN   NaN   NaN   NaN   NaN   NaN   NaN  \n",
       "D   NaN   NaN   NaN   NaN   NaN   NaN   NaN  \n",
       "E   NaN   NaN   NaN   NaN   NaN   NaN   NaN  \n",
       "F   NaN   NaN   NaN   NaN   NaN   NaN   NaN  \n",
       "G   NaN   NaN   NaN   NaN   NaN   NaN   NaN  \n",
       "H   NaN   NaN   NaN   NaN   NaN   NaN   NaN  \n",
       "I   NaN   NaN   NaN   NaN   NaN   NaN   NaN  \n",
       "J   NaN   NaN   NaN   NaN   NaN   NaN   NaN  \n",
       "0  76.0  76.0  58.0  53.0  72.0  53.0  87.0  \n",
       "1  98.0  98.0  58.0  98.0  66.0  63.0  97.0  \n",
       "2  58.0  80.0  65.0  78.0  98.0  96.0  54.0  \n",
       "3  67.0  67.0  76.0  56.0  62.0  51.0  96.0  \n",
       "4  80.0  70.0  98.0  83.0  92.0  68.0  54.0  \n",
       "5  98.0  79.0  91.0  94.0  83.0  52.0  72.0  \n",
       "6  66.0  86.0  81.0  68.0  98.0  89.0  56.0  \n",
       "7  88.0  64.0  81.0  75.0  99.0  52.0  73.0  \n",
       "8  61.0  78.0  81.0  63.0  68.0  81.0  86.0  \n",
       "9  78.0  56.0  90.0  67.0  97.0  69.0  78.0  "
      ],
      "text/html": "<div>\n<style scoped>\n    .dataframe tbody tr th:only-of-type {\n        vertical-align: middle;\n    }\n\n    .dataframe tbody tr th {\n        vertical-align: top;\n    }\n\n    .dataframe thead th {\n        text-align: right;\n    }\n</style>\n<table border=\"1\" class=\"dataframe\">\n  <thead>\n    <tr style=\"text-align: right;\">\n      <th></th>\n      <th>Kol1</th>\n      <th>Kol2</th>\n      <th>Kol3</th>\n      <th>Kol4</th>\n      <th>Kol5</th>\n      <th>Kol6</th>\n      <th>Kol7</th>\n      <th>Kol8</th>\n      <th>0</th>\n      <th>1</th>\n      <th>2</th>\n      <th>3</th>\n      <th>4</th>\n      <th>5</th>\n      <th>6</th>\n      <th>7</th>\n    </tr>\n  </thead>\n  <tbody>\n    <tr>\n      <th>A</th>\n      <td>1.450209</td>\n      <td>0.325840</td>\n      <td>8.955316</td>\n      <td>10.405525</td>\n      <td>0.0</td>\n      <td>inf</td>\n      <td>0.0</td>\n      <td>20.405525</td>\n      <td>NaN</td>\n      <td>NaN</td>\n      <td>NaN</td>\n      <td>NaN</td>\n      <td>NaN</td>\n      <td>NaN</td>\n      <td>NaN</td>\n      <td>NaN</td>\n    </tr>\n    <tr>\n      <th>B</th>\n      <td>-0.059178</td>\n      <td>0.377442</td>\n      <td>9.135758</td>\n      <td>9.076580</td>\n      <td>0.0</td>\n      <td>inf</td>\n      <td>0.0</td>\n      <td>19.076580</td>\n      <td>NaN</td>\n      <td>NaN</td>\n      <td>NaN</td>\n      <td>NaN</td>\n      <td>NaN</td>\n      <td>NaN</td>\n      <td>NaN</td>\n      <td>NaN</td>\n    </tr>\n    <tr>\n      <th>C</th>\n      <td>-0.202250</td>\n      <td>0.744078</td>\n      <td>8.315489</td>\n      <td>8.113239</td>\n      <td>0.0</td>\n      <td>inf</td>\n      <td>0.0</td>\n      <td>18.113239</td>\n      <td>NaN</td>\n      <td>NaN</td>\n      <td>NaN</td>\n      <td>NaN</td>\n      <td>NaN</td>\n      <td>NaN</td>\n      <td>NaN</td>\n      <td>NaN</td>\n    </tr>\n    <tr>\n      <th>D</th>\n      <td>-0.689622</td>\n      <td>0.143484</td>\n      <td>3.774176</td>\n      <td>3.084554</td>\n      <td>0.0</td>\n      <td>inf</td>\n      <td>0.0</td>\n      <td>13.084554</td>\n      <td>NaN</td>\n      <td>NaN</td>\n      <td>NaN</td>\n      <td>NaN</td>\n      <td>NaN</td>\n      <td>NaN</td>\n      <td>NaN</td>\n      <td>NaN</td>\n    </tr>\n    <tr>\n      <th>E</th>\n      <td>-0.322116</td>\n      <td>0.560639</td>\n      <td>7.497717</td>\n      <td>7.175601</td>\n      <td>0.0</td>\n      <td>inf</td>\n      <td>0.0</td>\n      <td>17.175601</td>\n      <td>NaN</td>\n      <td>NaN</td>\n      <td>NaN</td>\n      <td>NaN</td>\n      <td>NaN</td>\n      <td>NaN</td>\n      <td>NaN</td>\n      <td>NaN</td>\n    </tr>\n    <tr>\n      <th>F</th>\n      <td>-0.714616</td>\n      <td>0.137022</td>\n      <td>8.982242</td>\n      <td>8.267626</td>\n      <td>0.0</td>\n      <td>inf</td>\n      <td>0.0</td>\n      <td>18.267626</td>\n      <td>NaN</td>\n      <td>NaN</td>\n      <td>NaN</td>\n      <td>NaN</td>\n      <td>NaN</td>\n      <td>NaN</td>\n      <td>NaN</td>\n      <td>NaN</td>\n    </tr>\n    <tr>\n      <th>G</th>\n      <td>-1.247938</td>\n      <td>0.939877</td>\n      <td>4.079088</td>\n      <td>2.831151</td>\n      <td>0.0</td>\n      <td>inf</td>\n      <td>0.0</td>\n      <td>12.831151</td>\n      <td>NaN</td>\n      <td>NaN</td>\n      <td>NaN</td>\n      <td>NaN</td>\n      <td>NaN</td>\n      <td>NaN</td>\n      <td>NaN</td>\n      <td>NaN</td>\n    </tr>\n    <tr>\n      <th>H</th>\n      <td>-0.193190</td>\n      <td>0.691601</td>\n      <td>9.262566</td>\n      <td>9.069375</td>\n      <td>0.0</td>\n      <td>inf</td>\n      <td>0.0</td>\n      <td>19.069375</td>\n      <td>NaN</td>\n      <td>NaN</td>\n      <td>NaN</td>\n      <td>NaN</td>\n      <td>NaN</td>\n      <td>NaN</td>\n      <td>NaN</td>\n      <td>NaN</td>\n    </tr>\n    <tr>\n      <th>I</th>\n      <td>-1.244024</td>\n      <td>0.283280</td>\n      <td>9.834436</td>\n      <td>8.590412</td>\n      <td>0.0</td>\n      <td>inf</td>\n      <td>0.0</td>\n      <td>18.590412</td>\n      <td>NaN</td>\n      <td>NaN</td>\n      <td>NaN</td>\n      <td>NaN</td>\n      <td>NaN</td>\n      <td>NaN</td>\n      <td>NaN</td>\n      <td>NaN</td>\n    </tr>\n    <tr>\n      <th>J</th>\n      <td>-0.351986</td>\n      <td>0.651049</td>\n      <td>8.591232</td>\n      <td>8.239246</td>\n      <td>0.0</td>\n      <td>inf</td>\n      <td>0.0</td>\n      <td>18.239246</td>\n      <td>NaN</td>\n      <td>NaN</td>\n      <td>NaN</td>\n      <td>NaN</td>\n      <td>NaN</td>\n      <td>NaN</td>\n      <td>NaN</td>\n      <td>NaN</td>\n    </tr>\n    <tr>\n      <th>0</th>\n      <td>NaN</td>\n      <td>NaN</td>\n      <td>NaN</td>\n      <td>NaN</td>\n      <td>NaN</td>\n      <td>NaN</td>\n      <td>NaN</td>\n      <td>NaN</td>\n      <td>55.0</td>\n      <td>76.0</td>\n      <td>76.0</td>\n      <td>58.0</td>\n      <td>53.0</td>\n      <td>72.0</td>\n      <td>53.0</td>\n      <td>87.0</td>\n    </tr>\n    <tr>\n      <th>1</th>\n      <td>NaN</td>\n      <td>NaN</td>\n      <td>NaN</td>\n      <td>NaN</td>\n      <td>NaN</td>\n      <td>NaN</td>\n      <td>NaN</td>\n      <td>NaN</td>\n      <td>53.0</td>\n      <td>98.0</td>\n      <td>98.0</td>\n      <td>58.0</td>\n      <td>98.0</td>\n      <td>66.0</td>\n      <td>63.0</td>\n      <td>97.0</td>\n    </tr>\n    <tr>\n      <th>2</th>\n      <td>NaN</td>\n      <td>NaN</td>\n      <td>NaN</td>\n      <td>NaN</td>\n      <td>NaN</td>\n      <td>NaN</td>\n      <td>NaN</td>\n      <td>NaN</td>\n      <td>59.0</td>\n      <td>58.0</td>\n      <td>80.0</td>\n      <td>65.0</td>\n      <td>78.0</td>\n      <td>98.0</td>\n      <td>96.0</td>\n      <td>54.0</td>\n    </tr>\n    <tr>\n      <th>3</th>\n      <td>NaN</td>\n      <td>NaN</td>\n      <td>NaN</td>\n      <td>NaN</td>\n      <td>NaN</td>\n      <td>NaN</td>\n      <td>NaN</td>\n      <td>NaN</td>\n      <td>99.0</td>\n      <td>67.0</td>\n      <td>67.0</td>\n      <td>76.0</td>\n      <td>56.0</td>\n      <td>62.0</td>\n      <td>51.0</td>\n      <td>96.0</td>\n    </tr>\n    <tr>\n      <th>4</th>\n      <td>NaN</td>\n      <td>NaN</td>\n      <td>NaN</td>\n      <td>NaN</td>\n      <td>NaN</td>\n      <td>NaN</td>\n      <td>NaN</td>\n      <td>NaN</td>\n      <td>58.0</td>\n      <td>80.0</td>\n      <td>70.0</td>\n      <td>98.0</td>\n      <td>83.0</td>\n      <td>92.0</td>\n      <td>68.0</td>\n      <td>54.0</td>\n    </tr>\n    <tr>\n      <th>5</th>\n      <td>NaN</td>\n      <td>NaN</td>\n      <td>NaN</td>\n      <td>NaN</td>\n      <td>NaN</td>\n      <td>NaN</td>\n      <td>NaN</td>\n      <td>NaN</td>\n      <td>60.0</td>\n      <td>98.0</td>\n      <td>79.0</td>\n      <td>91.0</td>\n      <td>94.0</td>\n      <td>83.0</td>\n      <td>52.0</td>\n      <td>72.0</td>\n    </tr>\n    <tr>\n      <th>6</th>\n      <td>NaN</td>\n      <td>NaN</td>\n      <td>NaN</td>\n      <td>NaN</td>\n      <td>NaN</td>\n      <td>NaN</td>\n      <td>NaN</td>\n      <td>NaN</td>\n      <td>92.0</td>\n      <td>66.0</td>\n      <td>86.0</td>\n      <td>81.0</td>\n      <td>68.0</td>\n      <td>98.0</td>\n      <td>89.0</td>\n      <td>56.0</td>\n    </tr>\n    <tr>\n      <th>7</th>\n      <td>NaN</td>\n      <td>NaN</td>\n      <td>NaN</td>\n      <td>NaN</td>\n      <td>NaN</td>\n      <td>NaN</td>\n      <td>NaN</td>\n      <td>NaN</td>\n      <td>84.0</td>\n      <td>88.0</td>\n      <td>64.0</td>\n      <td>81.0</td>\n      <td>75.0</td>\n      <td>99.0</td>\n      <td>52.0</td>\n      <td>73.0</td>\n    </tr>\n    <tr>\n      <th>8</th>\n      <td>NaN</td>\n      <td>NaN</td>\n      <td>NaN</td>\n      <td>NaN</td>\n      <td>NaN</td>\n      <td>NaN</td>\n      <td>NaN</td>\n      <td>NaN</td>\n      <td>80.0</td>\n      <td>61.0</td>\n      <td>78.0</td>\n      <td>81.0</td>\n      <td>63.0</td>\n      <td>68.0</td>\n      <td>81.0</td>\n      <td>86.0</td>\n    </tr>\n    <tr>\n      <th>9</th>\n      <td>NaN</td>\n      <td>NaN</td>\n      <td>NaN</td>\n      <td>NaN</td>\n      <td>NaN</td>\n      <td>NaN</td>\n      <td>NaN</td>\n      <td>NaN</td>\n      <td>94.0</td>\n      <td>78.0</td>\n      <td>56.0</td>\n      <td>90.0</td>\n      <td>67.0</td>\n      <td>97.0</td>\n      <td>69.0</td>\n      <td>78.0</td>\n    </tr>\n  </tbody>\n</table>\n</div>"
     },
     "metadata": {},
     "execution_count": 167
    }
   ],
   "source": [
    "df3 = pd.concat([df,df2])\n",
    "df3"
   ]
  },
  {
   "source": [
    "simpan ke dalam bentuk csv"
   ],
   "cell_type": "markdown",
   "metadata": {}
  },
  {
   "cell_type": "code",
   "execution_count": 168,
   "metadata": {},
   "outputs": [],
   "source": [
    "df3.to_csv(\"df3.csv\")"
   ]
  },
  {
   "cell_type": "code",
   "execution_count": null,
   "metadata": {},
   "outputs": [],
   "source": []
  }
 ]
}