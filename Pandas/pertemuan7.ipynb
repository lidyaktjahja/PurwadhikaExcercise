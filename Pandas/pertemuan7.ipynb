{
 "metadata": {
  "language_info": {
   "codemirror_mode": {
    "name": "ipython",
    "version": 3
   },
   "file_extension": ".py",
   "mimetype": "text/x-python",
   "name": "python",
   "nbconvert_exporter": "python",
   "pygments_lexer": "ipython3",
   "version": "3.9.2-final"
  },
  "orig_nbformat": 2,
  "kernelspec": {
   "name": "python3",
   "display_name": "Python 3.9.2 64-bit",
   "metadata": {
    "interpreter": {
     "hash": "5f049ec40c8e1c362c5f7bfa23320edbf94c564ac4956e50293b2ff0f15f7d7f"
    }
   }
  }
 },
 "nbformat": 4,
 "nbformat_minor": 2,
 "cells": [
  {
   "cell_type": "code",
   "execution_count": 1,
   "metadata": {},
   "outputs": [],
   "source": [
    "import pandas as pd \n",
    "import numpy as np "
   ]
  },
  {
   "cell_type": "code",
   "execution_count": 46,
   "metadata": {},
   "outputs": [
    {
     "output_type": "execute_result",
     "data": {
      "text/plain": [
       "    V   W   X   Y   Z\n",
       "A  16  48  49  73  95\n",
       "B  35  37  92  61  22\n",
       "C  25  91  66  12  17\n",
       "D  39  23  15  80  69\n",
       "E  93  36  58  76  24"
      ],
      "text/html": "<div>\n<style scoped>\n    .dataframe tbody tr th:only-of-type {\n        vertical-align: middle;\n    }\n\n    .dataframe tbody tr th {\n        vertical-align: top;\n    }\n\n    .dataframe thead th {\n        text-align: right;\n    }\n</style>\n<table border=\"1\" class=\"dataframe\">\n  <thead>\n    <tr style=\"text-align: right;\">\n      <th></th>\n      <th>V</th>\n      <th>W</th>\n      <th>X</th>\n      <th>Y</th>\n      <th>Z</th>\n    </tr>\n  </thead>\n  <tbody>\n    <tr>\n      <th>A</th>\n      <td>16</td>\n      <td>48</td>\n      <td>49</td>\n      <td>73</td>\n      <td>95</td>\n    </tr>\n    <tr>\n      <th>B</th>\n      <td>35</td>\n      <td>37</td>\n      <td>92</td>\n      <td>61</td>\n      <td>22</td>\n    </tr>\n    <tr>\n      <th>C</th>\n      <td>25</td>\n      <td>91</td>\n      <td>66</td>\n      <td>12</td>\n      <td>17</td>\n    </tr>\n    <tr>\n      <th>D</th>\n      <td>39</td>\n      <td>23</td>\n      <td>15</td>\n      <td>80</td>\n      <td>69</td>\n    </tr>\n    <tr>\n      <th>E</th>\n      <td>93</td>\n      <td>36</td>\n      <td>58</td>\n      <td>76</td>\n      <td>24</td>\n    </tr>\n  </tbody>\n</table>\n</div>"
     },
     "metadata": {},
     "execution_count": 46
    }
   ],
   "source": [
    "data = pd.DataFrame(np.random.randint(1,100,(5,5)),index = 'A B C D E'.split(),columns = 'V W X Y Z'.split())\n",
    "data"
   ]
  },
  {
   "cell_type": "code",
   "execution_count": 47,
   "metadata": {},
   "outputs": [
    {
     "output_type": "execute_result",
     "data": {
      "text/plain": [
       "      V   W   X   Y   Z\n",
       "A    16  48  49  73  95\n",
       "B    35  37  92  61  22\n",
       "C    25  91  66  12  17\n",
       "D    39  23  15  80  69\n",
       "E    93  36  58  76  24\n",
       "New   1   2   3   4   5"
      ],
      "text/html": "<div>\n<style scoped>\n    .dataframe tbody tr th:only-of-type {\n        vertical-align: middle;\n    }\n\n    .dataframe tbody tr th {\n        vertical-align: top;\n    }\n\n    .dataframe thead th {\n        text-align: right;\n    }\n</style>\n<table border=\"1\" class=\"dataframe\">\n  <thead>\n    <tr style=\"text-align: right;\">\n      <th></th>\n      <th>V</th>\n      <th>W</th>\n      <th>X</th>\n      <th>Y</th>\n      <th>Z</th>\n    </tr>\n  </thead>\n  <tbody>\n    <tr>\n      <th>A</th>\n      <td>16</td>\n      <td>48</td>\n      <td>49</td>\n      <td>73</td>\n      <td>95</td>\n    </tr>\n    <tr>\n      <th>B</th>\n      <td>35</td>\n      <td>37</td>\n      <td>92</td>\n      <td>61</td>\n      <td>22</td>\n    </tr>\n    <tr>\n      <th>C</th>\n      <td>25</td>\n      <td>91</td>\n      <td>66</td>\n      <td>12</td>\n      <td>17</td>\n    </tr>\n    <tr>\n      <th>D</th>\n      <td>39</td>\n      <td>23</td>\n      <td>15</td>\n      <td>80</td>\n      <td>69</td>\n    </tr>\n    <tr>\n      <th>E</th>\n      <td>93</td>\n      <td>36</td>\n      <td>58</td>\n      <td>76</td>\n      <td>24</td>\n    </tr>\n    <tr>\n      <th>New</th>\n      <td>1</td>\n      <td>2</td>\n      <td>3</td>\n      <td>4</td>\n      <td>5</td>\n    </tr>\n  </tbody>\n</table>\n</div>"
     },
     "metadata": {},
     "execution_count": 47
    }
   ],
   "source": [
    "# New = [1,2,3,4,5]\n",
    "# data.loc['New']\n",
    "data.loc['New']=[1,2,3,4,5]\n",
    "data"
   ]
  },
  {
   "cell_type": "code",
   "execution_count": 55,
   "metadata": {},
   "outputs": [
    {
     "output_type": "execute_result",
     "data": {
      "text/plain": [
       "      V   W   X   Y   Z      Baru\n",
       "A    16  48  49  73  95  0.468638\n",
       "B    35  37  92  61  22  0.969997\n",
       "C    25  91  66  12  17  0.112535\n",
       "D    39  23  15  80  69  0.473749\n",
       "E    93  36  58  76  24  0.701357\n",
       "New   1   2   3   4   5  0.055976"
      ],
      "text/html": "<div>\n<style scoped>\n    .dataframe tbody tr th:only-of-type {\n        vertical-align: middle;\n    }\n\n    .dataframe tbody tr th {\n        vertical-align: top;\n    }\n\n    .dataframe thead th {\n        text-align: right;\n    }\n</style>\n<table border=\"1\" class=\"dataframe\">\n  <thead>\n    <tr style=\"text-align: right;\">\n      <th></th>\n      <th>V</th>\n      <th>W</th>\n      <th>X</th>\n      <th>Y</th>\n      <th>Z</th>\n      <th>Baru</th>\n    </tr>\n  </thead>\n  <tbody>\n    <tr>\n      <th>A</th>\n      <td>16</td>\n      <td>48</td>\n      <td>49</td>\n      <td>73</td>\n      <td>95</td>\n      <td>0.468638</td>\n    </tr>\n    <tr>\n      <th>B</th>\n      <td>35</td>\n      <td>37</td>\n      <td>92</td>\n      <td>61</td>\n      <td>22</td>\n      <td>0.969997</td>\n    </tr>\n    <tr>\n      <th>C</th>\n      <td>25</td>\n      <td>91</td>\n      <td>66</td>\n      <td>12</td>\n      <td>17</td>\n      <td>0.112535</td>\n    </tr>\n    <tr>\n      <th>D</th>\n      <td>39</td>\n      <td>23</td>\n      <td>15</td>\n      <td>80</td>\n      <td>69</td>\n      <td>0.473749</td>\n    </tr>\n    <tr>\n      <th>E</th>\n      <td>93</td>\n      <td>36</td>\n      <td>58</td>\n      <td>76</td>\n      <td>24</td>\n      <td>0.701357</td>\n    </tr>\n    <tr>\n      <th>New</th>\n      <td>1</td>\n      <td>2</td>\n      <td>3</td>\n      <td>4</td>\n      <td>5</td>\n      <td>0.055976</td>\n    </tr>\n  </tbody>\n</table>\n</div>"
     },
     "metadata": {},
     "execution_count": 55
    }
   ],
   "source": [
    "data['Baru']=np.random.rand(6)\n",
    "data"
   ]
  },
  {
   "cell_type": "code",
   "execution_count": 57,
   "metadata": {},
   "outputs": [
    {
     "output_type": "execute_result",
     "data": {
      "text/plain": [
       "      V   W   X   Y   Z      Baru\n",
       "A    16  48  49  73  95  0.468638\n",
       "B    35  37  92  61  22  0.969997\n",
       "C    25  91  66  12  17  0.112535\n",
       "D    39  23  15  80  69  0.473749\n",
       "E    93  36  58  76  24  0.701357\n",
       "New   1   2   3   4   5  0.055976\n",
       "New   1   2   3   4   5  0.055976"
      ],
      "text/html": "<div>\n<style scoped>\n    .dataframe tbody tr th:only-of-type {\n        vertical-align: middle;\n    }\n\n    .dataframe tbody tr th {\n        vertical-align: top;\n    }\n\n    .dataframe thead th {\n        text-align: right;\n    }\n</style>\n<table border=\"1\" class=\"dataframe\">\n  <thead>\n    <tr style=\"text-align: right;\">\n      <th></th>\n      <th>V</th>\n      <th>W</th>\n      <th>X</th>\n      <th>Y</th>\n      <th>Z</th>\n      <th>Baru</th>\n    </tr>\n  </thead>\n  <tbody>\n    <tr>\n      <th>A</th>\n      <td>16</td>\n      <td>48</td>\n      <td>49</td>\n      <td>73</td>\n      <td>95</td>\n      <td>0.468638</td>\n    </tr>\n    <tr>\n      <th>B</th>\n      <td>35</td>\n      <td>37</td>\n      <td>92</td>\n      <td>61</td>\n      <td>22</td>\n      <td>0.969997</td>\n    </tr>\n    <tr>\n      <th>C</th>\n      <td>25</td>\n      <td>91</td>\n      <td>66</td>\n      <td>12</td>\n      <td>17</td>\n      <td>0.112535</td>\n    </tr>\n    <tr>\n      <th>D</th>\n      <td>39</td>\n      <td>23</td>\n      <td>15</td>\n      <td>80</td>\n      <td>69</td>\n      <td>0.473749</td>\n    </tr>\n    <tr>\n      <th>E</th>\n      <td>93</td>\n      <td>36</td>\n      <td>58</td>\n      <td>76</td>\n      <td>24</td>\n      <td>0.701357</td>\n    </tr>\n    <tr>\n      <th>New</th>\n      <td>1</td>\n      <td>2</td>\n      <td>3</td>\n      <td>4</td>\n      <td>5</td>\n      <td>0.055976</td>\n    </tr>\n    <tr>\n      <th>New</th>\n      <td>1</td>\n      <td>2</td>\n      <td>3</td>\n      <td>4</td>\n      <td>5</td>\n      <td>0.055976</td>\n    </tr>\n  </tbody>\n</table>\n</div>"
     },
     "metadata": {},
     "execution_count": 57
    }
   ],
   "source": [
    "pd.concat([data,data.loc[['New']]])"
   ]
  },
  {
   "cell_type": "code",
   "execution_count": 53,
   "metadata": {},
   "outputs": [
    {
     "output_type": "execute_result",
     "data": {
      "text/plain": [
       "pandas.core.frame.DataFrame"
      ]
     },
     "metadata": {},
     "execution_count": 53
    }
   ],
   "source": [
    "type(data)"
   ]
  },
  {
   "cell_type": "code",
   "execution_count": 62,
   "metadata": {},
   "outputs": [],
   "source": [
    "#untuk masukin data di tengah\n",
    "data.insert(3,'New2',np.random.rand(6))"
   ]
  },
  {
   "cell_type": "code",
   "execution_count": 63,
   "metadata": {},
   "outputs": [
    {
     "output_type": "execute_result",
     "data": {
      "text/plain": [
       "      V   W   X      New2   Y   Z      Baru\n",
       "A    16  48  49  0.176241  73  95  0.468638\n",
       "B    35  37  92  0.855248  61  22  0.969997\n",
       "C    25  91  66  0.174249  12  17  0.112535\n",
       "D    39  23  15  0.803460  80  69  0.473749\n",
       "E    93  36  58  0.606625  76  24  0.701357\n",
       "New   1   2   3  0.832605   4   5  0.055976"
      ],
      "text/html": "<div>\n<style scoped>\n    .dataframe tbody tr th:only-of-type {\n        vertical-align: middle;\n    }\n\n    .dataframe tbody tr th {\n        vertical-align: top;\n    }\n\n    .dataframe thead th {\n        text-align: right;\n    }\n</style>\n<table border=\"1\" class=\"dataframe\">\n  <thead>\n    <tr style=\"text-align: right;\">\n      <th></th>\n      <th>V</th>\n      <th>W</th>\n      <th>X</th>\n      <th>New2</th>\n      <th>Y</th>\n      <th>Z</th>\n      <th>Baru</th>\n    </tr>\n  </thead>\n  <tbody>\n    <tr>\n      <th>A</th>\n      <td>16</td>\n      <td>48</td>\n      <td>49</td>\n      <td>0.176241</td>\n      <td>73</td>\n      <td>95</td>\n      <td>0.468638</td>\n    </tr>\n    <tr>\n      <th>B</th>\n      <td>35</td>\n      <td>37</td>\n      <td>92</td>\n      <td>0.855248</td>\n      <td>61</td>\n      <td>22</td>\n      <td>0.969997</td>\n    </tr>\n    <tr>\n      <th>C</th>\n      <td>25</td>\n      <td>91</td>\n      <td>66</td>\n      <td>0.174249</td>\n      <td>12</td>\n      <td>17</td>\n      <td>0.112535</td>\n    </tr>\n    <tr>\n      <th>D</th>\n      <td>39</td>\n      <td>23</td>\n      <td>15</td>\n      <td>0.803460</td>\n      <td>80</td>\n      <td>69</td>\n      <td>0.473749</td>\n    </tr>\n    <tr>\n      <th>E</th>\n      <td>93</td>\n      <td>36</td>\n      <td>58</td>\n      <td>0.606625</td>\n      <td>76</td>\n      <td>24</td>\n      <td>0.701357</td>\n    </tr>\n    <tr>\n      <th>New</th>\n      <td>1</td>\n      <td>2</td>\n      <td>3</td>\n      <td>0.832605</td>\n      <td>4</td>\n      <td>5</td>\n      <td>0.055976</td>\n    </tr>\n  </tbody>\n</table>\n</div>"
     },
     "metadata": {},
     "execution_count": 63
    }
   ],
   "source": [
    "data"
   ]
  },
  {
   "cell_type": "code",
   "execution_count": 67,
   "metadata": {},
   "outputs": [
    {
     "output_type": "error",
     "ename": "ValueError",
     "evalue": "cannot insert New2, already exists",
     "traceback": [
      "\u001b[1;31m---------------------------------------------------------------------------\u001b[0m",
      "\u001b[1;31mValueError\u001b[0m                                Traceback (most recent call last)",
      "\u001b[1;32m<ipython-input-67-949af0e31d36>\u001b[0m in \u001b[0;36m<module>\u001b[1;34m\u001b[0m\n\u001b[1;32m----> 1\u001b[1;33m \u001b[0mdata\u001b[0m\u001b[1;33m.\u001b[0m\u001b[0minsert\u001b[0m\u001b[1;33m(\u001b[0m\u001b[1;36m4\u001b[0m\u001b[1;33m,\u001b[0m\u001b[1;34m\"New2\"\u001b[0m\u001b[1;33m,\u001b[0m\u001b[0mnp\u001b[0m\u001b[1;33m.\u001b[0m\u001b[0mrandom\u001b[0m\u001b[1;33m.\u001b[0m\u001b[0mrand\u001b[0m\u001b[1;33m(\u001b[0m\u001b[1;36m6\u001b[0m\u001b[1;33m)\u001b[0m\u001b[1;33m,\u001b[0m\u001b[0mallow_duplicates\u001b[0m \u001b[1;33m=\u001b[0m \u001b[1;32mFalse\u001b[0m\u001b[1;33m)\u001b[0m\u001b[1;33m\u001b[0m\u001b[1;33m\u001b[0m\u001b[0m\n\u001b[0m",
      "\u001b[1;32m~\\AppData\\Local\\Packages\\PythonSoftwareFoundation.Python.3.9_qbz5n2kfra8p0\\LocalCache\\local-packages\\Python39\\site-packages\\pandas\\core\\frame.py\u001b[0m in \u001b[0;36minsert\u001b[1;34m(self, loc, column, value, allow_duplicates)\u001b[0m\n\u001b[0;32m   3761\u001b[0m         \u001b[0mself\u001b[0m\u001b[1;33m.\u001b[0m\u001b[0m_ensure_valid_index\u001b[0m\u001b[1;33m(\u001b[0m\u001b[0mvalue\u001b[0m\u001b[1;33m)\u001b[0m\u001b[1;33m\u001b[0m\u001b[1;33m\u001b[0m\u001b[0m\n\u001b[0;32m   3762\u001b[0m         \u001b[0mvalue\u001b[0m \u001b[1;33m=\u001b[0m \u001b[0mself\u001b[0m\u001b[1;33m.\u001b[0m\u001b[0m_sanitize_column\u001b[0m\u001b[1;33m(\u001b[0m\u001b[0mcolumn\u001b[0m\u001b[1;33m,\u001b[0m \u001b[0mvalue\u001b[0m\u001b[1;33m,\u001b[0m \u001b[0mbroadcast\u001b[0m\u001b[1;33m=\u001b[0m\u001b[1;32mFalse\u001b[0m\u001b[1;33m)\u001b[0m\u001b[1;33m\u001b[0m\u001b[1;33m\u001b[0m\u001b[0m\n\u001b[1;32m-> 3763\u001b[1;33m         \u001b[0mself\u001b[0m\u001b[1;33m.\u001b[0m\u001b[0m_mgr\u001b[0m\u001b[1;33m.\u001b[0m\u001b[0minsert\u001b[0m\u001b[1;33m(\u001b[0m\u001b[0mloc\u001b[0m\u001b[1;33m,\u001b[0m \u001b[0mcolumn\u001b[0m\u001b[1;33m,\u001b[0m \u001b[0mvalue\u001b[0m\u001b[1;33m,\u001b[0m \u001b[0mallow_duplicates\u001b[0m\u001b[1;33m=\u001b[0m\u001b[0mallow_duplicates\u001b[0m\u001b[1;33m)\u001b[0m\u001b[1;33m\u001b[0m\u001b[1;33m\u001b[0m\u001b[0m\n\u001b[0m\u001b[0;32m   3764\u001b[0m \u001b[1;33m\u001b[0m\u001b[0m\n\u001b[0;32m   3765\u001b[0m     \u001b[1;32mdef\u001b[0m \u001b[0massign\u001b[0m\u001b[1;33m(\u001b[0m\u001b[0mself\u001b[0m\u001b[1;33m,\u001b[0m \u001b[1;33m**\u001b[0m\u001b[0mkwargs\u001b[0m\u001b[1;33m)\u001b[0m \u001b[1;33m->\u001b[0m \u001b[0mDataFrame\u001b[0m\u001b[1;33m:\u001b[0m\u001b[1;33m\u001b[0m\u001b[1;33m\u001b[0m\u001b[0m\n",
      "\u001b[1;32m~\\AppData\\Local\\Packages\\PythonSoftwareFoundation.Python.3.9_qbz5n2kfra8p0\\LocalCache\\local-packages\\Python39\\site-packages\\pandas\\core\\internals\\managers.py\u001b[0m in \u001b[0;36minsert\u001b[1;34m(self, loc, item, value, allow_duplicates)\u001b[0m\n\u001b[0;32m   1189\u001b[0m         \u001b[1;32mif\u001b[0m \u001b[1;32mnot\u001b[0m \u001b[0mallow_duplicates\u001b[0m \u001b[1;32mand\u001b[0m \u001b[0mitem\u001b[0m \u001b[1;32min\u001b[0m \u001b[0mself\u001b[0m\u001b[1;33m.\u001b[0m\u001b[0mitems\u001b[0m\u001b[1;33m:\u001b[0m\u001b[1;33m\u001b[0m\u001b[1;33m\u001b[0m\u001b[0m\n\u001b[0;32m   1190\u001b[0m             \u001b[1;31m# Should this be a different kind of error??\u001b[0m\u001b[1;33m\u001b[0m\u001b[1;33m\u001b[0m\u001b[1;33m\u001b[0m\u001b[0m\n\u001b[1;32m-> 1191\u001b[1;33m             \u001b[1;32mraise\u001b[0m \u001b[0mValueError\u001b[0m\u001b[1;33m(\u001b[0m\u001b[1;34mf\"cannot insert {item}, already exists\"\u001b[0m\u001b[1;33m)\u001b[0m\u001b[1;33m\u001b[0m\u001b[1;33m\u001b[0m\u001b[0m\n\u001b[0m\u001b[0;32m   1192\u001b[0m \u001b[1;33m\u001b[0m\u001b[0m\n\u001b[0;32m   1193\u001b[0m         \u001b[1;32mif\u001b[0m \u001b[1;32mnot\u001b[0m \u001b[0misinstance\u001b[0m\u001b[1;33m(\u001b[0m\u001b[0mloc\u001b[0m\u001b[1;33m,\u001b[0m \u001b[0mint\u001b[0m\u001b[1;33m)\u001b[0m\u001b[1;33m:\u001b[0m\u001b[1;33m\u001b[0m\u001b[1;33m\u001b[0m\u001b[0m\n",
      "\u001b[1;31mValueError\u001b[0m: cannot insert New2, already exists"
     ]
    }
   ],
   "source": [
    "data.insert(4,\"New2\",np.random.rand(6),allow_duplicates = False) #kalo mau jalan harus true supaya boleh duplicate"
   ]
  },
  {
   "cell_type": "code",
   "execution_count": 68,
   "metadata": {},
   "outputs": [
    {
     "output_type": "execute_result",
     "data": {
      "text/plain": [
       "      V   W   X      New2      New2   Y   Z      Baru\n",
       "A    16  48  49  0.176241  0.610444  73  95  0.468638\n",
       "B    35  37  92  0.855248  0.821583  61  22  0.969997\n",
       "C    25  91  66  0.174249  0.510050  12  17  0.112535\n",
       "D    39  23  15  0.803460  0.005630  80  69  0.473749\n",
       "E    93  36  58  0.606625  0.128902  76  24  0.701357\n",
       "New   1   2   3  0.832605  0.121358   4   5  0.055976"
      ],
      "text/html": "<div>\n<style scoped>\n    .dataframe tbody tr th:only-of-type {\n        vertical-align: middle;\n    }\n\n    .dataframe tbody tr th {\n        vertical-align: top;\n    }\n\n    .dataframe thead th {\n        text-align: right;\n    }\n</style>\n<table border=\"1\" class=\"dataframe\">\n  <thead>\n    <tr style=\"text-align: right;\">\n      <th></th>\n      <th>V</th>\n      <th>W</th>\n      <th>X</th>\n      <th>New2</th>\n      <th>New2</th>\n      <th>Y</th>\n      <th>Z</th>\n      <th>Baru</th>\n    </tr>\n  </thead>\n  <tbody>\n    <tr>\n      <th>A</th>\n      <td>16</td>\n      <td>48</td>\n      <td>49</td>\n      <td>0.176241</td>\n      <td>0.610444</td>\n      <td>73</td>\n      <td>95</td>\n      <td>0.468638</td>\n    </tr>\n    <tr>\n      <th>B</th>\n      <td>35</td>\n      <td>37</td>\n      <td>92</td>\n      <td>0.855248</td>\n      <td>0.821583</td>\n      <td>61</td>\n      <td>22</td>\n      <td>0.969997</td>\n    </tr>\n    <tr>\n      <th>C</th>\n      <td>25</td>\n      <td>91</td>\n      <td>66</td>\n      <td>0.174249</td>\n      <td>0.510050</td>\n      <td>12</td>\n      <td>17</td>\n      <td>0.112535</td>\n    </tr>\n    <tr>\n      <th>D</th>\n      <td>39</td>\n      <td>23</td>\n      <td>15</td>\n      <td>0.803460</td>\n      <td>0.005630</td>\n      <td>80</td>\n      <td>69</td>\n      <td>0.473749</td>\n    </tr>\n    <tr>\n      <th>E</th>\n      <td>93</td>\n      <td>36</td>\n      <td>58</td>\n      <td>0.606625</td>\n      <td>0.128902</td>\n      <td>76</td>\n      <td>24</td>\n      <td>0.701357</td>\n    </tr>\n    <tr>\n      <th>New</th>\n      <td>1</td>\n      <td>2</td>\n      <td>3</td>\n      <td>0.832605</td>\n      <td>0.121358</td>\n      <td>4</td>\n      <td>5</td>\n      <td>0.055976</td>\n    </tr>\n  </tbody>\n</table>\n</div>"
     },
     "metadata": {},
     "execution_count": 68
    }
   ],
   "source": [
    "data"
   ]
  },
  {
   "cell_type": "code",
   "execution_count": 70,
   "metadata": {},
   "outputs": [
    {
     "output_type": "execute_result",
     "data": {
      "text/plain": [
       "      V   W   X      New2      New2   Y      Baru\n",
       "A    16  48  49  0.176241  0.610444  73  0.468638\n",
       "B    35  37  92  0.855248  0.821583  61  0.969997\n",
       "C    25  91  66  0.174249  0.510050  12  0.112535\n",
       "D    39  23  15  0.803460  0.005630  80  0.473749\n",
       "E    93  36  58  0.606625  0.128902  76  0.701357\n",
       "New   1   2   3  0.832605  0.121358   4  0.055976"
      ],
      "text/html": "<div>\n<style scoped>\n    .dataframe tbody tr th:only-of-type {\n        vertical-align: middle;\n    }\n\n    .dataframe tbody tr th {\n        vertical-align: top;\n    }\n\n    .dataframe thead th {\n        text-align: right;\n    }\n</style>\n<table border=\"1\" class=\"dataframe\">\n  <thead>\n    <tr style=\"text-align: right;\">\n      <th></th>\n      <th>V</th>\n      <th>W</th>\n      <th>X</th>\n      <th>New2</th>\n      <th>New2</th>\n      <th>Y</th>\n      <th>Baru</th>\n    </tr>\n  </thead>\n  <tbody>\n    <tr>\n      <th>A</th>\n      <td>16</td>\n      <td>48</td>\n      <td>49</td>\n      <td>0.176241</td>\n      <td>0.610444</td>\n      <td>73</td>\n      <td>0.468638</td>\n    </tr>\n    <tr>\n      <th>B</th>\n      <td>35</td>\n      <td>37</td>\n      <td>92</td>\n      <td>0.855248</td>\n      <td>0.821583</td>\n      <td>61</td>\n      <td>0.969997</td>\n    </tr>\n    <tr>\n      <th>C</th>\n      <td>25</td>\n      <td>91</td>\n      <td>66</td>\n      <td>0.174249</td>\n      <td>0.510050</td>\n      <td>12</td>\n      <td>0.112535</td>\n    </tr>\n    <tr>\n      <th>D</th>\n      <td>39</td>\n      <td>23</td>\n      <td>15</td>\n      <td>0.803460</td>\n      <td>0.005630</td>\n      <td>80</td>\n      <td>0.473749</td>\n    </tr>\n    <tr>\n      <th>E</th>\n      <td>93</td>\n      <td>36</td>\n      <td>58</td>\n      <td>0.606625</td>\n      <td>0.128902</td>\n      <td>76</td>\n      <td>0.701357</td>\n    </tr>\n    <tr>\n      <th>New</th>\n      <td>1</td>\n      <td>2</td>\n      <td>3</td>\n      <td>0.832605</td>\n      <td>0.121358</td>\n      <td>4</td>\n      <td>0.055976</td>\n    </tr>\n  </tbody>\n</table>\n</div>"
     },
     "metadata": {},
     "execution_count": 70
    }
   ],
   "source": [
    "data.drop(\"Z\",axis = 1)"
   ]
  },
  {
   "cell_type": "code",
   "execution_count": 71,
   "metadata": {},
   "outputs": [],
   "source": [
    "data.drop(\"Baru\",axis = 1,inplace = True)"
   ]
  },
  {
   "cell_type": "code",
   "execution_count": 72,
   "metadata": {},
   "outputs": [
    {
     "output_type": "execute_result",
     "data": {
      "text/plain": [
       "      V   W   X      New2      New2   Y   Z\n",
       "A    16  48  49  0.176241  0.610444  73  95\n",
       "B    35  37  92  0.855248  0.821583  61  22\n",
       "C    25  91  66  0.174249  0.510050  12  17\n",
       "D    39  23  15  0.803460  0.005630  80  69\n",
       "E    93  36  58  0.606625  0.128902  76  24\n",
       "New   1   2   3  0.832605  0.121358   4   5"
      ],
      "text/html": "<div>\n<style scoped>\n    .dataframe tbody tr th:only-of-type {\n        vertical-align: middle;\n    }\n\n    .dataframe tbody tr th {\n        vertical-align: top;\n    }\n\n    .dataframe thead th {\n        text-align: right;\n    }\n</style>\n<table border=\"1\" class=\"dataframe\">\n  <thead>\n    <tr style=\"text-align: right;\">\n      <th></th>\n      <th>V</th>\n      <th>W</th>\n      <th>X</th>\n      <th>New2</th>\n      <th>New2</th>\n      <th>Y</th>\n      <th>Z</th>\n    </tr>\n  </thead>\n  <tbody>\n    <tr>\n      <th>A</th>\n      <td>16</td>\n      <td>48</td>\n      <td>49</td>\n      <td>0.176241</td>\n      <td>0.610444</td>\n      <td>73</td>\n      <td>95</td>\n    </tr>\n    <tr>\n      <th>B</th>\n      <td>35</td>\n      <td>37</td>\n      <td>92</td>\n      <td>0.855248</td>\n      <td>0.821583</td>\n      <td>61</td>\n      <td>22</td>\n    </tr>\n    <tr>\n      <th>C</th>\n      <td>25</td>\n      <td>91</td>\n      <td>66</td>\n      <td>0.174249</td>\n      <td>0.510050</td>\n      <td>12</td>\n      <td>17</td>\n    </tr>\n    <tr>\n      <th>D</th>\n      <td>39</td>\n      <td>23</td>\n      <td>15</td>\n      <td>0.803460</td>\n      <td>0.005630</td>\n      <td>80</td>\n      <td>69</td>\n    </tr>\n    <tr>\n      <th>E</th>\n      <td>93</td>\n      <td>36</td>\n      <td>58</td>\n      <td>0.606625</td>\n      <td>0.128902</td>\n      <td>76</td>\n      <td>24</td>\n    </tr>\n    <tr>\n      <th>New</th>\n      <td>1</td>\n      <td>2</td>\n      <td>3</td>\n      <td>0.832605</td>\n      <td>0.121358</td>\n      <td>4</td>\n      <td>5</td>\n    </tr>\n  </tbody>\n</table>\n</div>"
     },
     "metadata": {},
     "execution_count": 72
    }
   ],
   "source": [
    "data"
   ]
  },
  {
   "cell_type": "code",
   "execution_count": 73,
   "metadata": {},
   "outputs": [
    {
     "output_type": "execute_result",
     "data": {
      "text/plain": [
       "      V   W   X      New2      New2   Y   Z\n",
       "A    16  48  49  0.176241  0.610444  73  95\n",
       "B    35  37  92  0.855248  0.821583  61  22\n",
       "C    25  91  66  0.174249  0.510050  12  17\n",
       "D    39  23  15  0.803460  0.005630  80  69\n",
       "New   1   2   3  0.832605  0.121358   4   5"
      ],
      "text/html": "<div>\n<style scoped>\n    .dataframe tbody tr th:only-of-type {\n        vertical-align: middle;\n    }\n\n    .dataframe tbody tr th {\n        vertical-align: top;\n    }\n\n    .dataframe thead th {\n        text-align: right;\n    }\n</style>\n<table border=\"1\" class=\"dataframe\">\n  <thead>\n    <tr style=\"text-align: right;\">\n      <th></th>\n      <th>V</th>\n      <th>W</th>\n      <th>X</th>\n      <th>New2</th>\n      <th>New2</th>\n      <th>Y</th>\n      <th>Z</th>\n    </tr>\n  </thead>\n  <tbody>\n    <tr>\n      <th>A</th>\n      <td>16</td>\n      <td>48</td>\n      <td>49</td>\n      <td>0.176241</td>\n      <td>0.610444</td>\n      <td>73</td>\n      <td>95</td>\n    </tr>\n    <tr>\n      <th>B</th>\n      <td>35</td>\n      <td>37</td>\n      <td>92</td>\n      <td>0.855248</td>\n      <td>0.821583</td>\n      <td>61</td>\n      <td>22</td>\n    </tr>\n    <tr>\n      <th>C</th>\n      <td>25</td>\n      <td>91</td>\n      <td>66</td>\n      <td>0.174249</td>\n      <td>0.510050</td>\n      <td>12</td>\n      <td>17</td>\n    </tr>\n    <tr>\n      <th>D</th>\n      <td>39</td>\n      <td>23</td>\n      <td>15</td>\n      <td>0.803460</td>\n      <td>0.005630</td>\n      <td>80</td>\n      <td>69</td>\n    </tr>\n    <tr>\n      <th>New</th>\n      <td>1</td>\n      <td>2</td>\n      <td>3</td>\n      <td>0.832605</td>\n      <td>0.121358</td>\n      <td>4</td>\n      <td>5</td>\n    </tr>\n  </tbody>\n</table>\n</div>"
     },
     "metadata": {},
     "execution_count": 73
    }
   ],
   "source": [
    "data.drop(\"E\") #kalo kaya gini sifatnya ga permanent"
   ]
  },
  {
   "source": [
    "More about Index"
   ],
   "cell_type": "markdown",
   "metadata": {}
  },
  {
   "cell_type": "code",
   "execution_count": 76,
   "metadata": {},
   "outputs": [
    {
     "output_type": "execute_result",
     "data": {
      "text/plain": [
       "  index   V   W   X      New2      New2   Y   Z\n",
       "0     A  16  48  49  0.176241  0.610444  73  95\n",
       "1     B  35  37  92  0.855248  0.821583  61  22\n",
       "2     C  25  91  66  0.174249  0.510050  12  17\n",
       "3     D  39  23  15  0.803460  0.005630  80  69\n",
       "4     E  93  36  58  0.606625  0.128902  76  24\n",
       "5   New   1   2   3  0.832605  0.121358   4   5"
      ],
      "text/html": "<div>\n<style scoped>\n    .dataframe tbody tr th:only-of-type {\n        vertical-align: middle;\n    }\n\n    .dataframe tbody tr th {\n        vertical-align: top;\n    }\n\n    .dataframe thead th {\n        text-align: right;\n    }\n</style>\n<table border=\"1\" class=\"dataframe\">\n  <thead>\n    <tr style=\"text-align: right;\">\n      <th></th>\n      <th>index</th>\n      <th>V</th>\n      <th>W</th>\n      <th>X</th>\n      <th>New2</th>\n      <th>New2</th>\n      <th>Y</th>\n      <th>Z</th>\n    </tr>\n  </thead>\n  <tbody>\n    <tr>\n      <th>0</th>\n      <td>A</td>\n      <td>16</td>\n      <td>48</td>\n      <td>49</td>\n      <td>0.176241</td>\n      <td>0.610444</td>\n      <td>73</td>\n      <td>95</td>\n    </tr>\n    <tr>\n      <th>1</th>\n      <td>B</td>\n      <td>35</td>\n      <td>37</td>\n      <td>92</td>\n      <td>0.855248</td>\n      <td>0.821583</td>\n      <td>61</td>\n      <td>22</td>\n    </tr>\n    <tr>\n      <th>2</th>\n      <td>C</td>\n      <td>25</td>\n      <td>91</td>\n      <td>66</td>\n      <td>0.174249</td>\n      <td>0.510050</td>\n      <td>12</td>\n      <td>17</td>\n    </tr>\n    <tr>\n      <th>3</th>\n      <td>D</td>\n      <td>39</td>\n      <td>23</td>\n      <td>15</td>\n      <td>0.803460</td>\n      <td>0.005630</td>\n      <td>80</td>\n      <td>69</td>\n    </tr>\n    <tr>\n      <th>4</th>\n      <td>E</td>\n      <td>93</td>\n      <td>36</td>\n      <td>58</td>\n      <td>0.606625</td>\n      <td>0.128902</td>\n      <td>76</td>\n      <td>24</td>\n    </tr>\n    <tr>\n      <th>5</th>\n      <td>New</td>\n      <td>1</td>\n      <td>2</td>\n      <td>3</td>\n      <td>0.832605</td>\n      <td>0.121358</td>\n      <td>4</td>\n      <td>5</td>\n    </tr>\n  </tbody>\n</table>\n</div>"
     },
     "metadata": {},
     "execution_count": 76
    }
   ],
   "source": [
    "data.reset_index() #kalo mau permanent, pake inplace = True"
   ]
  },
  {
   "cell_type": "code",
   "execution_count": 75,
   "metadata": {},
   "outputs": [
    {
     "output_type": "execute_result",
     "data": {
      "text/plain": [
       "      V   W   X      New2      New2   Y   Z\n",
       "A    16  48  49  0.176241  0.610444  73  95\n",
       "B    35  37  92  0.855248  0.821583  61  22\n",
       "C    25  91  66  0.174249  0.510050  12  17\n",
       "D    39  23  15  0.803460  0.005630  80  69\n",
       "E    93  36  58  0.606625  0.128902  76  24\n",
       "New   1   2   3  0.832605  0.121358   4   5"
      ],
      "text/html": "<div>\n<style scoped>\n    .dataframe tbody tr th:only-of-type {\n        vertical-align: middle;\n    }\n\n    .dataframe tbody tr th {\n        vertical-align: top;\n    }\n\n    .dataframe thead th {\n        text-align: right;\n    }\n</style>\n<table border=\"1\" class=\"dataframe\">\n  <thead>\n    <tr style=\"text-align: right;\">\n      <th></th>\n      <th>V</th>\n      <th>W</th>\n      <th>X</th>\n      <th>New2</th>\n      <th>New2</th>\n      <th>Y</th>\n      <th>Z</th>\n    </tr>\n  </thead>\n  <tbody>\n    <tr>\n      <th>A</th>\n      <td>16</td>\n      <td>48</td>\n      <td>49</td>\n      <td>0.176241</td>\n      <td>0.610444</td>\n      <td>73</td>\n      <td>95</td>\n    </tr>\n    <tr>\n      <th>B</th>\n      <td>35</td>\n      <td>37</td>\n      <td>92</td>\n      <td>0.855248</td>\n      <td>0.821583</td>\n      <td>61</td>\n      <td>22</td>\n    </tr>\n    <tr>\n      <th>C</th>\n      <td>25</td>\n      <td>91</td>\n      <td>66</td>\n      <td>0.174249</td>\n      <td>0.510050</td>\n      <td>12</td>\n      <td>17</td>\n    </tr>\n    <tr>\n      <th>D</th>\n      <td>39</td>\n      <td>23</td>\n      <td>15</td>\n      <td>0.803460</td>\n      <td>0.005630</td>\n      <td>80</td>\n      <td>69</td>\n    </tr>\n    <tr>\n      <th>E</th>\n      <td>93</td>\n      <td>36</td>\n      <td>58</td>\n      <td>0.606625</td>\n      <td>0.128902</td>\n      <td>76</td>\n      <td>24</td>\n    </tr>\n    <tr>\n      <th>New</th>\n      <td>1</td>\n      <td>2</td>\n      <td>3</td>\n      <td>0.832605</td>\n      <td>0.121358</td>\n      <td>4</td>\n      <td>5</td>\n    </tr>\n  </tbody>\n</table>\n</div>"
     },
     "metadata": {},
     "execution_count": 75
    }
   ],
   "source": [
    "data"
   ]
  },
  {
   "source": [
    "MULTI INDEX"
   ],
   "cell_type": "markdown",
   "metadata": {}
  },
  {
   "cell_type": "code",
   "execution_count": 79,
   "metadata": {},
   "outputs": [
    {
     "output_type": "execute_result",
     "data": {
      "text/plain": [
       "[('Bandung', 1),\n",
       " ('Bandung', 2),\n",
       " ('Bandung', 3),\n",
       " ('Bandung', 4),\n",
       " ('Bandung', 5),\n",
       " ('Bandung', 6),\n",
       " ('Kendari', 1),\n",
       " ('Kendari', 2),\n",
       " ('Kendari', 3),\n",
       " ('Kendari', 4),\n",
       " ('Kendari', 5),\n",
       " ('Kendari', 6),\n",
       " ('Solo', 1),\n",
       " ('Solo', 2),\n",
       " ('Solo', 3),\n",
       " ('Solo', 4),\n",
       " ('Solo', 5),\n",
       " ('Solo', 6)]"
      ]
     },
     "metadata": {},
     "execution_count": 79
    }
   ],
   "source": [
    "Luar = ['Bandung','Bandung','Bandung','Bandung','Bandung','Bandung','Kendari','Kendari','Kendari','Kendari','Kendari','Kendari','Solo','Solo','Solo','Solo','Solo','Solo',]\n",
    "Dalam = [1,2,3,4,5,6,1,2,3,4,5,6,1,2,3,4,5,6,]\n",
    "Index = list(zip(Luar,Dalam))\n",
    "Index"
   ]
  },
  {
   "cell_type": "code",
   "execution_count": 81,
   "metadata": {},
   "outputs": [
    {
     "output_type": "execute_result",
     "data": {
      "text/plain": [
       "MultiIndex([('Bandung', 1),\n",
       "            ('Bandung', 2),\n",
       "            ('Bandung', 3),\n",
       "            ('Bandung', 4),\n",
       "            ('Bandung', 5),\n",
       "            ('Bandung', 6),\n",
       "            ('Kendari', 1),\n",
       "            ('Kendari', 2),\n",
       "            ('Kendari', 3),\n",
       "            ('Kendari', 4),\n",
       "            ('Kendari', 5),\n",
       "            ('Kendari', 6),\n",
       "            (   'Solo', 1),\n",
       "            (   'Solo', 2),\n",
       "            (   'Solo', 3),\n",
       "            (   'Solo', 4),\n",
       "            (   'Solo', 5),\n",
       "            (   'Solo', 6)],\n",
       "           )"
      ]
     },
     "metadata": {},
     "execution_count": 81
    }
   ],
   "source": [
    "hier_index = pd.MultiIndex.from_tuples(Index)\n",
    "hier_index"
   ]
  },
  {
   "cell_type": "code",
   "execution_count": 86,
   "metadata": {},
   "outputs": [
    {
     "output_type": "execute_result",
     "data": {
      "text/plain": [
       "           Cabang A  Cabang B  Cabang C  Cabang D  Cabang E\n",
       "Bandung 1        54        27        61        42        44\n",
       "        2        96         2        98        84        68\n",
       "        3        17        25        34        49        79\n",
       "        4        99        72        53        37        36\n",
       "        5        41        61         3        60        95\n",
       "        6        38        10        38        91        79\n",
       "Kendari 1        19        33        83        45        48\n",
       "        2        97        58        79        13        10\n",
       "        3        16        29        75        26        94\n",
       "        4        40        60        40         9        70\n",
       "        5        37        83        79        72         1\n",
       "        6        58        10        25        44        81\n",
       "Solo    1        82        32         6        62        51\n",
       "        2        14        17        60        79        60\n",
       "        3         2        49        86        59        43\n",
       "        4        82        73        39        82        17\n",
       "        5        57        65         7        67        75\n",
       "        6        13        66        11        23        26"
      ],
      "text/html": "<div>\n<style scoped>\n    .dataframe tbody tr th:only-of-type {\n        vertical-align: middle;\n    }\n\n    .dataframe tbody tr th {\n        vertical-align: top;\n    }\n\n    .dataframe thead th {\n        text-align: right;\n    }\n</style>\n<table border=\"1\" class=\"dataframe\">\n  <thead>\n    <tr style=\"text-align: right;\">\n      <th></th>\n      <th></th>\n      <th>Cabang A</th>\n      <th>Cabang B</th>\n      <th>Cabang C</th>\n      <th>Cabang D</th>\n      <th>Cabang E</th>\n    </tr>\n  </thead>\n  <tbody>\n    <tr>\n      <th rowspan=\"6\" valign=\"top\">Bandung</th>\n      <th>1</th>\n      <td>54</td>\n      <td>27</td>\n      <td>61</td>\n      <td>42</td>\n      <td>44</td>\n    </tr>\n    <tr>\n      <th>2</th>\n      <td>96</td>\n      <td>2</td>\n      <td>98</td>\n      <td>84</td>\n      <td>68</td>\n    </tr>\n    <tr>\n      <th>3</th>\n      <td>17</td>\n      <td>25</td>\n      <td>34</td>\n      <td>49</td>\n      <td>79</td>\n    </tr>\n    <tr>\n      <th>4</th>\n      <td>99</td>\n      <td>72</td>\n      <td>53</td>\n      <td>37</td>\n      <td>36</td>\n    </tr>\n    <tr>\n      <th>5</th>\n      <td>41</td>\n      <td>61</td>\n      <td>3</td>\n      <td>60</td>\n      <td>95</td>\n    </tr>\n    <tr>\n      <th>6</th>\n      <td>38</td>\n      <td>10</td>\n      <td>38</td>\n      <td>91</td>\n      <td>79</td>\n    </tr>\n    <tr>\n      <th rowspan=\"6\" valign=\"top\">Kendari</th>\n      <th>1</th>\n      <td>19</td>\n      <td>33</td>\n      <td>83</td>\n      <td>45</td>\n      <td>48</td>\n    </tr>\n    <tr>\n      <th>2</th>\n      <td>97</td>\n      <td>58</td>\n      <td>79</td>\n      <td>13</td>\n      <td>10</td>\n    </tr>\n    <tr>\n      <th>3</th>\n      <td>16</td>\n      <td>29</td>\n      <td>75</td>\n      <td>26</td>\n      <td>94</td>\n    </tr>\n    <tr>\n      <th>4</th>\n      <td>40</td>\n      <td>60</td>\n      <td>40</td>\n      <td>9</td>\n      <td>70</td>\n    </tr>\n    <tr>\n      <th>5</th>\n      <td>37</td>\n      <td>83</td>\n      <td>79</td>\n      <td>72</td>\n      <td>1</td>\n    </tr>\n    <tr>\n      <th>6</th>\n      <td>58</td>\n      <td>10</td>\n      <td>25</td>\n      <td>44</td>\n      <td>81</td>\n    </tr>\n    <tr>\n      <th rowspan=\"6\" valign=\"top\">Solo</th>\n      <th>1</th>\n      <td>82</td>\n      <td>32</td>\n      <td>6</td>\n      <td>62</td>\n      <td>51</td>\n    </tr>\n    <tr>\n      <th>2</th>\n      <td>14</td>\n      <td>17</td>\n      <td>60</td>\n      <td>79</td>\n      <td>60</td>\n    </tr>\n    <tr>\n      <th>3</th>\n      <td>2</td>\n      <td>49</td>\n      <td>86</td>\n      <td>59</td>\n      <td>43</td>\n    </tr>\n    <tr>\n      <th>4</th>\n      <td>82</td>\n      <td>73</td>\n      <td>39</td>\n      <td>82</td>\n      <td>17</td>\n    </tr>\n    <tr>\n      <th>5</th>\n      <td>57</td>\n      <td>65</td>\n      <td>7</td>\n      <td>67</td>\n      <td>75</td>\n    </tr>\n    <tr>\n      <th>6</th>\n      <td>13</td>\n      <td>66</td>\n      <td>11</td>\n      <td>23</td>\n      <td>26</td>\n    </tr>\n  </tbody>\n</table>\n</div>"
     },
     "metadata": {},
     "execution_count": 86
    }
   ],
   "source": [
    "df1 = pd.DataFrame(np.random.randint(1,100,(18,5)),index = hier_index,columns=['Cabang A','Cabang B','Cabang C','Cabang D','Cabang E'])\n",
    "df1"
   ]
  },
  {
   "cell_type": "code",
   "execution_count": 87,
   "metadata": {},
   "outputs": [
    {
     "output_type": "execute_result",
     "data": {
      "text/plain": [
       "   Cabang A  Cabang B  Cabang C  Cabang D  Cabang E\n",
       "1        19        33        83        45        48\n",
       "2        97        58        79        13        10\n",
       "3        16        29        75        26        94\n",
       "4        40        60        40         9        70\n",
       "5        37        83        79        72         1\n",
       "6        58        10        25        44        81"
      ],
      "text/html": "<div>\n<style scoped>\n    .dataframe tbody tr th:only-of-type {\n        vertical-align: middle;\n    }\n\n    .dataframe tbody tr th {\n        vertical-align: top;\n    }\n\n    .dataframe thead th {\n        text-align: right;\n    }\n</style>\n<table border=\"1\" class=\"dataframe\">\n  <thead>\n    <tr style=\"text-align: right;\">\n      <th></th>\n      <th>Cabang A</th>\n      <th>Cabang B</th>\n      <th>Cabang C</th>\n      <th>Cabang D</th>\n      <th>Cabang E</th>\n    </tr>\n  </thead>\n  <tbody>\n    <tr>\n      <th>1</th>\n      <td>19</td>\n      <td>33</td>\n      <td>83</td>\n      <td>45</td>\n      <td>48</td>\n    </tr>\n    <tr>\n      <th>2</th>\n      <td>97</td>\n      <td>58</td>\n      <td>79</td>\n      <td>13</td>\n      <td>10</td>\n    </tr>\n    <tr>\n      <th>3</th>\n      <td>16</td>\n      <td>29</td>\n      <td>75</td>\n      <td>26</td>\n      <td>94</td>\n    </tr>\n    <tr>\n      <th>4</th>\n      <td>40</td>\n      <td>60</td>\n      <td>40</td>\n      <td>9</td>\n      <td>70</td>\n    </tr>\n    <tr>\n      <th>5</th>\n      <td>37</td>\n      <td>83</td>\n      <td>79</td>\n      <td>72</td>\n      <td>1</td>\n    </tr>\n    <tr>\n      <th>6</th>\n      <td>58</td>\n      <td>10</td>\n      <td>25</td>\n      <td>44</td>\n      <td>81</td>\n    </tr>\n  </tbody>\n</table>\n</div>"
     },
     "metadata": {},
     "execution_count": 87
    }
   ],
   "source": [
    "df1.loc[\"Kendari\"]"
   ]
  },
  {
   "cell_type": "code",
   "execution_count": 88,
   "metadata": {},
   "outputs": [
    {
     "output_type": "execute_result",
     "data": {
      "text/plain": [
       "Cabang A    13\n",
       "Cabang B    66\n",
       "Cabang C    11\n",
       "Cabang D    23\n",
       "Cabang E    26\n",
       "Name: 6, dtype: int32"
      ]
     },
     "metadata": {},
     "execution_count": 88
    }
   ],
   "source": [
    "df1.loc['Solo'].loc[6]"
   ]
  },
  {
   "cell_type": "code",
   "execution_count": 92,
   "metadata": {},
   "outputs": [
    {
     "output_type": "execute_result",
     "data": {
      "text/plain": [
       "   Cabang A  Cabang B  Cabang C  Cabang D  Cabang E\n",
       "4        82        73        39        82        17\n",
       "6        13        66        11        23        26"
      ],
      "text/html": "<div>\n<style scoped>\n    .dataframe tbody tr th:only-of-type {\n        vertical-align: middle;\n    }\n\n    .dataframe tbody tr th {\n        vertical-align: top;\n    }\n\n    .dataframe thead th {\n        text-align: right;\n    }\n</style>\n<table border=\"1\" class=\"dataframe\">\n  <thead>\n    <tr style=\"text-align: right;\">\n      <th></th>\n      <th>Cabang A</th>\n      <th>Cabang B</th>\n      <th>Cabang C</th>\n      <th>Cabang D</th>\n      <th>Cabang E</th>\n    </tr>\n  </thead>\n  <tbody>\n    <tr>\n      <th>4</th>\n      <td>82</td>\n      <td>73</td>\n      <td>39</td>\n      <td>82</td>\n      <td>17</td>\n    </tr>\n    <tr>\n      <th>6</th>\n      <td>13</td>\n      <td>66</td>\n      <td>11</td>\n      <td>23</td>\n      <td>26</td>\n    </tr>\n  </tbody>\n</table>\n</div>"
     },
     "metadata": {},
     "execution_count": 92
    }
   ],
   "source": [
    "df1.loc['Solo'].loc[[4,6]]"
   ]
  },
  {
   "cell_type": "code",
   "execution_count": 94,
   "metadata": {},
   "outputs": [
    {
     "output_type": "execute_result",
     "data": {
      "text/plain": [
       "Cabang A    17\n",
       "Cabang B    25\n",
       "Cabang C    34\n",
       "Cabang D    49\n",
       "Cabang E    79\n",
       "Name: (Bandung, 3), dtype: int32"
      ]
     },
     "metadata": {},
     "execution_count": 94
    }
   ],
   "source": [
    "df1.xs(['Bandung',3])"
   ]
  },
  {
   "cell_type": "code",
   "execution_count": 95,
   "metadata": {},
   "outputs": [
    {
     "output_type": "execute_result",
     "data": {
      "text/plain": [
       "FrozenList([None, None])"
      ]
     },
     "metadata": {},
     "execution_count": 95
    }
   ],
   "source": [
    "df1.index.names"
   ]
  },
  {
   "cell_type": "code",
   "execution_count": 97,
   "metadata": {},
   "outputs": [],
   "source": [
    "df1.index.names = [\"Kota\",\"Lokasi\"]"
   ]
  },
  {
   "cell_type": "code",
   "execution_count": 98,
   "metadata": {},
   "outputs": [
    {
     "output_type": "execute_result",
     "data": {
      "text/plain": [
       "                Cabang A  Cabang B  Cabang C  Cabang D  Cabang E\n",
       "Kota    Lokasi                                                  \n",
       "Bandung 1             54        27        61        42        44\n",
       "        2             96         2        98        84        68\n",
       "        3             17        25        34        49        79\n",
       "        4             99        72        53        37        36\n",
       "        5             41        61         3        60        95\n",
       "        6             38        10        38        91        79\n",
       "Kendari 1             19        33        83        45        48\n",
       "        2             97        58        79        13        10\n",
       "        3             16        29        75        26        94\n",
       "        4             40        60        40         9        70\n",
       "        5             37        83        79        72         1\n",
       "        6             58        10        25        44        81\n",
       "Solo    1             82        32         6        62        51\n",
       "        2             14        17        60        79        60\n",
       "        3              2        49        86        59        43\n",
       "        4             82        73        39        82        17\n",
       "        5             57        65         7        67        75\n",
       "        6             13        66        11        23        26"
      ],
      "text/html": "<div>\n<style scoped>\n    .dataframe tbody tr th:only-of-type {\n        vertical-align: middle;\n    }\n\n    .dataframe tbody tr th {\n        vertical-align: top;\n    }\n\n    .dataframe thead th {\n        text-align: right;\n    }\n</style>\n<table border=\"1\" class=\"dataframe\">\n  <thead>\n    <tr style=\"text-align: right;\">\n      <th></th>\n      <th></th>\n      <th>Cabang A</th>\n      <th>Cabang B</th>\n      <th>Cabang C</th>\n      <th>Cabang D</th>\n      <th>Cabang E</th>\n    </tr>\n    <tr>\n      <th>Kota</th>\n      <th>Lokasi</th>\n      <th></th>\n      <th></th>\n      <th></th>\n      <th></th>\n      <th></th>\n    </tr>\n  </thead>\n  <tbody>\n    <tr>\n      <th rowspan=\"6\" valign=\"top\">Bandung</th>\n      <th>1</th>\n      <td>54</td>\n      <td>27</td>\n      <td>61</td>\n      <td>42</td>\n      <td>44</td>\n    </tr>\n    <tr>\n      <th>2</th>\n      <td>96</td>\n      <td>2</td>\n      <td>98</td>\n      <td>84</td>\n      <td>68</td>\n    </tr>\n    <tr>\n      <th>3</th>\n      <td>17</td>\n      <td>25</td>\n      <td>34</td>\n      <td>49</td>\n      <td>79</td>\n    </tr>\n    <tr>\n      <th>4</th>\n      <td>99</td>\n      <td>72</td>\n      <td>53</td>\n      <td>37</td>\n      <td>36</td>\n    </tr>\n    <tr>\n      <th>5</th>\n      <td>41</td>\n      <td>61</td>\n      <td>3</td>\n      <td>60</td>\n      <td>95</td>\n    </tr>\n    <tr>\n      <th>6</th>\n      <td>38</td>\n      <td>10</td>\n      <td>38</td>\n      <td>91</td>\n      <td>79</td>\n    </tr>\n    <tr>\n      <th rowspan=\"6\" valign=\"top\">Kendari</th>\n      <th>1</th>\n      <td>19</td>\n      <td>33</td>\n      <td>83</td>\n      <td>45</td>\n      <td>48</td>\n    </tr>\n    <tr>\n      <th>2</th>\n      <td>97</td>\n      <td>58</td>\n      <td>79</td>\n      <td>13</td>\n      <td>10</td>\n    </tr>\n    <tr>\n      <th>3</th>\n      <td>16</td>\n      <td>29</td>\n      <td>75</td>\n      <td>26</td>\n      <td>94</td>\n    </tr>\n    <tr>\n      <th>4</th>\n      <td>40</td>\n      <td>60</td>\n      <td>40</td>\n      <td>9</td>\n      <td>70</td>\n    </tr>\n    <tr>\n      <th>5</th>\n      <td>37</td>\n      <td>83</td>\n      <td>79</td>\n      <td>72</td>\n      <td>1</td>\n    </tr>\n    <tr>\n      <th>6</th>\n      <td>58</td>\n      <td>10</td>\n      <td>25</td>\n      <td>44</td>\n      <td>81</td>\n    </tr>\n    <tr>\n      <th rowspan=\"6\" valign=\"top\">Solo</th>\n      <th>1</th>\n      <td>82</td>\n      <td>32</td>\n      <td>6</td>\n      <td>62</td>\n      <td>51</td>\n    </tr>\n    <tr>\n      <th>2</th>\n      <td>14</td>\n      <td>17</td>\n      <td>60</td>\n      <td>79</td>\n      <td>60</td>\n    </tr>\n    <tr>\n      <th>3</th>\n      <td>2</td>\n      <td>49</td>\n      <td>86</td>\n      <td>59</td>\n      <td>43</td>\n    </tr>\n    <tr>\n      <th>4</th>\n      <td>82</td>\n      <td>73</td>\n      <td>39</td>\n      <td>82</td>\n      <td>17</td>\n    </tr>\n    <tr>\n      <th>5</th>\n      <td>57</td>\n      <td>65</td>\n      <td>7</td>\n      <td>67</td>\n      <td>75</td>\n    </tr>\n    <tr>\n      <th>6</th>\n      <td>13</td>\n      <td>66</td>\n      <td>11</td>\n      <td>23</td>\n      <td>26</td>\n    </tr>\n  </tbody>\n</table>\n</div>"
     },
     "metadata": {},
     "execution_count": 98
    }
   ],
   "source": [
    "df1"
   ]
  },
  {
   "cell_type": "code",
   "execution_count": null,
   "metadata": {},
   "outputs": [],
   "source": [
    " # Latihan 1\n",
    " - Insert data\n",
    " - Delete data\n",
    " - More About Index\n",
    " - Multi Index\n",
    "\n",
    " 1. Buat sebuah data frame yg terdiri dari 5 baris 6 kolom namanya bebas. Nama kolom & indexnya bebas. isi dari setiap kolomnya coba dibedakan\n"
   ]
  },
  {
   "cell_type": "code",
   "execution_count": 122,
   "metadata": {},
   "outputs": [
    {
     "output_type": "execute_result",
     "data": {
      "text/plain": [
       "          K         L    M   N  O      P\n",
       "A  0.478506 -0.174411  1.0  51  9   1.00\n",
       "B  0.683112  0.279500  1.0  71  7   3.25\n",
       "C  0.344409  1.346264  1.0  95  6   5.50\n",
       "D  0.213929  0.202872  1.0  52  7   7.75\n",
       "E  0.743218  0.014926  1.0  94  9  10.00"
      ],
      "text/html": "<div>\n<style scoped>\n    .dataframe tbody tr th:only-of-type {\n        vertical-align: middle;\n    }\n\n    .dataframe tbody tr th {\n        vertical-align: top;\n    }\n\n    .dataframe thead th {\n        text-align: right;\n    }\n</style>\n<table border=\"1\" class=\"dataframe\">\n  <thead>\n    <tr style=\"text-align: right;\">\n      <th></th>\n      <th>K</th>\n      <th>L</th>\n      <th>M</th>\n      <th>N</th>\n      <th>O</th>\n      <th>P</th>\n    </tr>\n  </thead>\n  <tbody>\n    <tr>\n      <th>A</th>\n      <td>0.478506</td>\n      <td>-0.174411</td>\n      <td>1.0</td>\n      <td>51</td>\n      <td>9</td>\n      <td>1.00</td>\n    </tr>\n    <tr>\n      <th>B</th>\n      <td>0.683112</td>\n      <td>0.279500</td>\n      <td>1.0</td>\n      <td>71</td>\n      <td>7</td>\n      <td>3.25</td>\n    </tr>\n    <tr>\n      <th>C</th>\n      <td>0.344409</td>\n      <td>1.346264</td>\n      <td>1.0</td>\n      <td>95</td>\n      <td>6</td>\n      <td>5.50</td>\n    </tr>\n    <tr>\n      <th>D</th>\n      <td>0.213929</td>\n      <td>0.202872</td>\n      <td>1.0</td>\n      <td>52</td>\n      <td>7</td>\n      <td>7.75</td>\n    </tr>\n    <tr>\n      <th>E</th>\n      <td>0.743218</td>\n      <td>0.014926</td>\n      <td>1.0</td>\n      <td>94</td>\n      <td>9</td>\n      <td>10.00</td>\n    </tr>\n  </tbody>\n</table>\n</div>"
     },
     "metadata": {},
     "execution_count": 122
    }
   ],
   "source": [
    "col1 = np.random.rand(5)\n",
    "col2 = np.random.randn(5)\n",
    "col3 = np.ones(5)\n",
    "col4 = np.random.randint(50,100,5)\n",
    "col5 = np.random.randint(1,10,5)\n",
    "col6 = np.linspace(1,10,5)\n",
    "arr1 = pd.DataFrame(data=(zip(col1,col2,col3,col4,col5,col6)),index=\"A B C D E\".split(),columns=\"K L M N O P\".split())\n",
    "arr1"
   ]
  },
  {
   "source": [
    "2. dari dataframe yg dibuat, masukan sebuah kolom pada index ke 3 dan 0 yang nilainya adalah perkalian kolom index 0 awal dengan 10 (untuk kolom baru index 3) dan nilai mod dari index kolom 4 dan 5 pada kolom awal (untuk kolom baru index 0)\n"
   ],
   "cell_type": "markdown",
   "metadata": {}
  },
  {
   "cell_type": "code",
   "execution_count": 123,
   "metadata": {},
   "outputs": [],
   "source": [
    "arr1.insert(3,'BARU1',arr1[\"K\"]*10)"
   ]
  },
  {
   "cell_type": "code",
   "execution_count": 124,
   "metadata": {},
   "outputs": [],
   "source": [
    "arr1.insert(0,\"BARU2\",(arr1[\"N\"]%arr1[\"O\"]))"
   ]
  },
  {
   "source": [
    "3. tampilkan dataframe baru tsb"
   ],
   "cell_type": "markdown",
   "metadata": {}
  },
  {
   "cell_type": "code",
   "execution_count": 125,
   "metadata": {},
   "outputs": [
    {
     "output_type": "execute_result",
     "data": {
      "text/plain": [
       "   BARU2         K         L    M     BARU1   N  O      P\n",
       "A      6  0.478506 -0.174411  1.0  4.785061  51  9   1.00\n",
       "B      1  0.683112  0.279500  1.0  6.831116  71  7   3.25\n",
       "C      5  0.344409  1.346264  1.0  3.444085  95  6   5.50\n",
       "D      3  0.213929  0.202872  1.0  2.139294  52  7   7.75\n",
       "E      4  0.743218  0.014926  1.0  7.432183  94  9  10.00"
      ],
      "text/html": "<div>\n<style scoped>\n    .dataframe tbody tr th:only-of-type {\n        vertical-align: middle;\n    }\n\n    .dataframe tbody tr th {\n        vertical-align: top;\n    }\n\n    .dataframe thead th {\n        text-align: right;\n    }\n</style>\n<table border=\"1\" class=\"dataframe\">\n  <thead>\n    <tr style=\"text-align: right;\">\n      <th></th>\n      <th>BARU2</th>\n      <th>K</th>\n      <th>L</th>\n      <th>M</th>\n      <th>BARU1</th>\n      <th>N</th>\n      <th>O</th>\n      <th>P</th>\n    </tr>\n  </thead>\n  <tbody>\n    <tr>\n      <th>A</th>\n      <td>6</td>\n      <td>0.478506</td>\n      <td>-0.174411</td>\n      <td>1.0</td>\n      <td>4.785061</td>\n      <td>51</td>\n      <td>9</td>\n      <td>1.00</td>\n    </tr>\n    <tr>\n      <th>B</th>\n      <td>1</td>\n      <td>0.683112</td>\n      <td>0.279500</td>\n      <td>1.0</td>\n      <td>6.831116</td>\n      <td>71</td>\n      <td>7</td>\n      <td>3.25</td>\n    </tr>\n    <tr>\n      <th>C</th>\n      <td>5</td>\n      <td>0.344409</td>\n      <td>1.346264</td>\n      <td>1.0</td>\n      <td>3.444085</td>\n      <td>95</td>\n      <td>6</td>\n      <td>5.50</td>\n    </tr>\n    <tr>\n      <th>D</th>\n      <td>3</td>\n      <td>0.213929</td>\n      <td>0.202872</td>\n      <td>1.0</td>\n      <td>2.139294</td>\n      <td>52</td>\n      <td>7</td>\n      <td>7.75</td>\n    </tr>\n    <tr>\n      <th>E</th>\n      <td>4</td>\n      <td>0.743218</td>\n      <td>0.014926</td>\n      <td>1.0</td>\n      <td>7.432183</td>\n      <td>94</td>\n      <td>9</td>\n      <td>10.00</td>\n    </tr>\n  </tbody>\n</table>\n</div>"
     },
     "metadata": {},
     "execution_count": 125
    }
   ],
   "source": [
    "arr1"
   ]
  },
  {
   "source": [
    "4. coba tampilkan seluruh dataframe yang memiliki nilai >5. simpanlah kedalam sebuah dataframe baru"
   ],
   "cell_type": "markdown",
   "metadata": {}
  },
  {
   "cell_type": "code",
   "execution_count": 128,
   "metadata": {},
   "outputs": [
    {
     "output_type": "execute_result",
     "data": {
      "text/plain": [
       "   BARU2   K   L   M     BARU1   N  O      P\n",
       "A    6.0 NaN NaN NaN       NaN  51  9    NaN\n",
       "B    NaN NaN NaN NaN  6.831116  71  7    NaN\n",
       "C    NaN NaN NaN NaN       NaN  95  6   5.50\n",
       "D    NaN NaN NaN NaN       NaN  52  7   7.75\n",
       "E    NaN NaN NaN NaN  7.432183  94  9  10.00"
      ],
      "text/html": "<div>\n<style scoped>\n    .dataframe tbody tr th:only-of-type {\n        vertical-align: middle;\n    }\n\n    .dataframe tbody tr th {\n        vertical-align: top;\n    }\n\n    .dataframe thead th {\n        text-align: right;\n    }\n</style>\n<table border=\"1\" class=\"dataframe\">\n  <thead>\n    <tr style=\"text-align: right;\">\n      <th></th>\n      <th>BARU2</th>\n      <th>K</th>\n      <th>L</th>\n      <th>M</th>\n      <th>BARU1</th>\n      <th>N</th>\n      <th>O</th>\n      <th>P</th>\n    </tr>\n  </thead>\n  <tbody>\n    <tr>\n      <th>A</th>\n      <td>6.0</td>\n      <td>NaN</td>\n      <td>NaN</td>\n      <td>NaN</td>\n      <td>NaN</td>\n      <td>51</td>\n      <td>9</td>\n      <td>NaN</td>\n    </tr>\n    <tr>\n      <th>B</th>\n      <td>NaN</td>\n      <td>NaN</td>\n      <td>NaN</td>\n      <td>NaN</td>\n      <td>6.831116</td>\n      <td>71</td>\n      <td>7</td>\n      <td>NaN</td>\n    </tr>\n    <tr>\n      <th>C</th>\n      <td>NaN</td>\n      <td>NaN</td>\n      <td>NaN</td>\n      <td>NaN</td>\n      <td>NaN</td>\n      <td>95</td>\n      <td>6</td>\n      <td>5.50</td>\n    </tr>\n    <tr>\n      <th>D</th>\n      <td>NaN</td>\n      <td>NaN</td>\n      <td>NaN</td>\n      <td>NaN</td>\n      <td>NaN</td>\n      <td>52</td>\n      <td>7</td>\n      <td>7.75</td>\n    </tr>\n    <tr>\n      <th>E</th>\n      <td>NaN</td>\n      <td>NaN</td>\n      <td>NaN</td>\n      <td>NaN</td>\n      <td>7.432183</td>\n      <td>94</td>\n      <td>9</td>\n      <td>10.00</td>\n    </tr>\n  </tbody>\n</table>\n</div>"
     },
     "metadata": {},
     "execution_count": 128
    }
   ],
   "source": [
    "arr2 = arr1[(arr1>5)]\n",
    "arr2"
   ]
  },
  {
   "source": [
    "5. dari dataframe baru pada nomor sebelumnya, hapuslah 2 kolom yg jumlahnya NA nya paling banyak. drop kolomnya secara permanent"
   ],
   "cell_type": "markdown",
   "metadata": {}
  },
  {
   "cell_type": "code",
   "execution_count": 130,
   "metadata": {},
   "outputs": [
    {
     "output_type": "execute_result",
     "data": {
      "text/plain": [
       "   BARU2   M     BARU1   N  O      P\n",
       "A    6.0 NaN       NaN  51  9    NaN\n",
       "B    NaN NaN  6.831116  71  7    NaN\n",
       "C    NaN NaN       NaN  95  6   5.50\n",
       "D    NaN NaN       NaN  52  7   7.75\n",
       "E    NaN NaN  7.432183  94  9  10.00"
      ],
      "text/html": "<div>\n<style scoped>\n    .dataframe tbody tr th:only-of-type {\n        vertical-align: middle;\n    }\n\n    .dataframe tbody tr th {\n        vertical-align: top;\n    }\n\n    .dataframe thead th {\n        text-align: right;\n    }\n</style>\n<table border=\"1\" class=\"dataframe\">\n  <thead>\n    <tr style=\"text-align: right;\">\n      <th></th>\n      <th>BARU2</th>\n      <th>M</th>\n      <th>BARU1</th>\n      <th>N</th>\n      <th>O</th>\n      <th>P</th>\n    </tr>\n  </thead>\n  <tbody>\n    <tr>\n      <th>A</th>\n      <td>6.0</td>\n      <td>NaN</td>\n      <td>NaN</td>\n      <td>51</td>\n      <td>9</td>\n      <td>NaN</td>\n    </tr>\n    <tr>\n      <th>B</th>\n      <td>NaN</td>\n      <td>NaN</td>\n      <td>6.831116</td>\n      <td>71</td>\n      <td>7</td>\n      <td>NaN</td>\n    </tr>\n    <tr>\n      <th>C</th>\n      <td>NaN</td>\n      <td>NaN</td>\n      <td>NaN</td>\n      <td>95</td>\n      <td>6</td>\n      <td>5.50</td>\n    </tr>\n    <tr>\n      <th>D</th>\n      <td>NaN</td>\n      <td>NaN</td>\n      <td>NaN</td>\n      <td>52</td>\n      <td>7</td>\n      <td>7.75</td>\n    </tr>\n    <tr>\n      <th>E</th>\n      <td>NaN</td>\n      <td>NaN</td>\n      <td>7.432183</td>\n      <td>94</td>\n      <td>9</td>\n      <td>10.00</td>\n    </tr>\n  </tbody>\n</table>\n</div>"
     },
     "metadata": {},
     "execution_count": 130
    }
   ],
   "source": [
    "arr2.drop([\"K\",\"L\"],axis = 1,inplace = True)\n",
    "arr2"
   ]
  },
  {
   "source": [
    "6. dari dataframe tsb, resetlah indexnya kemudian buatlah sebuah index baru"
   ],
   "cell_type": "markdown",
   "metadata": {}
  },
  {
   "cell_type": "code",
   "execution_count": 131,
   "metadata": {},
   "outputs": [
    {
     "output_type": "execute_result",
     "data": {
      "text/plain": [
       "  index  BARU2   M     BARU1   N  O      P\n",
       "0     A    6.0 NaN       NaN  51  9    NaN\n",
       "1     B    NaN NaN  6.831116  71  7    NaN\n",
       "2     C    NaN NaN       NaN  95  6   5.50\n",
       "3     D    NaN NaN       NaN  52  7   7.75\n",
       "4     E    NaN NaN  7.432183  94  9  10.00"
      ],
      "text/html": "<div>\n<style scoped>\n    .dataframe tbody tr th:only-of-type {\n        vertical-align: middle;\n    }\n\n    .dataframe tbody tr th {\n        vertical-align: top;\n    }\n\n    .dataframe thead th {\n        text-align: right;\n    }\n</style>\n<table border=\"1\" class=\"dataframe\">\n  <thead>\n    <tr style=\"text-align: right;\">\n      <th></th>\n      <th>index</th>\n      <th>BARU2</th>\n      <th>M</th>\n      <th>BARU1</th>\n      <th>N</th>\n      <th>O</th>\n      <th>P</th>\n    </tr>\n  </thead>\n  <tbody>\n    <tr>\n      <th>0</th>\n      <td>A</td>\n      <td>6.0</td>\n      <td>NaN</td>\n      <td>NaN</td>\n      <td>51</td>\n      <td>9</td>\n      <td>NaN</td>\n    </tr>\n    <tr>\n      <th>1</th>\n      <td>B</td>\n      <td>NaN</td>\n      <td>NaN</td>\n      <td>6.831116</td>\n      <td>71</td>\n      <td>7</td>\n      <td>NaN</td>\n    </tr>\n    <tr>\n      <th>2</th>\n      <td>C</td>\n      <td>NaN</td>\n      <td>NaN</td>\n      <td>NaN</td>\n      <td>95</td>\n      <td>6</td>\n      <td>5.50</td>\n    </tr>\n    <tr>\n      <th>3</th>\n      <td>D</td>\n      <td>NaN</td>\n      <td>NaN</td>\n      <td>NaN</td>\n      <td>52</td>\n      <td>7</td>\n      <td>7.75</td>\n    </tr>\n    <tr>\n      <th>4</th>\n      <td>E</td>\n      <td>NaN</td>\n      <td>NaN</td>\n      <td>7.432183</td>\n      <td>94</td>\n      <td>9</td>\n      <td>10.00</td>\n    </tr>\n  </tbody>\n</table>\n</div>"
     },
     "metadata": {},
     "execution_count": 131
    }
   ],
   "source": [
    "arr2.reset_index()"
   ]
  },
  {
   "cell_type": "code",
   "execution_count": 145,
   "metadata": {},
   "outputs": [
    {
     "output_type": "execute_result",
     "data": {
      "text/plain": [
       "       BARU2   M     BARU1   N  O      P\n",
       "new                                     \n",
       "satu     6.0 NaN       NaN  51  9    NaN\n",
       "dua      NaN NaN  6.831116  71  7    NaN\n",
       "tiga     NaN NaN       NaN  95  6   5.50\n",
       "empat    NaN NaN       NaN  52  7   7.75\n",
       "lima     NaN NaN  7.432183  94  9  10.00"
      ],
      "text/html": "<div>\n<style scoped>\n    .dataframe tbody tr th:only-of-type {\n        vertical-align: middle;\n    }\n\n    .dataframe tbody tr th {\n        vertical-align: top;\n    }\n\n    .dataframe thead th {\n        text-align: right;\n    }\n</style>\n<table border=\"1\" class=\"dataframe\">\n  <thead>\n    <tr style=\"text-align: right;\">\n      <th></th>\n      <th>BARU2</th>\n      <th>M</th>\n      <th>BARU1</th>\n      <th>N</th>\n      <th>O</th>\n      <th>P</th>\n    </tr>\n    <tr>\n      <th>new</th>\n      <th></th>\n      <th></th>\n      <th></th>\n      <th></th>\n      <th></th>\n      <th></th>\n    </tr>\n  </thead>\n  <tbody>\n    <tr>\n      <th>satu</th>\n      <td>6.0</td>\n      <td>NaN</td>\n      <td>NaN</td>\n      <td>51</td>\n      <td>9</td>\n      <td>NaN</td>\n    </tr>\n    <tr>\n      <th>dua</th>\n      <td>NaN</td>\n      <td>NaN</td>\n      <td>6.831116</td>\n      <td>71</td>\n      <td>7</td>\n      <td>NaN</td>\n    </tr>\n    <tr>\n      <th>tiga</th>\n      <td>NaN</td>\n      <td>NaN</td>\n      <td>NaN</td>\n      <td>95</td>\n      <td>6</td>\n      <td>5.50</td>\n    </tr>\n    <tr>\n      <th>empat</th>\n      <td>NaN</td>\n      <td>NaN</td>\n      <td>NaN</td>\n      <td>52</td>\n      <td>7</td>\n      <td>7.75</td>\n    </tr>\n    <tr>\n      <th>lima</th>\n      <td>NaN</td>\n      <td>NaN</td>\n      <td>7.432183</td>\n      <td>94</td>\n      <td>9</td>\n      <td>10.00</td>\n    </tr>\n  </tbody>\n</table>\n</div>"
     },
     "metadata": {},
     "execution_count": 145
    }
   ],
   "source": [
    "arr2[\"new\"] = [\"satu\",\"dua\",\"tiga\",\"empat\",\"lima\"]\n",
    "arr2.set_index(\"new\")\n"
   ]
  },
  {
   "source": [
    "7. bualah sebuah dataframe dgn multi index"
   ],
   "cell_type": "markdown",
   "metadata": {}
  },
  {
   "cell_type": "code",
   "execution_count": 133,
   "metadata": {},
   "outputs": [
    {
     "output_type": "execute_result",
     "data": {
      "text/plain": [
       "[('Suhu 1', '20'),\n",
       " ('Suhu 1', '30'),\n",
       " ('Suhu 1', '40'),\n",
       " ('Suhu 2', '20'),\n",
       " ('Suhu 2', '30'),\n",
       " ('Suhu 2', '40'),\n",
       " ('Suhu 3', '20'),\n",
       " ('Suhu 3', '30'),\n",
       " ('Suhu 3', '40')]"
      ]
     },
     "metadata": {},
     "execution_count": 133
    }
   ],
   "source": [
    "luar = [\"Suhu 1\",\"Suhu 1\",\"Suhu 1\",\"Suhu 2\",\"Suhu 2\",\"Suhu 2\",\"Suhu 3\",\"Suhu 3\",\"Suhu 3\"]\n",
    "dalam = [\"20\",\"30\",\"40\",\"20\",\"30\",\"40\",\"20\",\"30\",\"40\"]\n",
    "index= list(zip(luar,dalam))\n",
    "index "
   ]
  },
  {
   "cell_type": "code",
   "execution_count": 134,
   "metadata": {},
   "outputs": [
    {
     "output_type": "execute_result",
     "data": {
      "text/plain": [
       "MultiIndex([('Suhu 1', '20'),\n",
       "            ('Suhu 1', '30'),\n",
       "            ('Suhu 1', '40'),\n",
       "            ('Suhu 2', '20'),\n",
       "            ('Suhu 2', '30'),\n",
       "            ('Suhu 2', '40'),\n",
       "            ('Suhu 3', '20'),\n",
       "            ('Suhu 3', '30'),\n",
       "            ('Suhu 3', '40')],\n",
       "           )"
      ]
     },
     "metadata": {},
     "execution_count": 134
    }
   ],
   "source": [
    "Hier_index = pd.MultiIndex.from_tuples(index)\n",
    "Hier_index"
   ]
  },
  {
   "cell_type": "code",
   "execution_count": 138,
   "metadata": {},
   "outputs": [
    {
     "output_type": "execute_result",
     "data": {
      "text/plain": [
       "            10   20   30\n",
       "Suhu 1 20  154  174  107\n",
       "       30  141  168  155\n",
       "       40  186  113  169\n",
       "Suhu 2 20  198  146  191\n",
       "       30  182  121  196\n",
       "       40  105  140  165\n",
       "Suhu 3 20  156  112  146\n",
       "       30  105  177  166\n",
       "       40  174  141  197"
      ],
      "text/html": "<div>\n<style scoped>\n    .dataframe tbody tr th:only-of-type {\n        vertical-align: middle;\n    }\n\n    .dataframe tbody tr th {\n        vertical-align: top;\n    }\n\n    .dataframe thead th {\n        text-align: right;\n    }\n</style>\n<table border=\"1\" class=\"dataframe\">\n  <thead>\n    <tr style=\"text-align: right;\">\n      <th></th>\n      <th></th>\n      <th>10</th>\n      <th>20</th>\n      <th>30</th>\n    </tr>\n  </thead>\n  <tbody>\n    <tr>\n      <th rowspan=\"3\" valign=\"top\">Suhu 1</th>\n      <th>20</th>\n      <td>154</td>\n      <td>174</td>\n      <td>107</td>\n    </tr>\n    <tr>\n      <th>30</th>\n      <td>141</td>\n      <td>168</td>\n      <td>155</td>\n    </tr>\n    <tr>\n      <th>40</th>\n      <td>186</td>\n      <td>113</td>\n      <td>169</td>\n    </tr>\n    <tr>\n      <th rowspan=\"3\" valign=\"top\">Suhu 2</th>\n      <th>20</th>\n      <td>198</td>\n      <td>146</td>\n      <td>191</td>\n    </tr>\n    <tr>\n      <th>30</th>\n      <td>182</td>\n      <td>121</td>\n      <td>196</td>\n    </tr>\n    <tr>\n      <th>40</th>\n      <td>105</td>\n      <td>140</td>\n      <td>165</td>\n    </tr>\n    <tr>\n      <th rowspan=\"3\" valign=\"top\">Suhu 3</th>\n      <th>20</th>\n      <td>156</td>\n      <td>112</td>\n      <td>146</td>\n    </tr>\n    <tr>\n      <th>30</th>\n      <td>105</td>\n      <td>177</td>\n      <td>166</td>\n    </tr>\n    <tr>\n      <th>40</th>\n      <td>174</td>\n      <td>141</td>\n      <td>197</td>\n    </tr>\n  </tbody>\n</table>\n</div>"
     },
     "metadata": {},
     "execution_count": 138
    }
   ],
   "source": [
    "arr3 = pd.DataFrame(np.random.randint(100,200,(9,3)),index = Hier_index,columns=[\"10\", \"20\", \"30\"])\n",
    "arr3"
   ]
  },
  {
   "cell_type": "code",
   "execution_count": null,
   "metadata": {},
   "outputs": [],
   "source": []
  }
 ]
}