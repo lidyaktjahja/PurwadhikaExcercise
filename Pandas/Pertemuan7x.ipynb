{
 "metadata": {
  "language_info": {
   "codemirror_mode": {
    "name": "ipython",
    "version": 3
   },
   "file_extension": ".py",
   "mimetype": "text/x-python",
   "name": "python",
   "nbconvert_exporter": "python",
   "pygments_lexer": "ipython3",
   "version": "3.9.2-final"
  },
  "orig_nbformat": 2,
  "kernelspec": {
   "name": "python3",
   "display_name": "Python 3.9.2 64-bit",
   "metadata": {
    "interpreter": {
     "hash": "5f049ec40c8e1c362c5f7bfa23320edbf94c564ac4956e50293b2ff0f15f7d7f"
    }
   }
  }
 },
 "nbformat": 4,
 "nbformat_minor": 2,
 "cells": [
  {
   "cell_type": "code",
   "execution_count": 1,
   "metadata": {},
   "outputs": [],
   "source": [
    "import numpy as np \n",
    "import pandas as pd"
   ]
  },
  {
   "cell_type": "code",
   "execution_count": 6,
   "metadata": {},
   "outputs": [
    {
     "output_type": "execute_result",
     "data": {
      "text/plain": [
       "  key  A  B\n",
       "0  K0  1  5\n",
       "1  K1  2  6\n",
       "2  K2  3  7\n",
       "3  K3  4  8"
      ],
      "text/html": "<div>\n<style scoped>\n    .dataframe tbody tr th:only-of-type {\n        vertical-align: middle;\n    }\n\n    .dataframe tbody tr th {\n        vertical-align: top;\n    }\n\n    .dataframe thead th {\n        text-align: right;\n    }\n</style>\n<table border=\"1\" class=\"dataframe\">\n  <thead>\n    <tr style=\"text-align: right;\">\n      <th></th>\n      <th>key</th>\n      <th>A</th>\n      <th>B</th>\n    </tr>\n  </thead>\n  <tbody>\n    <tr>\n      <th>0</th>\n      <td>K0</td>\n      <td>1</td>\n      <td>5</td>\n    </tr>\n    <tr>\n      <th>1</th>\n      <td>K1</td>\n      <td>2</td>\n      <td>6</td>\n    </tr>\n    <tr>\n      <th>2</th>\n      <td>K2</td>\n      <td>3</td>\n      <td>7</td>\n    </tr>\n    <tr>\n      <th>3</th>\n      <td>K3</td>\n      <td>4</td>\n      <td>8</td>\n    </tr>\n  </tbody>\n</table>\n</div>"
     },
     "metadata": {},
     "execution_count": 6
    }
   ],
   "source": [
    "df1 = pd.DataFrame({'key':['K0','K1','K2','K3'], \n",
    "'A': [1,2,3,4,],\n",
    "'B' : [5,6,7,8]})\n",
    "df1"
   ]
  },
  {
   "cell_type": "code",
   "execution_count": 25,
   "metadata": {},
   "outputs": [
    {
     "output_type": "execute_result",
     "data": {
      "text/plain": [
       "  key   C   D   E\n",
       "0  K4  10  20  15\n",
       "1  K1  20  60  25\n",
       "2  K2  30  70  35\n",
       "3  K3  40  80  45\n",
       "4  K5  50  90  55"
      ],
      "text/html": "<div>\n<style scoped>\n    .dataframe tbody tr th:only-of-type {\n        vertical-align: middle;\n    }\n\n    .dataframe tbody tr th {\n        vertical-align: top;\n    }\n\n    .dataframe thead th {\n        text-align: right;\n    }\n</style>\n<table border=\"1\" class=\"dataframe\">\n  <thead>\n    <tr style=\"text-align: right;\">\n      <th></th>\n      <th>key</th>\n      <th>C</th>\n      <th>D</th>\n      <th>E</th>\n    </tr>\n  </thead>\n  <tbody>\n    <tr>\n      <th>0</th>\n      <td>K4</td>\n      <td>10</td>\n      <td>20</td>\n      <td>15</td>\n    </tr>\n    <tr>\n      <th>1</th>\n      <td>K1</td>\n      <td>20</td>\n      <td>60</td>\n      <td>25</td>\n    </tr>\n    <tr>\n      <th>2</th>\n      <td>K2</td>\n      <td>30</td>\n      <td>70</td>\n      <td>35</td>\n    </tr>\n    <tr>\n      <th>3</th>\n      <td>K3</td>\n      <td>40</td>\n      <td>80</td>\n      <td>45</td>\n    </tr>\n    <tr>\n      <th>4</th>\n      <td>K5</td>\n      <td>50</td>\n      <td>90</td>\n      <td>55</td>\n    </tr>\n  </tbody>\n</table>\n</div>"
     },
     "metadata": {},
     "execution_count": 25
    }
   ],
   "source": [
    "df2 = pd.DataFrame({'key':['K4','K1','K2','K3','K5'], 'C': [10,20,30,40,50],\n",
    "'D' : [20,60,70,80,90],\n",
    "'E' : [15,25,35,45,55]})d\n",
    "df2"
   ]
  },
  {
   "cell_type": "code",
   "execution_count": 26,
   "metadata": {},
   "outputs": [
    {
     "output_type": "execute_result",
     "data": {
      "text/plain": [
       "  key    A    B     C     D     E\n",
       "0  K0  1.0  5.0   NaN   NaN   NaN\n",
       "1  K1  2.0  6.0  20.0  60.0  25.0\n",
       "2  K2  3.0  7.0  30.0  70.0  35.0\n",
       "3  K3  4.0  8.0  40.0  80.0  45.0\n",
       "4  K4  NaN  NaN  10.0  20.0  15.0\n",
       "5  K5  NaN  NaN  50.0  90.0  55.0"
      ],
      "text/html": "<div>\n<style scoped>\n    .dataframe tbody tr th:only-of-type {\n        vertical-align: middle;\n    }\n\n    .dataframe tbody tr th {\n        vertical-align: top;\n    }\n\n    .dataframe thead th {\n        text-align: right;\n    }\n</style>\n<table border=\"1\" class=\"dataframe\">\n  <thead>\n    <tr style=\"text-align: right;\">\n      <th></th>\n      <th>key</th>\n      <th>A</th>\n      <th>B</th>\n      <th>C</th>\n      <th>D</th>\n      <th>E</th>\n    </tr>\n  </thead>\n  <tbody>\n    <tr>\n      <th>0</th>\n      <td>K0</td>\n      <td>1.0</td>\n      <td>5.0</td>\n      <td>NaN</td>\n      <td>NaN</td>\n      <td>NaN</td>\n    </tr>\n    <tr>\n      <th>1</th>\n      <td>K1</td>\n      <td>2.0</td>\n      <td>6.0</td>\n      <td>20.0</td>\n      <td>60.0</td>\n      <td>25.0</td>\n    </tr>\n    <tr>\n      <th>2</th>\n      <td>K2</td>\n      <td>3.0</td>\n      <td>7.0</td>\n      <td>30.0</td>\n      <td>70.0</td>\n      <td>35.0</td>\n    </tr>\n    <tr>\n      <th>3</th>\n      <td>K3</td>\n      <td>4.0</td>\n      <td>8.0</td>\n      <td>40.0</td>\n      <td>80.0</td>\n      <td>45.0</td>\n    </tr>\n    <tr>\n      <th>4</th>\n      <td>K4</td>\n      <td>NaN</td>\n      <td>NaN</td>\n      <td>10.0</td>\n      <td>20.0</td>\n      <td>15.0</td>\n    </tr>\n    <tr>\n      <th>5</th>\n      <td>K5</td>\n      <td>NaN</td>\n      <td>NaN</td>\n      <td>50.0</td>\n      <td>90.0</td>\n      <td>55.0</td>\n    </tr>\n  </tbody>\n</table>\n</div>"
     },
     "metadata": {},
     "execution_count": 26
    }
   ],
   "source": [
    "pd.merge(df1, df2, how = \"outer\", on = 'key')"
   ]
  },
  {
   "cell_type": "code",
   "execution_count": 27,
   "metadata": {},
   "outputs": [
    {
     "output_type": "execute_result",
     "data": {
      "text/plain": [
       "  key  A  B     C     D     E\n",
       "0  K0  1  5   NaN   NaN   NaN\n",
       "1  K1  2  6  20.0  60.0  25.0\n",
       "2  K2  3  7  30.0  70.0  35.0\n",
       "3  K3  4  8  40.0  80.0  45.0"
      ],
      "text/html": "<div>\n<style scoped>\n    .dataframe tbody tr th:only-of-type {\n        vertical-align: middle;\n    }\n\n    .dataframe tbody tr th {\n        vertical-align: top;\n    }\n\n    .dataframe thead th {\n        text-align: right;\n    }\n</style>\n<table border=\"1\" class=\"dataframe\">\n  <thead>\n    <tr style=\"text-align: right;\">\n      <th></th>\n      <th>key</th>\n      <th>A</th>\n      <th>B</th>\n      <th>C</th>\n      <th>D</th>\n      <th>E</th>\n    </tr>\n  </thead>\n  <tbody>\n    <tr>\n      <th>0</th>\n      <td>K0</td>\n      <td>1</td>\n      <td>5</td>\n      <td>NaN</td>\n      <td>NaN</td>\n      <td>NaN</td>\n    </tr>\n    <tr>\n      <th>1</th>\n      <td>K1</td>\n      <td>2</td>\n      <td>6</td>\n      <td>20.0</td>\n      <td>60.0</td>\n      <td>25.0</td>\n    </tr>\n    <tr>\n      <th>2</th>\n      <td>K2</td>\n      <td>3</td>\n      <td>7</td>\n      <td>30.0</td>\n      <td>70.0</td>\n      <td>35.0</td>\n    </tr>\n    <tr>\n      <th>3</th>\n      <td>K3</td>\n      <td>4</td>\n      <td>8</td>\n      <td>40.0</td>\n      <td>80.0</td>\n      <td>45.0</td>\n    </tr>\n  </tbody>\n</table>\n</div>"
     },
     "metadata": {},
     "execution_count": 27
    }
   ],
   "source": [
    "pd.merge(df1, df2, how = 'left',on = 'key')"
   ]
  },
  {
   "cell_type": "code",
   "execution_count": 28,
   "metadata": {},
   "outputs": [
    {
     "output_type": "execute_result",
     "data": {
      "text/plain": [
       "  key    A    B   C   D   E\n",
       "0  K4  NaN  NaN  10  20  15\n",
       "1  K1  2.0  6.0  20  60  25\n",
       "2  K2  3.0  7.0  30  70  35\n",
       "3  K3  4.0  8.0  40  80  45\n",
       "4  K5  NaN  NaN  50  90  55"
      ],
      "text/html": "<div>\n<style scoped>\n    .dataframe tbody tr th:only-of-type {\n        vertical-align: middle;\n    }\n\n    .dataframe tbody tr th {\n        vertical-align: top;\n    }\n\n    .dataframe thead th {\n        text-align: right;\n    }\n</style>\n<table border=\"1\" class=\"dataframe\">\n  <thead>\n    <tr style=\"text-align: right;\">\n      <th></th>\n      <th>key</th>\n      <th>A</th>\n      <th>B</th>\n      <th>C</th>\n      <th>D</th>\n      <th>E</th>\n    </tr>\n  </thead>\n  <tbody>\n    <tr>\n      <th>0</th>\n      <td>K4</td>\n      <td>NaN</td>\n      <td>NaN</td>\n      <td>10</td>\n      <td>20</td>\n      <td>15</td>\n    </tr>\n    <tr>\n      <th>1</th>\n      <td>K1</td>\n      <td>2.0</td>\n      <td>6.0</td>\n      <td>20</td>\n      <td>60</td>\n      <td>25</td>\n    </tr>\n    <tr>\n      <th>2</th>\n      <td>K2</td>\n      <td>3.0</td>\n      <td>7.0</td>\n      <td>30</td>\n      <td>70</td>\n      <td>35</td>\n    </tr>\n    <tr>\n      <th>3</th>\n      <td>K3</td>\n      <td>4.0</td>\n      <td>8.0</td>\n      <td>40</td>\n      <td>80</td>\n      <td>45</td>\n    </tr>\n    <tr>\n      <th>4</th>\n      <td>K5</td>\n      <td>NaN</td>\n      <td>NaN</td>\n      <td>50</td>\n      <td>90</td>\n      <td>55</td>\n    </tr>\n  </tbody>\n</table>\n</div>"
     },
     "metadata": {},
     "execution_count": 28
    }
   ],
   "source": [
    "pd.merge(df1,df2,how=\"right\",on='key')"
   ]
  },
  {
   "cell_type": "code",
   "execution_count": 29,
   "metadata": {},
   "outputs": [
    {
     "output_type": "execute_result",
     "data": {
      "text/plain": [
       "  key  A  B   C   D   E\n",
       "0  K1  2  6  20  60  25\n",
       "1  K2  3  7  30  70  35\n",
       "2  K3  4  8  40  80  45"
      ],
      "text/html": "<div>\n<style scoped>\n    .dataframe tbody tr th:only-of-type {\n        vertical-align: middle;\n    }\n\n    .dataframe tbody tr th {\n        vertical-align: top;\n    }\n\n    .dataframe thead th {\n        text-align: right;\n    }\n</style>\n<table border=\"1\" class=\"dataframe\">\n  <thead>\n    <tr style=\"text-align: right;\">\n      <th></th>\n      <th>key</th>\n      <th>A</th>\n      <th>B</th>\n      <th>C</th>\n      <th>D</th>\n      <th>E</th>\n    </tr>\n  </thead>\n  <tbody>\n    <tr>\n      <th>0</th>\n      <td>K1</td>\n      <td>2</td>\n      <td>6</td>\n      <td>20</td>\n      <td>60</td>\n      <td>25</td>\n    </tr>\n    <tr>\n      <th>1</th>\n      <td>K2</td>\n      <td>3</td>\n      <td>7</td>\n      <td>30</td>\n      <td>70</td>\n      <td>35</td>\n    </tr>\n    <tr>\n      <th>2</th>\n      <td>K3</td>\n      <td>4</td>\n      <td>8</td>\n      <td>40</td>\n      <td>80</td>\n      <td>45</td>\n    </tr>\n  </tbody>\n</table>\n</div>"
     },
     "metadata": {},
     "execution_count": 29
    }
   ],
   "source": [
    "pd.merge(df1,df2) "
   ]
  },
  {
   "cell_type": "code",
   "execution_count": 30,
   "metadata": {},
   "outputs": [
    {
     "output_type": "execute_result",
     "data": {
      "text/plain": [
       "  key   C   D   E  A  B\n",
       "0  K1  20  60  25  2  6\n",
       "1  K2  30  70  35  3  7\n",
       "2  K3  40  80  45  4  8"
      ],
      "text/html": "<div>\n<style scoped>\n    .dataframe tbody tr th:only-of-type {\n        vertical-align: middle;\n    }\n\n    .dataframe tbody tr th {\n        vertical-align: top;\n    }\n\n    .dataframe thead th {\n        text-align: right;\n    }\n</style>\n<table border=\"1\" class=\"dataframe\">\n  <thead>\n    <tr style=\"text-align: right;\">\n      <th></th>\n      <th>key</th>\n      <th>C</th>\n      <th>D</th>\n      <th>E</th>\n      <th>A</th>\n      <th>B</th>\n    </tr>\n  </thead>\n  <tbody>\n    <tr>\n      <th>0</th>\n      <td>K1</td>\n      <td>20</td>\n      <td>60</td>\n      <td>25</td>\n      <td>2</td>\n      <td>6</td>\n    </tr>\n    <tr>\n      <th>1</th>\n      <td>K2</td>\n      <td>30</td>\n      <td>70</td>\n      <td>35</td>\n      <td>3</td>\n      <td>7</td>\n    </tr>\n    <tr>\n      <th>2</th>\n      <td>K3</td>\n      <td>40</td>\n      <td>80</td>\n      <td>45</td>\n      <td>4</td>\n      <td>8</td>\n    </tr>\n  </tbody>\n</table>\n</div>"
     },
     "metadata": {},
     "execution_count": 30
    }
   ],
   "source": [
    "pd.merge(df2,df1)"
   ]
  },
  {
   "cell_type": "code",
   "execution_count": 31,
   "metadata": {},
   "outputs": [
    {
     "output_type": "stream",
     "text": [
      "\u001b[1;31mSignature:\u001b[0m\n",
      "\u001b[0mpd\u001b[0m\u001b[1;33m.\u001b[0m\u001b[0mmerge\u001b[0m\u001b[1;33m(\u001b[0m\u001b[1;33m\n",
      "\u001b[0m    \u001b[0mleft\u001b[0m\u001b[1;33m,\u001b[0m\u001b[1;33m\n",
      "\u001b[0m    \u001b[0mright\u001b[0m\u001b[1;33m,\u001b[0m\u001b[1;33m\n",
      "\u001b[0m    \u001b[0mhow\u001b[0m\u001b[1;33m:\u001b[0m \u001b[0mstr\u001b[0m \u001b[1;33m=\u001b[0m \u001b[1;34m'inner'\u001b[0m\u001b[1;33m,\u001b[0m\u001b[1;33m\n",
      "\u001b[0m    \u001b[0mon\u001b[0m\u001b[1;33m=\u001b[0m\u001b[1;32mNone\u001b[0m\u001b[1;33m,\u001b[0m\u001b[1;33m\n",
      "\u001b[0m    \u001b[0mleft_on\u001b[0m\u001b[1;33m=\u001b[0m\u001b[1;32mNone\u001b[0m\u001b[1;33m,\u001b[0m\u001b[1;33m\n",
      "\u001b[0m    \u001b[0mright_on\u001b[0m\u001b[1;33m=\u001b[0m\u001b[1;32mNone\u001b[0m\u001b[1;33m,\u001b[0m\u001b[1;33m\n",
      "\u001b[0m    \u001b[0mleft_index\u001b[0m\u001b[1;33m:\u001b[0m \u001b[0mbool\u001b[0m \u001b[1;33m=\u001b[0m \u001b[1;32mFalse\u001b[0m\u001b[1;33m,\u001b[0m\u001b[1;33m\n",
      "\u001b[0m    \u001b[0mright_index\u001b[0m\u001b[1;33m:\u001b[0m \u001b[0mbool\u001b[0m \u001b[1;33m=\u001b[0m \u001b[1;32mFalse\u001b[0m\u001b[1;33m,\u001b[0m\u001b[1;33m\n",
      "\u001b[0m    \u001b[0msort\u001b[0m\u001b[1;33m:\u001b[0m \u001b[0mbool\u001b[0m \u001b[1;33m=\u001b[0m \u001b[1;32mFalse\u001b[0m\u001b[1;33m,\u001b[0m\u001b[1;33m\n",
      "\u001b[0m    \u001b[0msuffixes\u001b[0m\u001b[1;33m=\u001b[0m\u001b[1;33m(\u001b[0m\u001b[1;34m'_x'\u001b[0m\u001b[1;33m,\u001b[0m \u001b[1;34m'_y'\u001b[0m\u001b[1;33m)\u001b[0m\u001b[1;33m,\u001b[0m\u001b[1;33m\n",
      "\u001b[0m    \u001b[0mcopy\u001b[0m\u001b[1;33m:\u001b[0m \u001b[0mbool\u001b[0m \u001b[1;33m=\u001b[0m \u001b[1;32mTrue\u001b[0m\u001b[1;33m,\u001b[0m\u001b[1;33m\n",
      "\u001b[0m    \u001b[0mindicator\u001b[0m\u001b[1;33m:\u001b[0m \u001b[0mbool\u001b[0m \u001b[1;33m=\u001b[0m \u001b[1;32mFalse\u001b[0m\u001b[1;33m,\u001b[0m\u001b[1;33m\n",
      "\u001b[0m    \u001b[0mvalidate\u001b[0m\u001b[1;33m=\u001b[0m\u001b[1;32mNone\u001b[0m\u001b[1;33m,\u001b[0m\u001b[1;33m\n",
      "\u001b[0m\u001b[1;33m)\u001b[0m \u001b[1;33m->\u001b[0m \u001b[1;34m'DataFrame'\u001b[0m\u001b[1;33m\u001b[0m\u001b[1;33m\u001b[0m\u001b[0m\n",
      "\u001b[1;31mDocstring:\u001b[0m\n",
      "Merge DataFrame or named Series objects with a database-style join.\n",
      "\n",
      "The join is done on columns or indexes. If joining columns on\n",
      "columns, the DataFrame indexes *will be ignored*. Otherwise if joining indexes\n",
      "on indexes or indexes on a column or columns, the index will be passed on.\n",
      "When performing a cross merge, no column specifications to merge on are\n",
      "allowed.\n",
      "\n",
      "Parameters\n",
      "----------\n",
      "left : DataFrame\n",
      "right : DataFrame or named Series\n",
      "    Object to merge with.\n",
      "how : {'left', 'right', 'outer', 'inner', 'cross'}, default 'inner'\n",
      "    Type of merge to be performed.\n",
      "\n",
      "    * left: use only keys from left frame, similar to a SQL left outer join;\n",
      "      preserve key order.\n",
      "    * right: use only keys from right frame, similar to a SQL right outer join;\n",
      "      preserve key order.\n",
      "    * outer: use union of keys from both frames, similar to a SQL full outer\n",
      "      join; sort keys lexicographically.\n",
      "    * inner: use intersection of keys from both frames, similar to a SQL inner\n",
      "      join; preserve the order of the left keys.\n",
      "    * cross: creates the cartesian product from both frames, preserves the order\n",
      "      of the left keys.\n",
      "\n",
      "      .. versionadded:: 1.2.0\n",
      "\n",
      "on : label or list\n",
      "    Column or index level names to join on. These must be found in both\n",
      "    DataFrames. If `on` is None and not merging on indexes then this defaults\n",
      "    to the intersection of the columns in both DataFrames.\n",
      "left_on : label or list, or array-like\n",
      "    Column or index level names to join on in the left DataFrame. Can also\n",
      "    be an array or list of arrays of the length of the left DataFrame.\n",
      "    These arrays are treated as if they are columns.\n",
      "right_on : label or list, or array-like\n",
      "    Column or index level names to join on in the right DataFrame. Can also\n",
      "    be an array or list of arrays of the length of the right DataFrame.\n",
      "    These arrays are treated as if they are columns.\n",
      "left_index : bool, default False\n",
      "    Use the index from the left DataFrame as the join key(s). If it is a\n",
      "    MultiIndex, the number of keys in the other DataFrame (either the index\n",
      "    or a number of columns) must match the number of levels.\n",
      "right_index : bool, default False\n",
      "    Use the index from the right DataFrame as the join key. Same caveats as\n",
      "    left_index.\n",
      "sort : bool, default False\n",
      "    Sort the join keys lexicographically in the result DataFrame. If False,\n",
      "    the order of the join keys depends on the join type (how keyword).\n",
      "suffixes : list-like, default is (\"_x\", \"_y\")\n",
      "    A length-2 sequence where each element is optionally a string\n",
      "    indicating the suffix to add to overlapping column names in\n",
      "    `left` and `right` respectively. Pass a value of `None` instead\n",
      "    of a string to indicate that the column name from `left` or\n",
      "    `right` should be left as-is, with no suffix. At least one of the\n",
      "    values must not be None.\n",
      "copy : bool, default True\n",
      "    If False, avoid copy if possible.\n",
      "indicator : bool or str, default False\n",
      "    If True, adds a column to the output DataFrame called \"_merge\" with\n",
      "    information on the source of each row. The column can be given a different\n",
      "    name by providing a string argument. The column will have a Categorical\n",
      "    type with the value of \"left_only\" for observations whose merge key only\n",
      "    appears in the left DataFrame, \"right_only\" for observations\n",
      "    whose merge key only appears in the right DataFrame, and \"both\"\n",
      "    if the observation's merge key is found in both DataFrames.\n",
      "\n",
      "validate : str, optional\n",
      "    If specified, checks if merge is of specified type.\n",
      "\n",
      "    * \"one_to_one\" or \"1:1\": check if merge keys are unique in both\n",
      "      left and right datasets.\n",
      "    * \"one_to_many\" or \"1:m\": check if merge keys are unique in left\n",
      "      dataset.\n",
      "    * \"many_to_one\" or \"m:1\": check if merge keys are unique in right\n",
      "      dataset.\n",
      "    * \"many_to_many\" or \"m:m\": allowed, but does not result in checks.\n",
      "\n",
      "Returns\n",
      "-------\n",
      "DataFrame\n",
      "    A DataFrame of the two merged objects.\n",
      "\n",
      "See Also\n",
      "--------\n",
      "merge_ordered : Merge with optional filling/interpolation.\n",
      "merge_asof : Merge on nearest keys.\n",
      "DataFrame.join : Similar method using indices.\n",
      "\n",
      "Notes\n",
      "-----\n",
      "Support for specifying index levels as the `on`, `left_on`, and\n",
      "`right_on` parameters was added in version 0.23.0\n",
      "Support for merging named Series objects was added in version 0.24.0\n",
      "\n",
      "Examples\n",
      "--------\n",
      ">>> df1 = pd.DataFrame({'lkey': ['foo', 'bar', 'baz', 'foo'],\n",
      "...                     'value': [1, 2, 3, 5]})\n",
      ">>> df2 = pd.DataFrame({'rkey': ['foo', 'bar', 'baz', 'foo'],\n",
      "...                     'value': [5, 6, 7, 8]})\n",
      ">>> df1\n",
      "    lkey value\n",
      "0   foo      1\n",
      "1   bar      2\n",
      "2   baz      3\n",
      "3   foo      5\n",
      ">>> df2\n",
      "    rkey value\n",
      "0   foo      5\n",
      "1   bar      6\n",
      "2   baz      7\n",
      "3   foo      8\n",
      "\n",
      "Merge df1 and df2 on the lkey and rkey columns. The value columns have\n",
      "the default suffixes, _x and _y, appended.\n",
      "\n",
      ">>> df1.merge(df2, left_on='lkey', right_on='rkey')\n",
      "  lkey  value_x rkey  value_y\n",
      "0  foo        1  foo        5\n",
      "1  foo        1  foo        8\n",
      "2  foo        5  foo        5\n",
      "3  foo        5  foo        8\n",
      "4  bar        2  bar        6\n",
      "5  baz        3  baz        7\n",
      "\n",
      "Merge DataFrames df1 and df2 with specified left and right suffixes\n",
      "appended to any overlapping columns.\n",
      "\n",
      ">>> df1.merge(df2, left_on='lkey', right_on='rkey',\n",
      "...           suffixes=('_left', '_right'))\n",
      "  lkey  value_left rkey  value_right\n",
      "0  foo           1  foo            5\n",
      "1  foo           1  foo            8\n",
      "2  foo           5  foo            5\n",
      "3  foo           5  foo            8\n",
      "4  bar           2  bar            6\n",
      "5  baz           3  baz            7\n",
      "\n",
      "Merge DataFrames df1 and df2, but raise an exception if the DataFrames have\n",
      "any overlapping columns.\n",
      "\n",
      ">>> df1.merge(df2, left_on='lkey', right_on='rkey', suffixes=(False, False))\n",
      "Traceback (most recent call last):\n",
      "...\n",
      "ValueError: columns overlap but no suffix specified:\n",
      "    Index(['value'], dtype='object')\n",
      "\n",
      ">>> df1 = pd.DataFrame({'a': ['foo', 'bar'], 'b': [1, 2]})\n",
      ">>> df2 = pd.DataFrame({'a': ['foo', 'baz'], 'c': [3, 4]})\n",
      ">>> df1\n",
      "      a  b\n",
      "0   foo  1\n",
      "1   bar  2\n",
      ">>> df2\n",
      "      a  c\n",
      "0   foo  3\n",
      "1   baz  4\n",
      "\n",
      ">>> df1.merge(df2, how='inner', on='a')\n",
      "      a  b  c\n",
      "0   foo  1  3\n",
      "\n",
      ">>> df1.merge(df2, how='left', on='a')\n",
      "      a  b  c\n",
      "0   foo  1  3.0\n",
      "1   bar  2  NaN\n",
      "\n",
      ">>> df1 = pd.DataFrame({'left': ['foo', 'bar']})\n",
      ">>> df2 = pd.DataFrame({'right': [7, 8]})\n",
      ">>> df1\n",
      "    left\n",
      "0   foo\n",
      "1   bar\n",
      ">>> df2\n",
      "    right\n",
      "0   7\n",
      "1   8\n",
      "\n",
      ">>> df1.merge(df2, how='cross')\n",
      "   left  right\n",
      "0   foo      7\n",
      "1   foo      8\n",
      "2   bar      7\n",
      "3   bar      8\n",
      "\u001b[1;31mFile:\u001b[0m      c:\\users\\lidya\\appdata\\local\\packages\\pythonsoftwarefoundation.python.3.9_qbz5n2kfra8p0\\localcache\\local-packages\\python39\\site-packages\\pandas\\core\\reshape\\merge.py\n",
      "\u001b[1;31mType:\u001b[0m      function\n"
     ],
     "name": "stdout"
    }
   ],
   "source": [
    "?pd.merge"
   ]
  },
  {
   "source": [
    "JOIN"
   ],
   "cell_type": "markdown",
   "metadata": {}
  },
  {
   "cell_type": "code",
   "execution_count": 36,
   "metadata": {},
   "outputs": [
    {
     "output_type": "execute_result",
     "data": {
      "text/plain": [
       "      A    B   F\n",
       "K4   15   25  15\n",
       "K1   25   65  25\n",
       "K2   35   75  35\n",
       "K3   45   85  45\n",
       "K0  105  205  55"
      ],
      "text/html": "<div>\n<style scoped>\n    .dataframe tbody tr th:only-of-type {\n        vertical-align: middle;\n    }\n\n    .dataframe tbody tr th {\n        vertical-align: top;\n    }\n\n    .dataframe thead th {\n        text-align: right;\n    }\n</style>\n<table border=\"1\" class=\"dataframe\">\n  <thead>\n    <tr style=\"text-align: right;\">\n      <th></th>\n      <th>A</th>\n      <th>B</th>\n      <th>F</th>\n    </tr>\n  </thead>\n  <tbody>\n    <tr>\n      <th>K4</th>\n      <td>15</td>\n      <td>25</td>\n      <td>15</td>\n    </tr>\n    <tr>\n      <th>K1</th>\n      <td>25</td>\n      <td>65</td>\n      <td>25</td>\n    </tr>\n    <tr>\n      <th>K2</th>\n      <td>35</td>\n      <td>75</td>\n      <td>35</td>\n    </tr>\n    <tr>\n      <th>K3</th>\n      <td>45</td>\n      <td>85</td>\n      <td>45</td>\n    </tr>\n    <tr>\n      <th>K0</th>\n      <td>105</td>\n      <td>205</td>\n      <td>55</td>\n    </tr>\n  </tbody>\n</table>\n</div>"
     },
     "metadata": {},
     "execution_count": 36
    }
   ],
   "source": [
    "df3 = pd.DataFrame({'A':[15,25,35,45,105],\n",
    "'B':[25,65,75,85,205],\n",
    "'F':[15,25,35,45,55]},index = ['K4','K1','K2','K3','K0'])\n",
    "df3"
   ]
  },
  {
   "cell_type": "code",
   "execution_count": 37,
   "metadata": {},
   "outputs": [
    {
     "output_type": "execute_result",
     "data": {
      "text/plain": [
       "      C    D  E\n",
       "K4   10   20  1\n",
       "K1   20   60  2\n",
       "K2   30   70  3\n",
       "K3   40   80  4\n",
       "K5  100  200  5"
      ],
      "text/html": "<div>\n<style scoped>\n    .dataframe tbody tr th:only-of-type {\n        vertical-align: middle;\n    }\n\n    .dataframe tbody tr th {\n        vertical-align: top;\n    }\n\n    .dataframe thead th {\n        text-align: right;\n    }\n</style>\n<table border=\"1\" class=\"dataframe\">\n  <thead>\n    <tr style=\"text-align: right;\">\n      <th></th>\n      <th>C</th>\n      <th>D</th>\n      <th>E</th>\n    </tr>\n  </thead>\n  <tbody>\n    <tr>\n      <th>K4</th>\n      <td>10</td>\n      <td>20</td>\n      <td>1</td>\n    </tr>\n    <tr>\n      <th>K1</th>\n      <td>20</td>\n      <td>60</td>\n      <td>2</td>\n    </tr>\n    <tr>\n      <th>K2</th>\n      <td>30</td>\n      <td>70</td>\n      <td>3</td>\n    </tr>\n    <tr>\n      <th>K3</th>\n      <td>40</td>\n      <td>80</td>\n      <td>4</td>\n    </tr>\n    <tr>\n      <th>K5</th>\n      <td>100</td>\n      <td>200</td>\n      <td>5</td>\n    </tr>\n  </tbody>\n</table>\n</div>"
     },
     "metadata": {},
     "execution_count": 37
    }
   ],
   "source": [
    "df4 = pd.DataFrame({'C':[10,20,30,40,100],\n",
    "'D':[20,60,70,80,200],\n",
    "'E':[1,2,3,4,5]},index = ['K4','K1','K2','K3','K5'])\n",
    "df4"
   ]
  },
  {
   "cell_type": "code",
   "execution_count": 38,
   "metadata": {},
   "outputs": [
    {
     "output_type": "execute_result",
     "data": {
      "text/plain": [
       "      A    B   F     C     D    E\n",
       "K4   15   25  15  10.0  20.0  1.0\n",
       "K1   25   65  25  20.0  60.0  2.0\n",
       "K2   35   75  35  30.0  70.0  3.0\n",
       "K3   45   85  45  40.0  80.0  4.0\n",
       "K0  105  205  55   NaN   NaN  NaN"
      ],
      "text/html": "<div>\n<style scoped>\n    .dataframe tbody tr th:only-of-type {\n        vertical-align: middle;\n    }\n\n    .dataframe tbody tr th {\n        vertical-align: top;\n    }\n\n    .dataframe thead th {\n        text-align: right;\n    }\n</style>\n<table border=\"1\" class=\"dataframe\">\n  <thead>\n    <tr style=\"text-align: right;\">\n      <th></th>\n      <th>A</th>\n      <th>B</th>\n      <th>F</th>\n      <th>C</th>\n      <th>D</th>\n      <th>E</th>\n    </tr>\n  </thead>\n  <tbody>\n    <tr>\n      <th>K4</th>\n      <td>15</td>\n      <td>25</td>\n      <td>15</td>\n      <td>10.0</td>\n      <td>20.0</td>\n      <td>1.0</td>\n    </tr>\n    <tr>\n      <th>K1</th>\n      <td>25</td>\n      <td>65</td>\n      <td>25</td>\n      <td>20.0</td>\n      <td>60.0</td>\n      <td>2.0</td>\n    </tr>\n    <tr>\n      <th>K2</th>\n      <td>35</td>\n      <td>75</td>\n      <td>35</td>\n      <td>30.0</td>\n      <td>70.0</td>\n      <td>3.0</td>\n    </tr>\n    <tr>\n      <th>K3</th>\n      <td>45</td>\n      <td>85</td>\n      <td>45</td>\n      <td>40.0</td>\n      <td>80.0</td>\n      <td>4.0</td>\n    </tr>\n    <tr>\n      <th>K0</th>\n      <td>105</td>\n      <td>205</td>\n      <td>55</td>\n      <td>NaN</td>\n      <td>NaN</td>\n      <td>NaN</td>\n    </tr>\n  </tbody>\n</table>\n</div>"
     },
     "metadata": {},
     "execution_count": 38
    }
   ],
   "source": [
    "df3.join(df4)"
   ]
  },
  {
   "cell_type": "code",
   "execution_count": 39,
   "metadata": {},
   "outputs": [
    {
     "output_type": "execute_result",
     "data": {
      "text/plain": [
       "        A      B     F      C      D    E\n",
       "K0  105.0  205.0  55.0    NaN    NaN  NaN\n",
       "K1   25.0   65.0  25.0   20.0   60.0  2.0\n",
       "K2   35.0   75.0  35.0   30.0   70.0  3.0\n",
       "K3   45.0   85.0  45.0   40.0   80.0  4.0\n",
       "K4   15.0   25.0  15.0   10.0   20.0  1.0\n",
       "K5    NaN    NaN   NaN  100.0  200.0  5.0"
      ],
      "text/html": "<div>\n<style scoped>\n    .dataframe tbody tr th:only-of-type {\n        vertical-align: middle;\n    }\n\n    .dataframe tbody tr th {\n        vertical-align: top;\n    }\n\n    .dataframe thead th {\n        text-align: right;\n    }\n</style>\n<table border=\"1\" class=\"dataframe\">\n  <thead>\n    <tr style=\"text-align: right;\">\n      <th></th>\n      <th>A</th>\n      <th>B</th>\n      <th>F</th>\n      <th>C</th>\n      <th>D</th>\n      <th>E</th>\n    </tr>\n  </thead>\n  <tbody>\n    <tr>\n      <th>K0</th>\n      <td>105.0</td>\n      <td>205.0</td>\n      <td>55.0</td>\n      <td>NaN</td>\n      <td>NaN</td>\n      <td>NaN</td>\n    </tr>\n    <tr>\n      <th>K1</th>\n      <td>25.0</td>\n      <td>65.0</td>\n      <td>25.0</td>\n      <td>20.0</td>\n      <td>60.0</td>\n      <td>2.0</td>\n    </tr>\n    <tr>\n      <th>K2</th>\n      <td>35.0</td>\n      <td>75.0</td>\n      <td>35.0</td>\n      <td>30.0</td>\n      <td>70.0</td>\n      <td>3.0</td>\n    </tr>\n    <tr>\n      <th>K3</th>\n      <td>45.0</td>\n      <td>85.0</td>\n      <td>45.0</td>\n      <td>40.0</td>\n      <td>80.0</td>\n      <td>4.0</td>\n    </tr>\n    <tr>\n      <th>K4</th>\n      <td>15.0</td>\n      <td>25.0</td>\n      <td>15.0</td>\n      <td>10.0</td>\n      <td>20.0</td>\n      <td>1.0</td>\n    </tr>\n    <tr>\n      <th>K5</th>\n      <td>NaN</td>\n      <td>NaN</td>\n      <td>NaN</td>\n      <td>100.0</td>\n      <td>200.0</td>\n      <td>5.0</td>\n    </tr>\n  </tbody>\n</table>\n</div>"
     },
     "metadata": {},
     "execution_count": 39
    }
   ],
   "source": [
    "df3.join(df4,how='outer')"
   ]
  },
  {
   "cell_type": "code",
   "execution_count": 40,
   "metadata": {},
   "outputs": [
    {
     "output_type": "execute_result",
     "data": {
      "text/plain": [
       "  key   C   D   E\n",
       "0  K4  10  20  15\n",
       "1  K1  20  60  25\n",
       "2  K2  30  70  35\n",
       "3  K3  40  80  45\n",
       "4  K5  50  90  55"
      ],
      "text/html": "<div>\n<style scoped>\n    .dataframe tbody tr th:only-of-type {\n        vertical-align: middle;\n    }\n\n    .dataframe tbody tr th {\n        vertical-align: top;\n    }\n\n    .dataframe thead th {\n        text-align: right;\n    }\n</style>\n<table border=\"1\" class=\"dataframe\">\n  <thead>\n    <tr style=\"text-align: right;\">\n      <th></th>\n      <th>key</th>\n      <th>C</th>\n      <th>D</th>\n      <th>E</th>\n    </tr>\n  </thead>\n  <tbody>\n    <tr>\n      <th>0</th>\n      <td>K4</td>\n      <td>10</td>\n      <td>20</td>\n      <td>15</td>\n    </tr>\n    <tr>\n      <th>1</th>\n      <td>K1</td>\n      <td>20</td>\n      <td>60</td>\n      <td>25</td>\n    </tr>\n    <tr>\n      <th>2</th>\n      <td>K2</td>\n      <td>30</td>\n      <td>70</td>\n      <td>35</td>\n    </tr>\n    <tr>\n      <th>3</th>\n      <td>K3</td>\n      <td>40</td>\n      <td>80</td>\n      <td>45</td>\n    </tr>\n    <tr>\n      <th>4</th>\n      <td>K5</td>\n      <td>50</td>\n      <td>90</td>\n      <td>55</td>\n    </tr>\n  </tbody>\n</table>\n</div>"
     },
     "metadata": {},
     "execution_count": 40
    }
   ],
   "source": [
    "df5 = pd.DataFrame({'key':['K4','K1','K2','K3','K5'], 'C': [10,20,30,40,50],\n",
    "'D' : [20,60,70,80,90],\n",
    "'E' : [15,25,35,45,55]})\n",
    "df5"
   ]
  },
  {
   "cell_type": "code",
   "execution_count": 43,
   "metadata": {},
   "outputs": [
    {
     "output_type": "execute_result",
     "data": {
      "text/plain": [
       "  key   C   D   E\n",
       "0  K0  10  25  10\n",
       "1  K1  20  65  20\n",
       "2  K2  30  75  30\n",
       "3  K3  40  85  40\n",
       "4  K5  50  95  50"
      ],
      "text/html": "<div>\n<style scoped>\n    .dataframe tbody tr th:only-of-type {\n        vertical-align: middle;\n    }\n\n    .dataframe tbody tr th {\n        vertical-align: top;\n    }\n\n    .dataframe thead th {\n        text-align: right;\n    }\n</style>\n<table border=\"1\" class=\"dataframe\">\n  <thead>\n    <tr style=\"text-align: right;\">\n      <th></th>\n      <th>key</th>\n      <th>C</th>\n      <th>D</th>\n      <th>E</th>\n    </tr>\n  </thead>\n  <tbody>\n    <tr>\n      <th>0</th>\n      <td>K0</td>\n      <td>10</td>\n      <td>25</td>\n      <td>10</td>\n    </tr>\n    <tr>\n      <th>1</th>\n      <td>K1</td>\n      <td>20</td>\n      <td>65</td>\n      <td>20</td>\n    </tr>\n    <tr>\n      <th>2</th>\n      <td>K2</td>\n      <td>30</td>\n      <td>75</td>\n      <td>30</td>\n    </tr>\n    <tr>\n      <th>3</th>\n      <td>K3</td>\n      <td>40</td>\n      <td>85</td>\n      <td>40</td>\n    </tr>\n    <tr>\n      <th>4</th>\n      <td>K5</td>\n      <td>50</td>\n      <td>95</td>\n      <td>50</td>\n    </tr>\n  </tbody>\n</table>\n</div>"
     },
     "metadata": {},
     "execution_count": 43
    }
   ],
   "source": [
    "df6 = pd.DataFrame({'key':['K0','K1','K2','K3','K5'], 'C': [10,20,30,40,50],\n",
    "'D' : [25,65,75,85,95],\n",
    "'E' : [10,20,30,40,50]})\n",
    "df6"
   ]
  },
  {
   "cell_type": "code",
   "execution_count": 46,
   "metadata": {},
   "outputs": [
    {
     "output_type": "execute_result",
     "data": {
      "text/plain": [
       "  key  C_x  D_x  E_x   C_y   D_y   E_y\n",
       "0  K4   10   20   15   NaN   NaN   NaN\n",
       "1  K1   20   60   25  20.0  65.0  20.0\n",
       "2  K2   30   70   35  30.0  75.0  30.0\n",
       "3  K3   40   80   45  40.0  85.0  40.0\n",
       "4  K5   50   90   55  50.0  95.0  50.0"
      ],
      "text/html": "<div>\n<style scoped>\n    .dataframe tbody tr th:only-of-type {\n        vertical-align: middle;\n    }\n\n    .dataframe tbody tr th {\n        vertical-align: top;\n    }\n\n    .dataframe thead th {\n        text-align: right;\n    }\n</style>\n<table border=\"1\" class=\"dataframe\">\n  <thead>\n    <tr style=\"text-align: right;\">\n      <th></th>\n      <th>key</th>\n      <th>C_x</th>\n      <th>D_x</th>\n      <th>E_x</th>\n      <th>C_y</th>\n      <th>D_y</th>\n      <th>E_y</th>\n    </tr>\n  </thead>\n  <tbody>\n    <tr>\n      <th>0</th>\n      <td>K4</td>\n      <td>10</td>\n      <td>20</td>\n      <td>15</td>\n      <td>NaN</td>\n      <td>NaN</td>\n      <td>NaN</td>\n    </tr>\n    <tr>\n      <th>1</th>\n      <td>K1</td>\n      <td>20</td>\n      <td>60</td>\n      <td>25</td>\n      <td>20.0</td>\n      <td>65.0</td>\n      <td>20.0</td>\n    </tr>\n    <tr>\n      <th>2</th>\n      <td>K2</td>\n      <td>30</td>\n      <td>70</td>\n      <td>35</td>\n      <td>30.0</td>\n      <td>75.0</td>\n      <td>30.0</td>\n    </tr>\n    <tr>\n      <th>3</th>\n      <td>K3</td>\n      <td>40</td>\n      <td>80</td>\n      <td>45</td>\n      <td>40.0</td>\n      <td>85.0</td>\n      <td>40.0</td>\n    </tr>\n    <tr>\n      <th>4</th>\n      <td>K5</td>\n      <td>50</td>\n      <td>90</td>\n      <td>55</td>\n      <td>50.0</td>\n      <td>95.0</td>\n      <td>50.0</td>\n    </tr>\n  </tbody>\n</table>\n</div>"
     },
     "metadata": {},
     "execution_count": 46
    }
   ],
   "source": [
    "pd.merge(df5,df6,how = 'left',on='key')"
   ]
  },
  {
   "source": [
    "# Summary\n",
    "MERGE : \n",
    "1. default how = inner\n",
    "2. nama penghubung boleh beda(on nya.. left_on atau right_on)\n",
    "3. ketika ada nama kolom yg sama, merge bikin jadi beda. jd C_x, C_y\n",
    "\n",
    "JOIN : \n",
    "1. default how nya join, left join\n",
    "2. based on nama index yg digabungkan\n",
    "3. nama kolom gabisa sama antar tabel"
   ],
   "cell_type": "markdown",
   "metadata": {}
  },
  {
   "source": [
    "CONCAT"
   ],
   "cell_type": "markdown",
   "metadata": {}
  },
  {
   "cell_type": "code",
   "execution_count": 47,
   "metadata": {},
   "outputs": [
    {
     "output_type": "execute_result",
     "data": {
      "text/plain": [
       "  key  A  B\n",
       "0  K0  1  5\n",
       "1  K1  2  6\n",
       "2  K2  3  7\n",
       "3  K3  4  8"
      ],
      "text/html": "<div>\n<style scoped>\n    .dataframe tbody tr th:only-of-type {\n        vertical-align: middle;\n    }\n\n    .dataframe tbody tr th {\n        vertical-align: top;\n    }\n\n    .dataframe thead th {\n        text-align: right;\n    }\n</style>\n<table border=\"1\" class=\"dataframe\">\n  <thead>\n    <tr style=\"text-align: right;\">\n      <th></th>\n      <th>key</th>\n      <th>A</th>\n      <th>B</th>\n    </tr>\n  </thead>\n  <tbody>\n    <tr>\n      <th>0</th>\n      <td>K0</td>\n      <td>1</td>\n      <td>5</td>\n    </tr>\n    <tr>\n      <th>1</th>\n      <td>K1</td>\n      <td>2</td>\n      <td>6</td>\n    </tr>\n    <tr>\n      <th>2</th>\n      <td>K2</td>\n      <td>3</td>\n      <td>7</td>\n    </tr>\n    <tr>\n      <th>3</th>\n      <td>K3</td>\n      <td>4</td>\n      <td>8</td>\n    </tr>\n  </tbody>\n</table>\n</div>"
     },
     "metadata": {},
     "execution_count": 47
    }
   ],
   "source": [
    "df1"
   ]
  },
  {
   "cell_type": "code",
   "execution_count": 48,
   "metadata": {},
   "outputs": [
    {
     "output_type": "execute_result",
     "data": {
      "text/plain": [
       "  key   C   D   E\n",
       "0  K4  10  20  15\n",
       "1  K1  20  60  25\n",
       "2  K2  30  70  35\n",
       "3  K3  40  80  45\n",
       "4  K5  50  90  55"
      ],
      "text/html": "<div>\n<style scoped>\n    .dataframe tbody tr th:only-of-type {\n        vertical-align: middle;\n    }\n\n    .dataframe tbody tr th {\n        vertical-align: top;\n    }\n\n    .dataframe thead th {\n        text-align: right;\n    }\n</style>\n<table border=\"1\" class=\"dataframe\">\n  <thead>\n    <tr style=\"text-align: right;\">\n      <th></th>\n      <th>key</th>\n      <th>C</th>\n      <th>D</th>\n      <th>E</th>\n    </tr>\n  </thead>\n  <tbody>\n    <tr>\n      <th>0</th>\n      <td>K4</td>\n      <td>10</td>\n      <td>20</td>\n      <td>15</td>\n    </tr>\n    <tr>\n      <th>1</th>\n      <td>K1</td>\n      <td>20</td>\n      <td>60</td>\n      <td>25</td>\n    </tr>\n    <tr>\n      <th>2</th>\n      <td>K2</td>\n      <td>30</td>\n      <td>70</td>\n      <td>35</td>\n    </tr>\n    <tr>\n      <th>3</th>\n      <td>K3</td>\n      <td>40</td>\n      <td>80</td>\n      <td>45</td>\n    </tr>\n    <tr>\n      <th>4</th>\n      <td>K5</td>\n      <td>50</td>\n      <td>90</td>\n      <td>55</td>\n    </tr>\n  </tbody>\n</table>\n</div>"
     },
     "metadata": {},
     "execution_count": 48
    }
   ],
   "source": [
    "df2"
   ]
  },
  {
   "cell_type": "code",
   "execution_count": 49,
   "metadata": {},
   "outputs": [],
   "source": [
    "df2.drop('E',inplace = True,axis = 1)"
   ]
  },
  {
   "cell_type": "code",
   "execution_count": 50,
   "metadata": {},
   "outputs": [
    {
     "output_type": "execute_result",
     "data": {
      "text/plain": [
       "  key   C   D\n",
       "0  K4  10  20\n",
       "1  K1  20  60\n",
       "2  K2  30  70\n",
       "3  K3  40  80\n",
       "4  K5  50  90"
      ],
      "text/html": "<div>\n<style scoped>\n    .dataframe tbody tr th:only-of-type {\n        vertical-align: middle;\n    }\n\n    .dataframe tbody tr th {\n        vertical-align: top;\n    }\n\n    .dataframe thead th {\n        text-align: right;\n    }\n</style>\n<table border=\"1\" class=\"dataframe\">\n  <thead>\n    <tr style=\"text-align: right;\">\n      <th></th>\n      <th>key</th>\n      <th>C</th>\n      <th>D</th>\n    </tr>\n  </thead>\n  <tbody>\n    <tr>\n      <th>0</th>\n      <td>K4</td>\n      <td>10</td>\n      <td>20</td>\n    </tr>\n    <tr>\n      <th>1</th>\n      <td>K1</td>\n      <td>20</td>\n      <td>60</td>\n    </tr>\n    <tr>\n      <th>2</th>\n      <td>K2</td>\n      <td>30</td>\n      <td>70</td>\n    </tr>\n    <tr>\n      <th>3</th>\n      <td>K3</td>\n      <td>40</td>\n      <td>80</td>\n    </tr>\n    <tr>\n      <th>4</th>\n      <td>K5</td>\n      <td>50</td>\n      <td>90</td>\n    </tr>\n  </tbody>\n</table>\n</div>"
     },
     "metadata": {},
     "execution_count": 50
    }
   ],
   "source": [
    "df2"
   ]
  },
  {
   "cell_type": "code",
   "execution_count": 51,
   "metadata": {},
   "outputs": [
    {
     "output_type": "execute_result",
     "data": {
      "text/plain": [
       "  key    A    B     C     D\n",
       "0  K0  1.0  5.0   NaN   NaN\n",
       "1  K1  2.0  6.0   NaN   NaN\n",
       "2  K2  3.0  7.0   NaN   NaN\n",
       "3  K3  4.0  8.0   NaN   NaN\n",
       "0  K4  NaN  NaN  10.0  20.0\n",
       "1  K1  NaN  NaN  20.0  60.0\n",
       "2  K2  NaN  NaN  30.0  70.0\n",
       "3  K3  NaN  NaN  40.0  80.0\n",
       "4  K5  NaN  NaN  50.0  90.0"
      ],
      "text/html": "<div>\n<style scoped>\n    .dataframe tbody tr th:only-of-type {\n        vertical-align: middle;\n    }\n\n    .dataframe tbody tr th {\n        vertical-align: top;\n    }\n\n    .dataframe thead th {\n        text-align: right;\n    }\n</style>\n<table border=\"1\" class=\"dataframe\">\n  <thead>\n    <tr style=\"text-align: right;\">\n      <th></th>\n      <th>key</th>\n      <th>A</th>\n      <th>B</th>\n      <th>C</th>\n      <th>D</th>\n    </tr>\n  </thead>\n  <tbody>\n    <tr>\n      <th>0</th>\n      <td>K0</td>\n      <td>1.0</td>\n      <td>5.0</td>\n      <td>NaN</td>\n      <td>NaN</td>\n    </tr>\n    <tr>\n      <th>1</th>\n      <td>K1</td>\n      <td>2.0</td>\n      <td>6.0</td>\n      <td>NaN</td>\n      <td>NaN</td>\n    </tr>\n    <tr>\n      <th>2</th>\n      <td>K2</td>\n      <td>3.0</td>\n      <td>7.0</td>\n      <td>NaN</td>\n      <td>NaN</td>\n    </tr>\n    <tr>\n      <th>3</th>\n      <td>K3</td>\n      <td>4.0</td>\n      <td>8.0</td>\n      <td>NaN</td>\n      <td>NaN</td>\n    </tr>\n    <tr>\n      <th>0</th>\n      <td>K4</td>\n      <td>NaN</td>\n      <td>NaN</td>\n      <td>10.0</td>\n      <td>20.0</td>\n    </tr>\n    <tr>\n      <th>1</th>\n      <td>K1</td>\n      <td>NaN</td>\n      <td>NaN</td>\n      <td>20.0</td>\n      <td>60.0</td>\n    </tr>\n    <tr>\n      <th>2</th>\n      <td>K2</td>\n      <td>NaN</td>\n      <td>NaN</td>\n      <td>30.0</td>\n      <td>70.0</td>\n    </tr>\n    <tr>\n      <th>3</th>\n      <td>K3</td>\n      <td>NaN</td>\n      <td>NaN</td>\n      <td>40.0</td>\n      <td>80.0</td>\n    </tr>\n    <tr>\n      <th>4</th>\n      <td>K5</td>\n      <td>NaN</td>\n      <td>NaN</td>\n      <td>50.0</td>\n      <td>90.0</td>\n    </tr>\n  </tbody>\n</table>\n</div>"
     },
     "metadata": {},
     "execution_count": 51
    }
   ],
   "source": [
    "#default = axis = 0\n",
    "pd.concat([df1,df2])"
   ]
  },
  {
   "cell_type": "code",
   "execution_count": 52,
   "metadata": {},
   "outputs": [
    {
     "output_type": "execute_result",
     "data": {
      "text/plain": [
       "   key    A    B key   C   D\n",
       "0   K0  1.0  5.0  K4  10  20\n",
       "1   K1  2.0  6.0  K1  20  60\n",
       "2   K2  3.0  7.0  K2  30  70\n",
       "3   K3  4.0  8.0  K3  40  80\n",
       "4  NaN  NaN  NaN  K5  50  90"
      ],
      "text/html": "<div>\n<style scoped>\n    .dataframe tbody tr th:only-of-type {\n        vertical-align: middle;\n    }\n\n    .dataframe tbody tr th {\n        vertical-align: top;\n    }\n\n    .dataframe thead th {\n        text-align: right;\n    }\n</style>\n<table border=\"1\" class=\"dataframe\">\n  <thead>\n    <tr style=\"text-align: right;\">\n      <th></th>\n      <th>key</th>\n      <th>A</th>\n      <th>B</th>\n      <th>key</th>\n      <th>C</th>\n      <th>D</th>\n    </tr>\n  </thead>\n  <tbody>\n    <tr>\n      <th>0</th>\n      <td>K0</td>\n      <td>1.0</td>\n      <td>5.0</td>\n      <td>K4</td>\n      <td>10</td>\n      <td>20</td>\n    </tr>\n    <tr>\n      <th>1</th>\n      <td>K1</td>\n      <td>2.0</td>\n      <td>6.0</td>\n      <td>K1</td>\n      <td>20</td>\n      <td>60</td>\n    </tr>\n    <tr>\n      <th>2</th>\n      <td>K2</td>\n      <td>3.0</td>\n      <td>7.0</td>\n      <td>K2</td>\n      <td>30</td>\n      <td>70</td>\n    </tr>\n    <tr>\n      <th>3</th>\n      <td>K3</td>\n      <td>4.0</td>\n      <td>8.0</td>\n      <td>K3</td>\n      <td>40</td>\n      <td>80</td>\n    </tr>\n    <tr>\n      <th>4</th>\n      <td>NaN</td>\n      <td>NaN</td>\n      <td>NaN</td>\n      <td>K5</td>\n      <td>50</td>\n      <td>90</td>\n    </tr>\n  </tbody>\n</table>\n</div>"
     },
     "metadata": {},
     "execution_count": 52
    }
   ],
   "source": [
    "pd.concat([df1,df2],axis=1)"
   ]
  },
  {
   "cell_type": "code",
   "execution_count": 53,
   "metadata": {},
   "outputs": [
    {
     "output_type": "execute_result",
     "data": {
      "text/plain": [
       "  key    A    B     C     D\n",
       "0  K0  1.0  5.0   NaN   NaN\n",
       "1  K1  2.0  6.0   NaN   NaN\n",
       "2  K2  3.0  7.0   NaN   NaN\n",
       "3  K3  4.0  8.0   NaN   NaN\n",
       "0  K4  NaN  NaN  10.0  20.0\n",
       "1  K1  NaN  NaN  20.0  60.0\n",
       "2  K2  NaN  NaN  30.0  70.0\n",
       "3  K3  NaN  NaN  40.0  80.0\n",
       "4  K5  NaN  NaN  50.0  90.0"
      ],
      "text/html": "<div>\n<style scoped>\n    .dataframe tbody tr th:only-of-type {\n        vertical-align: middle;\n    }\n\n    .dataframe tbody tr th {\n        vertical-align: top;\n    }\n\n    .dataframe thead th {\n        text-align: right;\n    }\n</style>\n<table border=\"1\" class=\"dataframe\">\n  <thead>\n    <tr style=\"text-align: right;\">\n      <th></th>\n      <th>key</th>\n      <th>A</th>\n      <th>B</th>\n      <th>C</th>\n      <th>D</th>\n    </tr>\n  </thead>\n  <tbody>\n    <tr>\n      <th>0</th>\n      <td>K0</td>\n      <td>1.0</td>\n      <td>5.0</td>\n      <td>NaN</td>\n      <td>NaN</td>\n    </tr>\n    <tr>\n      <th>1</th>\n      <td>K1</td>\n      <td>2.0</td>\n      <td>6.0</td>\n      <td>NaN</td>\n      <td>NaN</td>\n    </tr>\n    <tr>\n      <th>2</th>\n      <td>K2</td>\n      <td>3.0</td>\n      <td>7.0</td>\n      <td>NaN</td>\n      <td>NaN</td>\n    </tr>\n    <tr>\n      <th>3</th>\n      <td>K3</td>\n      <td>4.0</td>\n      <td>8.0</td>\n      <td>NaN</td>\n      <td>NaN</td>\n    </tr>\n    <tr>\n      <th>0</th>\n      <td>K4</td>\n      <td>NaN</td>\n      <td>NaN</td>\n      <td>10.0</td>\n      <td>20.0</td>\n    </tr>\n    <tr>\n      <th>1</th>\n      <td>K1</td>\n      <td>NaN</td>\n      <td>NaN</td>\n      <td>20.0</td>\n      <td>60.0</td>\n    </tr>\n    <tr>\n      <th>2</th>\n      <td>K2</td>\n      <td>NaN</td>\n      <td>NaN</td>\n      <td>30.0</td>\n      <td>70.0</td>\n    </tr>\n    <tr>\n      <th>3</th>\n      <td>K3</td>\n      <td>NaN</td>\n      <td>NaN</td>\n      <td>40.0</td>\n      <td>80.0</td>\n    </tr>\n    <tr>\n      <th>4</th>\n      <td>K5</td>\n      <td>NaN</td>\n      <td>NaN</td>\n      <td>50.0</td>\n      <td>90.0</td>\n    </tr>\n  </tbody>\n</table>\n</div>"
     },
     "metadata": {},
     "execution_count": 53
    }
   ],
   "source": [
    "pd.concat([df1,df2],axis=0)"
   ]
  },
  {
   "source": [
    "# Latihan Merge, Join, dan Concat\n",
    "1. Gunakan dataframe / dataset yg kemarin di download dari kaggle\n",
    "2. Dari dataset tersebut, buatlah dataframe baru dgn ukuran 10x3 sebanyak 2 dataframe\n",
    "3. lakukan joining (bebas dengan menggunakan merge ataupun join). Lakukan left, right, inner, outer join\n",
    "4. Tempelkan juga hasil setiap join yang dibuat menjadi 1 dataframe\n",
    " "
   ],
   "cell_type": "markdown",
   "metadata": {}
  },
  {
   "cell_type": "code",
   "execution_count": 56,
   "metadata": {},
   "outputs": [
    {
     "output_type": "execute_result",
     "data": {
      "text/plain": [
       "     Posting Date Day of the Week   Amount     Category       Description  \\\n",
       "0          8/3/18          Friday -1360.00        Bills              Rent   \n",
       "1          8/4/18        Saturday  -117.89    Groceries               NaN   \n",
       "2          8/4/18        Saturday   -34.27  Merchandise  Makeup/Skin Care   \n",
       "3          8/4/18        Saturday   -21.59  Merchandise            Amazon   \n",
       "4          8/5/18          Sunday   -10.79  Merchandise            Amazon   \n",
       "...           ...             ...      ...          ...               ...   \n",
       "1014      9/30/19          Monday  -420.00        Bills              Rent   \n",
       "1015      9/30/19          Monday   -19.35  Merchandise            Amazon   \n",
       "1016      9/30/19          Monday   -16.14  Merchandise           Clothes   \n",
       "1017      9/30/19          Monday   -10.35    Uber/Lyft               NaN   \n",
       "1018      9/30/19          Monday    -8.63  Merchandise            Amazon   \n",
       "\n",
       "                            Source  \n",
       "0                 Chase Debit Card  \n",
       "1                 Chase Debit Card  \n",
       "2                 Chase Debit Card  \n",
       "3                 Chase Debit Card  \n",
       "4                 Chase Debit Card  \n",
       "...                            ...  \n",
       "1014              Chase Debit Card  \n",
       "1015  American Express Credit Card  \n",
       "1016  American Express Credit Card  \n",
       "1017              Chase Debit Card  \n",
       "1018  American Express Credit Card  \n",
       "\n",
       "[1019 rows x 6 columns]"
      ],
      "text/html": "<div>\n<style scoped>\n    .dataframe tbody tr th:only-of-type {\n        vertical-align: middle;\n    }\n\n    .dataframe tbody tr th {\n        vertical-align: top;\n    }\n\n    .dataframe thead th {\n        text-align: right;\n    }\n</style>\n<table border=\"1\" class=\"dataframe\">\n  <thead>\n    <tr style=\"text-align: right;\">\n      <th></th>\n      <th>Posting Date</th>\n      <th>Day of the Week</th>\n      <th>Amount</th>\n      <th>Category</th>\n      <th>Description</th>\n      <th>Source</th>\n    </tr>\n  </thead>\n  <tbody>\n    <tr>\n      <th>0</th>\n      <td>8/3/18</td>\n      <td>Friday</td>\n      <td>-1360.00</td>\n      <td>Bills</td>\n      <td>Rent</td>\n      <td>Chase Debit Card</td>\n    </tr>\n    <tr>\n      <th>1</th>\n      <td>8/4/18</td>\n      <td>Saturday</td>\n      <td>-117.89</td>\n      <td>Groceries</td>\n      <td>NaN</td>\n      <td>Chase Debit Card</td>\n    </tr>\n    <tr>\n      <th>2</th>\n      <td>8/4/18</td>\n      <td>Saturday</td>\n      <td>-34.27</td>\n      <td>Merchandise</td>\n      <td>Makeup/Skin Care</td>\n      <td>Chase Debit Card</td>\n    </tr>\n    <tr>\n      <th>3</th>\n      <td>8/4/18</td>\n      <td>Saturday</td>\n      <td>-21.59</td>\n      <td>Merchandise</td>\n      <td>Amazon</td>\n      <td>Chase Debit Card</td>\n    </tr>\n    <tr>\n      <th>4</th>\n      <td>8/5/18</td>\n      <td>Sunday</td>\n      <td>-10.79</td>\n      <td>Merchandise</td>\n      <td>Amazon</td>\n      <td>Chase Debit Card</td>\n    </tr>\n    <tr>\n      <th>...</th>\n      <td>...</td>\n      <td>...</td>\n      <td>...</td>\n      <td>...</td>\n      <td>...</td>\n      <td>...</td>\n    </tr>\n    <tr>\n      <th>1014</th>\n      <td>9/30/19</td>\n      <td>Monday</td>\n      <td>-420.00</td>\n      <td>Bills</td>\n      <td>Rent</td>\n      <td>Chase Debit Card</td>\n    </tr>\n    <tr>\n      <th>1015</th>\n      <td>9/30/19</td>\n      <td>Monday</td>\n      <td>-19.35</td>\n      <td>Merchandise</td>\n      <td>Amazon</td>\n      <td>American Express Credit Card</td>\n    </tr>\n    <tr>\n      <th>1016</th>\n      <td>9/30/19</td>\n      <td>Monday</td>\n      <td>-16.14</td>\n      <td>Merchandise</td>\n      <td>Clothes</td>\n      <td>American Express Credit Card</td>\n    </tr>\n    <tr>\n      <th>1017</th>\n      <td>9/30/19</td>\n      <td>Monday</td>\n      <td>-10.35</td>\n      <td>Uber/Lyft</td>\n      <td>NaN</td>\n      <td>Chase Debit Card</td>\n    </tr>\n    <tr>\n      <th>1018</th>\n      <td>9/30/19</td>\n      <td>Monday</td>\n      <td>-8.63</td>\n      <td>Merchandise</td>\n      <td>Amazon</td>\n      <td>American Express Credit Card</td>\n    </tr>\n  </tbody>\n</table>\n<p>1019 rows × 6 columns</p>\n</div>"
     },
     "metadata": {},
     "execution_count": 56
    }
   ],
   "source": [
    "data = pd.read_csv(\"expenses data set.csv\")\n",
    "data"
   ]
  },
  {
   "cell_type": "code",
   "execution_count": 57,
   "metadata": {},
   "outputs": [
    {
     "output_type": "stream",
     "name": "stdout",
     "text": [
      "<class 'pandas.core.frame.DataFrame'>\nRangeIndex: 1019 entries, 0 to 1018\nData columns (total 6 columns):\n #   Column           Non-Null Count  Dtype  \n---  ------           --------------  -----  \n 0   Posting Date     1019 non-null   object \n 1   Day of the Week  1019 non-null   object \n 2   Amount           1019 non-null   float64\n 3   Category         1019 non-null   object \n 4   Description      506 non-null    object \n 5   Source           1019 non-null   object \ndtypes: float64(1), object(5)\nmemory usage: 47.9+ KB\n"
     ]
    }
   ],
   "source": [
    "data.info()"
   ]
  },
  {
   "cell_type": "code",
   "execution_count": 67,
   "metadata": {},
   "outputs": [
    {
     "output_type": "execute_result",
     "data": {
      "text/plain": [
       "   Posting Date   Amount       Category\n",
       "0        8/3/18 -1360.00          Bills\n",
       "1        8/4/18  -117.89      Groceries\n",
       "2        8/4/18   -34.27    Merchandise\n",
       "3        8/4/18   -21.59    Merchandise\n",
       "4        8/5/18   -10.79    Merchandise\n",
       "5       8/10/18   -30.78    Merchandise\n",
       "6       8/11/18   -34.76    Merchandise\n",
       "7       8/12/18   -12.54    Merchandise\n",
       "8       8/15/18    -9.98    Merchandise\n",
       "9       8/16/18  2500.00  Wire Transfer\n",
       "10      8/24/18   -70.00         Travel"
      ],
      "text/html": "<div>\n<style scoped>\n    .dataframe tbody tr th:only-of-type {\n        vertical-align: middle;\n    }\n\n    .dataframe tbody tr th {\n        vertical-align: top;\n    }\n\n    .dataframe thead th {\n        text-align: right;\n    }\n</style>\n<table border=\"1\" class=\"dataframe\">\n  <thead>\n    <tr style=\"text-align: right;\">\n      <th></th>\n      <th>Posting Date</th>\n      <th>Amount</th>\n      <th>Category</th>\n    </tr>\n  </thead>\n  <tbody>\n    <tr>\n      <th>0</th>\n      <td>8/3/18</td>\n      <td>-1360.00</td>\n      <td>Bills</td>\n    </tr>\n    <tr>\n      <th>1</th>\n      <td>8/4/18</td>\n      <td>-117.89</td>\n      <td>Groceries</td>\n    </tr>\n    <tr>\n      <th>2</th>\n      <td>8/4/18</td>\n      <td>-34.27</td>\n      <td>Merchandise</td>\n    </tr>\n    <tr>\n      <th>3</th>\n      <td>8/4/18</td>\n      <td>-21.59</td>\n      <td>Merchandise</td>\n    </tr>\n    <tr>\n      <th>4</th>\n      <td>8/5/18</td>\n      <td>-10.79</td>\n      <td>Merchandise</td>\n    </tr>\n    <tr>\n      <th>5</th>\n      <td>8/10/18</td>\n      <td>-30.78</td>\n      <td>Merchandise</td>\n    </tr>\n    <tr>\n      <th>6</th>\n      <td>8/11/18</td>\n      <td>-34.76</td>\n      <td>Merchandise</td>\n    </tr>\n    <tr>\n      <th>7</th>\n      <td>8/12/18</td>\n      <td>-12.54</td>\n      <td>Merchandise</td>\n    </tr>\n    <tr>\n      <th>8</th>\n      <td>8/15/18</td>\n      <td>-9.98</td>\n      <td>Merchandise</td>\n    </tr>\n    <tr>\n      <th>9</th>\n      <td>8/16/18</td>\n      <td>2500.00</td>\n      <td>Wire Transfer</td>\n    </tr>\n    <tr>\n      <th>10</th>\n      <td>8/24/18</td>\n      <td>-70.00</td>\n      <td>Travel</td>\n    </tr>\n  </tbody>\n</table>\n</div>"
     },
     "metadata": {},
     "execution_count": 67
    }
   ],
   "source": [
    "data1 = data.loc[:10,['Posting Date','Amount','Category']]\n",
    "data1"
   ]
  },
  {
   "cell_type": "code",
   "execution_count": 74,
   "metadata": {},
   "outputs": [
    {
     "output_type": "execute_result",
     "data": {
      "text/plain": [
       "   Day of the Week       Description            Source\n",
       "0           Friday              Rent  Chase Debit Card\n",
       "1         Saturday               NaN  Chase Debit Card\n",
       "2         Saturday  Makeup/Skin Care  Chase Debit Card\n",
       "3         Saturday            Amazon  Chase Debit Card\n",
       "4           Sunday            Amazon  Chase Debit Card\n",
       "5           Friday            Amazon  Chase Debit Card\n",
       "6         Saturday           Clothes  Chase Debit Card\n",
       "7           Sunday            Amazon  Chase Debit Card\n",
       "8        Wednesday            Amazon  Chase Debit Card\n",
       "9         Thursday               NaN  Chase Debit Card\n",
       "10          Friday               NaN  Chase Debit Card"
      ],
      "text/html": "<div>\n<style scoped>\n    .dataframe tbody tr th:only-of-type {\n        vertical-align: middle;\n    }\n\n    .dataframe tbody tr th {\n        vertical-align: top;\n    }\n\n    .dataframe thead th {\n        text-align: right;\n    }\n</style>\n<table border=\"1\" class=\"dataframe\">\n  <thead>\n    <tr style=\"text-align: right;\">\n      <th></th>\n      <th>Day of the Week</th>\n      <th>Description</th>\n      <th>Source</th>\n    </tr>\n  </thead>\n  <tbody>\n    <tr>\n      <th>0</th>\n      <td>Friday</td>\n      <td>Rent</td>\n      <td>Chase Debit Card</td>\n    </tr>\n    <tr>\n      <th>1</th>\n      <td>Saturday</td>\n      <td>NaN</td>\n      <td>Chase Debit Card</td>\n    </tr>\n    <tr>\n      <th>2</th>\n      <td>Saturday</td>\n      <td>Makeup/Skin Care</td>\n      <td>Chase Debit Card</td>\n    </tr>\n    <tr>\n      <th>3</th>\n      <td>Saturday</td>\n      <td>Amazon</td>\n      <td>Chase Debit Card</td>\n    </tr>\n    <tr>\n      <th>4</th>\n      <td>Sunday</td>\n      <td>Amazon</td>\n      <td>Chase Debit Card</td>\n    </tr>\n    <tr>\n      <th>5</th>\n      <td>Friday</td>\n      <td>Amazon</td>\n      <td>Chase Debit Card</td>\n    </tr>\n    <tr>\n      <th>6</th>\n      <td>Saturday</td>\n      <td>Clothes</td>\n      <td>Chase Debit Card</td>\n    </tr>\n    <tr>\n      <th>7</th>\n      <td>Sunday</td>\n      <td>Amazon</td>\n      <td>Chase Debit Card</td>\n    </tr>\n    <tr>\n      <th>8</th>\n      <td>Wednesday</td>\n      <td>Amazon</td>\n      <td>Chase Debit Card</td>\n    </tr>\n    <tr>\n      <th>9</th>\n      <td>Thursday</td>\n      <td>NaN</td>\n      <td>Chase Debit Card</td>\n    </tr>\n    <tr>\n      <th>10</th>\n      <td>Friday</td>\n      <td>NaN</td>\n      <td>Chase Debit Card</td>\n    </tr>\n  </tbody>\n</table>\n</div>"
     },
     "metadata": {},
     "execution_count": 74
    }
   ],
   "source": [
    "data2 = data.loc[:10,['Day of the Week','Description','Source']]\n",
    "data2"
   ]
  },
  {
   "cell_type": "code",
   "execution_count": 75,
   "metadata": {},
   "outputs": [
    {
     "output_type": "execute_result",
     "data": {
      "text/plain": [
       "   Posting Date   Amount       Category Day of the Week       Description  \\\n",
       "0        8/3/18 -1360.00          Bills          Friday              Rent   \n",
       "1        8/4/18  -117.89      Groceries        Saturday               NaN   \n",
       "2        8/4/18   -34.27    Merchandise        Saturday  Makeup/Skin Care   \n",
       "3        8/4/18   -21.59    Merchandise        Saturday            Amazon   \n",
       "4        8/5/18   -10.79    Merchandise          Sunday            Amazon   \n",
       "5       8/10/18   -30.78    Merchandise          Friday            Amazon   \n",
       "6       8/11/18   -34.76    Merchandise        Saturday           Clothes   \n",
       "7       8/12/18   -12.54    Merchandise          Sunday            Amazon   \n",
       "8       8/15/18    -9.98    Merchandise       Wednesday            Amazon   \n",
       "9       8/16/18  2500.00  Wire Transfer        Thursday               NaN   \n",
       "10      8/24/18   -70.00         Travel          Friday               NaN   \n",
       "\n",
       "              Source  \n",
       "0   Chase Debit Card  \n",
       "1   Chase Debit Card  \n",
       "2   Chase Debit Card  \n",
       "3   Chase Debit Card  \n",
       "4   Chase Debit Card  \n",
       "5   Chase Debit Card  \n",
       "6   Chase Debit Card  \n",
       "7   Chase Debit Card  \n",
       "8   Chase Debit Card  \n",
       "9   Chase Debit Card  \n",
       "10  Chase Debit Card  "
      ],
      "text/html": "<div>\n<style scoped>\n    .dataframe tbody tr th:only-of-type {\n        vertical-align: middle;\n    }\n\n    .dataframe tbody tr th {\n        vertical-align: top;\n    }\n\n    .dataframe thead th {\n        text-align: right;\n    }\n</style>\n<table border=\"1\" class=\"dataframe\">\n  <thead>\n    <tr style=\"text-align: right;\">\n      <th></th>\n      <th>Posting Date</th>\n      <th>Amount</th>\n      <th>Category</th>\n      <th>Day of the Week</th>\n      <th>Description</th>\n      <th>Source</th>\n    </tr>\n  </thead>\n  <tbody>\n    <tr>\n      <th>0</th>\n      <td>8/3/18</td>\n      <td>-1360.00</td>\n      <td>Bills</td>\n      <td>Friday</td>\n      <td>Rent</td>\n      <td>Chase Debit Card</td>\n    </tr>\n    <tr>\n      <th>1</th>\n      <td>8/4/18</td>\n      <td>-117.89</td>\n      <td>Groceries</td>\n      <td>Saturday</td>\n      <td>NaN</td>\n      <td>Chase Debit Card</td>\n    </tr>\n    <tr>\n      <th>2</th>\n      <td>8/4/18</td>\n      <td>-34.27</td>\n      <td>Merchandise</td>\n      <td>Saturday</td>\n      <td>Makeup/Skin Care</td>\n      <td>Chase Debit Card</td>\n    </tr>\n    <tr>\n      <th>3</th>\n      <td>8/4/18</td>\n      <td>-21.59</td>\n      <td>Merchandise</td>\n      <td>Saturday</td>\n      <td>Amazon</td>\n      <td>Chase Debit Card</td>\n    </tr>\n    <tr>\n      <th>4</th>\n      <td>8/5/18</td>\n      <td>-10.79</td>\n      <td>Merchandise</td>\n      <td>Sunday</td>\n      <td>Amazon</td>\n      <td>Chase Debit Card</td>\n    </tr>\n    <tr>\n      <th>5</th>\n      <td>8/10/18</td>\n      <td>-30.78</td>\n      <td>Merchandise</td>\n      <td>Friday</td>\n      <td>Amazon</td>\n      <td>Chase Debit Card</td>\n    </tr>\n    <tr>\n      <th>6</th>\n      <td>8/11/18</td>\n      <td>-34.76</td>\n      <td>Merchandise</td>\n      <td>Saturday</td>\n      <td>Clothes</td>\n      <td>Chase Debit Card</td>\n    </tr>\n    <tr>\n      <th>7</th>\n      <td>8/12/18</td>\n      <td>-12.54</td>\n      <td>Merchandise</td>\n      <td>Sunday</td>\n      <td>Amazon</td>\n      <td>Chase Debit Card</td>\n    </tr>\n    <tr>\n      <th>8</th>\n      <td>8/15/18</td>\n      <td>-9.98</td>\n      <td>Merchandise</td>\n      <td>Wednesday</td>\n      <td>Amazon</td>\n      <td>Chase Debit Card</td>\n    </tr>\n    <tr>\n      <th>9</th>\n      <td>8/16/18</td>\n      <td>2500.00</td>\n      <td>Wire Transfer</td>\n      <td>Thursday</td>\n      <td>NaN</td>\n      <td>Chase Debit Card</td>\n    </tr>\n    <tr>\n      <th>10</th>\n      <td>8/24/18</td>\n      <td>-70.00</td>\n      <td>Travel</td>\n      <td>Friday</td>\n      <td>NaN</td>\n      <td>Chase Debit Card</td>\n    </tr>\n  </tbody>\n</table>\n</div>"
     },
     "metadata": {},
     "execution_count": 75
    }
   ],
   "source": [
    "data1.join(data2,how = 'left')"
   ]
  },
  {
   "cell_type": "code",
   "execution_count": 76,
   "metadata": {},
   "outputs": [
    {
     "output_type": "execute_result",
     "data": {
      "text/plain": [
       "   Posting Date   Amount       Category Day of the Week       Description  \\\n",
       "0        8/3/18 -1360.00          Bills          Friday              Rent   \n",
       "1        8/4/18  -117.89      Groceries        Saturday               NaN   \n",
       "2        8/4/18   -34.27    Merchandise        Saturday  Makeup/Skin Care   \n",
       "3        8/4/18   -21.59    Merchandise        Saturday            Amazon   \n",
       "4        8/5/18   -10.79    Merchandise          Sunday            Amazon   \n",
       "5       8/10/18   -30.78    Merchandise          Friday            Amazon   \n",
       "6       8/11/18   -34.76    Merchandise        Saturday           Clothes   \n",
       "7       8/12/18   -12.54    Merchandise          Sunday            Amazon   \n",
       "8       8/15/18    -9.98    Merchandise       Wednesday            Amazon   \n",
       "9       8/16/18  2500.00  Wire Transfer        Thursday               NaN   \n",
       "10      8/24/18   -70.00         Travel          Friday               NaN   \n",
       "\n",
       "              Source  \n",
       "0   Chase Debit Card  \n",
       "1   Chase Debit Card  \n",
       "2   Chase Debit Card  \n",
       "3   Chase Debit Card  \n",
       "4   Chase Debit Card  \n",
       "5   Chase Debit Card  \n",
       "6   Chase Debit Card  \n",
       "7   Chase Debit Card  \n",
       "8   Chase Debit Card  \n",
       "9   Chase Debit Card  \n",
       "10  Chase Debit Card  "
      ],
      "text/html": "<div>\n<style scoped>\n    .dataframe tbody tr th:only-of-type {\n        vertical-align: middle;\n    }\n\n    .dataframe tbody tr th {\n        vertical-align: top;\n    }\n\n    .dataframe thead th {\n        text-align: right;\n    }\n</style>\n<table border=\"1\" class=\"dataframe\">\n  <thead>\n    <tr style=\"text-align: right;\">\n      <th></th>\n      <th>Posting Date</th>\n      <th>Amount</th>\n      <th>Category</th>\n      <th>Day of the Week</th>\n      <th>Description</th>\n      <th>Source</th>\n    </tr>\n  </thead>\n  <tbody>\n    <tr>\n      <th>0</th>\n      <td>8/3/18</td>\n      <td>-1360.00</td>\n      <td>Bills</td>\n      <td>Friday</td>\n      <td>Rent</td>\n      <td>Chase Debit Card</td>\n    </tr>\n    <tr>\n      <th>1</th>\n      <td>8/4/18</td>\n      <td>-117.89</td>\n      <td>Groceries</td>\n      <td>Saturday</td>\n      <td>NaN</td>\n      <td>Chase Debit Card</td>\n    </tr>\n    <tr>\n      <th>2</th>\n      <td>8/4/18</td>\n      <td>-34.27</td>\n      <td>Merchandise</td>\n      <td>Saturday</td>\n      <td>Makeup/Skin Care</td>\n      <td>Chase Debit Card</td>\n    </tr>\n    <tr>\n      <th>3</th>\n      <td>8/4/18</td>\n      <td>-21.59</td>\n      <td>Merchandise</td>\n      <td>Saturday</td>\n      <td>Amazon</td>\n      <td>Chase Debit Card</td>\n    </tr>\n    <tr>\n      <th>4</th>\n      <td>8/5/18</td>\n      <td>-10.79</td>\n      <td>Merchandise</td>\n      <td>Sunday</td>\n      <td>Amazon</td>\n      <td>Chase Debit Card</td>\n    </tr>\n    <tr>\n      <th>5</th>\n      <td>8/10/18</td>\n      <td>-30.78</td>\n      <td>Merchandise</td>\n      <td>Friday</td>\n      <td>Amazon</td>\n      <td>Chase Debit Card</td>\n    </tr>\n    <tr>\n      <th>6</th>\n      <td>8/11/18</td>\n      <td>-34.76</td>\n      <td>Merchandise</td>\n      <td>Saturday</td>\n      <td>Clothes</td>\n      <td>Chase Debit Card</td>\n    </tr>\n    <tr>\n      <th>7</th>\n      <td>8/12/18</td>\n      <td>-12.54</td>\n      <td>Merchandise</td>\n      <td>Sunday</td>\n      <td>Amazon</td>\n      <td>Chase Debit Card</td>\n    </tr>\n    <tr>\n      <th>8</th>\n      <td>8/15/18</td>\n      <td>-9.98</td>\n      <td>Merchandise</td>\n      <td>Wednesday</td>\n      <td>Amazon</td>\n      <td>Chase Debit Card</td>\n    </tr>\n    <tr>\n      <th>9</th>\n      <td>8/16/18</td>\n      <td>2500.00</td>\n      <td>Wire Transfer</td>\n      <td>Thursday</td>\n      <td>NaN</td>\n      <td>Chase Debit Card</td>\n    </tr>\n    <tr>\n      <th>10</th>\n      <td>8/24/18</td>\n      <td>-70.00</td>\n      <td>Travel</td>\n      <td>Friday</td>\n      <td>NaN</td>\n      <td>Chase Debit Card</td>\n    </tr>\n  </tbody>\n</table>\n</div>"
     },
     "metadata": {},
     "execution_count": 76
    }
   ],
   "source": [
    "data1.join(data2,how = 'right')"
   ]
  },
  {
   "cell_type": "code",
   "execution_count": 77,
   "metadata": {},
   "outputs": [
    {
     "output_type": "execute_result",
     "data": {
      "text/plain": [
       "   Posting Date   Amount       Category Day of the Week       Description  \\\n",
       "0        8/3/18 -1360.00          Bills          Friday              Rent   \n",
       "1        8/4/18  -117.89      Groceries        Saturday               NaN   \n",
       "2        8/4/18   -34.27    Merchandise        Saturday  Makeup/Skin Care   \n",
       "3        8/4/18   -21.59    Merchandise        Saturday            Amazon   \n",
       "4        8/5/18   -10.79    Merchandise          Sunday            Amazon   \n",
       "5       8/10/18   -30.78    Merchandise          Friday            Amazon   \n",
       "6       8/11/18   -34.76    Merchandise        Saturday           Clothes   \n",
       "7       8/12/18   -12.54    Merchandise          Sunday            Amazon   \n",
       "8       8/15/18    -9.98    Merchandise       Wednesday            Amazon   \n",
       "9       8/16/18  2500.00  Wire Transfer        Thursday               NaN   \n",
       "10      8/24/18   -70.00         Travel          Friday               NaN   \n",
       "\n",
       "              Source  \n",
       "0   Chase Debit Card  \n",
       "1   Chase Debit Card  \n",
       "2   Chase Debit Card  \n",
       "3   Chase Debit Card  \n",
       "4   Chase Debit Card  \n",
       "5   Chase Debit Card  \n",
       "6   Chase Debit Card  \n",
       "7   Chase Debit Card  \n",
       "8   Chase Debit Card  \n",
       "9   Chase Debit Card  \n",
       "10  Chase Debit Card  "
      ],
      "text/html": "<div>\n<style scoped>\n    .dataframe tbody tr th:only-of-type {\n        vertical-align: middle;\n    }\n\n    .dataframe tbody tr th {\n        vertical-align: top;\n    }\n\n    .dataframe thead th {\n        text-align: right;\n    }\n</style>\n<table border=\"1\" class=\"dataframe\">\n  <thead>\n    <tr style=\"text-align: right;\">\n      <th></th>\n      <th>Posting Date</th>\n      <th>Amount</th>\n      <th>Category</th>\n      <th>Day of the Week</th>\n      <th>Description</th>\n      <th>Source</th>\n    </tr>\n  </thead>\n  <tbody>\n    <tr>\n      <th>0</th>\n      <td>8/3/18</td>\n      <td>-1360.00</td>\n      <td>Bills</td>\n      <td>Friday</td>\n      <td>Rent</td>\n      <td>Chase Debit Card</td>\n    </tr>\n    <tr>\n      <th>1</th>\n      <td>8/4/18</td>\n      <td>-117.89</td>\n      <td>Groceries</td>\n      <td>Saturday</td>\n      <td>NaN</td>\n      <td>Chase Debit Card</td>\n    </tr>\n    <tr>\n      <th>2</th>\n      <td>8/4/18</td>\n      <td>-34.27</td>\n      <td>Merchandise</td>\n      <td>Saturday</td>\n      <td>Makeup/Skin Care</td>\n      <td>Chase Debit Card</td>\n    </tr>\n    <tr>\n      <th>3</th>\n      <td>8/4/18</td>\n      <td>-21.59</td>\n      <td>Merchandise</td>\n      <td>Saturday</td>\n      <td>Amazon</td>\n      <td>Chase Debit Card</td>\n    </tr>\n    <tr>\n      <th>4</th>\n      <td>8/5/18</td>\n      <td>-10.79</td>\n      <td>Merchandise</td>\n      <td>Sunday</td>\n      <td>Amazon</td>\n      <td>Chase Debit Card</td>\n    </tr>\n    <tr>\n      <th>5</th>\n      <td>8/10/18</td>\n      <td>-30.78</td>\n      <td>Merchandise</td>\n      <td>Friday</td>\n      <td>Amazon</td>\n      <td>Chase Debit Card</td>\n    </tr>\n    <tr>\n      <th>6</th>\n      <td>8/11/18</td>\n      <td>-34.76</td>\n      <td>Merchandise</td>\n      <td>Saturday</td>\n      <td>Clothes</td>\n      <td>Chase Debit Card</td>\n    </tr>\n    <tr>\n      <th>7</th>\n      <td>8/12/18</td>\n      <td>-12.54</td>\n      <td>Merchandise</td>\n      <td>Sunday</td>\n      <td>Amazon</td>\n      <td>Chase Debit Card</td>\n    </tr>\n    <tr>\n      <th>8</th>\n      <td>8/15/18</td>\n      <td>-9.98</td>\n      <td>Merchandise</td>\n      <td>Wednesday</td>\n      <td>Amazon</td>\n      <td>Chase Debit Card</td>\n    </tr>\n    <tr>\n      <th>9</th>\n      <td>8/16/18</td>\n      <td>2500.00</td>\n      <td>Wire Transfer</td>\n      <td>Thursday</td>\n      <td>NaN</td>\n      <td>Chase Debit Card</td>\n    </tr>\n    <tr>\n      <th>10</th>\n      <td>8/24/18</td>\n      <td>-70.00</td>\n      <td>Travel</td>\n      <td>Friday</td>\n      <td>NaN</td>\n      <td>Chase Debit Card</td>\n    </tr>\n  </tbody>\n</table>\n</div>"
     },
     "metadata": {},
     "execution_count": 77
    }
   ],
   "source": [
    "data1.join(data2,how = 'outer')"
   ]
  },
  {
   "cell_type": "code",
   "execution_count": 78,
   "metadata": {},
   "outputs": [
    {
     "output_type": "execute_result",
     "data": {
      "text/plain": [
       "   Posting Date   Amount       Category Day of the Week       Description  \\\n",
       "0        8/3/18 -1360.00          Bills          Friday              Rent   \n",
       "1        8/4/18  -117.89      Groceries        Saturday               NaN   \n",
       "2        8/4/18   -34.27    Merchandise        Saturday  Makeup/Skin Care   \n",
       "3        8/4/18   -21.59    Merchandise        Saturday            Amazon   \n",
       "4        8/5/18   -10.79    Merchandise          Sunday            Amazon   \n",
       "5       8/10/18   -30.78    Merchandise          Friday            Amazon   \n",
       "6       8/11/18   -34.76    Merchandise        Saturday           Clothes   \n",
       "7       8/12/18   -12.54    Merchandise          Sunday            Amazon   \n",
       "8       8/15/18    -9.98    Merchandise       Wednesday            Amazon   \n",
       "9       8/16/18  2500.00  Wire Transfer        Thursday               NaN   \n",
       "10      8/24/18   -70.00         Travel          Friday               NaN   \n",
       "\n",
       "              Source  \n",
       "0   Chase Debit Card  \n",
       "1   Chase Debit Card  \n",
       "2   Chase Debit Card  \n",
       "3   Chase Debit Card  \n",
       "4   Chase Debit Card  \n",
       "5   Chase Debit Card  \n",
       "6   Chase Debit Card  \n",
       "7   Chase Debit Card  \n",
       "8   Chase Debit Card  \n",
       "9   Chase Debit Card  \n",
       "10  Chase Debit Card  "
      ],
      "text/html": "<div>\n<style scoped>\n    .dataframe tbody tr th:only-of-type {\n        vertical-align: middle;\n    }\n\n    .dataframe tbody tr th {\n        vertical-align: top;\n    }\n\n    .dataframe thead th {\n        text-align: right;\n    }\n</style>\n<table border=\"1\" class=\"dataframe\">\n  <thead>\n    <tr style=\"text-align: right;\">\n      <th></th>\n      <th>Posting Date</th>\n      <th>Amount</th>\n      <th>Category</th>\n      <th>Day of the Week</th>\n      <th>Description</th>\n      <th>Source</th>\n    </tr>\n  </thead>\n  <tbody>\n    <tr>\n      <th>0</th>\n      <td>8/3/18</td>\n      <td>-1360.00</td>\n      <td>Bills</td>\n      <td>Friday</td>\n      <td>Rent</td>\n      <td>Chase Debit Card</td>\n    </tr>\n    <tr>\n      <th>1</th>\n      <td>8/4/18</td>\n      <td>-117.89</td>\n      <td>Groceries</td>\n      <td>Saturday</td>\n      <td>NaN</td>\n      <td>Chase Debit Card</td>\n    </tr>\n    <tr>\n      <th>2</th>\n      <td>8/4/18</td>\n      <td>-34.27</td>\n      <td>Merchandise</td>\n      <td>Saturday</td>\n      <td>Makeup/Skin Care</td>\n      <td>Chase Debit Card</td>\n    </tr>\n    <tr>\n      <th>3</th>\n      <td>8/4/18</td>\n      <td>-21.59</td>\n      <td>Merchandise</td>\n      <td>Saturday</td>\n      <td>Amazon</td>\n      <td>Chase Debit Card</td>\n    </tr>\n    <tr>\n      <th>4</th>\n      <td>8/5/18</td>\n      <td>-10.79</td>\n      <td>Merchandise</td>\n      <td>Sunday</td>\n      <td>Amazon</td>\n      <td>Chase Debit Card</td>\n    </tr>\n    <tr>\n      <th>5</th>\n      <td>8/10/18</td>\n      <td>-30.78</td>\n      <td>Merchandise</td>\n      <td>Friday</td>\n      <td>Amazon</td>\n      <td>Chase Debit Card</td>\n    </tr>\n    <tr>\n      <th>6</th>\n      <td>8/11/18</td>\n      <td>-34.76</td>\n      <td>Merchandise</td>\n      <td>Saturday</td>\n      <td>Clothes</td>\n      <td>Chase Debit Card</td>\n    </tr>\n    <tr>\n      <th>7</th>\n      <td>8/12/18</td>\n      <td>-12.54</td>\n      <td>Merchandise</td>\n      <td>Sunday</td>\n      <td>Amazon</td>\n      <td>Chase Debit Card</td>\n    </tr>\n    <tr>\n      <th>8</th>\n      <td>8/15/18</td>\n      <td>-9.98</td>\n      <td>Merchandise</td>\n      <td>Wednesday</td>\n      <td>Amazon</td>\n      <td>Chase Debit Card</td>\n    </tr>\n    <tr>\n      <th>9</th>\n      <td>8/16/18</td>\n      <td>2500.00</td>\n      <td>Wire Transfer</td>\n      <td>Thursday</td>\n      <td>NaN</td>\n      <td>Chase Debit Card</td>\n    </tr>\n    <tr>\n      <th>10</th>\n      <td>8/24/18</td>\n      <td>-70.00</td>\n      <td>Travel</td>\n      <td>Friday</td>\n      <td>NaN</td>\n      <td>Chase Debit Card</td>\n    </tr>\n  </tbody>\n</table>\n</div>"
     },
     "metadata": {},
     "execution_count": 78
    }
   ],
   "source": [
    "data1.join(data2,how = 'inner')"
   ]
  },
  {
   "cell_type": "code",
   "execution_count": 80,
   "metadata": {},
   "outputs": [
    {
     "output_type": "execute_result",
     "data": {
      "text/plain": [
       "    V   W   X   Y   Z\n",
       "0  84  93  39  44  62\n",
       "1  48  23  40  62  34\n",
       "2  57  58  68  24  65\n",
       "3  83  86  32  85  18\n",
       "4  23  36  31  94  15"
      ],
      "text/html": "<div>\n<style scoped>\n    .dataframe tbody tr th:only-of-type {\n        vertical-align: middle;\n    }\n\n    .dataframe tbody tr th {\n        vertical-align: top;\n    }\n\n    .dataframe thead th {\n        text-align: right;\n    }\n</style>\n<table border=\"1\" class=\"dataframe\">\n  <thead>\n    <tr style=\"text-align: right;\">\n      <th></th>\n      <th>V</th>\n      <th>W</th>\n      <th>X</th>\n      <th>Y</th>\n      <th>Z</th>\n    </tr>\n  </thead>\n  <tbody>\n    <tr>\n      <th>0</th>\n      <td>84</td>\n      <td>93</td>\n      <td>39</td>\n      <td>44</td>\n      <td>62</td>\n    </tr>\n    <tr>\n      <th>1</th>\n      <td>48</td>\n      <td>23</td>\n      <td>40</td>\n      <td>62</td>\n      <td>34</td>\n    </tr>\n    <tr>\n      <th>2</th>\n      <td>57</td>\n      <td>58</td>\n      <td>68</td>\n      <td>24</td>\n      <td>65</td>\n    </tr>\n    <tr>\n      <th>3</th>\n      <td>83</td>\n      <td>86</td>\n      <td>32</td>\n      <td>85</td>\n      <td>18</td>\n    </tr>\n    <tr>\n      <th>4</th>\n      <td>23</td>\n      <td>36</td>\n      <td>31</td>\n      <td>94</td>\n      <td>15</td>\n    </tr>\n  </tbody>\n</table>\n</div>"
     },
     "metadata": {},
     "execution_count": 80
    }
   ],
   "source": [
    "newdf = pd.DataFrame(np.random.randint(1,100,(5,5)),columns='V W X Y Z'.split())\n",
    "newdf"
   ]
  },
  {
   "cell_type": "code",
   "execution_count": 150,
   "metadata": {},
   "outputs": [],
   "source": [
    "def mod(x):\n",
    "    return x%2\n",
    "\n",
    "def times(x):\n",
    "    return x['V'] * x['X']"
   ]
  },
  {
   "cell_type": "code",
   "execution_count": 151,
   "metadata": {},
   "outputs": [
    {
     "output_type": "execute_result",
     "data": {
      "text/plain": [
       "0    3276\n",
       "1    1920\n",
       "2    3876\n",
       "3    2656\n",
       "4     713\n",
       "dtype: int64"
      ]
     },
     "metadata": {},
     "execution_count": 151
    }
   ],
   "source": [
    "newdf[['V','X']].apply(times, axis=1)"
   ]
  },
  {
   "cell_type": "code",
   "execution_count": 82,
   "metadata": {},
   "outputs": [
    {
     "output_type": "execute_result",
     "data": {
      "text/plain": [
       "0    0\n",
       "1    0\n",
       "2    1\n",
       "3    1\n",
       "4    1\n",
       "Name: V, dtype: int64"
      ]
     },
     "metadata": {},
     "execution_count": 82
    }
   ],
   "source": [
    "newdf['V'].apply(mod)"
   ]
  },
  {
   "cell_type": "code",
   "execution_count": 83,
   "metadata": {},
   "outputs": [
    {
     "output_type": "execute_result",
     "data": {
      "text/plain": [
       "0    0\n",
       "1    0\n",
       "2    1\n",
       "3    1\n",
       "4    1\n",
       "Name: V, dtype: int64"
      ]
     },
     "metadata": {},
     "execution_count": 83
    }
   ],
   "source": [
    "newdf['V'].apply(lambda x : x%2)"
   ]
  },
  {
   "cell_type": "code",
   "execution_count": 107,
   "metadata": {},
   "outputs": [
    {
     "output_type": "execute_result",
     "data": {
      "text/plain": [
       "V    5\n",
       "W    5\n",
       "X    5\n",
       "Y    5\n",
       "Z    5\n",
       "dtype: int64"
      ]
     },
     "metadata": {},
     "execution_count": 107
    }
   ],
   "source": [
    "newdf.apply(len)"
   ]
  },
  {
   "cell_type": "code",
   "execution_count": 146,
   "metadata": {},
   "outputs": [],
   "source": [
    "def kali (x):\n",
    "    return x[\"V\"] * x[\"X\"]"
   ]
  },
  {
   "cell_type": "code",
   "execution_count": 147,
   "metadata": {},
   "outputs": [
    {
     "output_type": "execute_result",
     "data": {
      "text/plain": [
       "0    3276\n",
       "1    1920\n",
       "2    3876\n",
       "3    2656\n",
       "4     713\n",
       "dtype: int64"
      ]
     },
     "metadata": {},
     "execution_count": 147
    }
   ],
   "source": [
    "newdf[[\"V\",\"X\"]].apply(kali,axis=1)"
   ]
  },
  {
   "cell_type": "code",
   "execution_count": 126,
   "metadata": {},
   "outputs": [
    {
     "output_type": "execute_result",
     "data": {
      "text/plain": [
       "    V   W   X   Y   Z\n",
       "0  84  93  39  44  62\n",
       "1  48  23  40  62  34\n",
       "2  57  58  68  24  65\n",
       "3  83  86  32  85  18\n",
       "4  23  36  31  94  15"
      ],
      "text/html": "<div>\n<style scoped>\n    .dataframe tbody tr th:only-of-type {\n        vertical-align: middle;\n    }\n\n    .dataframe tbody tr th {\n        vertical-align: top;\n    }\n\n    .dataframe thead th {\n        text-align: right;\n    }\n</style>\n<table border=\"1\" class=\"dataframe\">\n  <thead>\n    <tr style=\"text-align: right;\">\n      <th></th>\n      <th>V</th>\n      <th>W</th>\n      <th>X</th>\n      <th>Y</th>\n      <th>Z</th>\n    </tr>\n  </thead>\n  <tbody>\n    <tr>\n      <th>0</th>\n      <td>84</td>\n      <td>93</td>\n      <td>39</td>\n      <td>44</td>\n      <td>62</td>\n    </tr>\n    <tr>\n      <th>1</th>\n      <td>48</td>\n      <td>23</td>\n      <td>40</td>\n      <td>62</td>\n      <td>34</td>\n    </tr>\n    <tr>\n      <th>2</th>\n      <td>57</td>\n      <td>58</td>\n      <td>68</td>\n      <td>24</td>\n      <td>65</td>\n    </tr>\n    <tr>\n      <th>3</th>\n      <td>83</td>\n      <td>86</td>\n      <td>32</td>\n      <td>85</td>\n      <td>18</td>\n    </tr>\n    <tr>\n      <th>4</th>\n      <td>23</td>\n      <td>36</td>\n      <td>31</td>\n      <td>94</td>\n      <td>15</td>\n    </tr>\n  </tbody>\n</table>\n</div>"
     },
     "metadata": {},
     "execution_count": 126
    }
   ],
   "source": [
    "newdf"
   ]
  },
  {
   "cell_type": "code",
   "execution_count": 129,
   "metadata": {},
   "outputs": [
    {
     "output_type": "execute_result",
     "data": {
      "text/plain": [
       "      0     1     2     3    4\n",
       "0  3276  1920  3876  2656  713\n",
       "1  3276  1920  3876  2656  713\n",
       "2  3276  1920  3876  2656  713\n",
       "3  3276  1920  3876  2656  713\n",
       "4  3276  1920  3876  2656  713"
      ],
      "text/html": "<div>\n<style scoped>\n    .dataframe tbody tr th:only-of-type {\n        vertical-align: middle;\n    }\n\n    .dataframe tbody tr th {\n        vertical-align: top;\n    }\n\n    .dataframe thead th {\n        text-align: right;\n    }\n</style>\n<table border=\"1\" class=\"dataframe\">\n  <thead>\n    <tr style=\"text-align: right;\">\n      <th></th>\n      <th>0</th>\n      <th>1</th>\n      <th>2</th>\n      <th>3</th>\n      <th>4</th>\n    </tr>\n  </thead>\n  <tbody>\n    <tr>\n      <th>0</th>\n      <td>3276</td>\n      <td>1920</td>\n      <td>3876</td>\n      <td>2656</td>\n      <td>713</td>\n    </tr>\n    <tr>\n      <th>1</th>\n      <td>3276</td>\n      <td>1920</td>\n      <td>3876</td>\n      <td>2656</td>\n      <td>713</td>\n    </tr>\n    <tr>\n      <th>2</th>\n      <td>3276</td>\n      <td>1920</td>\n      <td>3876</td>\n      <td>2656</td>\n      <td>713</td>\n    </tr>\n    <tr>\n      <th>3</th>\n      <td>3276</td>\n      <td>1920</td>\n      <td>3876</td>\n      <td>2656</td>\n      <td>713</td>\n    </tr>\n    <tr>\n      <th>4</th>\n      <td>3276</td>\n      <td>1920</td>\n      <td>3876</td>\n      <td>2656</td>\n      <td>713</td>\n    </tr>\n  </tbody>\n</table>\n</div>"
     },
     "metadata": {},
     "execution_count": 129
    }
   ],
   "source": [
    "newdf[\"V\"].apply(lambda x: kali(newdf[\"V\"],newdf[\"X\"]))"
   ]
  },
  {
   "cell_type": "code",
   "execution_count": 125,
   "metadata": {},
   "outputs": [
    {
     "output_type": "execute_result",
     "data": {
      "text/plain": [
       "      0     1     2     3     4\n",
       "0  3276  3360  5712  2688  2604\n",
       "1  1872  1920  3264  1536  1488\n",
       "2  2223  2280  3876  1824  1767\n",
       "3  3237  3320  5644  2656  2573\n",
       "4   897   920  1564   736   713"
      ],
      "text/html": "<div>\n<style scoped>\n    .dataframe tbody tr th:only-of-type {\n        vertical-align: middle;\n    }\n\n    .dataframe tbody tr th {\n        vertical-align: top;\n    }\n\n    .dataframe thead th {\n        text-align: right;\n    }\n</style>\n<table border=\"1\" class=\"dataframe\">\n  <thead>\n    <tr style=\"text-align: right;\">\n      <th></th>\n      <th>0</th>\n      <th>1</th>\n      <th>2</th>\n      <th>3</th>\n      <th>4</th>\n    </tr>\n  </thead>\n  <tbody>\n    <tr>\n      <th>0</th>\n      <td>3276</td>\n      <td>3360</td>\n      <td>5712</td>\n      <td>2688</td>\n      <td>2604</td>\n    </tr>\n    <tr>\n      <th>1</th>\n      <td>1872</td>\n      <td>1920</td>\n      <td>3264</td>\n      <td>1536</td>\n      <td>1488</td>\n    </tr>\n    <tr>\n      <th>2</th>\n      <td>2223</td>\n      <td>2280</td>\n      <td>3876</td>\n      <td>1824</td>\n      <td>1767</td>\n    </tr>\n    <tr>\n      <th>3</th>\n      <td>3237</td>\n      <td>3320</td>\n      <td>5644</td>\n      <td>2656</td>\n      <td>2573</td>\n    </tr>\n    <tr>\n      <th>4</th>\n      <td>897</td>\n      <td>920</td>\n      <td>1564</td>\n      <td>736</td>\n      <td>713</td>\n    </tr>\n  </tbody>\n</table>\n</div>"
     },
     "metadata": {},
     "execution_count": 125
    }
   ],
   "source": [
    "newdf[\"V\"].apply(lambda x : x * newdf[\"X\"])"
   ]
  },
  {
   "cell_type": "code",
   "execution_count": 122,
   "metadata": {},
   "outputs": [
    {
     "output_type": "execute_result",
     "data": {
      "text/plain": [
       "  key  A  B\n",
       "0  K0  1  5\n",
       "1  K1  2  6\n",
       "2  K2  3  7\n",
       "3  K3  4  8"
      ],
      "text/html": "<div>\n<style scoped>\n    .dataframe tbody tr th:only-of-type {\n        vertical-align: middle;\n    }\n\n    .dataframe tbody tr th {\n        vertical-align: top;\n    }\n\n    .dataframe thead th {\n        text-align: right;\n    }\n</style>\n<table border=\"1\" class=\"dataframe\">\n  <thead>\n    <tr style=\"text-align: right;\">\n      <th></th>\n      <th>key</th>\n      <th>A</th>\n      <th>B</th>\n    </tr>\n  </thead>\n  <tbody>\n    <tr>\n      <th>0</th>\n      <td>K0</td>\n      <td>1</td>\n      <td>5</td>\n    </tr>\n    <tr>\n      <th>1</th>\n      <td>K1</td>\n      <td>2</td>\n      <td>6</td>\n    </tr>\n    <tr>\n      <th>2</th>\n      <td>K2</td>\n      <td>3</td>\n      <td>7</td>\n    </tr>\n    <tr>\n      <th>3</th>\n      <td>K3</td>\n      <td>4</td>\n      <td>8</td>\n    </tr>\n  </tbody>\n</table>\n</div>"
     },
     "metadata": {},
     "execution_count": 122
    }
   ],
   "source": [
    "df1"
   ]
  },
  {
   "cell_type": "code",
   "execution_count": 123,
   "metadata": {},
   "outputs": [],
   "source": [
    "df1.to_csv('Ini Contoh.csv') # index = False, index gaakan kerekam"
   ]
  },
  {
   "cell_type": "code",
   "execution_count": null,
   "metadata": {},
   "outputs": [],
   "source": []
  }
 ]
}